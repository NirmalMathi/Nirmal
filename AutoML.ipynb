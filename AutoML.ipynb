{
  "nbformat": 4,
  "nbformat_minor": 0,
  "metadata": {
    "colab": {
      "name": "AutoML.ipynb",
      "version": "0.3.2",
      "provenance": [],
      "include_colab_link": true
    },
    "kernelspec": {
      "name": "python3",
      "display_name": "Python 3"
    }
  },
  "cells": [
    {
      "cell_type": "markdown",
      "metadata": {
        "id": "view-in-github",
        "colab_type": "text"
      },
      "source": [
        "<a href=\"https://colab.research.google.com/github/NirmalMathi/Nirmal/blob/master/AutoML.ipynb\" target=\"_parent\"><img src=\"https://colab.research.google.com/assets/colab-badge.svg\" alt=\"Open In Colab\"/></a>"
      ]
    },
    {
      "cell_type": "code",
      "metadata": {
        "id": "MXf3r5iA_2l3",
        "colab_type": "code",
        "colab": {
          "base_uri": "https://localhost:8080/",
          "height": 1000
        },
        "outputId": "fdabe2d6-8517-4abd-a02e-3f827e7acc0e"
      },
      "source": [
        "!sudo apt-get install build-essential swig\n",
        "!curl https://raw.githubusercontent.com/automl/auto-sklearn/master/requirements.txt | xargs -n 1 -L 1 pip install\n",
        "!pip install auto-sklearn\n",
        "import autosklearn.classification"
      ],
      "execution_count": 5,
      "outputs": [
        {
          "output_type": "stream",
          "text": [
            "Reading package lists... Done\n",
            "Building dependency tree       \n",
            "Reading state information... Done\n",
            "build-essential is already the newest version (12.4ubuntu1).\n",
            "swig is already the newest version (3.0.12-1).\n",
            "0 upgraded, 0 newly installed, 0 to remove and 14 not upgraded.\n",
            "  % Total    % Received % Xferd  Average Speed   Time    Time     Time  Current\n",
            "                                 Dload  Upload   Total   Spent    Left  Speed\n",
            "100   206  100   206    0     0   1125      0 --:--:-- --:--:-- --:--:--  1125\n",
            "Requirement already satisfied: setuptools in /usr/local/lib/python3.6/dist-packages (41.2.0)\n",
            "Requirement already satisfied: nose in /usr/local/lib/python3.6/dist-packages (1.3.7)\n",
            "Requirement already satisfied: Cython in /usr/local/lib/python3.6/dist-packages (0.29.13)\n",
            "Requirement already satisfied: numpy>=1.9.0 in /usr/local/lib/python3.6/dist-packages (1.16.4)\n",
            "Requirement already satisfied: scipy>=0.14.1 in /usr/local/lib/python3.6/dist-packages (1.3.1)\n",
            "Requirement already satisfied: numpy>=1.13.3 in /usr/local/lib/python3.6/dist-packages (from scipy>=0.14.1) (1.16.4)\n",
            "Requirement already satisfied: scikit-learn<0.20,>=0.19 in /usr/local/lib/python3.6/dist-packages (0.19.2)\n",
            "Requirement already satisfied: xgboost>=0.80 in /usr/local/lib/python3.6/dist-packages (0.90)\n",
            "Requirement already satisfied: numpy in /usr/local/lib/python3.6/dist-packages (from xgboost>=0.80) (1.16.4)\n",
            "Requirement already satisfied: scipy in /usr/local/lib/python3.6/dist-packages (from xgboost>=0.80) (1.3.1)\n",
            "Requirement already satisfied: lockfile in /usr/local/lib/python3.6/dist-packages (0.12.2)\n",
            "Requirement already satisfied: joblib in /usr/local/lib/python3.6/dist-packages (0.13.2)\n",
            "Requirement already satisfied: psutil in /usr/local/lib/python3.6/dist-packages (5.4.8)\n",
            "Requirement already satisfied: pyyaml in /usr/local/lib/python3.6/dist-packages (3.13)\n",
            "Requirement already satisfied: liac-arff in /usr/local/lib/python3.6/dist-packages (2.4.0)\n",
            "Requirement already satisfied: pandas in /usr/local/lib/python3.6/dist-packages (0.24.2)\n",
            "Requirement already satisfied: numpy>=1.12.0 in /usr/local/lib/python3.6/dist-packages (from pandas) (1.16.4)\n",
            "Requirement already satisfied: pytz>=2011k in /usr/local/lib/python3.6/dist-packages (from pandas) (2018.9)\n",
            "Requirement already satisfied: python-dateutil>=2.5.0 in /usr/local/lib/python3.6/dist-packages (from pandas) (2.5.3)\n",
            "Requirement already satisfied: six>=1.5 in /usr/local/lib/python3.6/dist-packages (from python-dateutil>=2.5.0->pandas) (1.12.0)\n",
            "Requirement already satisfied: ConfigSpace<0.5,>=0.4.0 in /usr/local/lib/python3.6/dist-packages (0.4.10)\n",
            "Requirement already satisfied: pyparsing in /usr/local/lib/python3.6/dist-packages (from ConfigSpace<0.5,>=0.4.0) (2.4.2)\n",
            "Requirement already satisfied: numpy in /usr/local/lib/python3.6/dist-packages (from ConfigSpace<0.5,>=0.4.0) (1.16.4)\n",
            "Requirement already satisfied: typing in /usr/local/lib/python3.6/dist-packages (from ConfigSpace<0.5,>=0.4.0) (3.7.4)\n",
            "Requirement already satisfied: Cython in /usr/local/lib/python3.6/dist-packages (from ConfigSpace<0.5,>=0.4.0) (0.29.13)\n",
            "Requirement already satisfied: pynisher>=0.4.2 in /usr/local/lib/python3.6/dist-packages (0.5.0)\n",
            "Requirement already satisfied: setuptools in /usr/local/lib/python3.6/dist-packages (from pynisher>=0.4.2) (41.2.0)\n",
            "Requirement already satisfied: psutil in /usr/local/lib/python3.6/dist-packages (from pynisher>=0.4.2) (5.4.8)\n",
            "Requirement already satisfied: docutils>=0.3 in /usr/local/lib/python3.6/dist-packages (from pynisher>=0.4.2) (0.14)\n",
            "Requirement already satisfied: pyrfr<0.8,>=0.7 in /usr/local/lib/python3.6/dist-packages (0.7.4)\n",
            "Requirement already satisfied: smac==0.8 in /usr/local/lib/python3.6/dist-packages (0.8.0)\n",
            "Requirement already satisfied: scipy>=0.18.1 in /usr/local/lib/python3.6/dist-packages (from smac==0.8) (1.3.1)\n",
            "Requirement already satisfied: pynisher>=0.4.1 in /usr/local/lib/python3.6/dist-packages (from smac==0.8) (0.5.0)\n",
            "Requirement already satisfied: psutil in /usr/local/lib/python3.6/dist-packages (from smac==0.8) (5.4.8)\n",
            "Requirement already satisfied: cython in /usr/local/lib/python3.6/dist-packages (from smac==0.8) (0.29.13)\n",
            "Requirement already satisfied: sphinx in /usr/local/lib/python3.6/dist-packages (from smac==0.8) (1.8.5)\n",
            "Requirement already satisfied: six in /usr/local/lib/python3.6/dist-packages (from smac==0.8) (1.12.0)\n",
            "Requirement already satisfied: setuptools in /usr/local/lib/python3.6/dist-packages (from smac==0.8) (41.2.0)\n",
            "Requirement already satisfied: numpy>=1.7.1 in /usr/local/lib/python3.6/dist-packages (from smac==0.8) (1.16.4)\n",
            "Requirement already satisfied: scikit-learn>=0.18.0 in /usr/local/lib/python3.6/dist-packages (from smac==0.8) (0.19.2)\n",
            "Requirement already satisfied: pyrfr>=0.5.0 in /usr/local/lib/python3.6/dist-packages (from smac==0.8) (0.7.4)\n",
            "Requirement already satisfied: ConfigSpace<0.5,>=0.4.3 in /usr/local/lib/python3.6/dist-packages (from smac==0.8) (0.4.10)\n",
            "Requirement already satisfied: sphinx-rtd-theme in /usr/local/lib/python3.6/dist-packages (from smac==0.8) (0.4.3)\n",
            "Requirement already satisfied: typing in /usr/local/lib/python3.6/dist-packages (from smac==0.8) (3.7.4)\n",
            "Requirement already satisfied: joblib in /usr/local/lib/python3.6/dist-packages (from smac==0.8) (0.13.2)\n",
            "Requirement already satisfied: docutils>=0.3 in /usr/local/lib/python3.6/dist-packages (from pynisher>=0.4.1->smac==0.8) (0.14)\n",
            "Requirement already satisfied: sphinxcontrib-websupport in /usr/local/lib/python3.6/dist-packages (from sphinx->smac==0.8) (1.1.2)\n",
            "Requirement already satisfied: packaging in /usr/local/lib/python3.6/dist-packages (from sphinx->smac==0.8) (19.1)\n",
            "Requirement already satisfied: requests>=2.0.0 in /usr/local/lib/python3.6/dist-packages (from sphinx->smac==0.8) (2.21.0)\n",
            "Requirement already satisfied: babel!=2.0,>=1.3 in /usr/local/lib/python3.6/dist-packages (from sphinx->smac==0.8) (2.7.0)\n",
            "Requirement already satisfied: Pygments>=2.0 in /usr/local/lib/python3.6/dist-packages (from sphinx->smac==0.8) (2.1.3)\n",
            "Requirement already satisfied: Jinja2>=2.3 in /usr/local/lib/python3.6/dist-packages (from sphinx->smac==0.8) (2.10.1)\n",
            "Requirement already satisfied: alabaster<0.8,>=0.7 in /usr/local/lib/python3.6/dist-packages (from sphinx->smac==0.8) (0.7.12)\n",
            "Requirement already satisfied: snowballstemmer>=1.1 in /usr/local/lib/python3.6/dist-packages (from sphinx->smac==0.8) (1.9.0)\n",
            "Requirement already satisfied: imagesize in /usr/local/lib/python3.6/dist-packages (from sphinx->smac==0.8) (1.1.0)\n",
            "Requirement already satisfied: pyparsing in /usr/local/lib/python3.6/dist-packages (from ConfigSpace<0.5,>=0.4.3->smac==0.8) (2.4.2)\n",
            "Requirement already satisfied: attrs in /usr/local/lib/python3.6/dist-packages (from packaging->sphinx->smac==0.8) (19.1.0)\n",
            "Requirement already satisfied: chardet<3.1.0,>=3.0.2 in /usr/local/lib/python3.6/dist-packages (from requests>=2.0.0->sphinx->smac==0.8) (3.0.4)\n",
            "Requirement already satisfied: idna<2.9,>=2.5 in /usr/local/lib/python3.6/dist-packages (from requests>=2.0.0->sphinx->smac==0.8) (2.8)\n",
            "Requirement already satisfied: certifi>=2017.4.17 in /usr/local/lib/python3.6/dist-packages (from requests>=2.0.0->sphinx->smac==0.8) (2019.6.16)\n",
            "Requirement already satisfied: urllib3<1.25,>=1.21.1 in /usr/local/lib/python3.6/dist-packages (from requests>=2.0.0->sphinx->smac==0.8) (1.24.3)\n",
            "Requirement already satisfied: pytz>=2015.7 in /usr/local/lib/python3.6/dist-packages (from babel!=2.0,>=1.3->sphinx->smac==0.8) (2018.9)\n",
            "Requirement already satisfied: MarkupSafe>=0.23 in /usr/local/lib/python3.6/dist-packages (from Jinja2>=2.3->sphinx->smac==0.8) (1.1.1)\n",
            "Requirement already satisfied: auto-sklearn in /usr/local/lib/python3.6/dist-packages (0.5.2)\n",
            "Requirement already satisfied: pynisher>=0.4.2 in /usr/local/lib/python3.6/dist-packages (from auto-sklearn) (0.5.0)\n",
            "Requirement already satisfied: xgboost>=0.80 in /usr/local/lib/python3.6/dist-packages (from auto-sklearn) (0.90)\n",
            "Requirement already satisfied: pyrfr<0.8,>=0.7 in /usr/local/lib/python3.6/dist-packages (from auto-sklearn) (0.7.4)\n",
            "Requirement already satisfied: pyyaml in /usr/local/lib/python3.6/dist-packages (from auto-sklearn) (3.13)\n",
            "Requirement already satisfied: liac-arff in /usr/local/lib/python3.6/dist-packages (from auto-sklearn) (2.4.0)\n",
            "Requirement already satisfied: smac==0.8 in /usr/local/lib/python3.6/dist-packages (from auto-sklearn) (0.8.0)\n",
            "Requirement already satisfied: numpy>=1.9.0 in /usr/local/lib/python3.6/dist-packages (from auto-sklearn) (1.16.4)\n",
            "Requirement already satisfied: scipy>=0.14.1 in /usr/local/lib/python3.6/dist-packages (from auto-sklearn) (1.3.1)\n",
            "Requirement already satisfied: ConfigSpace<0.5,>=0.4.0 in /usr/local/lib/python3.6/dist-packages (from auto-sklearn) (0.4.10)\n",
            "Requirement already satisfied: scikit-learn<0.20,>=0.19 in /usr/local/lib/python3.6/dist-packages (from auto-sklearn) (0.19.2)\n",
            "Requirement already satisfied: Cython in /usr/local/lib/python3.6/dist-packages (from auto-sklearn) (0.29.13)\n",
            "Requirement already satisfied: psutil in /usr/local/lib/python3.6/dist-packages (from auto-sklearn) (5.4.8)\n",
            "Requirement already satisfied: lockfile in /usr/local/lib/python3.6/dist-packages (from auto-sklearn) (0.12.2)\n",
            "Requirement already satisfied: nose in /usr/local/lib/python3.6/dist-packages (from auto-sklearn) (1.3.7)\n",
            "Requirement already satisfied: pandas in /usr/local/lib/python3.6/dist-packages (from auto-sklearn) (0.24.2)\n",
            "Requirement already satisfied: joblib in /usr/local/lib/python3.6/dist-packages (from auto-sklearn) (0.13.2)\n",
            "Requirement already satisfied: setuptools in /usr/local/lib/python3.6/dist-packages (from auto-sklearn) (41.2.0)\n",
            "Requirement already satisfied: docutils>=0.3 in /usr/local/lib/python3.6/dist-packages (from pynisher>=0.4.2->auto-sklearn) (0.14)\n",
            "Requirement already satisfied: six in /usr/local/lib/python3.6/dist-packages (from smac==0.8->auto-sklearn) (1.12.0)\n",
            "Requirement already satisfied: sphinx in /usr/local/lib/python3.6/dist-packages (from smac==0.8->auto-sklearn) (1.8.5)\n",
            "Requirement already satisfied: typing in /usr/local/lib/python3.6/dist-packages (from smac==0.8->auto-sklearn) (3.7.4)\n",
            "Requirement already satisfied: sphinx-rtd-theme in /usr/local/lib/python3.6/dist-packages (from smac==0.8->auto-sklearn) (0.4.3)\n",
            "Requirement already satisfied: pyparsing in /usr/local/lib/python3.6/dist-packages (from ConfigSpace<0.5,>=0.4.0->auto-sklearn) (2.4.2)\n",
            "Requirement already satisfied: python-dateutil>=2.5.0 in /usr/local/lib/python3.6/dist-packages (from pandas->auto-sklearn) (2.5.3)\n",
            "Requirement already satisfied: pytz>=2011k in /usr/local/lib/python3.6/dist-packages (from pandas->auto-sklearn) (2018.9)\n",
            "Requirement already satisfied: snowballstemmer>=1.1 in /usr/local/lib/python3.6/dist-packages (from sphinx->smac==0.8->auto-sklearn) (1.9.0)\n",
            "Requirement already satisfied: alabaster<0.8,>=0.7 in /usr/local/lib/python3.6/dist-packages (from sphinx->smac==0.8->auto-sklearn) (0.7.12)\n",
            "Requirement already satisfied: requests>=2.0.0 in /usr/local/lib/python3.6/dist-packages (from sphinx->smac==0.8->auto-sklearn) (2.21.0)\n",
            "Requirement already satisfied: packaging in /usr/local/lib/python3.6/dist-packages (from sphinx->smac==0.8->auto-sklearn) (19.1)\n",
            "Requirement already satisfied: Jinja2>=2.3 in /usr/local/lib/python3.6/dist-packages (from sphinx->smac==0.8->auto-sklearn) (2.10.1)\n",
            "Requirement already satisfied: Pygments>=2.0 in /usr/local/lib/python3.6/dist-packages (from sphinx->smac==0.8->auto-sklearn) (2.1.3)\n",
            "Requirement already satisfied: babel!=2.0,>=1.3 in /usr/local/lib/python3.6/dist-packages (from sphinx->smac==0.8->auto-sklearn) (2.7.0)\n",
            "Requirement already satisfied: sphinxcontrib-websupport in /usr/local/lib/python3.6/dist-packages (from sphinx->smac==0.8->auto-sklearn) (1.1.2)\n",
            "Requirement already satisfied: imagesize in /usr/local/lib/python3.6/dist-packages (from sphinx->smac==0.8->auto-sklearn) (1.1.0)\n",
            "Requirement already satisfied: urllib3<1.25,>=1.21.1 in /usr/local/lib/python3.6/dist-packages (from requests>=2.0.0->sphinx->smac==0.8->auto-sklearn) (1.24.3)\n",
            "Requirement already satisfied: certifi>=2017.4.17 in /usr/local/lib/python3.6/dist-packages (from requests>=2.0.0->sphinx->smac==0.8->auto-sklearn) (2019.6.16)\n",
            "Requirement already satisfied: chardet<3.1.0,>=3.0.2 in /usr/local/lib/python3.6/dist-packages (from requests>=2.0.0->sphinx->smac==0.8->auto-sklearn) (3.0.4)\n",
            "Requirement already satisfied: idna<2.9,>=2.5 in /usr/local/lib/python3.6/dist-packages (from requests>=2.0.0->sphinx->smac==0.8->auto-sklearn) (2.8)\n",
            "Requirement already satisfied: attrs in /usr/local/lib/python3.6/dist-packages (from packaging->sphinx->smac==0.8->auto-sklearn) (19.1.0)\n",
            "Requirement already satisfied: MarkupSafe>=0.23 in /usr/local/lib/python3.6/dist-packages (from Jinja2>=2.3->sphinx->smac==0.8->auto-sklearn) (1.1.1)\n"
          ],
          "name": "stdout"
        },
        {
          "output_type": "stream",
          "text": [
            "/usr/local/lib/python3.6/dist-packages/sklearn/ensemble/weight_boosting.py:29: DeprecationWarning: numpy.core.umath_tests is an internal NumPy module and should not be imported. It will be removed in a future NumPy release.\n",
            "  from numpy.core.umath_tests import inner1d\n"
          ],
          "name": "stderr"
        }
      ]
    },
    {
      "cell_type": "code",
      "metadata": {
        "id": "Z_XemWtS_--k",
        "colab_type": "code",
        "colab": {}
      },
      "source": [
        "import numpy as np\n",
        "import matplotlib.pyplot as plt\n",
        "import pandas as pd\n",
        "import os"
      ],
      "execution_count": 0,
      "outputs": []
    },
    {
      "cell_type": "code",
      "metadata": {
        "id": "g0-PZT6nB3WS",
        "colab_type": "code",
        "colab": {}
      },
      "source": [
        ""
      ],
      "execution_count": 0,
      "outputs": []
    },
    {
      "cell_type": "code",
      "metadata": {
        "id": "3pq-G1XqDo1f",
        "colab_type": "code",
        "colab": {
          "base_uri": "https://localhost:8080/",
          "height": 122
        },
        "outputId": "5adb3cc6-326d-47a0-ef2c-af25d5400f3c"
      },
      "source": [
        "from google.colab import drive\n",
        "drive.mount('/content/drive')"
      ],
      "execution_count": 7,
      "outputs": [
        {
          "output_type": "stream",
          "text": [
            "Go to this URL in a browser: https://accounts.google.com/o/oauth2/auth?client_id=947318989803-6bn6qk8qdgf4n4g3pfee6491hc0brc4i.apps.googleusercontent.com&redirect_uri=urn%3Aietf%3Awg%3Aoauth%3A2.0%3Aoob&scope=email%20https%3A%2F%2Fwww.googleapis.com%2Fauth%2Fdocs.test%20https%3A%2F%2Fwww.googleapis.com%2Fauth%2Fdrive%20https%3A%2F%2Fwww.googleapis.com%2Fauth%2Fdrive.photos.readonly%20https%3A%2F%2Fwww.googleapis.com%2Fauth%2Fpeopleapi.readonly&response_type=code\n",
            "\n",
            "Enter your authorization code:\n",
            "··········\n",
            "Mounted at /content/drive\n"
          ],
          "name": "stdout"
        }
      ]
    },
    {
      "cell_type": "code",
      "metadata": {
        "id": "gMA2VuGGDpzg",
        "colab_type": "code",
        "colab": {}
      },
      "source": [
        "os.chdir('/content/drive/My Drive/Colab Notebooks')"
      ],
      "execution_count": 0,
      "outputs": []
    },
    {
      "cell_type": "code",
      "metadata": {
        "id": "Ca5gWU2pD2tk",
        "colab_type": "code",
        "colab": {
          "base_uri": "https://localhost:8080/",
          "height": 71
        },
        "outputId": "5aac631d-a769-4dd2-d35f-e701e67d71af"
      },
      "source": [
        "df=pd.read_table(\"Training dataset.csv\")\n",
        "res=df.head()"
      ],
      "execution_count": 41,
      "outputs": [
        {
          "output_type": "stream",
          "text": [
            "/usr/local/lib/python3.6/dist-packages/ipykernel_launcher.py:1: FutureWarning: read_table is deprecated, use read_csv instead, passing sep='\\t'.\n",
            "  \"\"\"Entry point for launching an IPython kernel.\n"
          ],
          "name": "stderr"
        }
      ]
    },
    {
      "cell_type": "code",
      "metadata": {
        "id": "OsrsCe5zD42Y",
        "colab_type": "code",
        "colab": {
          "base_uri": "https://localhost:8080/",
          "height": 204
        },
        "outputId": "3ef254f1-d45f-45a1-8c0c-78d0af5bdd4d"
      },
      "source": [
        "output=pd.read_csv(\"Training output.csv\",sep=\"\\t\")\n",
        "output.head()"
      ],
      "execution_count": 42,
      "outputs": [
        {
          "output_type": "execute_result",
          "data": {
            "text/html": [
              "<div>\n",
              "<style scoped>\n",
              "    .dataframe tbody tr th:only-of-type {\n",
              "        vertical-align: middle;\n",
              "    }\n",
              "\n",
              "    .dataframe tbody tr th {\n",
              "        vertical-align: top;\n",
              "    }\n",
              "\n",
              "    .dataframe thead th {\n",
              "        text-align: right;\n",
              "    }\n",
              "</style>\n",
              "<table border=\"1\" class=\"dataframe\">\n",
              "  <thead>\n",
              "    <tr style=\"text-align: right;\">\n",
              "      <th></th>\n",
              "      <th>Unnamed: 0</th>\n",
              "      <th>Good/Bad</th>\n",
              "    </tr>\n",
              "  </thead>\n",
              "  <tbody>\n",
              "    <tr>\n",
              "      <th>0</th>\n",
              "      <td>Wafer-1</td>\n",
              "      <td>-1</td>\n",
              "    </tr>\n",
              "    <tr>\n",
              "      <th>1</th>\n",
              "      <td>Wafer-2</td>\n",
              "      <td>-1</td>\n",
              "    </tr>\n",
              "    <tr>\n",
              "      <th>2</th>\n",
              "      <td>Wafer-3</td>\n",
              "      <td>-1</td>\n",
              "    </tr>\n",
              "    <tr>\n",
              "      <th>3</th>\n",
              "      <td>Wafer-4</td>\n",
              "      <td>-1</td>\n",
              "    </tr>\n",
              "    <tr>\n",
              "      <th>4</th>\n",
              "      <td>Wafer-5</td>\n",
              "      <td>-1</td>\n",
              "    </tr>\n",
              "  </tbody>\n",
              "</table>\n",
              "</div>"
            ],
            "text/plain": [
              "  Unnamed: 0  Good/Bad\n",
              "0    Wafer-1        -1\n",
              "1    Wafer-2        -1\n",
              "2    Wafer-3        -1\n",
              "3    Wafer-4        -1\n",
              "4    Wafer-5        -1"
            ]
          },
          "metadata": {
            "tags": []
          },
          "execution_count": 42
        }
      ]
    },
    {
      "cell_type": "code",
      "metadata": {
        "id": "aKsZMbHPEBkI",
        "colab_type": "code",
        "colab": {
          "base_uri": "https://localhost:8080/",
          "height": 270
        },
        "outputId": "ca7596f9-40e2-486f-b25b-f3c0e7b78352"
      },
      "source": [
        "df['Label'] = output['Good/Bad']\n",
        "df.head()"
      ],
      "execution_count": 43,
      "outputs": [
        {
          "output_type": "execute_result",
          "data": {
            "text/html": [
              "<div>\n",
              "<style scoped>\n",
              "    .dataframe tbody tr th:only-of-type {\n",
              "        vertical-align: middle;\n",
              "    }\n",
              "\n",
              "    .dataframe tbody tr th {\n",
              "        vertical-align: top;\n",
              "    }\n",
              "\n",
              "    .dataframe thead th {\n",
              "        text-align: right;\n",
              "    }\n",
              "</style>\n",
              "<table border=\"1\" class=\"dataframe\">\n",
              "  <thead>\n",
              "    <tr style=\"text-align: right;\">\n",
              "      <th></th>\n",
              "      <th>Unnamed: 0</th>\n",
              "      <th>Sensor-1</th>\n",
              "      <th>Sensor-2</th>\n",
              "      <th>Sensor-3</th>\n",
              "      <th>Sensor-4</th>\n",
              "      <th>Sensor-5</th>\n",
              "      <th>Sensor-6</th>\n",
              "      <th>Sensor-7</th>\n",
              "      <th>Sensor-8</th>\n",
              "      <th>Sensor-9</th>\n",
              "      <th>Sensor-10</th>\n",
              "      <th>Sensor-11</th>\n",
              "      <th>Sensor-12</th>\n",
              "      <th>Sensor-13</th>\n",
              "      <th>Sensor-14</th>\n",
              "      <th>Sensor-15</th>\n",
              "      <th>Sensor-16</th>\n",
              "      <th>Sensor-17</th>\n",
              "      <th>Sensor-18</th>\n",
              "      <th>Sensor-19</th>\n",
              "      <th>Sensor-20</th>\n",
              "      <th>Sensor-21</th>\n",
              "      <th>Sensor-22</th>\n",
              "      <th>Sensor-23</th>\n",
              "      <th>Sensor-24</th>\n",
              "      <th>Sensor-25</th>\n",
              "      <th>Sensor-26</th>\n",
              "      <th>Sensor-27</th>\n",
              "      <th>Sensor-28</th>\n",
              "      <th>Sensor-29</th>\n",
              "      <th>Sensor-30</th>\n",
              "      <th>Sensor-31</th>\n",
              "      <th>Sensor-32</th>\n",
              "      <th>Sensor-33</th>\n",
              "      <th>Sensor-34</th>\n",
              "      <th>Sensor-35</th>\n",
              "      <th>Sensor-36</th>\n",
              "      <th>Sensor-37</th>\n",
              "      <th>Sensor-38</th>\n",
              "      <th>Sensor-39</th>\n",
              "      <th>...</th>\n",
              "      <th>Sensor-552</th>\n",
              "      <th>Sensor-553</th>\n",
              "      <th>Sensor-554</th>\n",
              "      <th>Sensor-555</th>\n",
              "      <th>Sensor-556</th>\n",
              "      <th>Sensor-557</th>\n",
              "      <th>Sensor-558</th>\n",
              "      <th>Sensor-559</th>\n",
              "      <th>Sensor-560</th>\n",
              "      <th>Sensor-561</th>\n",
              "      <th>Sensor-562</th>\n",
              "      <th>Sensor-563</th>\n",
              "      <th>Sensor-564</th>\n",
              "      <th>Sensor-565</th>\n",
              "      <th>Sensor-566</th>\n",
              "      <th>Sensor-567</th>\n",
              "      <th>Sensor-568</th>\n",
              "      <th>Sensor-569</th>\n",
              "      <th>Sensor-570</th>\n",
              "      <th>Sensor-571</th>\n",
              "      <th>Sensor-572</th>\n",
              "      <th>Sensor-573</th>\n",
              "      <th>Sensor-574</th>\n",
              "      <th>Sensor-575</th>\n",
              "      <th>Sensor-576</th>\n",
              "      <th>Sensor-577</th>\n",
              "      <th>Sensor-578</th>\n",
              "      <th>Sensor-579</th>\n",
              "      <th>Sensor-580</th>\n",
              "      <th>Sensor-581</th>\n",
              "      <th>Sensor-582</th>\n",
              "      <th>Sensor-583</th>\n",
              "      <th>Sensor-584</th>\n",
              "      <th>Sensor-585</th>\n",
              "      <th>Sensor-586</th>\n",
              "      <th>Sensor-587</th>\n",
              "      <th>Sensor-588</th>\n",
              "      <th>Sensor-589</th>\n",
              "      <th>Sensor-590</th>\n",
              "      <th>Label</th>\n",
              "    </tr>\n",
              "  </thead>\n",
              "  <tbody>\n",
              "    <tr>\n",
              "      <th>0</th>\n",
              "      <td>Wafer-1</td>\n",
              "      <td>2988.30</td>\n",
              "      <td>2519.05</td>\n",
              "      <td>2208.8556</td>\n",
              "      <td>1157.7224</td>\n",
              "      <td>1.5509</td>\n",
              "      <td>100.0</td>\n",
              "      <td>107.8022</td>\n",
              "      <td>0.1233</td>\n",
              "      <td>1.5362</td>\n",
              "      <td>-0.0259</td>\n",
              "      <td>-0.0179</td>\n",
              "      <td>0.9614</td>\n",
              "      <td>197.1793</td>\n",
              "      <td>0.0</td>\n",
              "      <td>13.3419</td>\n",
              "      <td>404.5667</td>\n",
              "      <td>10.1924</td>\n",
              "      <td>0.9697</td>\n",
              "      <td>186.9869</td>\n",
              "      <td>12.5635</td>\n",
              "      <td>1.4075</td>\n",
              "      <td>-5469.25</td>\n",
              "      <td>2685.50</td>\n",
              "      <td>-4006.50</td>\n",
              "      <td>-1275.50</td>\n",
              "      <td>1.3180</td>\n",
              "      <td>2.0157</td>\n",
              "      <td>7.4305</td>\n",
              "      <td>65.0778</td>\n",
              "      <td>2.4556</td>\n",
              "      <td>0.2184</td>\n",
              "      <td>3.4522</td>\n",
              "      <td>84.9105</td>\n",
              "      <td>8.6789</td>\n",
              "      <td>50.5100</td>\n",
              "      <td>64.1125</td>\n",
              "      <td>49.4900</td>\n",
              "      <td>65.1951</td>\n",
              "      <td>86.6867</td>\n",
              "      <td>...</td>\n",
              "      <td>1.33</td>\n",
              "      <td>0.4849</td>\n",
              "      <td>8.1693</td>\n",
              "      <td>0.6061</td>\n",
              "      <td>67.1028</td>\n",
              "      <td>4.8795</td>\n",
              "      <td>1.7842</td>\n",
              "      <td>0.9546</td>\n",
              "      <td>0.7055</td>\n",
              "      <td>0.1416</td>\n",
              "      <td>73.9007</td>\n",
              "      <td>NaN</td>\n",
              "      <td>NaN</td>\n",
              "      <td>NaN</td>\n",
              "      <td>NaN</td>\n",
              "      <td>NaN</td>\n",
              "      <td>NaN</td>\n",
              "      <td>NaN</td>\n",
              "      <td>NaN</td>\n",
              "      <td>534.6455</td>\n",
              "      <td>2.0642</td>\n",
              "      <td>7.81</td>\n",
              "      <td>0.2811</td>\n",
              "      <td>2.2358</td>\n",
              "      <td>0.0783</td>\n",
              "      <td>1.4608</td>\n",
              "      <td>13.6183</td>\n",
              "      <td>0.0229</td>\n",
              "      <td>0.0108</td>\n",
              "      <td>0.0032</td>\n",
              "      <td>47.1586</td>\n",
              "      <td>0.5036</td>\n",
              "      <td>0.0169</td>\n",
              "      <td>0.0039</td>\n",
              "      <td>3.3514</td>\n",
              "      <td>0.0229</td>\n",
              "      <td>0.0108</td>\n",
              "      <td>0.0032</td>\n",
              "      <td>47.1586</td>\n",
              "      <td>-1</td>\n",
              "    </tr>\n",
              "    <tr>\n",
              "      <th>1</th>\n",
              "      <td>Wafer-2</td>\n",
              "      <td>2987.32</td>\n",
              "      <td>2528.81</td>\n",
              "      <td>NaN</td>\n",
              "      <td>NaN</td>\n",
              "      <td>NaN</td>\n",
              "      <td>NaN</td>\n",
              "      <td>NaN</td>\n",
              "      <td>0.1195</td>\n",
              "      <td>1.6343</td>\n",
              "      <td>-0.0263</td>\n",
              "      <td>0.0116</td>\n",
              "      <td>0.9587</td>\n",
              "      <td>200.8256</td>\n",
              "      <td>0.0</td>\n",
              "      <td>11.9224</td>\n",
              "      <td>414.3060</td>\n",
              "      <td>9.7659</td>\n",
              "      <td>0.9661</td>\n",
              "      <td>191.0598</td>\n",
              "      <td>12.4761</td>\n",
              "      <td>1.4014</td>\n",
              "      <td>-5441.00</td>\n",
              "      <td>2547.00</td>\n",
              "      <td>-5585.00</td>\n",
              "      <td>-4198.00</td>\n",
              "      <td>1.3040</td>\n",
              "      <td>1.9700</td>\n",
              "      <td>7.2402</td>\n",
              "      <td>67.2000</td>\n",
              "      <td>2.3889</td>\n",
              "      <td>0.1798</td>\n",
              "      <td>3.3374</td>\n",
              "      <td>85.7939</td>\n",
              "      <td>8.6572</td>\n",
              "      <td>50.2073</td>\n",
              "      <td>63.9008</td>\n",
              "      <td>49.7927</td>\n",
              "      <td>65.0894</td>\n",
              "      <td>86.6078</td>\n",
              "      <td>...</td>\n",
              "      <td>0.63</td>\n",
              "      <td>0.1160</td>\n",
              "      <td>6.1090</td>\n",
              "      <td>0.2694</td>\n",
              "      <td>33.2024</td>\n",
              "      <td>3.0613</td>\n",
              "      <td>0.7907</td>\n",
              "      <td>0.9592</td>\n",
              "      <td>0.8523</td>\n",
              "      <td>0.1290</td>\n",
              "      <td>88.8535</td>\n",
              "      <td>266.526</td>\n",
              "      <td>0.5826</td>\n",
              "      <td>3.62</td>\n",
              "      <td>0.0606</td>\n",
              "      <td>1.4077</td>\n",
              "      <td>0.0283</td>\n",
              "      <td>1.3582</td>\n",
              "      <td>10.3970</td>\n",
              "      <td>531.2491</td>\n",
              "      <td>2.2134</td>\n",
              "      <td>6.86</td>\n",
              "      <td>0.3007</td>\n",
              "      <td>2.4529</td>\n",
              "      <td>0.0945</td>\n",
              "      <td>1.2913</td>\n",
              "      <td>13.5856</td>\n",
              "      <td>NaN</td>\n",
              "      <td>NaN</td>\n",
              "      <td>NaN</td>\n",
              "      <td>NaN</td>\n",
              "      <td>0.5011</td>\n",
              "      <td>0.0117</td>\n",
              "      <td>0.0033</td>\n",
              "      <td>2.3308</td>\n",
              "      <td>0.0229</td>\n",
              "      <td>0.0108</td>\n",
              "      <td>0.0032</td>\n",
              "      <td>47.1586</td>\n",
              "      <td>-1</td>\n",
              "    </tr>\n",
              "    <tr>\n",
              "      <th>2</th>\n",
              "      <td>Wafer-3</td>\n",
              "      <td>NaN</td>\n",
              "      <td>2481.85</td>\n",
              "      <td>2207.3889</td>\n",
              "      <td>962.5317</td>\n",
              "      <td>1.2043</td>\n",
              "      <td>100.0</td>\n",
              "      <td>104.0311</td>\n",
              "      <td>0.1210</td>\n",
              "      <td>1.5559</td>\n",
              "      <td>0.0002</td>\n",
              "      <td>-0.0044</td>\n",
              "      <td>0.9617</td>\n",
              "      <td>196.6315</td>\n",
              "      <td>0.0</td>\n",
              "      <td>13.6262</td>\n",
              "      <td>410.6950</td>\n",
              "      <td>10.3503</td>\n",
              "      <td>0.9684</td>\n",
              "      <td>186.2811</td>\n",
              "      <td>12.4761</td>\n",
              "      <td>1.4061</td>\n",
              "      <td>-5434.00</td>\n",
              "      <td>2617.50</td>\n",
              "      <td>-3876.75</td>\n",
              "      <td>-309.75</td>\n",
              "      <td>1.3100</td>\n",
              "      <td>2.0095</td>\n",
              "      <td>7.3445</td>\n",
              "      <td>65.1667</td>\n",
              "      <td>2.7222</td>\n",
              "      <td>0.2469</td>\n",
              "      <td>3.4194</td>\n",
              "      <td>85.3498</td>\n",
              "      <td>8.6397</td>\n",
              "      <td>50.6324</td>\n",
              "      <td>64.1999</td>\n",
              "      <td>49.3676</td>\n",
              "      <td>65.3490</td>\n",
              "      <td>86.7217</td>\n",
              "      <td>...</td>\n",
              "      <td>1.71</td>\n",
              "      <td>0.2770</td>\n",
              "      <td>10.8976</td>\n",
              "      <td>0.7116</td>\n",
              "      <td>41.4697</td>\n",
              "      <td>5.6210</td>\n",
              "      <td>2.1258</td>\n",
              "      <td>0.9128</td>\n",
              "      <td>0.4697</td>\n",
              "      <td>0.0905</td>\n",
              "      <td>51.4535</td>\n",
              "      <td>263.020</td>\n",
              "      <td>0.5702</td>\n",
              "      <td>3.75</td>\n",
              "      <td>0.1376</td>\n",
              "      <td>1.3936</td>\n",
              "      <td>0.0560</td>\n",
              "      <td>1.4257</td>\n",
              "      <td>24.1277</td>\n",
              "      <td>530.1291</td>\n",
              "      <td>2.0645</td>\n",
              "      <td>8.10</td>\n",
              "      <td>0.2060</td>\n",
              "      <td>2.8482</td>\n",
              "      <td>0.0644</td>\n",
              "      <td>1.5279</td>\n",
              "      <td>9.9804</td>\n",
              "      <td>0.0175</td>\n",
              "      <td>0.0060</td>\n",
              "      <td>0.0023</td>\n",
              "      <td>34.4153</td>\n",
              "      <td>0.4947</td>\n",
              "      <td>0.0137</td>\n",
              "      <td>0.0041</td>\n",
              "      <td>2.7729</td>\n",
              "      <td>0.0175</td>\n",
              "      <td>0.0060</td>\n",
              "      <td>0.0023</td>\n",
              "      <td>34.4153</td>\n",
              "      <td>-1</td>\n",
              "    </tr>\n",
              "    <tr>\n",
              "      <th>3</th>\n",
              "      <td>Wafer-4</td>\n",
              "      <td>3002.27</td>\n",
              "      <td>2497.45</td>\n",
              "      <td>2207.3889</td>\n",
              "      <td>962.5317</td>\n",
              "      <td>1.2043</td>\n",
              "      <td>100.0</td>\n",
              "      <td>104.0311</td>\n",
              "      <td>0.1210</td>\n",
              "      <td>1.5465</td>\n",
              "      <td>0.0195</td>\n",
              "      <td>-0.0114</td>\n",
              "      <td>0.9491</td>\n",
              "      <td>199.6394</td>\n",
              "      <td>0.0</td>\n",
              "      <td>15.4346</td>\n",
              "      <td>418.2477</td>\n",
              "      <td>10.3647</td>\n",
              "      <td>0.9706</td>\n",
              "      <td>189.2748</td>\n",
              "      <td>12.4761</td>\n",
              "      <td>1.4060</td>\n",
              "      <td>-5310.25</td>\n",
              "      <td>2717.50</td>\n",
              "      <td>-3641.50</td>\n",
              "      <td>65.25</td>\n",
              "      <td>1.3122</td>\n",
              "      <td>1.9715</td>\n",
              "      <td>7.2113</td>\n",
              "      <td>66.3556</td>\n",
              "      <td>2.9222</td>\n",
              "      <td>0.2556</td>\n",
              "      <td>3.3751</td>\n",
              "      <td>85.3498</td>\n",
              "      <td>8.6397</td>\n",
              "      <td>50.6324</td>\n",
              "      <td>64.1999</td>\n",
              "      <td>49.3676</td>\n",
              "      <td>65.3490</td>\n",
              "      <td>86.7217</td>\n",
              "      <td>...</td>\n",
              "      <td>1.33</td>\n",
              "      <td>0.1288</td>\n",
              "      <td>6.9097</td>\n",
              "      <td>0.5707</td>\n",
              "      <td>19.7939</td>\n",
              "      <td>3.6801</td>\n",
              "      <td>1.7750</td>\n",
              "      <td>0.9553</td>\n",
              "      <td>0.6392</td>\n",
              "      <td>0.1103</td>\n",
              "      <td>66.9167</td>\n",
              "      <td>265.688</td>\n",
              "      <td>0.5963</td>\n",
              "      <td>6.67</td>\n",
              "      <td>0.1080</td>\n",
              "      <td>2.4858</td>\n",
              "      <td>0.0430</td>\n",
              "      <td>2.5105</td>\n",
              "      <td>18.1074</td>\n",
              "      <td>528.1864</td>\n",
              "      <td>2.3338</td>\n",
              "      <td>7.49</td>\n",
              "      <td>0.2964</td>\n",
              "      <td>2.6843</td>\n",
              "      <td>0.0863</td>\n",
              "      <td>1.4181</td>\n",
              "      <td>12.6981</td>\n",
              "      <td>0.0250</td>\n",
              "      <td>0.0286</td>\n",
              "      <td>0.0075</td>\n",
              "      <td>114.5979</td>\n",
              "      <td>0.4977</td>\n",
              "      <td>0.0114</td>\n",
              "      <td>0.0037</td>\n",
              "      <td>2.2849</td>\n",
              "      <td>0.0250</td>\n",
              "      <td>0.0286</td>\n",
              "      <td>0.0075</td>\n",
              "      <td>114.5979</td>\n",
              "      <td>-1</td>\n",
              "    </tr>\n",
              "    <tr>\n",
              "      <th>4</th>\n",
              "      <td>Wafer-5</td>\n",
              "      <td>3010.41</td>\n",
              "      <td>2632.80</td>\n",
              "      <td>2203.9000</td>\n",
              "      <td>1116.4129</td>\n",
              "      <td>1.2639</td>\n",
              "      <td>100.0</td>\n",
              "      <td>102.2733</td>\n",
              "      <td>0.1199</td>\n",
              "      <td>1.4227</td>\n",
              "      <td>0.0194</td>\n",
              "      <td>0.0073</td>\n",
              "      <td>0.9765</td>\n",
              "      <td>199.0177</td>\n",
              "      <td>0.0</td>\n",
              "      <td>4.7040</td>\n",
              "      <td>406.7425</td>\n",
              "      <td>9.5066</td>\n",
              "      <td>0.9802</td>\n",
              "      <td>189.5111</td>\n",
              "      <td>12.5784</td>\n",
              "      <td>1.4085</td>\n",
              "      <td>-2681.75</td>\n",
              "      <td>1496.25</td>\n",
              "      <td>-1949.50</td>\n",
              "      <td>379.25</td>\n",
              "      <td>0.4430</td>\n",
              "      <td>0.8862</td>\n",
              "      <td>1.4365</td>\n",
              "      <td>64.6778</td>\n",
              "      <td>2.4889</td>\n",
              "      <td>0.1939</td>\n",
              "      <td>3.4542</td>\n",
              "      <td>84.0432</td>\n",
              "      <td>8.7487</td>\n",
              "      <td>50.2849</td>\n",
              "      <td>64.3732</td>\n",
              "      <td>49.7151</td>\n",
              "      <td>66.6566</td>\n",
              "      <td>88.2425</td>\n",
              "      <td>...</td>\n",
              "      <td>1.66</td>\n",
              "      <td>0.2263</td>\n",
              "      <td>8.9829</td>\n",
              "      <td>0.7528</td>\n",
              "      <td>85.0749</td>\n",
              "      <td>5.0015</td>\n",
              "      <td>2.0660</td>\n",
              "      <td>0.9531</td>\n",
              "      <td>0.1407</td>\n",
              "      <td>0.0344</td>\n",
              "      <td>14.7640</td>\n",
              "      <td>NaN</td>\n",
              "      <td>NaN</td>\n",
              "      <td>NaN</td>\n",
              "      <td>NaN</td>\n",
              "      <td>NaN</td>\n",
              "      <td>NaN</td>\n",
              "      <td>NaN</td>\n",
              "      <td>NaN</td>\n",
              "      <td>535.7491</td>\n",
              "      <td>2.2233</td>\n",
              "      <td>7.17</td>\n",
              "      <td>0.4183</td>\n",
              "      <td>2.6206</td>\n",
              "      <td>0.1133</td>\n",
              "      <td>1.3383</td>\n",
              "      <td>18.8142</td>\n",
              "      <td>0.0288</td>\n",
              "      <td>0.0361</td>\n",
              "      <td>0.0101</td>\n",
              "      <td>125.0600</td>\n",
              "      <td>0.5032</td>\n",
              "      <td>0.0159</td>\n",
              "      <td>0.0039</td>\n",
              "      <td>3.1576</td>\n",
              "      <td>0.0288</td>\n",
              "      <td>0.0361</td>\n",
              "      <td>0.0101</td>\n",
              "      <td>125.0600</td>\n",
              "      <td>-1</td>\n",
              "    </tr>\n",
              "  </tbody>\n",
              "</table>\n",
              "<p>5 rows × 592 columns</p>\n",
              "</div>"
            ],
            "text/plain": [
              "  Unnamed: 0  Sensor-1  Sensor-2  ...  Sensor-589  Sensor-590  Label\n",
              "0    Wafer-1   2988.30   2519.05  ...      0.0032     47.1586     -1\n",
              "1    Wafer-2   2987.32   2528.81  ...      0.0032     47.1586     -1\n",
              "2    Wafer-3       NaN   2481.85  ...      0.0023     34.4153     -1\n",
              "3    Wafer-4   3002.27   2497.45  ...      0.0075    114.5979     -1\n",
              "4    Wafer-5   3010.41   2632.80  ...      0.0101    125.0600     -1\n",
              "\n",
              "[5 rows x 592 columns]"
            ]
          },
          "metadata": {
            "tags": []
          },
          "execution_count": 43
        }
      ]
    },
    {
      "cell_type": "code",
      "metadata": {
        "id": "-yMRYdTlFESy",
        "colab_type": "code",
        "colab": {
          "base_uri": "https://localhost:8080/",
          "height": 34
        },
        "outputId": "a3fd488f-1877-47c2-eb74-b08cf35f6f4d"
      },
      "source": [
        "df.shape"
      ],
      "execution_count": 19,
      "outputs": [
        {
          "output_type": "execute_result",
          "data": {
            "text/plain": [
              "(1537, 592)"
            ]
          },
          "metadata": {
            "tags": []
          },
          "execution_count": 19
        }
      ]
    },
    {
      "cell_type": "code",
      "metadata": {
        "id": "sHs-EIwsfuP9",
        "colab_type": "code",
        "colab": {
          "base_uri": "https://localhost:8080/",
          "height": 1000
        },
        "outputId": "63219cad-643f-4b49-aa6d-e51f50c5d92f"
      },
      "source": [
        "df.dtypes"
      ],
      "execution_count": 40,
      "outputs": [
        {
          "output_type": "execute_result",
          "data": {
            "text/plain": [
              "Unnamed: 0     object\n",
              "Sensor-1      float64\n",
              "Sensor-2      float64\n",
              "Sensor-3      float64\n",
              "Sensor-4      float64\n",
              "Sensor-5      float64\n",
              "Sensor-6      float64\n",
              "Sensor-7      float64\n",
              "Sensor-8      float64\n",
              "Sensor-9      float64\n",
              "Sensor-10     float64\n",
              "Sensor-11     float64\n",
              "Sensor-12     float64\n",
              "Sensor-13     float64\n",
              "Sensor-14     float64\n",
              "Sensor-15     float64\n",
              "Sensor-16     float64\n",
              "Sensor-17     float64\n",
              "Sensor-18     float64\n",
              "Sensor-19     float64\n",
              "Sensor-20     float64\n",
              "Sensor-21     float64\n",
              "Sensor-22     float64\n",
              "Sensor-23     float64\n",
              "Sensor-24     float64\n",
              "Sensor-25     float64\n",
              "Sensor-26     float64\n",
              "Sensor-27     float64\n",
              "Sensor-28     float64\n",
              "Sensor-29     float64\n",
              "               ...   \n",
              "Sensor-562    float64\n",
              "Sensor-563    float64\n",
              "Sensor-564    float64\n",
              "Sensor-565    float64\n",
              "Sensor-566    float64\n",
              "Sensor-567    float64\n",
              "Sensor-568    float64\n",
              "Sensor-569    float64\n",
              "Sensor-570    float64\n",
              "Sensor-571    float64\n",
              "Sensor-572    float64\n",
              "Sensor-573    float64\n",
              "Sensor-574    float64\n",
              "Sensor-575    float64\n",
              "Sensor-576    float64\n",
              "Sensor-577    float64\n",
              "Sensor-578    float64\n",
              "Sensor-579    float64\n",
              "Sensor-580    float64\n",
              "Sensor-581    float64\n",
              "Sensor-582    float64\n",
              "Sensor-583    float64\n",
              "Sensor-584    float64\n",
              "Sensor-585    float64\n",
              "Sensor-586    float64\n",
              "Sensor-587    float64\n",
              "Sensor-588    float64\n",
              "Sensor-589    float64\n",
              "Sensor-590    float64\n",
              "Label           int64\n",
              "Length: 592, dtype: object"
            ]
          },
          "metadata": {
            "tags": []
          },
          "execution_count": 40
        }
      ]
    },
    {
      "cell_type": "code",
      "metadata": {
        "id": "DiKqM65cED-x",
        "colab_type": "code",
        "colab": {}
      },
      "source": [
        "X=df.iloc[:,1:208].values\n",
        "\n"
      ],
      "execution_count": 0,
      "outputs": []
    },
    {
      "cell_type": "code",
      "metadata": {
        "id": "7pcuSS9yEOl4",
        "colab_type": "code",
        "colab": {}
      },
      "source": [
        "y=df.iloc[:,591]"
      ],
      "execution_count": 0,
      "outputs": []
    },
    {
      "cell_type": "code",
      "metadata": {
        "id": "VefOV6uWESQK",
        "colab_type": "code",
        "colab": {}
      },
      "source": [
        "from sklearn.model_selection import train_test_split\n",
        "X_train, X_test, y_train, y_test = train_test_split(X, y, test_size = 0.25, random_state = 0)\n"
      ],
      "execution_count": 0,
      "outputs": []
    },
    {
      "cell_type": "code",
      "metadata": {
        "id": "vy4cg2NsEZDp",
        "colab_type": "code",
        "colab": {}
      },
      "source": [
        "automl = autosklearn.classification.AutoSklearnClassifier()"
      ],
      "execution_count": 0,
      "outputs": []
    },
    {
      "cell_type": "code",
      "metadata": {
        "id": "1Q6Y9j5VEej9",
        "colab_type": "code",
        "colab": {
          "base_uri": "https://localhost:8080/",
          "height": 1000
        },
        "outputId": "597a1f03-a4da-45c5-9c1a-0e9751cd08da"
      },
      "source": [
        "automl.fit(X_train, y_train)"
      ],
      "execution_count": 49,
      "outputs": [
        {
          "output_type": "stream",
          "text": [
            "/usr/local/lib/python3.6/dist-packages/autosklearn/evaluation/train_evaluator.py:197: RuntimeWarning: Mean of empty slice\n",
            "  Y_train_pred = np.nanmean(Y_train_pred_full, axis=0)\n"
          ],
          "name": "stderr"
        },
        {
          "output_type": "stream",
          "text": [
            "[WARNING] [2019-08-25 06:41:22,847:EnsembleBuilder(1):e50c21fd734717aba9baaaf5a5ed66a7] No models better than random - using Dummy Score!\n",
            "[WARNING] [2019-08-25 06:41:22,874:EnsembleBuilder(1):e50c21fd734717aba9baaaf5a5ed66a7] No models better than random - using Dummy Score!\n"
          ],
          "name": "stdout"
        },
        {
          "output_type": "stream",
          "text": [
            "/usr/local/lib/python3.6/dist-packages/autosklearn/evaluation/train_evaluator.py:197: RuntimeWarning: Mean of empty slice\n",
            "  Y_train_pred = np.nanmean(Y_train_pred_full, axis=0)\n"
          ],
          "name": "stderr"
        },
        {
          "output_type": "stream",
          "text": [
            "[WARNING] [2019-08-25 06:41:24,880:EnsembleBuilder(1):e50c21fd734717aba9baaaf5a5ed66a7] No models better than random - using Dummy Score!\n",
            "[WARNING] [2019-08-25 06:41:26,894:EnsembleBuilder(1):e50c21fd734717aba9baaaf5a5ed66a7] No models better than random - using Dummy Score!\n",
            "[WARNING] [2019-08-25 06:41:28,904:EnsembleBuilder(1):e50c21fd734717aba9baaaf5a5ed66a7] No models better than random - using Dummy Score!\n",
            "[WARNING] [2019-08-25 06:41:30,916:EnsembleBuilder(1):e50c21fd734717aba9baaaf5a5ed66a7] No models better than random - using Dummy Score!\n",
            "[WARNING] [2019-08-25 06:41:32,930:EnsembleBuilder(1):e50c21fd734717aba9baaaf5a5ed66a7] No models better than random - using Dummy Score!\n",
            "[WARNING] [2019-08-25 06:41:34,943:EnsembleBuilder(1):e50c21fd734717aba9baaaf5a5ed66a7] No models better than random - using Dummy Score!\n",
            "[WARNING] [2019-08-25 06:41:36,957:EnsembleBuilder(1):e50c21fd734717aba9baaaf5a5ed66a7] No models better than random - using Dummy Score!\n"
          ],
          "name": "stdout"
        },
        {
          "output_type": "stream",
          "text": [
            "/usr/local/lib/python3.6/dist-packages/autosklearn/evaluation/train_evaluator.py:197: RuntimeWarning: Mean of empty slice\n",
            "  Y_train_pred = np.nanmean(Y_train_pred_full, axis=0)\n"
          ],
          "name": "stderr"
        },
        {
          "output_type": "stream",
          "text": [
            "[WARNING] [2019-08-25 06:41:38,971:EnsembleBuilder(1):e50c21fd734717aba9baaaf5a5ed66a7] No models better than random - using Dummy Score!\n"
          ],
          "name": "stdout"
        },
        {
          "output_type": "stream",
          "text": [
            "/usr/local/lib/python3.6/dist-packages/autosklearn/evaluation/train_evaluator.py:197: RuntimeWarning: Mean of empty slice\n",
            "  Y_train_pred = np.nanmean(Y_train_pred_full, axis=0)\n"
          ],
          "name": "stderr"
        },
        {
          "output_type": "stream",
          "text": [
            "[WARNING] [2019-08-25 06:41:40,984:EnsembleBuilder(1):e50c21fd734717aba9baaaf5a5ed66a7] No models better than random - using Dummy Score!\n"
          ],
          "name": "stdout"
        },
        {
          "output_type": "stream",
          "text": [
            "/usr/local/lib/python3.6/dist-packages/autosklearn/evaluation/train_evaluator.py:197: RuntimeWarning: Mean of empty slice\n",
            "  Y_train_pred = np.nanmean(Y_train_pred_full, axis=0)\n",
            "/usr/local/lib/python3.6/dist-packages/autosklearn/evaluation/train_evaluator.py:197: RuntimeWarning: Mean of empty slice\n",
            "  Y_train_pred = np.nanmean(Y_train_pred_full, axis=0)\n"
          ],
          "name": "stderr"
        },
        {
          "output_type": "stream",
          "text": [
            "[WARNING] [2019-08-25 06:41:42,996:EnsembleBuilder(1):e50c21fd734717aba9baaaf5a5ed66a7] No models better than random - using Dummy Score!\n"
          ],
          "name": "stdout"
        },
        {
          "output_type": "stream",
          "text": [
            "/usr/local/lib/python3.6/dist-packages/autosklearn/evaluation/train_evaluator.py:197: RuntimeWarning: Mean of empty slice\n",
            "  Y_train_pred = np.nanmean(Y_train_pred_full, axis=0)\n"
          ],
          "name": "stderr"
        },
        {
          "output_type": "stream",
          "text": [
            "[WARNING] [2019-08-25 06:41:44,299:smac.intensification.intensification.Intensifier] Challenger was the same as the current incumbent; Skipping challenger\n",
            "[WARNING] [2019-08-25 06:41:44,299:smac.intensification.intensification.Intensifier] Challenger was the same as the current incumbent; Skipping challenger\n",
            "[WARNING] [2019-08-25 06:41:45,002:EnsembleBuilder(1):e50c21fd734717aba9baaaf5a5ed66a7] No models better than random - using Dummy Score!\n",
            "[WARNING] [2019-08-25 06:41:47,008:EnsembleBuilder(1):e50c21fd734717aba9baaaf5a5ed66a7] No models better than random - using Dummy Score!\n",
            "[WARNING] [2019-08-25 06:41:49,013:EnsembleBuilder(1):e50c21fd734717aba9baaaf5a5ed66a7] No models better than random - using Dummy Score!\n",
            "[WARNING] [2019-08-25 06:41:51,019:EnsembleBuilder(1):e50c21fd734717aba9baaaf5a5ed66a7] No models better than random - using Dummy Score!\n",
            "[WARNING] [2019-08-25 06:41:53,027:EnsembleBuilder(1):e50c21fd734717aba9baaaf5a5ed66a7] No models better than random - using Dummy Score!\n",
            "[WARNING] [2019-08-25 06:41:55,037:EnsembleBuilder(1):e50c21fd734717aba9baaaf5a5ed66a7] No models better than random - using Dummy Score!\n",
            "[WARNING] [2019-08-25 06:41:57,048:EnsembleBuilder(1):e50c21fd734717aba9baaaf5a5ed66a7] No models better than random - using Dummy Score!\n",
            "[WARNING] [2019-08-25 06:41:59,059:EnsembleBuilder(1):e50c21fd734717aba9baaaf5a5ed66a7] No models better than random - using Dummy Score!\n",
            "[WARNING] [2019-08-25 06:42:01,073:EnsembleBuilder(1):e50c21fd734717aba9baaaf5a5ed66a7] No models better than random - using Dummy Score!\n",
            "[WARNING] [2019-08-25 06:42:03,088:EnsembleBuilder(1):e50c21fd734717aba9baaaf5a5ed66a7] No models better than random - using Dummy Score!\n",
            "[WARNING] [2019-08-25 06:42:05,100:EnsembleBuilder(1):e50c21fd734717aba9baaaf5a5ed66a7] No models better than random - using Dummy Score!\n",
            "[WARNING] [2019-08-25 06:42:07,117:EnsembleBuilder(1):e50c21fd734717aba9baaaf5a5ed66a7] No models better than random - using Dummy Score!\n",
            "[WARNING] [2019-08-25 06:42:09,130:EnsembleBuilder(1):e50c21fd734717aba9baaaf5a5ed66a7] No models better than random - using Dummy Score!\n"
          ],
          "name": "stdout"
        },
        {
          "output_type": "stream",
          "text": [
            "/usr/local/lib/python3.6/dist-packages/autosklearn/evaluation/train_evaluator.py:197: RuntimeWarning: Mean of empty slice\n",
            "  Y_train_pred = np.nanmean(Y_train_pred_full, axis=0)\n"
          ],
          "name": "stderr"
        },
        {
          "output_type": "stream",
          "text": [
            "[WARNING] [2019-08-25 06:42:11,143:EnsembleBuilder(1):e50c21fd734717aba9baaaf5a5ed66a7] No models better than random - using Dummy Score!\n",
            "[WARNING] [2019-08-25 06:42:13,158:EnsembleBuilder(1):e50c21fd734717aba9baaaf5a5ed66a7] No models better than random - using Dummy Score!\n",
            "[WARNING] [2019-08-25 06:42:15,174:EnsembleBuilder(1):e50c21fd734717aba9baaaf5a5ed66a7] No models better than random - using Dummy Score!\n",
            "[WARNING] [2019-08-25 06:42:17,179:EnsembleBuilder(1):e50c21fd734717aba9baaaf5a5ed66a7] No models better than random - using Dummy Score!\n",
            "[WARNING] [2019-08-25 06:42:19,193:EnsembleBuilder(1):e50c21fd734717aba9baaaf5a5ed66a7] No models better than random - using Dummy Score!\n",
            "[WARNING] [2019-08-25 06:42:21,207:EnsembleBuilder(1):e50c21fd734717aba9baaaf5a5ed66a7] No models better than random - using Dummy Score!\n"
          ],
          "name": "stdout"
        },
        {
          "output_type": "stream",
          "text": [
            "/usr/local/lib/python3.6/dist-packages/autosklearn/evaluation/train_evaluator.py:197: RuntimeWarning: Mean of empty slice\n",
            "  Y_train_pred = np.nanmean(Y_train_pred_full, axis=0)\n",
            "/usr/local/lib/python3.6/dist-packages/autosklearn/evaluation/train_evaluator.py:197: RuntimeWarning: Mean of empty slice\n",
            "  Y_train_pred = np.nanmean(Y_train_pred_full, axis=0)\n"
          ],
          "name": "stderr"
        },
        {
          "output_type": "stream",
          "text": [
            "[WARNING] [2019-08-25 06:42:23,222:EnsembleBuilder(1):e50c21fd734717aba9baaaf5a5ed66a7] No models better than random - using Dummy Score!\n"
          ],
          "name": "stdout"
        },
        {
          "output_type": "stream",
          "text": [
            "/usr/local/lib/python3.6/dist-packages/autosklearn/evaluation/train_evaluator.py:197: RuntimeWarning: Mean of empty slice\n",
            "  Y_train_pred = np.nanmean(Y_train_pred_full, axis=0)\n",
            "/usr/local/lib/python3.6/dist-packages/autosklearn/evaluation/train_evaluator.py:197: RuntimeWarning: Mean of empty slice\n",
            "  Y_train_pred = np.nanmean(Y_train_pred_full, axis=0)\n"
          ],
          "name": "stderr"
        },
        {
          "output_type": "stream",
          "text": [
            "[WARNING] [2019-08-25 06:42:25,241:EnsembleBuilder(1):e50c21fd734717aba9baaaf5a5ed66a7] No models better than random - using Dummy Score!\n"
          ],
          "name": "stdout"
        },
        {
          "output_type": "stream",
          "text": [
            "/usr/local/lib/python3.6/dist-packages/autosklearn/evaluation/train_evaluator.py:197: RuntimeWarning: Mean of empty slice\n",
            "  Y_train_pred = np.nanmean(Y_train_pred_full, axis=0)\n"
          ],
          "name": "stderr"
        },
        {
          "output_type": "stream",
          "text": [
            "[WARNING] [2019-08-25 06:42:27,248:EnsembleBuilder(1):e50c21fd734717aba9baaaf5a5ed66a7] No models better than random - using Dummy Score!\n"
          ],
          "name": "stdout"
        },
        {
          "output_type": "stream",
          "text": [
            "/usr/local/lib/python3.6/dist-packages/autosklearn/evaluation/train_evaluator.py:197: RuntimeWarning: Mean of empty slice\n",
            "  Y_train_pred = np.nanmean(Y_train_pred_full, axis=0)\n"
          ],
          "name": "stderr"
        },
        {
          "output_type": "stream",
          "text": [
            "[WARNING] [2019-08-25 06:42:29,259:EnsembleBuilder(1):e50c21fd734717aba9baaaf5a5ed66a7] No models better than random - using Dummy Score!\n"
          ],
          "name": "stdout"
        },
        {
          "output_type": "stream",
          "text": [
            "/usr/local/lib/python3.6/dist-packages/autosklearn/evaluation/train_evaluator.py:197: RuntimeWarning: Mean of empty slice\n",
            "  Y_train_pred = np.nanmean(Y_train_pred_full, axis=0)\n"
          ],
          "name": "stderr"
        },
        {
          "output_type": "stream",
          "text": [
            "[WARNING] [2019-08-25 06:42:31,272:EnsembleBuilder(1):e50c21fd734717aba9baaaf5a5ed66a7] No models better than random - using Dummy Score!\n",
            "[WARNING] [2019-08-25 06:42:33,284:EnsembleBuilder(1):e50c21fd734717aba9baaaf5a5ed66a7] No models better than random - using Dummy Score!\n",
            "[WARNING] [2019-08-25 06:42:35,299:EnsembleBuilder(1):e50c21fd734717aba9baaaf5a5ed66a7] No models better than random - using Dummy Score!\n",
            "[WARNING] [2019-08-25 06:42:37,311:EnsembleBuilder(1):e50c21fd734717aba9baaaf5a5ed66a7] No models better than random - using Dummy Score!\n",
            "[WARNING] [2019-08-25 06:42:39,327:EnsembleBuilder(1):e50c21fd734717aba9baaaf5a5ed66a7] No models better than random - using Dummy Score!\n",
            "[WARNING] [2019-08-25 06:42:41,341:EnsembleBuilder(1):e50c21fd734717aba9baaaf5a5ed66a7] No models better than random - using Dummy Score!\n",
            "[WARNING] [2019-08-25 06:42:43,355:EnsembleBuilder(1):e50c21fd734717aba9baaaf5a5ed66a7] No models better than random - using Dummy Score!\n",
            "[WARNING] [2019-08-25 06:42:45,367:EnsembleBuilder(1):e50c21fd734717aba9baaaf5a5ed66a7] No models better than random - using Dummy Score!\n",
            "[WARNING] [2019-08-25 06:42:47,380:EnsembleBuilder(1):e50c21fd734717aba9baaaf5a5ed66a7] No models better than random - using Dummy Score!\n",
            "[WARNING] [2019-08-25 06:42:49,392:EnsembleBuilder(1):e50c21fd734717aba9baaaf5a5ed66a7] No models better than random - using Dummy Score!\n",
            "[WARNING] [2019-08-25 06:42:51,403:EnsembleBuilder(1):e50c21fd734717aba9baaaf5a5ed66a7] No models better than random - using Dummy Score!\n",
            "[WARNING] [2019-08-25 06:42:53,415:EnsembleBuilder(1):e50c21fd734717aba9baaaf5a5ed66a7] No models better than random - using Dummy Score!\n",
            "[WARNING] [2019-08-25 06:42:55,428:EnsembleBuilder(1):e50c21fd734717aba9baaaf5a5ed66a7] No models better than random - using Dummy Score!\n",
            "[WARNING] [2019-08-25 06:42:57,442:EnsembleBuilder(1):e50c21fd734717aba9baaaf5a5ed66a7] No models better than random - using Dummy Score!\n",
            "[WARNING] [2019-08-25 06:42:59,456:EnsembleBuilder(1):e50c21fd734717aba9baaaf5a5ed66a7] No models better than random - using Dummy Score!\n",
            "[WARNING] [2019-08-25 06:43:01,469:EnsembleBuilder(1):e50c21fd734717aba9baaaf5a5ed66a7] No models better than random - using Dummy Score!\n",
            "[WARNING] [2019-08-25 06:43:03,483:EnsembleBuilder(1):e50c21fd734717aba9baaaf5a5ed66a7] No models better than random - using Dummy Score!\n",
            "[WARNING] [2019-08-25 06:43:05,495:EnsembleBuilder(1):e50c21fd734717aba9baaaf5a5ed66a7] No models better than random - using Dummy Score!\n",
            "[WARNING] [2019-08-25 06:43:07,509:EnsembleBuilder(1):e50c21fd734717aba9baaaf5a5ed66a7] No models better than random - using Dummy Score!\n",
            "[WARNING] [2019-08-25 06:43:09,529:EnsembleBuilder(1):e50c21fd734717aba9baaaf5a5ed66a7] No models better than random - using Dummy Score!\n",
            "[WARNING] [2019-08-25 06:43:11,542:EnsembleBuilder(1):e50c21fd734717aba9baaaf5a5ed66a7] No models better than random - using Dummy Score!\n",
            "[WARNING] [2019-08-25 06:43:13,556:EnsembleBuilder(1):e50c21fd734717aba9baaaf5a5ed66a7] No models better than random - using Dummy Score!\n",
            "[WARNING] [2019-08-25 06:43:15,571:EnsembleBuilder(1):e50c21fd734717aba9baaaf5a5ed66a7] No models better than random - using Dummy Score!\n",
            "[WARNING] [2019-08-25 06:43:17,584:EnsembleBuilder(1):e50c21fd734717aba9baaaf5a5ed66a7] No models better than random - using Dummy Score!\n",
            "[WARNING] [2019-08-25 06:43:19,598:EnsembleBuilder(1):e50c21fd734717aba9baaaf5a5ed66a7] No models better than random - using Dummy Score!\n",
            "[WARNING] [2019-08-25 06:43:21,611:EnsembleBuilder(1):e50c21fd734717aba9baaaf5a5ed66a7] No models better than random - using Dummy Score!\n",
            "[WARNING] [2019-08-25 06:43:23,624:EnsembleBuilder(1):e50c21fd734717aba9baaaf5a5ed66a7] No models better than random - using Dummy Score!\n",
            "[WARNING] [2019-08-25 06:43:25,639:EnsembleBuilder(1):e50c21fd734717aba9baaaf5a5ed66a7] No models better than random - using Dummy Score!\n",
            "[WARNING] [2019-08-25 06:43:27,651:EnsembleBuilder(1):e50c21fd734717aba9baaaf5a5ed66a7] No models better than random - using Dummy Score!\n",
            "[WARNING] [2019-08-25 06:43:29,665:EnsembleBuilder(1):e50c21fd734717aba9baaaf5a5ed66a7] No models better than random - using Dummy Score!\n",
            "[WARNING] [2019-08-25 06:43:31,697:EnsembleBuilder(1):e50c21fd734717aba9baaaf5a5ed66a7] No models better than random - using Dummy Score!\n",
            "[WARNING] [2019-08-25 06:43:33,710:EnsembleBuilder(1):e50c21fd734717aba9baaaf5a5ed66a7] No models better than random - using Dummy Score!\n",
            "[WARNING] [2019-08-25 06:43:35,723:EnsembleBuilder(1):e50c21fd734717aba9baaaf5a5ed66a7] No models better than random - using Dummy Score!\n",
            "[WARNING] [2019-08-25 06:43:37,734:EnsembleBuilder(1):e50c21fd734717aba9baaaf5a5ed66a7] No models better than random - using Dummy Score!\n",
            "[WARNING] [2019-08-25 06:43:39,747:EnsembleBuilder(1):e50c21fd734717aba9baaaf5a5ed66a7] No models better than random - using Dummy Score!\n",
            "[WARNING] [2019-08-25 06:43:41,761:EnsembleBuilder(1):e50c21fd734717aba9baaaf5a5ed66a7] No models better than random - using Dummy Score!\n",
            "[WARNING] [2019-08-25 06:43:43,773:EnsembleBuilder(1):e50c21fd734717aba9baaaf5a5ed66a7] No models better than random - using Dummy Score!\n",
            "[WARNING] [2019-08-25 06:43:45,786:EnsembleBuilder(1):e50c21fd734717aba9baaaf5a5ed66a7] No models better than random - using Dummy Score!\n",
            "[WARNING] [2019-08-25 06:43:47,797:EnsembleBuilder(1):e50c21fd734717aba9baaaf5a5ed66a7] No models better than random - using Dummy Score!\n",
            "[WARNING] [2019-08-25 06:43:49,811:EnsembleBuilder(1):e50c21fd734717aba9baaaf5a5ed66a7] No models better than random - using Dummy Score!\n",
            "[WARNING] [2019-08-25 06:43:51,824:EnsembleBuilder(1):e50c21fd734717aba9baaaf5a5ed66a7] No models better than random - using Dummy Score!\n",
            "[WARNING] [2019-08-25 06:43:53,837:EnsembleBuilder(1):e50c21fd734717aba9baaaf5a5ed66a7] No models better than random - using Dummy Score!\n",
            "[WARNING] [2019-08-25 06:43:55,850:EnsembleBuilder(1):e50c21fd734717aba9baaaf5a5ed66a7] No models better than random - using Dummy Score!\n",
            "[WARNING] [2019-08-25 06:43:57,863:EnsembleBuilder(1):e50c21fd734717aba9baaaf5a5ed66a7] No models better than random - using Dummy Score!\n",
            "[WARNING] [2019-08-25 06:43:59,883:EnsembleBuilder(1):e50c21fd734717aba9baaaf5a5ed66a7] No models better than random - using Dummy Score!\n",
            "[WARNING] [2019-08-25 06:44:01,896:EnsembleBuilder(1):e50c21fd734717aba9baaaf5a5ed66a7] No models better than random - using Dummy Score!\n",
            "[WARNING] [2019-08-25 06:44:03,911:EnsembleBuilder(1):e50c21fd734717aba9baaaf5a5ed66a7] No models better than random - using Dummy Score!\n",
            "[WARNING] [2019-08-25 06:44:05,926:EnsembleBuilder(1):e50c21fd734717aba9baaaf5a5ed66a7] No models better than random - using Dummy Score!\n",
            "[WARNING] [2019-08-25 06:44:07,940:EnsembleBuilder(1):e50c21fd734717aba9baaaf5a5ed66a7] No models better than random - using Dummy Score!\n",
            "[WARNING] [2019-08-25 06:44:09,953:EnsembleBuilder(1):e50c21fd734717aba9baaaf5a5ed66a7] No models better than random - using Dummy Score!\n",
            "[WARNING] [2019-08-25 06:44:11,967:EnsembleBuilder(1):e50c21fd734717aba9baaaf5a5ed66a7] No models better than random - using Dummy Score!\n",
            "[WARNING] [2019-08-25 06:44:13,981:EnsembleBuilder(1):e50c21fd734717aba9baaaf5a5ed66a7] No models better than random - using Dummy Score!\n",
            "[WARNING] [2019-08-25 06:44:15,996:EnsembleBuilder(1):e50c21fd734717aba9baaaf5a5ed66a7] No models better than random - using Dummy Score!\n",
            "[WARNING] [2019-08-25 06:44:18,008:EnsembleBuilder(1):e50c21fd734717aba9baaaf5a5ed66a7] No models better than random - using Dummy Score!\n",
            "[WARNING] [2019-08-25 06:44:20,020:EnsembleBuilder(1):e50c21fd734717aba9baaaf5a5ed66a7] No models better than random - using Dummy Score!\n",
            "[WARNING] [2019-08-25 06:44:22,034:EnsembleBuilder(1):e50c21fd734717aba9baaaf5a5ed66a7] No models better than random - using Dummy Score!\n",
            "[WARNING] [2019-08-25 06:44:24,048:EnsembleBuilder(1):e50c21fd734717aba9baaaf5a5ed66a7] No models better than random - using Dummy Score!\n",
            "[WARNING] [2019-08-25 06:44:26,062:EnsembleBuilder(1):e50c21fd734717aba9baaaf5a5ed66a7] No models better than random - using Dummy Score!\n",
            "[WARNING] [2019-08-25 06:44:28,075:EnsembleBuilder(1):e50c21fd734717aba9baaaf5a5ed66a7] No models better than random - using Dummy Score!\n",
            "[WARNING] [2019-08-25 06:44:30,088:EnsembleBuilder(1):e50c21fd734717aba9baaaf5a5ed66a7] No models better than random - using Dummy Score!\n",
            "[WARNING] [2019-08-25 06:44:32,112:EnsembleBuilder(1):e50c21fd734717aba9baaaf5a5ed66a7] No models better than random - using Dummy Score!\n",
            "[WARNING] [2019-08-25 06:44:34,124:EnsembleBuilder(1):e50c21fd734717aba9baaaf5a5ed66a7] No models better than random - using Dummy Score!\n",
            "[WARNING] [2019-08-25 06:44:36,139:EnsembleBuilder(1):e50c21fd734717aba9baaaf5a5ed66a7] No models better than random - using Dummy Score!\n",
            "[WARNING] [2019-08-25 06:44:38,153:EnsembleBuilder(1):e50c21fd734717aba9baaaf5a5ed66a7] No models better than random - using Dummy Score!\n",
            "[WARNING] [2019-08-25 06:44:40,166:EnsembleBuilder(1):e50c21fd734717aba9baaaf5a5ed66a7] No models better than random - using Dummy Score!\n",
            "[WARNING] [2019-08-25 06:44:42,180:EnsembleBuilder(1):e50c21fd734717aba9baaaf5a5ed66a7] No models better than random - using Dummy Score!\n",
            "[WARNING] [2019-08-25 06:44:44,195:EnsembleBuilder(1):e50c21fd734717aba9baaaf5a5ed66a7] No models better than random - using Dummy Score!\n",
            "[WARNING] [2019-08-25 06:44:46,208:EnsembleBuilder(1):e50c21fd734717aba9baaaf5a5ed66a7] No models better than random - using Dummy Score!\n",
            "[WARNING] [2019-08-25 06:44:48,223:EnsembleBuilder(1):e50c21fd734717aba9baaaf5a5ed66a7] No models better than random - using Dummy Score!\n",
            "[WARNING] [2019-08-25 06:44:50,238:EnsembleBuilder(1):e50c21fd734717aba9baaaf5a5ed66a7] No models better than random - using Dummy Score!\n",
            "[WARNING] [2019-08-25 06:44:52,251:EnsembleBuilder(1):e50c21fd734717aba9baaaf5a5ed66a7] No models better than random - using Dummy Score!\n",
            "[WARNING] [2019-08-25 06:44:54,263:EnsembleBuilder(1):e50c21fd734717aba9baaaf5a5ed66a7] No models better than random - using Dummy Score!\n",
            "[WARNING] [2019-08-25 06:44:56,276:EnsembleBuilder(1):e50c21fd734717aba9baaaf5a5ed66a7] No models better than random - using Dummy Score!\n",
            "[WARNING] [2019-08-25 06:44:58,289:EnsembleBuilder(1):e50c21fd734717aba9baaaf5a5ed66a7] No models better than random - using Dummy Score!\n",
            "[WARNING] [2019-08-25 06:45:00,299:EnsembleBuilder(1):e50c21fd734717aba9baaaf5a5ed66a7] No models better than random - using Dummy Score!\n",
            "[WARNING] [2019-08-25 06:45:02,311:EnsembleBuilder(1):e50c21fd734717aba9baaaf5a5ed66a7] No models better than random - using Dummy Score!\n",
            "[WARNING] [2019-08-25 06:45:04,322:EnsembleBuilder(1):e50c21fd734717aba9baaaf5a5ed66a7] No models better than random - using Dummy Score!\n",
            "[WARNING] [2019-08-25 06:45:06,335:EnsembleBuilder(1):e50c21fd734717aba9baaaf5a5ed66a7] No models better than random - using Dummy Score!\n",
            "[WARNING] [2019-08-25 06:45:08,348:EnsembleBuilder(1):e50c21fd734717aba9baaaf5a5ed66a7] No models better than random - using Dummy Score!\n",
            "[WARNING] [2019-08-25 06:45:10,362:EnsembleBuilder(1):e50c21fd734717aba9baaaf5a5ed66a7] No models better than random - using Dummy Score!\n",
            "[WARNING] [2019-08-25 06:45:12,377:EnsembleBuilder(1):e50c21fd734717aba9baaaf5a5ed66a7] No models better than random - using Dummy Score!\n",
            "[WARNING] [2019-08-25 06:45:14,392:EnsembleBuilder(1):e50c21fd734717aba9baaaf5a5ed66a7] No models better than random - using Dummy Score!\n",
            "[WARNING] [2019-08-25 06:45:16,406:EnsembleBuilder(1):e50c21fd734717aba9baaaf5a5ed66a7] No models better than random - using Dummy Score!\n",
            "[WARNING] [2019-08-25 06:45:18,419:EnsembleBuilder(1):e50c21fd734717aba9baaaf5a5ed66a7] No models better than random - using Dummy Score!\n",
            "[WARNING] [2019-08-25 06:45:20,431:EnsembleBuilder(1):e50c21fd734717aba9baaaf5a5ed66a7] No models better than random - using Dummy Score!\n",
            "[WARNING] [2019-08-25 06:45:22,450:EnsembleBuilder(1):e50c21fd734717aba9baaaf5a5ed66a7] No models better than random - using Dummy Score!\n",
            "[WARNING] [2019-08-25 06:45:24,464:EnsembleBuilder(1):e50c21fd734717aba9baaaf5a5ed66a7] No models better than random - using Dummy Score!\n",
            "[WARNING] [2019-08-25 06:45:26,477:EnsembleBuilder(1):e50c21fd734717aba9baaaf5a5ed66a7] No models better than random - using Dummy Score!\n",
            "[WARNING] [2019-08-25 06:45:28,492:EnsembleBuilder(1):e50c21fd734717aba9baaaf5a5ed66a7] No models better than random - using Dummy Score!\n",
            "[WARNING] [2019-08-25 06:45:30,506:EnsembleBuilder(1):e50c21fd734717aba9baaaf5a5ed66a7] No models better than random - using Dummy Score!\n",
            "[WARNING] [2019-08-25 06:45:32,521:EnsembleBuilder(1):e50c21fd734717aba9baaaf5a5ed66a7] No models better than random - using Dummy Score!\n",
            "[WARNING] [2019-08-25 06:45:34,534:EnsembleBuilder(1):e50c21fd734717aba9baaaf5a5ed66a7] No models better than random - using Dummy Score!\n",
            "[WARNING] [2019-08-25 06:45:36,549:EnsembleBuilder(1):e50c21fd734717aba9baaaf5a5ed66a7] No models better than random - using Dummy Score!\n",
            "[WARNING] [2019-08-25 06:45:38,562:EnsembleBuilder(1):e50c21fd734717aba9baaaf5a5ed66a7] No models better than random - using Dummy Score!\n",
            "[WARNING] [2019-08-25 06:45:40,576:EnsembleBuilder(1):e50c21fd734717aba9baaaf5a5ed66a7] No models better than random - using Dummy Score!\n",
            "[WARNING] [2019-08-25 06:45:42,590:EnsembleBuilder(1):e50c21fd734717aba9baaaf5a5ed66a7] No models better than random - using Dummy Score!\n",
            "[WARNING] [2019-08-25 06:45:44,603:EnsembleBuilder(1):e50c21fd734717aba9baaaf5a5ed66a7] No models better than random - using Dummy Score!\n",
            "[WARNING] [2019-08-25 06:45:46,616:EnsembleBuilder(1):e50c21fd734717aba9baaaf5a5ed66a7] No models better than random - using Dummy Score!\n",
            "[WARNING] [2019-08-25 06:45:48,628:EnsembleBuilder(1):e50c21fd734717aba9baaaf5a5ed66a7] No models better than random - using Dummy Score!\n",
            "[WARNING] [2019-08-25 06:45:50,641:EnsembleBuilder(1):e50c21fd734717aba9baaaf5a5ed66a7] No models better than random - using Dummy Score!\n",
            "[WARNING] [2019-08-25 06:45:52,653:EnsembleBuilder(1):e50c21fd734717aba9baaaf5a5ed66a7] No models better than random - using Dummy Score!\n",
            "[WARNING] [2019-08-25 06:45:54,666:EnsembleBuilder(1):e50c21fd734717aba9baaaf5a5ed66a7] No models better than random - using Dummy Score!\n",
            "[WARNING] [2019-08-25 06:45:56,679:EnsembleBuilder(1):e50c21fd734717aba9baaaf5a5ed66a7] No models better than random - using Dummy Score!\n",
            "[WARNING] [2019-08-25 06:45:58,693:EnsembleBuilder(1):e50c21fd734717aba9baaaf5a5ed66a7] No models better than random - using Dummy Score!\n",
            "[WARNING] [2019-08-25 06:46:00,706:EnsembleBuilder(1):e50c21fd734717aba9baaaf5a5ed66a7] No models better than random - using Dummy Score!\n",
            "[WARNING] [2019-08-25 06:46:02,722:EnsembleBuilder(1):e50c21fd734717aba9baaaf5a5ed66a7] No models better than random - using Dummy Score!\n",
            "[WARNING] [2019-08-25 06:46:04,734:EnsembleBuilder(1):e50c21fd734717aba9baaaf5a5ed66a7] No models better than random - using Dummy Score!\n",
            "[WARNING] [2019-08-25 06:46:06,748:EnsembleBuilder(1):e50c21fd734717aba9baaaf5a5ed66a7] No models better than random - using Dummy Score!\n",
            "[WARNING] [2019-08-25 06:46:08,759:EnsembleBuilder(1):e50c21fd734717aba9baaaf5a5ed66a7] No models better than random - using Dummy Score!\n",
            "[WARNING] [2019-08-25 06:46:10,773:EnsembleBuilder(1):e50c21fd734717aba9baaaf5a5ed66a7] No models better than random - using Dummy Score!\n",
            "[WARNING] [2019-08-25 06:46:12,786:EnsembleBuilder(1):e50c21fd734717aba9baaaf5a5ed66a7] No models better than random - using Dummy Score!\n",
            "[WARNING] [2019-08-25 06:46:14,797:EnsembleBuilder(1):e50c21fd734717aba9baaaf5a5ed66a7] No models better than random - using Dummy Score!\n",
            "[WARNING] [2019-08-25 06:46:16,809:EnsembleBuilder(1):e50c21fd734717aba9baaaf5a5ed66a7] No models better than random - using Dummy Score!\n",
            "[WARNING] [2019-08-25 06:46:18,821:EnsembleBuilder(1):e50c21fd734717aba9baaaf5a5ed66a7] No models better than random - using Dummy Score!\n",
            "[WARNING] [2019-08-25 06:46:20,840:EnsembleBuilder(1):e50c21fd734717aba9baaaf5a5ed66a7] No models better than random - using Dummy Score!\n",
            "[WARNING] [2019-08-25 06:46:22,854:EnsembleBuilder(1):e50c21fd734717aba9baaaf5a5ed66a7] No models better than random - using Dummy Score!\n",
            "[WARNING] [2019-08-25 06:46:24,866:EnsembleBuilder(1):e50c21fd734717aba9baaaf5a5ed66a7] No models better than random - using Dummy Score!\n",
            "[WARNING] [2019-08-25 06:46:26,877:EnsembleBuilder(1):e50c21fd734717aba9baaaf5a5ed66a7] No models better than random - using Dummy Score!\n",
            "[WARNING] [2019-08-25 06:46:28,890:EnsembleBuilder(1):e50c21fd734717aba9baaaf5a5ed66a7] No models better than random - using Dummy Score!\n",
            "[WARNING] [2019-08-25 06:46:30,901:EnsembleBuilder(1):e50c21fd734717aba9baaaf5a5ed66a7] No models better than random - using Dummy Score!\n",
            "[WARNING] [2019-08-25 06:46:32,913:EnsembleBuilder(1):e50c21fd734717aba9baaaf5a5ed66a7] No models better than random - using Dummy Score!\n",
            "[WARNING] [2019-08-25 06:46:34,924:EnsembleBuilder(1):e50c21fd734717aba9baaaf5a5ed66a7] No models better than random - using Dummy Score!\n",
            "[WARNING] [2019-08-25 06:46:36,939:EnsembleBuilder(1):e50c21fd734717aba9baaaf5a5ed66a7] No models better than random - using Dummy Score!\n",
            "[WARNING] [2019-08-25 06:46:38,953:EnsembleBuilder(1):e50c21fd734717aba9baaaf5a5ed66a7] No models better than random - using Dummy Score!\n",
            "[WARNING] [2019-08-25 06:46:40,967:EnsembleBuilder(1):e50c21fd734717aba9baaaf5a5ed66a7] No models better than random - using Dummy Score!\n",
            "[WARNING] [2019-08-25 06:46:42,979:EnsembleBuilder(1):e50c21fd734717aba9baaaf5a5ed66a7] No models better than random - using Dummy Score!\n",
            "[WARNING] [2019-08-25 06:46:45,000:EnsembleBuilder(1):e50c21fd734717aba9baaaf5a5ed66a7] No models better than random - using Dummy Score!\n",
            "[WARNING] [2019-08-25 06:46:47,015:EnsembleBuilder(1):e50c21fd734717aba9baaaf5a5ed66a7] No models better than random - using Dummy Score!\n",
            "[WARNING] [2019-08-25 06:46:49,029:EnsembleBuilder(1):e50c21fd734717aba9baaaf5a5ed66a7] No models better than random - using Dummy Score!\n",
            "[WARNING] [2019-08-25 06:46:51,044:EnsembleBuilder(1):e50c21fd734717aba9baaaf5a5ed66a7] No models better than random - using Dummy Score!\n",
            "[WARNING] [2019-08-25 06:46:53,058:EnsembleBuilder(1):e50c21fd734717aba9baaaf5a5ed66a7] No models better than random - using Dummy Score!\n",
            "[WARNING] [2019-08-25 06:46:55,069:EnsembleBuilder(1):e50c21fd734717aba9baaaf5a5ed66a7] No models better than random - using Dummy Score!\n",
            "[WARNING] [2019-08-25 06:46:57,083:EnsembleBuilder(1):e50c21fd734717aba9baaaf5a5ed66a7] No models better than random - using Dummy Score!\n",
            "[WARNING] [2019-08-25 06:46:59,097:EnsembleBuilder(1):e50c21fd734717aba9baaaf5a5ed66a7] No models better than random - using Dummy Score!\n",
            "[WARNING] [2019-08-25 06:47:01,110:EnsembleBuilder(1):e50c21fd734717aba9baaaf5a5ed66a7] No models better than random - using Dummy Score!\n",
            "[WARNING] [2019-08-25 06:47:03,123:EnsembleBuilder(1):e50c21fd734717aba9baaaf5a5ed66a7] No models better than random - using Dummy Score!\n",
            "[WARNING] [2019-08-25 06:47:05,134:EnsembleBuilder(1):e50c21fd734717aba9baaaf5a5ed66a7] No models better than random - using Dummy Score!\n",
            "[WARNING] [2019-08-25 06:47:07,146:EnsembleBuilder(1):e50c21fd734717aba9baaaf5a5ed66a7] No models better than random - using Dummy Score!\n",
            "[WARNING] [2019-08-25 06:47:09,157:EnsembleBuilder(1):e50c21fd734717aba9baaaf5a5ed66a7] No models better than random - using Dummy Score!\n",
            "[WARNING] [2019-08-25 06:47:11,176:EnsembleBuilder(1):e50c21fd734717aba9baaaf5a5ed66a7] No models better than random - using Dummy Score!\n",
            "[WARNING] [2019-08-25 06:47:13,188:EnsembleBuilder(1):e50c21fd734717aba9baaaf5a5ed66a7] No models better than random - using Dummy Score!\n",
            "[WARNING] [2019-08-25 06:47:15,203:EnsembleBuilder(1):e50c21fd734717aba9baaaf5a5ed66a7] No models better than random - using Dummy Score!\n",
            "[WARNING] [2019-08-25 06:47:17,216:EnsembleBuilder(1):e50c21fd734717aba9baaaf5a5ed66a7] No models better than random - using Dummy Score!\n",
            "[WARNING] [2019-08-25 06:47:19,226:EnsembleBuilder(1):e50c21fd734717aba9baaaf5a5ed66a7] No models better than random - using Dummy Score!\n",
            "[WARNING] [2019-08-25 06:47:21,237:EnsembleBuilder(1):e50c21fd734717aba9baaaf5a5ed66a7] No models better than random - using Dummy Score!\n",
            "[WARNING] [2019-08-25 06:47:23,251:EnsembleBuilder(1):e50c21fd734717aba9baaaf5a5ed66a7] No models better than random - using Dummy Score!\n",
            "[WARNING] [2019-08-25 06:47:25,265:EnsembleBuilder(1):e50c21fd734717aba9baaaf5a5ed66a7] No models better than random - using Dummy Score!\n",
            "[WARNING] [2019-08-25 06:47:27,276:EnsembleBuilder(1):e50c21fd734717aba9baaaf5a5ed66a7] No models better than random - using Dummy Score!\n",
            "[WARNING] [2019-08-25 06:47:29,288:EnsembleBuilder(1):e50c21fd734717aba9baaaf5a5ed66a7] No models better than random - using Dummy Score!\n",
            "[WARNING] [2019-08-25 06:47:31,300:EnsembleBuilder(1):e50c21fd734717aba9baaaf5a5ed66a7] No models better than random - using Dummy Score!\n",
            "[WARNING] [2019-08-25 06:47:33,313:EnsembleBuilder(1):e50c21fd734717aba9baaaf5a5ed66a7] No models better than random - using Dummy Score!\n",
            "[WARNING] [2019-08-25 06:47:35,326:EnsembleBuilder(1):e50c21fd734717aba9baaaf5a5ed66a7] No models better than random - using Dummy Score!\n",
            "[WARNING] [2019-08-25 06:47:37,341:EnsembleBuilder(1):e50c21fd734717aba9baaaf5a5ed66a7] No models better than random - using Dummy Score!\n",
            "[WARNING] [2019-08-25 06:47:39,353:EnsembleBuilder(1):e50c21fd734717aba9baaaf5a5ed66a7] No models better than random - using Dummy Score!\n",
            "[WARNING] [2019-08-25 06:47:41,365:EnsembleBuilder(1):e50c21fd734717aba9baaaf5a5ed66a7] No models better than random - using Dummy Score!\n",
            "[WARNING] [2019-08-25 06:47:43,376:EnsembleBuilder(1):e50c21fd734717aba9baaaf5a5ed66a7] No models better than random - using Dummy Score!\n",
            "[WARNING] [2019-08-25 06:47:45,386:EnsembleBuilder(1):e50c21fd734717aba9baaaf5a5ed66a7] No models better than random - using Dummy Score!\n",
            "[WARNING] [2019-08-25 06:47:47,397:EnsembleBuilder(1):e50c21fd734717aba9baaaf5a5ed66a7] No models better than random - using Dummy Score!\n",
            "[WARNING] [2019-08-25 06:47:49,409:EnsembleBuilder(1):e50c21fd734717aba9baaaf5a5ed66a7] No models better than random - using Dummy Score!\n",
            "[WARNING] [2019-08-25 06:47:51,423:EnsembleBuilder(1):e50c21fd734717aba9baaaf5a5ed66a7] No models better than random - using Dummy Score!\n",
            "[WARNING] [2019-08-25 06:47:53,436:EnsembleBuilder(1):e50c21fd734717aba9baaaf5a5ed66a7] No models better than random - using Dummy Score!\n",
            "[WARNING] [2019-08-25 06:47:55,454:EnsembleBuilder(1):e50c21fd734717aba9baaaf5a5ed66a7] No models better than random - using Dummy Score!\n",
            "[WARNING] [2019-08-25 06:47:57,466:EnsembleBuilder(1):e50c21fd734717aba9baaaf5a5ed66a7] No models better than random - using Dummy Score!\n",
            "[WARNING] [2019-08-25 06:47:59,478:EnsembleBuilder(1):e50c21fd734717aba9baaaf5a5ed66a7] No models better than random - using Dummy Score!\n",
            "[WARNING] [2019-08-25 06:48:01,493:EnsembleBuilder(1):e50c21fd734717aba9baaaf5a5ed66a7] No models better than random - using Dummy Score!\n",
            "[WARNING] [2019-08-25 06:48:03,503:EnsembleBuilder(1):e50c21fd734717aba9baaaf5a5ed66a7] No models better than random - using Dummy Score!\n",
            "[WARNING] [2019-08-25 06:48:05,515:EnsembleBuilder(1):e50c21fd734717aba9baaaf5a5ed66a7] No models better than random - using Dummy Score!\n",
            "[WARNING] [2019-08-25 06:48:07,526:EnsembleBuilder(1):e50c21fd734717aba9baaaf5a5ed66a7] No models better than random - using Dummy Score!\n",
            "[WARNING] [2019-08-25 06:48:09,537:EnsembleBuilder(1):e50c21fd734717aba9baaaf5a5ed66a7] No models better than random - using Dummy Score!\n",
            "[WARNING] [2019-08-25 06:48:11,549:EnsembleBuilder(1):e50c21fd734717aba9baaaf5a5ed66a7] No models better than random - using Dummy Score!\n",
            "[WARNING] [2019-08-25 06:48:13,560:EnsembleBuilder(1):e50c21fd734717aba9baaaf5a5ed66a7] No models better than random - using Dummy Score!\n",
            "[WARNING] [2019-08-25 06:48:15,572:EnsembleBuilder(1):e50c21fd734717aba9baaaf5a5ed66a7] No models better than random - using Dummy Score!\n",
            "[WARNING] [2019-08-25 06:48:17,582:EnsembleBuilder(1):e50c21fd734717aba9baaaf5a5ed66a7] No models better than random - using Dummy Score!\n",
            "[WARNING] [2019-08-25 06:48:19,594:EnsembleBuilder(1):e50c21fd734717aba9baaaf5a5ed66a7] No models better than random - using Dummy Score!\n",
            "[WARNING] [2019-08-25 06:48:21,606:EnsembleBuilder(1):e50c21fd734717aba9baaaf5a5ed66a7] No models better than random - using Dummy Score!\n",
            "[WARNING] [2019-08-25 06:48:23,618:EnsembleBuilder(1):e50c21fd734717aba9baaaf5a5ed66a7] No models better than random - using Dummy Score!\n",
            "[WARNING] [2019-08-25 06:48:25,630:EnsembleBuilder(1):e50c21fd734717aba9baaaf5a5ed66a7] No models better than random - using Dummy Score!\n",
            "[WARNING] [2019-08-25 06:48:27,641:EnsembleBuilder(1):e50c21fd734717aba9baaaf5a5ed66a7] No models better than random - using Dummy Score!\n",
            "[WARNING] [2019-08-25 06:48:29,653:EnsembleBuilder(1):e50c21fd734717aba9baaaf5a5ed66a7] No models better than random - using Dummy Score!\n",
            "[WARNING] [2019-08-25 06:48:31,665:EnsembleBuilder(1):e50c21fd734717aba9baaaf5a5ed66a7] No models better than random - using Dummy Score!\n",
            "[WARNING] [2019-08-25 06:48:33,669:EnsembleBuilder(1):e50c21fd734717aba9baaaf5a5ed66a7] No models better than random - using Dummy Score!\n"
          ],
          "name": "stdout"
        },
        {
          "output_type": "stream",
          "text": [
            "/usr/local/lib/python3.6/dist-packages/autosklearn/evaluation/train_evaluator.py:197: RuntimeWarning: Mean of empty slice\n",
            "  Y_train_pred = np.nanmean(Y_train_pred_full, axis=0)\n",
            "/usr/local/lib/python3.6/dist-packages/autosklearn/evaluation/train_evaluator.py:197: RuntimeWarning: Mean of empty slice\n",
            "  Y_train_pred = np.nanmean(Y_train_pred_full, axis=0)\n"
          ],
          "name": "stderr"
        },
        {
          "output_type": "stream",
          "text": [
            "[WARNING] [2019-08-25 06:48:35,681:EnsembleBuilder(1):e50c21fd734717aba9baaaf5a5ed66a7] No models better than random - using Dummy Score!\n"
          ],
          "name": "stdout"
        },
        {
          "output_type": "stream",
          "text": [
            "/usr/local/lib/python3.6/dist-packages/autosklearn/evaluation/train_evaluator.py:197: RuntimeWarning: Mean of empty slice\n",
            "  Y_train_pred = np.nanmean(Y_train_pred_full, axis=0)\n"
          ],
          "name": "stderr"
        },
        {
          "output_type": "stream",
          "text": [
            "[WARNING] [2019-08-25 06:48:37,694:EnsembleBuilder(1):e50c21fd734717aba9baaaf5a5ed66a7] No models better than random - using Dummy Score!\n",
            "[WARNING] [2019-08-25 06:48:39,698:EnsembleBuilder(1):e50c21fd734717aba9baaaf5a5ed66a7] No models better than random - using Dummy Score!\n",
            "[WARNING] [2019-08-25 06:48:41,710:EnsembleBuilder(1):e50c21fd734717aba9baaaf5a5ed66a7] No models better than random - using Dummy Score!\n"
          ],
          "name": "stdout"
        },
        {
          "output_type": "stream",
          "text": [
            "/usr/local/lib/python3.6/dist-packages/autosklearn/evaluation/train_evaluator.py:197: RuntimeWarning: Mean of empty slice\n",
            "  Y_train_pred = np.nanmean(Y_train_pred_full, axis=0)\n"
          ],
          "name": "stderr"
        },
        {
          "output_type": "stream",
          "text": [
            "[WARNING] [2019-08-25 06:48:43,721:EnsembleBuilder(1):e50c21fd734717aba9baaaf5a5ed66a7] No models better than random - using Dummy Score!\n",
            "[WARNING] [2019-08-25 06:48:45,728:EnsembleBuilder(1):e50c21fd734717aba9baaaf5a5ed66a7] No models better than random - using Dummy Score!\n",
            "[WARNING] [2019-08-25 06:48:47,735:EnsembleBuilder(1):e50c21fd734717aba9baaaf5a5ed66a7] No models better than random - using Dummy Score!\n",
            "[WARNING] [2019-08-25 06:48:49,747:EnsembleBuilder(1):e50c21fd734717aba9baaaf5a5ed66a7] No models better than random - using Dummy Score!\n",
            "[WARNING] [2019-08-25 06:48:51,758:EnsembleBuilder(1):e50c21fd734717aba9baaaf5a5ed66a7] No models better than random - using Dummy Score!\n",
            "[WARNING] [2019-08-25 06:48:53,769:EnsembleBuilder(1):e50c21fd734717aba9baaaf5a5ed66a7] No models better than random - using Dummy Score!\n",
            "[WARNING] [2019-08-25 06:48:55,784:EnsembleBuilder(1):e50c21fd734717aba9baaaf5a5ed66a7] No models better than random - using Dummy Score!\n",
            "[WARNING] [2019-08-25 06:48:57,795:EnsembleBuilder(1):e50c21fd734717aba9baaaf5a5ed66a7] No models better than random - using Dummy Score!\n",
            "[WARNING] [2019-08-25 06:48:59,807:EnsembleBuilder(1):e50c21fd734717aba9baaaf5a5ed66a7] No models better than random - using Dummy Score!\n",
            "[WARNING] [2019-08-25 06:49:01,820:EnsembleBuilder(1):e50c21fd734717aba9baaaf5a5ed66a7] No models better than random - using Dummy Score!\n",
            "[WARNING] [2019-08-25 06:49:03,833:EnsembleBuilder(1):e50c21fd734717aba9baaaf5a5ed66a7] No models better than random - using Dummy Score!\n",
            "[WARNING] [2019-08-25 06:49:05,849:EnsembleBuilder(1):e50c21fd734717aba9baaaf5a5ed66a7] No models better than random - using Dummy Score!\n",
            "[WARNING] [2019-08-25 06:49:07,863:EnsembleBuilder(1):e50c21fd734717aba9baaaf5a5ed66a7] No models better than random - using Dummy Score!\n",
            "[WARNING] [2019-08-25 06:49:09,876:EnsembleBuilder(1):e50c21fd734717aba9baaaf5a5ed66a7] No models better than random - using Dummy Score!\n",
            "[WARNING] [2019-08-25 06:49:11,890:EnsembleBuilder(1):e50c21fd734717aba9baaaf5a5ed66a7] No models better than random - using Dummy Score!\n",
            "[WARNING] [2019-08-25 06:49:13,903:EnsembleBuilder(1):e50c21fd734717aba9baaaf5a5ed66a7] No models better than random - using Dummy Score!\n",
            "[WARNING] [2019-08-25 06:49:15,913:EnsembleBuilder(1):e50c21fd734717aba9baaaf5a5ed66a7] No models better than random - using Dummy Score!\n",
            "[WARNING] [2019-08-25 06:49:17,924:EnsembleBuilder(1):e50c21fd734717aba9baaaf5a5ed66a7] No models better than random - using Dummy Score!\n",
            "[WARNING] [2019-08-25 06:49:19,939:EnsembleBuilder(1):e50c21fd734717aba9baaaf5a5ed66a7] No models better than random - using Dummy Score!\n",
            "[WARNING] [2019-08-25 06:49:21,950:EnsembleBuilder(1):e50c21fd734717aba9baaaf5a5ed66a7] No models better than random - using Dummy Score!\n",
            "[WARNING] [2019-08-25 06:49:23,962:EnsembleBuilder(1):e50c21fd734717aba9baaaf5a5ed66a7] No models better than random - using Dummy Score!\n",
            "[WARNING] [2019-08-25 06:49:25,975:EnsembleBuilder(1):e50c21fd734717aba9baaaf5a5ed66a7] No models better than random - using Dummy Score!\n",
            "[WARNING] [2019-08-25 06:49:27,988:EnsembleBuilder(1):e50c21fd734717aba9baaaf5a5ed66a7] No models better than random - using Dummy Score!\n",
            "[WARNING] [2019-08-25 06:49:30,002:EnsembleBuilder(1):e50c21fd734717aba9baaaf5a5ed66a7] No models better than random - using Dummy Score!\n",
            "[WARNING] [2019-08-25 06:49:32,017:EnsembleBuilder(1):e50c21fd734717aba9baaaf5a5ed66a7] No models better than random - using Dummy Score!\n",
            "[WARNING] [2019-08-25 06:49:34,030:EnsembleBuilder(1):e50c21fd734717aba9baaaf5a5ed66a7] No models better than random - using Dummy Score!\n",
            "[WARNING] [2019-08-25 06:49:36,047:EnsembleBuilder(1):e50c21fd734717aba9baaaf5a5ed66a7] No models better than random - using Dummy Score!\n",
            "[WARNING] [2019-08-25 06:49:38,061:EnsembleBuilder(1):e50c21fd734717aba9baaaf5a5ed66a7] No models better than random - using Dummy Score!\n",
            "[WARNING] [2019-08-25 06:49:40,079:EnsembleBuilder(1):e50c21fd734717aba9baaaf5a5ed66a7] No models better than random - using Dummy Score!\n",
            "[WARNING] [2019-08-25 06:49:42,092:EnsembleBuilder(1):e50c21fd734717aba9baaaf5a5ed66a7] No models better than random - using Dummy Score!\n",
            "[WARNING] [2019-08-25 06:49:44,109:EnsembleBuilder(1):e50c21fd734717aba9baaaf5a5ed66a7] No models better than random - using Dummy Score!\n",
            "[WARNING] [2019-08-25 06:49:46,125:EnsembleBuilder(1):e50c21fd734717aba9baaaf5a5ed66a7] No models better than random - using Dummy Score!\n",
            "[WARNING] [2019-08-25 06:49:48,142:EnsembleBuilder(1):e50c21fd734717aba9baaaf5a5ed66a7] No models better than random - using Dummy Score!\n",
            "[WARNING] [2019-08-25 06:49:50,159:EnsembleBuilder(1):e50c21fd734717aba9baaaf5a5ed66a7] No models better than random - using Dummy Score!\n",
            "[WARNING] [2019-08-25 06:49:52,174:EnsembleBuilder(1):e50c21fd734717aba9baaaf5a5ed66a7] No models better than random - using Dummy Score!\n",
            "[WARNING] [2019-08-25 06:49:54,190:EnsembleBuilder(1):e50c21fd734717aba9baaaf5a5ed66a7] No models better than random - using Dummy Score!\n",
            "[WARNING] [2019-08-25 06:49:56,212:EnsembleBuilder(1):e50c21fd734717aba9baaaf5a5ed66a7] No models better than random - using Dummy Score!\n",
            "[WARNING] [2019-08-25 06:49:58,228:EnsembleBuilder(1):e50c21fd734717aba9baaaf5a5ed66a7] No models better than random - using Dummy Score!\n",
            "[WARNING] [2019-08-25 06:50:00,241:EnsembleBuilder(1):e50c21fd734717aba9baaaf5a5ed66a7] No models better than random - using Dummy Score!\n",
            "[WARNING] [2019-08-25 06:50:02,254:EnsembleBuilder(1):e50c21fd734717aba9baaaf5a5ed66a7] No models better than random - using Dummy Score!\n",
            "[WARNING] [2019-08-25 06:50:04,269:EnsembleBuilder(1):e50c21fd734717aba9baaaf5a5ed66a7] No models better than random - using Dummy Score!\n",
            "[WARNING] [2019-08-25 06:50:06,289:EnsembleBuilder(1):e50c21fd734717aba9baaaf5a5ed66a7] No models better than random - using Dummy Score!\n",
            "[WARNING] [2019-08-25 06:50:08,303:EnsembleBuilder(1):e50c21fd734717aba9baaaf5a5ed66a7] No models better than random - using Dummy Score!\n",
            "[WARNING] [2019-08-25 06:50:10,315:EnsembleBuilder(1):e50c21fd734717aba9baaaf5a5ed66a7] No models better than random - using Dummy Score!\n",
            "[WARNING] [2019-08-25 06:50:12,329:EnsembleBuilder(1):e50c21fd734717aba9baaaf5a5ed66a7] No models better than random - using Dummy Score!\n",
            "[WARNING] [2019-08-25 06:50:14,341:EnsembleBuilder(1):e50c21fd734717aba9baaaf5a5ed66a7] No models better than random - using Dummy Score!\n",
            "[WARNING] [2019-08-25 06:50:16,355:EnsembleBuilder(1):e50c21fd734717aba9baaaf5a5ed66a7] No models better than random - using Dummy Score!\n",
            "[WARNING] [2019-08-25 06:50:18,368:EnsembleBuilder(1):e50c21fd734717aba9baaaf5a5ed66a7] No models better than random - using Dummy Score!\n",
            "[WARNING] [2019-08-25 06:50:20,382:EnsembleBuilder(1):e50c21fd734717aba9baaaf5a5ed66a7] No models better than random - using Dummy Score!\n",
            "[WARNING] [2019-08-25 06:50:22,400:EnsembleBuilder(1):e50c21fd734717aba9baaaf5a5ed66a7] No models better than random - using Dummy Score!\n",
            "[WARNING] [2019-08-25 06:50:24,414:EnsembleBuilder(1):e50c21fd734717aba9baaaf5a5ed66a7] No models better than random - using Dummy Score!\n",
            "[WARNING] [2019-08-25 06:50:26,428:EnsembleBuilder(1):e50c21fd734717aba9baaaf5a5ed66a7] No models better than random - using Dummy Score!\n",
            "[WARNING] [2019-08-25 06:50:28,440:EnsembleBuilder(1):e50c21fd734717aba9baaaf5a5ed66a7] No models better than random - using Dummy Score!\n",
            "[WARNING] [2019-08-25 06:50:30,455:EnsembleBuilder(1):e50c21fd734717aba9baaaf5a5ed66a7] No models better than random - using Dummy Score!\n",
            "[WARNING] [2019-08-25 06:50:32,463:EnsembleBuilder(1):e50c21fd734717aba9baaaf5a5ed66a7] No models better than random - using Dummy Score!\n",
            "[WARNING] [2019-08-25 06:50:34,477:EnsembleBuilder(1):e50c21fd734717aba9baaaf5a5ed66a7] No models better than random - using Dummy Score!\n"
          ],
          "name": "stdout"
        },
        {
          "output_type": "stream",
          "text": [
            "/usr/local/lib/python3.6/dist-packages/autosklearn/evaluation/train_evaluator.py:197: RuntimeWarning: Mean of empty slice\n",
            "  Y_train_pred = np.nanmean(Y_train_pred_full, axis=0)\n"
          ],
          "name": "stderr"
        },
        {
          "output_type": "stream",
          "text": [
            "[WARNING] [2019-08-25 06:50:36,496:EnsembleBuilder(1):e50c21fd734717aba9baaaf5a5ed66a7] No models better than random - using Dummy Score!\n"
          ],
          "name": "stdout"
        },
        {
          "output_type": "stream",
          "text": [
            "/usr/local/lib/python3.6/dist-packages/autosklearn/evaluation/train_evaluator.py:197: RuntimeWarning: Mean of empty slice\n",
            "  Y_train_pred = np.nanmean(Y_train_pred_full, axis=0)\n"
          ],
          "name": "stderr"
        },
        {
          "output_type": "stream",
          "text": [
            "[WARNING] [2019-08-25 06:50:38,502:EnsembleBuilder(1):e50c21fd734717aba9baaaf5a5ed66a7] No models better than random - using Dummy Score!\n"
          ],
          "name": "stdout"
        },
        {
          "output_type": "stream",
          "text": [
            "/usr/local/lib/python3.6/dist-packages/autosklearn/evaluation/train_evaluator.py:197: RuntimeWarning: Mean of empty slice\n",
            "  Y_train_pred = np.nanmean(Y_train_pred_full, axis=0)\n"
          ],
          "name": "stderr"
        },
        {
          "output_type": "stream",
          "text": [
            "[WARNING] [2019-08-25 06:50:40,515:EnsembleBuilder(1):e50c21fd734717aba9baaaf5a5ed66a7] No models better than random - using Dummy Score!\n"
          ],
          "name": "stdout"
        },
        {
          "output_type": "stream",
          "text": [
            "/usr/local/lib/python3.6/dist-packages/autosklearn/evaluation/train_evaluator.py:197: RuntimeWarning: Mean of empty slice\n",
            "  Y_train_pred = np.nanmean(Y_train_pred_full, axis=0)\n"
          ],
          "name": "stderr"
        },
        {
          "output_type": "stream",
          "text": [
            "[WARNING] [2019-08-25 06:50:42,528:EnsembleBuilder(1):e50c21fd734717aba9baaaf5a5ed66a7] No models better than random - using Dummy Score!\n",
            "[WARNING] [2019-08-25 06:50:44,534:EnsembleBuilder(1):e50c21fd734717aba9baaaf5a5ed66a7] No models better than random - using Dummy Score!\n"
          ],
          "name": "stdout"
        },
        {
          "output_type": "stream",
          "text": [
            "/usr/local/lib/python3.6/dist-packages/autosklearn/evaluation/train_evaluator.py:197: RuntimeWarning: Mean of empty slice\n",
            "  Y_train_pred = np.nanmean(Y_train_pred_full, axis=0)\n"
          ],
          "name": "stderr"
        },
        {
          "output_type": "stream",
          "text": [
            "[WARNING] [2019-08-25 06:50:46,547:EnsembleBuilder(1):e50c21fd734717aba9baaaf5a5ed66a7] No models better than random - using Dummy Score!\n"
          ],
          "name": "stdout"
        },
        {
          "output_type": "stream",
          "text": [
            "/usr/local/lib/python3.6/dist-packages/autosklearn/evaluation/train_evaluator.py:197: RuntimeWarning: Mean of empty slice\n",
            "  Y_train_pred = np.nanmean(Y_train_pred_full, axis=0)\n"
          ],
          "name": "stderr"
        },
        {
          "output_type": "stream",
          "text": [
            "[WARNING] [2019-08-25 06:50:48,559:EnsembleBuilder(1):e50c21fd734717aba9baaaf5a5ed66a7] No models better than random - using Dummy Score!\n"
          ],
          "name": "stdout"
        },
        {
          "output_type": "stream",
          "text": [
            "/usr/local/lib/python3.6/dist-packages/autosklearn/evaluation/train_evaluator.py:197: RuntimeWarning: Mean of empty slice\n",
            "  Y_train_pred = np.nanmean(Y_train_pred_full, axis=0)\n"
          ],
          "name": "stderr"
        },
        {
          "output_type": "stream",
          "text": [
            "[WARNING] [2019-08-25 06:50:50,573:EnsembleBuilder(1):e50c21fd734717aba9baaaf5a5ed66a7] No models better than random - using Dummy Score!\n",
            "[WARNING] [2019-08-25 06:50:52,579:EnsembleBuilder(1):e50c21fd734717aba9baaaf5a5ed66a7] No models better than random - using Dummy Score!\n",
            "[WARNING] [2019-08-25 06:50:54,590:EnsembleBuilder(1):e50c21fd734717aba9baaaf5a5ed66a7] No models better than random - using Dummy Score!\n",
            "[WARNING] [2019-08-25 06:50:56,601:EnsembleBuilder(1):e50c21fd734717aba9baaaf5a5ed66a7] No models better than random - using Dummy Score!\n"
          ],
          "name": "stdout"
        },
        {
          "output_type": "stream",
          "text": [
            "/usr/local/lib/python3.6/dist-packages/autosklearn/evaluation/train_evaluator.py:197: RuntimeWarning: Mean of empty slice\n",
            "  Y_train_pred = np.nanmean(Y_train_pred_full, axis=0)\n"
          ],
          "name": "stderr"
        },
        {
          "output_type": "stream",
          "text": [
            "[WARNING] [2019-08-25 06:50:58,617:EnsembleBuilder(1):e50c21fd734717aba9baaaf5a5ed66a7] No models better than random - using Dummy Score!\n",
            "[WARNING] [2019-08-25 06:51:00,622:EnsembleBuilder(1):e50c21fd734717aba9baaaf5a5ed66a7] No models better than random - using Dummy Score!\n",
            "[WARNING] [2019-08-25 06:51:02,627:EnsembleBuilder(1):e50c21fd734717aba9baaaf5a5ed66a7] No models better than random - using Dummy Score!\n",
            "[WARNING] [2019-08-25 06:51:04,632:EnsembleBuilder(1):e50c21fd734717aba9baaaf5a5ed66a7] No models better than random - using Dummy Score!\n",
            "[WARNING] [2019-08-25 06:51:06,649:EnsembleBuilder(1):e50c21fd734717aba9baaaf5a5ed66a7] No models better than random - using Dummy Score!\n",
            "[WARNING] [2019-08-25 06:51:08,662:EnsembleBuilder(1):e50c21fd734717aba9baaaf5a5ed66a7] No models better than random - using Dummy Score!\n",
            "[WARNING] [2019-08-25 06:51:10,673:EnsembleBuilder(1):e50c21fd734717aba9baaaf5a5ed66a7] No models better than random - using Dummy Score!\n",
            "[WARNING] [2019-08-25 06:51:12,689:EnsembleBuilder(1):e50c21fd734717aba9baaaf5a5ed66a7] No models better than random - using Dummy Score!\n",
            "[WARNING] [2019-08-25 06:51:14,702:EnsembleBuilder(1):e50c21fd734717aba9baaaf5a5ed66a7] No models better than random - using Dummy Score!\n",
            "[WARNING] [2019-08-25 06:51:16,713:EnsembleBuilder(1):e50c21fd734717aba9baaaf5a5ed66a7] No models better than random - using Dummy Score!\n",
            "[WARNING] [2019-08-25 06:51:18,728:EnsembleBuilder(1):e50c21fd734717aba9baaaf5a5ed66a7] No models better than random - using Dummy Score!\n",
            "[WARNING] [2019-08-25 06:51:20,743:EnsembleBuilder(1):e50c21fd734717aba9baaaf5a5ed66a7] No models better than random - using Dummy Score!\n",
            "[WARNING] [2019-08-25 06:51:22,759:EnsembleBuilder(1):e50c21fd734717aba9baaaf5a5ed66a7] No models better than random - using Dummy Score!\n",
            "[WARNING] [2019-08-25 06:51:24,772:EnsembleBuilder(1):e50c21fd734717aba9baaaf5a5ed66a7] No models better than random - using Dummy Score!\n",
            "[WARNING] [2019-08-25 06:51:26,781:EnsembleBuilder(1):e50c21fd734717aba9baaaf5a5ed66a7] No models better than random - using Dummy Score!\n",
            "[WARNING] [2019-08-25 06:51:28,792:EnsembleBuilder(1):e50c21fd734717aba9baaaf5a5ed66a7] No models better than random - using Dummy Score!\n",
            "[WARNING] [2019-08-25 06:51:30,805:EnsembleBuilder(1):e50c21fd734717aba9baaaf5a5ed66a7] No models better than random - using Dummy Score!\n",
            "[WARNING] [2019-08-25 06:51:32,822:EnsembleBuilder(1):e50c21fd734717aba9baaaf5a5ed66a7] No models better than random - using Dummy Score!\n",
            "[WARNING] [2019-08-25 06:51:34,837:EnsembleBuilder(1):e50c21fd734717aba9baaaf5a5ed66a7] No models better than random - using Dummy Score!\n",
            "[WARNING] [2019-08-25 06:51:36,854:EnsembleBuilder(1):e50c21fd734717aba9baaaf5a5ed66a7] No models better than random - using Dummy Score!\n",
            "[WARNING] [2019-08-25 06:51:38,872:EnsembleBuilder(1):e50c21fd734717aba9baaaf5a5ed66a7] No models better than random - using Dummy Score!\n",
            "[WARNING] [2019-08-25 06:51:40,886:EnsembleBuilder(1):e50c21fd734717aba9baaaf5a5ed66a7] No models better than random - using Dummy Score!\n",
            "[WARNING] [2019-08-25 06:51:42,906:EnsembleBuilder(1):e50c21fd734717aba9baaaf5a5ed66a7] No models better than random - using Dummy Score!\n",
            "[WARNING] [2019-08-25 06:51:44,919:EnsembleBuilder(1):e50c21fd734717aba9baaaf5a5ed66a7] No models better than random - using Dummy Score!\n",
            "[WARNING] [2019-08-25 06:51:46,935:EnsembleBuilder(1):e50c21fd734717aba9baaaf5a5ed66a7] No models better than random - using Dummy Score!\n",
            "[WARNING] [2019-08-25 06:51:48,947:EnsembleBuilder(1):e50c21fd734717aba9baaaf5a5ed66a7] No models better than random - using Dummy Score!\n",
            "[WARNING] [2019-08-25 06:51:50,962:EnsembleBuilder(1):e50c21fd734717aba9baaaf5a5ed66a7] No models better than random - using Dummy Score!\n",
            "[WARNING] [2019-08-25 06:51:52,977:EnsembleBuilder(1):e50c21fd734717aba9baaaf5a5ed66a7] No models better than random - using Dummy Score!\n",
            "[WARNING] [2019-08-25 06:51:54,994:EnsembleBuilder(1):e50c21fd734717aba9baaaf5a5ed66a7] No models better than random - using Dummy Score!\n",
            "[WARNING] [2019-08-25 06:51:57,006:EnsembleBuilder(1):e50c21fd734717aba9baaaf5a5ed66a7] No models better than random - using Dummy Score!\n"
          ],
          "name": "stdout"
        },
        {
          "output_type": "stream",
          "text": [
            "/usr/local/lib/python3.6/dist-packages/autosklearn/evaluation/train_evaluator.py:197: RuntimeWarning: Mean of empty slice\n",
            "  Y_train_pred = np.nanmean(Y_train_pred_full, axis=0)\n"
          ],
          "name": "stderr"
        },
        {
          "output_type": "stream",
          "text": [
            "[WARNING] [2019-08-25 06:51:59,020:EnsembleBuilder(1):e50c21fd734717aba9baaaf5a5ed66a7] No models better than random - using Dummy Score!\n"
          ],
          "name": "stdout"
        },
        {
          "output_type": "stream",
          "text": [
            "/usr/local/lib/python3.6/dist-packages/autosklearn/evaluation/train_evaluator.py:197: RuntimeWarning: Mean of empty slice\n",
            "  Y_train_pred = np.nanmean(Y_train_pred_full, axis=0)\n"
          ],
          "name": "stderr"
        },
        {
          "output_type": "stream",
          "text": [
            "[WARNING] [2019-08-25 06:52:01,033:EnsembleBuilder(1):e50c21fd734717aba9baaaf5a5ed66a7] No models better than random - using Dummy Score!\n"
          ],
          "name": "stdout"
        },
        {
          "output_type": "stream",
          "text": [
            "/usr/local/lib/python3.6/dist-packages/autosklearn/evaluation/train_evaluator.py:197: RuntimeWarning: Mean of empty slice\n",
            "  Y_train_pred = np.nanmean(Y_train_pred_full, axis=0)\n",
            "/usr/local/lib/python3.6/dist-packages/autosklearn/evaluation/train_evaluator.py:197: RuntimeWarning: Mean of empty slice\n",
            "  Y_train_pred = np.nanmean(Y_train_pred_full, axis=0)\n"
          ],
          "name": "stderr"
        },
        {
          "output_type": "stream",
          "text": [
            "[WARNING] [2019-08-25 06:52:03,047:EnsembleBuilder(1):e50c21fd734717aba9baaaf5a5ed66a7] No models better than random - using Dummy Score!\n",
            "[WARNING] [2019-08-25 06:52:05,055:EnsembleBuilder(1):e50c21fd734717aba9baaaf5a5ed66a7] No models better than random - using Dummy Score!\n",
            "[WARNING] [2019-08-25 06:52:07,068:EnsembleBuilder(1):e50c21fd734717aba9baaaf5a5ed66a7] No models better than random - using Dummy Score!\n",
            "[WARNING] [2019-08-25 06:52:09,080:EnsembleBuilder(1):e50c21fd734717aba9baaaf5a5ed66a7] No models better than random - using Dummy Score!\n",
            "[WARNING] [2019-08-25 06:52:11,096:EnsembleBuilder(1):e50c21fd734717aba9baaaf5a5ed66a7] No models better than random - using Dummy Score!\n",
            "[WARNING] [2019-08-25 06:52:13,109:EnsembleBuilder(1):e50c21fd734717aba9baaaf5a5ed66a7] No models better than random - using Dummy Score!\n",
            "[WARNING] [2019-08-25 06:52:15,125:EnsembleBuilder(1):e50c21fd734717aba9baaaf5a5ed66a7] No models better than random - using Dummy Score!\n",
            "[WARNING] [2019-08-25 06:52:17,141:EnsembleBuilder(1):e50c21fd734717aba9baaaf5a5ed66a7] No models better than random - using Dummy Score!\n",
            "[WARNING] [2019-08-25 06:52:19,156:EnsembleBuilder(1):e50c21fd734717aba9baaaf5a5ed66a7] No models better than random - using Dummy Score!\n",
            "[WARNING] [2019-08-25 06:52:21,169:EnsembleBuilder(1):e50c21fd734717aba9baaaf5a5ed66a7] No models better than random - using Dummy Score!\n",
            "[WARNING] [2019-08-25 06:52:23,184:EnsembleBuilder(1):e50c21fd734717aba9baaaf5a5ed66a7] No models better than random - using Dummy Score!\n",
            "[WARNING] [2019-08-25 06:52:25,200:EnsembleBuilder(1):e50c21fd734717aba9baaaf5a5ed66a7] No models better than random - using Dummy Score!\n",
            "[WARNING] [2019-08-25 06:52:27,215:EnsembleBuilder(1):e50c21fd734717aba9baaaf5a5ed66a7] No models better than random - using Dummy Score!\n",
            "[WARNING] [2019-08-25 06:52:29,229:EnsembleBuilder(1):e50c21fd734717aba9baaaf5a5ed66a7] No models better than random - using Dummy Score!\n",
            "[WARNING] [2019-08-25 06:52:31,244:EnsembleBuilder(1):e50c21fd734717aba9baaaf5a5ed66a7] No models better than random - using Dummy Score!\n",
            "[WARNING] [2019-08-25 06:52:33,263:EnsembleBuilder(1):e50c21fd734717aba9baaaf5a5ed66a7] No models better than random - using Dummy Score!\n",
            "[WARNING] [2019-08-25 06:52:35,283:EnsembleBuilder(1):e50c21fd734717aba9baaaf5a5ed66a7] No models better than random - using Dummy Score!\n",
            "[WARNING] [2019-08-25 06:52:37,303:EnsembleBuilder(1):e50c21fd734717aba9baaaf5a5ed66a7] No models better than random - using Dummy Score!\n",
            "[WARNING] [2019-08-25 06:52:39,321:EnsembleBuilder(1):e50c21fd734717aba9baaaf5a5ed66a7] No models better than random - using Dummy Score!\n",
            "[WARNING] [2019-08-25 06:52:41,343:EnsembleBuilder(1):e50c21fd734717aba9baaaf5a5ed66a7] No models better than random - using Dummy Score!\n",
            "[WARNING] [2019-08-25 06:52:43,359:EnsembleBuilder(1):e50c21fd734717aba9baaaf5a5ed66a7] No models better than random - using Dummy Score!\n",
            "[WARNING] [2019-08-25 06:52:45,373:EnsembleBuilder(1):e50c21fd734717aba9baaaf5a5ed66a7] No models better than random - using Dummy Score!\n",
            "[WARNING] [2019-08-25 06:52:47,389:EnsembleBuilder(1):e50c21fd734717aba9baaaf5a5ed66a7] No models better than random - using Dummy Score!\n",
            "[WARNING] [2019-08-25 06:52:49,403:EnsembleBuilder(1):e50c21fd734717aba9baaaf5a5ed66a7] No models better than random - using Dummy Score!\n",
            "[WARNING] [2019-08-25 06:52:51,415:EnsembleBuilder(1):e50c21fd734717aba9baaaf5a5ed66a7] No models better than random - using Dummy Score!\n",
            "[WARNING] [2019-08-25 06:52:53,431:EnsembleBuilder(1):e50c21fd734717aba9baaaf5a5ed66a7] No models better than random - using Dummy Score!\n",
            "[WARNING] [2019-08-25 06:52:55,447:EnsembleBuilder(1):e50c21fd734717aba9baaaf5a5ed66a7] No models better than random - using Dummy Score!\n",
            "[WARNING] [2019-08-25 06:52:57,459:EnsembleBuilder(1):e50c21fd734717aba9baaaf5a5ed66a7] No models better than random - using Dummy Score!\n",
            "[WARNING] [2019-08-25 06:52:59,472:EnsembleBuilder(1):e50c21fd734717aba9baaaf5a5ed66a7] No models better than random - using Dummy Score!\n",
            "[WARNING] [2019-08-25 06:53:01,488:EnsembleBuilder(1):e50c21fd734717aba9baaaf5a5ed66a7] No models better than random - using Dummy Score!\n",
            "[WARNING] [2019-08-25 06:53:03,501:EnsembleBuilder(1):e50c21fd734717aba9baaaf5a5ed66a7] No models better than random - using Dummy Score!\n",
            "[WARNING] [2019-08-25 06:53:05,514:EnsembleBuilder(1):e50c21fd734717aba9baaaf5a5ed66a7] No models better than random - using Dummy Score!\n",
            "[WARNING] [2019-08-25 06:53:07,526:EnsembleBuilder(1):e50c21fd734717aba9baaaf5a5ed66a7] No models better than random - using Dummy Score!\n",
            "[WARNING] [2019-08-25 06:53:09,541:EnsembleBuilder(1):e50c21fd734717aba9baaaf5a5ed66a7] No models better than random - using Dummy Score!\n",
            "[WARNING] [2019-08-25 06:53:11,555:EnsembleBuilder(1):e50c21fd734717aba9baaaf5a5ed66a7] No models better than random - using Dummy Score!\n",
            "[WARNING] [2019-08-25 06:53:13,575:EnsembleBuilder(1):e50c21fd734717aba9baaaf5a5ed66a7] No models better than random - using Dummy Score!\n",
            "[WARNING] [2019-08-25 06:53:15,588:EnsembleBuilder(1):e50c21fd734717aba9baaaf5a5ed66a7] No models better than random - using Dummy Score!\n",
            "[WARNING] [2019-08-25 06:53:17,601:EnsembleBuilder(1):e50c21fd734717aba9baaaf5a5ed66a7] No models better than random - using Dummy Score!\n",
            "[WARNING] [2019-08-25 06:53:19,624:EnsembleBuilder(1):e50c21fd734717aba9baaaf5a5ed66a7] No models better than random - using Dummy Score!\n",
            "[WARNING] [2019-08-25 06:53:21,639:EnsembleBuilder(1):e50c21fd734717aba9baaaf5a5ed66a7] No models better than random - using Dummy Score!\n",
            "[WARNING] [2019-08-25 06:53:23,654:EnsembleBuilder(1):e50c21fd734717aba9baaaf5a5ed66a7] No models better than random - using Dummy Score!\n",
            "[WARNING] [2019-08-25 06:53:25,677:EnsembleBuilder(1):e50c21fd734717aba9baaaf5a5ed66a7] No models better than random - using Dummy Score!\n",
            "[WARNING] [2019-08-25 06:53:27,700:EnsembleBuilder(1):e50c21fd734717aba9baaaf5a5ed66a7] No models better than random - using Dummy Score!\n",
            "[WARNING] [2019-08-25 06:53:29,716:EnsembleBuilder(1):e50c21fd734717aba9baaaf5a5ed66a7] No models better than random - using Dummy Score!\n",
            "[WARNING] [2019-08-25 06:53:31,730:EnsembleBuilder(1):e50c21fd734717aba9baaaf5a5ed66a7] No models better than random - using Dummy Score!\n",
            "[WARNING] [2019-08-25 06:53:33,746:EnsembleBuilder(1):e50c21fd734717aba9baaaf5a5ed66a7] No models better than random - using Dummy Score!\n",
            "[WARNING] [2019-08-25 06:53:35,758:EnsembleBuilder(1):e50c21fd734717aba9baaaf5a5ed66a7] No models better than random - using Dummy Score!\n",
            "[WARNING] [2019-08-25 06:53:37,771:EnsembleBuilder(1):e50c21fd734717aba9baaaf5a5ed66a7] No models better than random - using Dummy Score!\n",
            "[WARNING] [2019-08-25 06:53:39,785:EnsembleBuilder(1):e50c21fd734717aba9baaaf5a5ed66a7] No models better than random - using Dummy Score!\n",
            "[WARNING] [2019-08-25 06:53:41,799:EnsembleBuilder(1):e50c21fd734717aba9baaaf5a5ed66a7] No models better than random - using Dummy Score!\n",
            "[WARNING] [2019-08-25 06:53:43,814:EnsembleBuilder(1):e50c21fd734717aba9baaaf5a5ed66a7] No models better than random - using Dummy Score!\n",
            "[WARNING] [2019-08-25 06:53:45,827:EnsembleBuilder(1):e50c21fd734717aba9baaaf5a5ed66a7] No models better than random - using Dummy Score!\n",
            "[WARNING] [2019-08-25 06:53:47,847:EnsembleBuilder(1):e50c21fd734717aba9baaaf5a5ed66a7] No models better than random - using Dummy Score!\n",
            "[WARNING] [2019-08-25 06:53:49,864:EnsembleBuilder(1):e50c21fd734717aba9baaaf5a5ed66a7] No models better than random - using Dummy Score!\n",
            "[WARNING] [2019-08-25 06:53:51,879:EnsembleBuilder(1):e50c21fd734717aba9baaaf5a5ed66a7] No models better than random - using Dummy Score!\n",
            "[WARNING] [2019-08-25 06:53:53,892:EnsembleBuilder(1):e50c21fd734717aba9baaaf5a5ed66a7] No models better than random - using Dummy Score!\n",
            "[WARNING] [2019-08-25 06:53:55,908:EnsembleBuilder(1):e50c21fd734717aba9baaaf5a5ed66a7] No models better than random - using Dummy Score!\n",
            "[WARNING] [2019-08-25 06:53:57,926:EnsembleBuilder(1):e50c21fd734717aba9baaaf5a5ed66a7] No models better than random - using Dummy Score!\n",
            "[WARNING] [2019-08-25 06:53:59,938:EnsembleBuilder(1):e50c21fd734717aba9baaaf5a5ed66a7] No models better than random - using Dummy Score!\n",
            "[WARNING] [2019-08-25 06:54:01,960:EnsembleBuilder(1):e50c21fd734717aba9baaaf5a5ed66a7] No models better than random - using Dummy Score!\n",
            "[WARNING] [2019-08-25 06:54:03,969:EnsembleBuilder(1):e50c21fd734717aba9baaaf5a5ed66a7] No models better than random - using Dummy Score!\n",
            "[WARNING] [2019-08-25 06:54:05,983:EnsembleBuilder(1):e50c21fd734717aba9baaaf5a5ed66a7] No models better than random - using Dummy Score!\n",
            "[WARNING] [2019-08-25 06:54:07,996:EnsembleBuilder(1):e50c21fd734717aba9baaaf5a5ed66a7] No models better than random - using Dummy Score!\n",
            "[WARNING] [2019-08-25 06:54:10,008:EnsembleBuilder(1):e50c21fd734717aba9baaaf5a5ed66a7] No models better than random - using Dummy Score!\n",
            "[WARNING] [2019-08-25 06:54:12,024:EnsembleBuilder(1):e50c21fd734717aba9baaaf5a5ed66a7] No models better than random - using Dummy Score!\n",
            "[WARNING] [2019-08-25 06:54:14,038:EnsembleBuilder(1):e50c21fd734717aba9baaaf5a5ed66a7] No models better than random - using Dummy Score!\n",
            "[WARNING] [2019-08-25 06:54:16,053:EnsembleBuilder(1):e50c21fd734717aba9baaaf5a5ed66a7] No models better than random - using Dummy Score!\n",
            "[WARNING] [2019-08-25 06:54:18,068:EnsembleBuilder(1):e50c21fd734717aba9baaaf5a5ed66a7] No models better than random - using Dummy Score!\n",
            "[WARNING] [2019-08-25 06:54:20,087:EnsembleBuilder(1):e50c21fd734717aba9baaaf5a5ed66a7] No models better than random - using Dummy Score!\n",
            "[WARNING] [2019-08-25 06:54:22,099:EnsembleBuilder(1):e50c21fd734717aba9baaaf5a5ed66a7] No models better than random - using Dummy Score!\n",
            "[WARNING] [2019-08-25 06:54:24,112:EnsembleBuilder(1):e50c21fd734717aba9baaaf5a5ed66a7] No models better than random - using Dummy Score!\n",
            "[WARNING] [2019-08-25 06:54:26,126:EnsembleBuilder(1):e50c21fd734717aba9baaaf5a5ed66a7] No models better than random - using Dummy Score!\n",
            "[WARNING] [2019-08-25 06:54:28,141:EnsembleBuilder(1):e50c21fd734717aba9baaaf5a5ed66a7] No models better than random - using Dummy Score!\n",
            "[WARNING] [2019-08-25 06:54:30,155:EnsembleBuilder(1):e50c21fd734717aba9baaaf5a5ed66a7] No models better than random - using Dummy Score!\n",
            "[WARNING] [2019-08-25 06:54:32,171:EnsembleBuilder(1):e50c21fd734717aba9baaaf5a5ed66a7] No models better than random - using Dummy Score!\n",
            "[WARNING] [2019-08-25 06:54:34,180:EnsembleBuilder(1):e50c21fd734717aba9baaaf5a5ed66a7] No models better than random - using Dummy Score!\n",
            "[WARNING] [2019-08-25 06:54:36,199:EnsembleBuilder(1):e50c21fd734717aba9baaaf5a5ed66a7] No models better than random - using Dummy Score!\n",
            "[WARNING] [2019-08-25 06:54:38,214:EnsembleBuilder(1):e50c21fd734717aba9baaaf5a5ed66a7] No models better than random - using Dummy Score!\n",
            "[WARNING] [2019-08-25 06:54:40,228:EnsembleBuilder(1):e50c21fd734717aba9baaaf5a5ed66a7] No models better than random - using Dummy Score!\n",
            "[WARNING] [2019-08-25 06:54:42,247:EnsembleBuilder(1):e50c21fd734717aba9baaaf5a5ed66a7] No models better than random - using Dummy Score!\n",
            "[WARNING] [2019-08-25 06:54:44,260:EnsembleBuilder(1):e50c21fd734717aba9baaaf5a5ed66a7] No models better than random - using Dummy Score!\n",
            "[WARNING] [2019-08-25 06:54:46,274:EnsembleBuilder(1):e50c21fd734717aba9baaaf5a5ed66a7] No models better than random - using Dummy Score!\n",
            "[WARNING] [2019-08-25 06:54:48,287:EnsembleBuilder(1):e50c21fd734717aba9baaaf5a5ed66a7] No models better than random - using Dummy Score!\n",
            "[WARNING] [2019-08-25 06:54:50,307:EnsembleBuilder(1):e50c21fd734717aba9baaaf5a5ed66a7] No models better than random - using Dummy Score!\n",
            "[WARNING] [2019-08-25 06:54:52,321:EnsembleBuilder(1):e50c21fd734717aba9baaaf5a5ed66a7] No models better than random - using Dummy Score!\n",
            "[WARNING] [2019-08-25 06:54:54,338:EnsembleBuilder(1):e50c21fd734717aba9baaaf5a5ed66a7] No models better than random - using Dummy Score!\n",
            "[WARNING] [2019-08-25 06:54:56,353:EnsembleBuilder(1):e50c21fd734717aba9baaaf5a5ed66a7] No models better than random - using Dummy Score!\n",
            "[WARNING] [2019-08-25 06:54:58,366:EnsembleBuilder(1):e50c21fd734717aba9baaaf5a5ed66a7] No models better than random - using Dummy Score!\n",
            "[WARNING] [2019-08-25 06:55:00,381:EnsembleBuilder(1):e50c21fd734717aba9baaaf5a5ed66a7] No models better than random - using Dummy Score!\n",
            "[WARNING] [2019-08-25 06:55:02,394:EnsembleBuilder(1):e50c21fd734717aba9baaaf5a5ed66a7] No models better than random - using Dummy Score!\n",
            "[WARNING] [2019-08-25 06:55:04,411:EnsembleBuilder(1):e50c21fd734717aba9baaaf5a5ed66a7] No models better than random - using Dummy Score!\n",
            "[WARNING] [2019-08-25 06:55:06,426:EnsembleBuilder(1):e50c21fd734717aba9baaaf5a5ed66a7] No models better than random - using Dummy Score!\n",
            "[WARNING] [2019-08-25 06:55:08,439:EnsembleBuilder(1):e50c21fd734717aba9baaaf5a5ed66a7] No models better than random - using Dummy Score!\n",
            "[WARNING] [2019-08-25 06:55:10,458:EnsembleBuilder(1):e50c21fd734717aba9baaaf5a5ed66a7] No models better than random - using Dummy Score!\n",
            "[WARNING] [2019-08-25 06:55:12,467:EnsembleBuilder(1):e50c21fd734717aba9baaaf5a5ed66a7] No models better than random - using Dummy Score!\n",
            "[WARNING] [2019-08-25 06:55:14,479:EnsembleBuilder(1):e50c21fd734717aba9baaaf5a5ed66a7] No models better than random - using Dummy Score!\n",
            "[WARNING] [2019-08-25 06:55:16,490:EnsembleBuilder(1):e50c21fd734717aba9baaaf5a5ed66a7] No models better than random - using Dummy Score!\n",
            "[WARNING] [2019-08-25 06:55:18,504:EnsembleBuilder(1):e50c21fd734717aba9baaaf5a5ed66a7] No models better than random - using Dummy Score!\n",
            "[WARNING] [2019-08-25 06:55:20,524:EnsembleBuilder(1):e50c21fd734717aba9baaaf5a5ed66a7] No models better than random - using Dummy Score!\n",
            "[WARNING] [2019-08-25 06:55:22,538:EnsembleBuilder(1):e50c21fd734717aba9baaaf5a5ed66a7] No models better than random - using Dummy Score!\n",
            "[WARNING] [2019-08-25 06:55:24,551:EnsembleBuilder(1):e50c21fd734717aba9baaaf5a5ed66a7] No models better than random - using Dummy Score!\n",
            "[WARNING] [2019-08-25 06:55:26,569:EnsembleBuilder(1):e50c21fd734717aba9baaaf5a5ed66a7] No models better than random - using Dummy Score!\n",
            "[WARNING] [2019-08-25 06:55:28,597:EnsembleBuilder(1):e50c21fd734717aba9baaaf5a5ed66a7] No models better than random - using Dummy Score!\n",
            "[WARNING] [2019-08-25 06:55:30,619:EnsembleBuilder(1):e50c21fd734717aba9baaaf5a5ed66a7] No models better than random - using Dummy Score!\n",
            "[WARNING] [2019-08-25 06:55:32,633:EnsembleBuilder(1):e50c21fd734717aba9baaaf5a5ed66a7] No models better than random - using Dummy Score!\n",
            "[WARNING] [2019-08-25 06:55:34,654:EnsembleBuilder(1):e50c21fd734717aba9baaaf5a5ed66a7] No models better than random - using Dummy Score!\n",
            "[WARNING] [2019-08-25 06:55:36,668:EnsembleBuilder(1):e50c21fd734717aba9baaaf5a5ed66a7] No models better than random - using Dummy Score!\n",
            "[WARNING] [2019-08-25 06:55:38,692:EnsembleBuilder(1):e50c21fd734717aba9baaaf5a5ed66a7] No models better than random - using Dummy Score!\n",
            "[WARNING] [2019-08-25 06:55:40,711:EnsembleBuilder(1):e50c21fd734717aba9baaaf5a5ed66a7] No models better than random - using Dummy Score!\n",
            "[WARNING] [2019-08-25 06:55:42,726:EnsembleBuilder(1):e50c21fd734717aba9baaaf5a5ed66a7] No models better than random - using Dummy Score!\n",
            "[WARNING] [2019-08-25 06:55:44,749:EnsembleBuilder(1):e50c21fd734717aba9baaaf5a5ed66a7] No models better than random - using Dummy Score!\n",
            "[WARNING] [2019-08-25 06:55:46,761:EnsembleBuilder(1):e50c21fd734717aba9baaaf5a5ed66a7] No models better than random - using Dummy Score!\n",
            "[WARNING] [2019-08-25 06:55:48,776:EnsembleBuilder(1):e50c21fd734717aba9baaaf5a5ed66a7] No models better than random - using Dummy Score!\n",
            "[WARNING] [2019-08-25 06:55:50,790:EnsembleBuilder(1):e50c21fd734717aba9baaaf5a5ed66a7] No models better than random - using Dummy Score!\n",
            "[WARNING] [2019-08-25 06:55:52,803:EnsembleBuilder(1):e50c21fd734717aba9baaaf5a5ed66a7] No models better than random - using Dummy Score!\n",
            "[WARNING] [2019-08-25 06:55:54,817:EnsembleBuilder(1):e50c21fd734717aba9baaaf5a5ed66a7] No models better than random - using Dummy Score!\n",
            "[WARNING] [2019-08-25 06:55:56,830:EnsembleBuilder(1):e50c21fd734717aba9baaaf5a5ed66a7] No models better than random - using Dummy Score!\n",
            "[WARNING] [2019-08-25 06:55:58,845:EnsembleBuilder(1):e50c21fd734717aba9baaaf5a5ed66a7] No models better than random - using Dummy Score!\n",
            "[WARNING] [2019-08-25 06:56:00,859:EnsembleBuilder(1):e50c21fd734717aba9baaaf5a5ed66a7] No models better than random - using Dummy Score!\n",
            "[WARNING] [2019-08-25 06:56:02,874:EnsembleBuilder(1):e50c21fd734717aba9baaaf5a5ed66a7] No models better than random - using Dummy Score!\n",
            "[WARNING] [2019-08-25 06:56:04,888:EnsembleBuilder(1):e50c21fd734717aba9baaaf5a5ed66a7] No models better than random - using Dummy Score!\n",
            "[WARNING] [2019-08-25 06:56:06,909:EnsembleBuilder(1):e50c21fd734717aba9baaaf5a5ed66a7] No models better than random - using Dummy Score!\n",
            "[WARNING] [2019-08-25 06:56:08,925:EnsembleBuilder(1):e50c21fd734717aba9baaaf5a5ed66a7] No models better than random - using Dummy Score!\n",
            "[WARNING] [2019-08-25 06:56:10,940:EnsembleBuilder(1):e50c21fd734717aba9baaaf5a5ed66a7] No models better than random - using Dummy Score!\n",
            "[WARNING] [2019-08-25 06:56:12,954:EnsembleBuilder(1):e50c21fd734717aba9baaaf5a5ed66a7] No models better than random - using Dummy Score!\n",
            "[WARNING] [2019-08-25 06:56:14,970:EnsembleBuilder(1):e50c21fd734717aba9baaaf5a5ed66a7] No models better than random - using Dummy Score!\n",
            "[WARNING] [2019-08-25 06:56:16,990:EnsembleBuilder(1):e50c21fd734717aba9baaaf5a5ed66a7] No models better than random - using Dummy Score!\n",
            "[WARNING] [2019-08-25 06:56:19,013:EnsembleBuilder(1):e50c21fd734717aba9baaaf5a5ed66a7] No models better than random - using Dummy Score!\n",
            "[WARNING] [2019-08-25 06:56:21,029:EnsembleBuilder(1):e50c21fd734717aba9baaaf5a5ed66a7] No models better than random - using Dummy Score!\n",
            "[WARNING] [2019-08-25 06:56:23,046:EnsembleBuilder(1):e50c21fd734717aba9baaaf5a5ed66a7] No models better than random - using Dummy Score!\n",
            "[WARNING] [2019-08-25 06:56:25,063:EnsembleBuilder(1):e50c21fd734717aba9baaaf5a5ed66a7] No models better than random - using Dummy Score!\n",
            "[WARNING] [2019-08-25 06:56:27,079:EnsembleBuilder(1):e50c21fd734717aba9baaaf5a5ed66a7] No models better than random - using Dummy Score!\n",
            "[WARNING] [2019-08-25 06:56:29,095:EnsembleBuilder(1):e50c21fd734717aba9baaaf5a5ed66a7] No models better than random - using Dummy Score!\n",
            "[WARNING] [2019-08-25 06:56:31,108:EnsembleBuilder(1):e50c21fd734717aba9baaaf5a5ed66a7] No models better than random - using Dummy Score!\n",
            "[WARNING] [2019-08-25 06:56:33,127:EnsembleBuilder(1):e50c21fd734717aba9baaaf5a5ed66a7] No models better than random - using Dummy Score!\n",
            "[WARNING] [2019-08-25 06:56:35,143:EnsembleBuilder(1):e50c21fd734717aba9baaaf5a5ed66a7] No models better than random - using Dummy Score!\n",
            "[WARNING] [2019-08-25 06:56:37,166:EnsembleBuilder(1):e50c21fd734717aba9baaaf5a5ed66a7] No models better than random - using Dummy Score!\n",
            "[WARNING] [2019-08-25 06:56:39,182:EnsembleBuilder(1):e50c21fd734717aba9baaaf5a5ed66a7] No models better than random - using Dummy Score!\n",
            "[WARNING] [2019-08-25 06:56:41,200:EnsembleBuilder(1):e50c21fd734717aba9baaaf5a5ed66a7] No models better than random - using Dummy Score!\n",
            "[WARNING] [2019-08-25 06:56:43,211:EnsembleBuilder(1):e50c21fd734717aba9baaaf5a5ed66a7] No models better than random - using Dummy Score!\n",
            "[WARNING] [2019-08-25 06:56:45,226:EnsembleBuilder(1):e50c21fd734717aba9baaaf5a5ed66a7] No models better than random - using Dummy Score!\n",
            "[WARNING] [2019-08-25 06:56:47,241:EnsembleBuilder(1):e50c21fd734717aba9baaaf5a5ed66a7] No models better than random - using Dummy Score!\n",
            "[WARNING] [2019-08-25 06:56:49,257:EnsembleBuilder(1):e50c21fd734717aba9baaaf5a5ed66a7] No models better than random - using Dummy Score!\n",
            "[WARNING] [2019-08-25 06:56:51,272:EnsembleBuilder(1):e50c21fd734717aba9baaaf5a5ed66a7] No models better than random - using Dummy Score!\n",
            "[WARNING] [2019-08-25 06:56:53,291:EnsembleBuilder(1):e50c21fd734717aba9baaaf5a5ed66a7] No models better than random - using Dummy Score!\n",
            "[WARNING] [2019-08-25 06:56:55,305:EnsembleBuilder(1):e50c21fd734717aba9baaaf5a5ed66a7] No models better than random - using Dummy Score!\n",
            "[WARNING] [2019-08-25 06:56:57,321:EnsembleBuilder(1):e50c21fd734717aba9baaaf5a5ed66a7] No models better than random - using Dummy Score!\n",
            "[WARNING] [2019-08-25 06:56:59,335:EnsembleBuilder(1):e50c21fd734717aba9baaaf5a5ed66a7] No models better than random - using Dummy Score!\n",
            "[WARNING] [2019-08-25 06:57:01,350:EnsembleBuilder(1):e50c21fd734717aba9baaaf5a5ed66a7] No models better than random - using Dummy Score!\n",
            "[WARNING] [2019-08-25 06:57:03,372:EnsembleBuilder(1):e50c21fd734717aba9baaaf5a5ed66a7] No models better than random - using Dummy Score!\n",
            "[WARNING] [2019-08-25 06:57:05,395:EnsembleBuilder(1):e50c21fd734717aba9baaaf5a5ed66a7] No models better than random - using Dummy Score!\n"
          ],
          "name": "stdout"
        },
        {
          "output_type": "stream",
          "text": [
            "/usr/local/lib/python3.6/dist-packages/autosklearn/evaluation/train_evaluator.py:197: RuntimeWarning: Mean of empty slice\n",
            "  Y_train_pred = np.nanmean(Y_train_pred_full, axis=0)\n",
            "/usr/local/lib/python3.6/dist-packages/autosklearn/evaluation/train_evaluator.py:197: RuntimeWarning: Mean of empty slice\n",
            "  Y_train_pred = np.nanmean(Y_train_pred_full, axis=0)\n"
          ],
          "name": "stderr"
        },
        {
          "output_type": "stream",
          "text": [
            "[WARNING] [2019-08-25 06:57:07,418:EnsembleBuilder(1):e50c21fd734717aba9baaaf5a5ed66a7] No models better than random - using Dummy Score!\n",
            "[WARNING] [2019-08-25 06:57:09,423:EnsembleBuilder(1):e50c21fd734717aba9baaaf5a5ed66a7] No models better than random - using Dummy Score!\n"
          ],
          "name": "stdout"
        },
        {
          "output_type": "stream",
          "text": [
            "/usr/local/lib/python3.6/dist-packages/autosklearn/evaluation/train_evaluator.py:197: RuntimeWarning: Mean of empty slice\n",
            "  Y_train_pred = np.nanmean(Y_train_pred_full, axis=0)\n"
          ],
          "name": "stderr"
        },
        {
          "output_type": "stream",
          "text": [
            "[WARNING] [2019-08-25 06:57:11,438:EnsembleBuilder(1):e50c21fd734717aba9baaaf5a5ed66a7] No models better than random - using Dummy Score!\n"
          ],
          "name": "stdout"
        },
        {
          "output_type": "stream",
          "text": [
            "/usr/local/lib/python3.6/dist-packages/autosklearn/evaluation/train_evaluator.py:197: RuntimeWarning: Mean of empty slice\n",
            "  Y_train_pred = np.nanmean(Y_train_pred_full, axis=0)\n"
          ],
          "name": "stderr"
        },
        {
          "output_type": "stream",
          "text": [
            "[WARNING] [2019-08-25 06:57:13,443:EnsembleBuilder(1):e50c21fd734717aba9baaaf5a5ed66a7] No models better than random - using Dummy Score!\n"
          ],
          "name": "stdout"
        },
        {
          "output_type": "stream",
          "text": [
            "/usr/local/lib/python3.6/dist-packages/autosklearn/evaluation/train_evaluator.py:197: RuntimeWarning: Mean of empty slice\n",
            "  Y_train_pred = np.nanmean(Y_train_pred_full, axis=0)\n"
          ],
          "name": "stderr"
        },
        {
          "output_type": "stream",
          "text": [
            "[WARNING] [2019-08-25 06:57:15,448:EnsembleBuilder(1):e50c21fd734717aba9baaaf5a5ed66a7] No models better than random - using Dummy Score!\n"
          ],
          "name": "stdout"
        },
        {
          "output_type": "stream",
          "text": [
            "/usr/local/lib/python3.6/dist-packages/autosklearn/evaluation/train_evaluator.py:197: RuntimeWarning: Mean of empty slice\n",
            "  Y_train_pred = np.nanmean(Y_train_pred_full, axis=0)\n"
          ],
          "name": "stderr"
        },
        {
          "output_type": "stream",
          "text": [
            "[WARNING] [2019-08-25 06:57:17,462:EnsembleBuilder(1):e50c21fd734717aba9baaaf5a5ed66a7] No models better than random - using Dummy Score!\n",
            "[WARNING] [2019-08-25 06:57:19,468:EnsembleBuilder(1):e50c21fd734717aba9baaaf5a5ed66a7] No models better than random - using Dummy Score!\n"
          ],
          "name": "stdout"
        },
        {
          "output_type": "stream",
          "text": [
            "/usr/local/lib/python3.6/dist-packages/autosklearn/evaluation/train_evaluator.py:197: RuntimeWarning: Mean of empty slice\n",
            "  Y_train_pred = np.nanmean(Y_train_pred_full, axis=0)\n",
            "/usr/local/lib/python3.6/dist-packages/autosklearn/evaluation/train_evaluator.py:197: RuntimeWarning: Mean of empty slice\n",
            "  Y_train_pred = np.nanmean(Y_train_pred_full, axis=0)\n"
          ],
          "name": "stderr"
        },
        {
          "output_type": "stream",
          "text": [
            "[WARNING] [2019-08-25 06:57:21,484:EnsembleBuilder(1):e50c21fd734717aba9baaaf5a5ed66a7] No models better than random - using Dummy Score!\n"
          ],
          "name": "stdout"
        },
        {
          "output_type": "stream",
          "text": [
            "/usr/local/lib/python3.6/dist-packages/autosklearn/evaluation/train_evaluator.py:197: RuntimeWarning: Mean of empty slice\n",
            "  Y_train_pred = np.nanmean(Y_train_pred_full, axis=0)\n"
          ],
          "name": "stderr"
        },
        {
          "output_type": "stream",
          "text": [
            "[WARNING] [2019-08-25 06:57:23,490:EnsembleBuilder(1):e50c21fd734717aba9baaaf5a5ed66a7] No models better than random - using Dummy Score!\n"
          ],
          "name": "stdout"
        },
        {
          "output_type": "stream",
          "text": [
            "/usr/local/lib/python3.6/dist-packages/autosklearn/evaluation/train_evaluator.py:197: RuntimeWarning: Mean of empty slice\n",
            "  Y_train_pred = np.nanmean(Y_train_pred_full, axis=0)\n"
          ],
          "name": "stderr"
        },
        {
          "output_type": "stream",
          "text": [
            "[WARNING] [2019-08-25 06:57:25,504:EnsembleBuilder(1):e50c21fd734717aba9baaaf5a5ed66a7] No models better than random - using Dummy Score!\n"
          ],
          "name": "stdout"
        },
        {
          "output_type": "stream",
          "text": [
            "/usr/local/lib/python3.6/dist-packages/autosklearn/evaluation/train_evaluator.py:197: RuntimeWarning: Mean of empty slice\n",
            "  Y_train_pred = np.nanmean(Y_train_pred_full, axis=0)\n",
            "/usr/local/lib/python3.6/dist-packages/autosklearn/evaluation/train_evaluator.py:197: RuntimeWarning: Mean of empty slice\n",
            "  Y_train_pred = np.nanmean(Y_train_pred_full, axis=0)\n",
            "/usr/local/lib/python3.6/dist-packages/autosklearn/evaluation/train_evaluator.py:197: RuntimeWarning: Mean of empty slice\n",
            "  Y_train_pred = np.nanmean(Y_train_pred_full, axis=0)\n",
            "/usr/local/lib/python3.6/dist-packages/autosklearn/evaluation/train_evaluator.py:197: RuntimeWarning: Mean of empty slice\n",
            "  Y_train_pred = np.nanmean(Y_train_pred_full, axis=0)\n"
          ],
          "name": "stderr"
        },
        {
          "output_type": "stream",
          "text": [
            "[WARNING] [2019-08-25 06:57:27,524:EnsembleBuilder(1):e50c21fd734717aba9baaaf5a5ed66a7] No models better than random - using Dummy Score!\n"
          ],
          "name": "stdout"
        },
        {
          "output_type": "stream",
          "text": [
            "/usr/local/lib/python3.6/dist-packages/autosklearn/evaluation/train_evaluator.py:197: RuntimeWarning: Mean of empty slice\n",
            "  Y_train_pred = np.nanmean(Y_train_pred_full, axis=0)\n",
            "/usr/local/lib/python3.6/dist-packages/autosklearn/evaluation/train_evaluator.py:197: RuntimeWarning: Mean of empty slice\n",
            "  Y_train_pred = np.nanmean(Y_train_pred_full, axis=0)\n"
          ],
          "name": "stderr"
        },
        {
          "output_type": "stream",
          "text": [
            "[WARNING] [2019-08-25 06:57:29,530:EnsembleBuilder(1):e50c21fd734717aba9baaaf5a5ed66a7] No models better than random - using Dummy Score!\n",
            "[WARNING] [2019-08-25 06:57:31,541:EnsembleBuilder(1):e50c21fd734717aba9baaaf5a5ed66a7] No models better than random - using Dummy Score!\n",
            "[WARNING] [2019-08-25 06:57:33,562:EnsembleBuilder(1):e50c21fd734717aba9baaaf5a5ed66a7] No models better than random - using Dummy Score!\n",
            "[WARNING] [2019-08-25 06:57:35,582:EnsembleBuilder(1):e50c21fd734717aba9baaaf5a5ed66a7] No models better than random - using Dummy Score!\n",
            "[WARNING] [2019-08-25 06:57:37,601:EnsembleBuilder(1):e50c21fd734717aba9baaaf5a5ed66a7] No models better than random - using Dummy Score!\n",
            "[WARNING] [2019-08-25 06:57:39,619:EnsembleBuilder(1):e50c21fd734717aba9baaaf5a5ed66a7] No models better than random - using Dummy Score!\n"
          ],
          "name": "stdout"
        },
        {
          "output_type": "stream",
          "text": [
            "/usr/local/lib/python3.6/dist-packages/autosklearn/evaluation/train_evaluator.py:197: RuntimeWarning: Mean of empty slice\n",
            "  Y_train_pred = np.nanmean(Y_train_pred_full, axis=0)\n"
          ],
          "name": "stderr"
        },
        {
          "output_type": "stream",
          "text": [
            "[WARNING] [2019-08-25 06:57:41,634:EnsembleBuilder(1):e50c21fd734717aba9baaaf5a5ed66a7] No models better than random - using Dummy Score!\n"
          ],
          "name": "stdout"
        },
        {
          "output_type": "stream",
          "text": [
            "/usr/local/lib/python3.6/dist-packages/autosklearn/evaluation/train_evaluator.py:197: RuntimeWarning: Mean of empty slice\n",
            "  Y_train_pred = np.nanmean(Y_train_pred_full, axis=0)\n",
            "/usr/local/lib/python3.6/dist-packages/autosklearn/evaluation/train_evaluator.py:197: RuntimeWarning: Mean of empty slice\n",
            "  Y_train_pred = np.nanmean(Y_train_pred_full, axis=0)\n",
            "/usr/local/lib/python3.6/dist-packages/autosklearn/evaluation/train_evaluator.py:197: RuntimeWarning: Mean of empty slice\n",
            "  Y_train_pred = np.nanmean(Y_train_pred_full, axis=0)\n",
            "/usr/local/lib/python3.6/dist-packages/autosklearn/evaluation/train_evaluator.py:197: RuntimeWarning: Mean of empty slice\n",
            "  Y_train_pred = np.nanmean(Y_train_pred_full, axis=0)\n"
          ],
          "name": "stderr"
        },
        {
          "output_type": "stream",
          "text": [
            "[WARNING] [2019-08-25 06:57:43,643:EnsembleBuilder(1):e50c21fd734717aba9baaaf5a5ed66a7] No models better than random - using Dummy Score!\n",
            "[WARNING] [2019-08-25 06:57:45,649:EnsembleBuilder(1):e50c21fd734717aba9baaaf5a5ed66a7] No models better than random - using Dummy Score!\n"
          ],
          "name": "stdout"
        },
        {
          "output_type": "stream",
          "text": [
            "/usr/local/lib/python3.6/dist-packages/autosklearn/evaluation/train_evaluator.py:197: RuntimeWarning: Mean of empty slice\n",
            "  Y_train_pred = np.nanmean(Y_train_pred_full, axis=0)\n"
          ],
          "name": "stderr"
        },
        {
          "output_type": "stream",
          "text": [
            "[WARNING] [2019-08-25 06:57:47,663:EnsembleBuilder(1):e50c21fd734717aba9baaaf5a5ed66a7] No models better than random - using Dummy Score!\n"
          ],
          "name": "stdout"
        },
        {
          "output_type": "stream",
          "text": [
            "/usr/local/lib/python3.6/dist-packages/autosklearn/evaluation/train_evaluator.py:197: RuntimeWarning: Mean of empty slice\n",
            "  Y_train_pred = np.nanmean(Y_train_pred_full, axis=0)\n"
          ],
          "name": "stderr"
        },
        {
          "output_type": "stream",
          "text": [
            "[WARNING] [2019-08-25 06:57:49,676:EnsembleBuilder(1):e50c21fd734717aba9baaaf5a5ed66a7] No models better than random - using Dummy Score!\n"
          ],
          "name": "stdout"
        },
        {
          "output_type": "stream",
          "text": [
            "/usr/local/lib/python3.6/dist-packages/autosklearn/evaluation/train_evaluator.py:197: RuntimeWarning: Mean of empty slice\n",
            "  Y_train_pred = np.nanmean(Y_train_pred_full, axis=0)\n",
            "/usr/local/lib/python3.6/dist-packages/autosklearn/evaluation/train_evaluator.py:197: RuntimeWarning: Mean of empty slice\n",
            "  Y_train_pred = np.nanmean(Y_train_pred_full, axis=0)\n",
            "/usr/local/lib/python3.6/dist-packages/autosklearn/evaluation/train_evaluator.py:197: RuntimeWarning: Mean of empty slice\n",
            "  Y_train_pred = np.nanmean(Y_train_pred_full, axis=0)\n",
            "/usr/local/lib/python3.6/dist-packages/autosklearn/evaluation/train_evaluator.py:197: RuntimeWarning: Mean of empty slice\n",
            "  Y_train_pred = np.nanmean(Y_train_pred_full, axis=0)\n"
          ],
          "name": "stderr"
        },
        {
          "output_type": "stream",
          "text": [
            "[WARNING] [2019-08-25 06:57:51,689:EnsembleBuilder(1):e50c21fd734717aba9baaaf5a5ed66a7] No models better than random - using Dummy Score!\n"
          ],
          "name": "stdout"
        },
        {
          "output_type": "stream",
          "text": [
            "/usr/local/lib/python3.6/dist-packages/autosklearn/evaluation/train_evaluator.py:197: RuntimeWarning: Mean of empty slice\n",
            "  Y_train_pred = np.nanmean(Y_train_pred_full, axis=0)\n"
          ],
          "name": "stderr"
        },
        {
          "output_type": "stream",
          "text": [
            "[WARNING] [2019-08-25 06:57:53,696:EnsembleBuilder(1):e50c21fd734717aba9baaaf5a5ed66a7] No models better than random - using Dummy Score!\n"
          ],
          "name": "stdout"
        },
        {
          "output_type": "stream",
          "text": [
            "/usr/local/lib/python3.6/dist-packages/autosklearn/evaluation/train_evaluator.py:197: RuntimeWarning: Mean of empty slice\n",
            "  Y_train_pred = np.nanmean(Y_train_pred_full, axis=0)\n"
          ],
          "name": "stderr"
        },
        {
          "output_type": "stream",
          "text": [
            "[WARNING] [2019-08-25 06:57:55,708:EnsembleBuilder(1):e50c21fd734717aba9baaaf5a5ed66a7] No models better than random - using Dummy Score!\n"
          ],
          "name": "stdout"
        },
        {
          "output_type": "stream",
          "text": [
            "/usr/local/lib/python3.6/dist-packages/autosklearn/evaluation/train_evaluator.py:197: RuntimeWarning: Mean of empty slice\n",
            "  Y_train_pred = np.nanmean(Y_train_pred_full, axis=0)\n",
            "/usr/local/lib/python3.6/dist-packages/autosklearn/evaluation/train_evaluator.py:197: RuntimeWarning: Mean of empty slice\n",
            "  Y_train_pred = np.nanmean(Y_train_pred_full, axis=0)\n"
          ],
          "name": "stderr"
        },
        {
          "output_type": "stream",
          "text": [
            "[WARNING] [2019-08-25 06:57:57,715:EnsembleBuilder(1):e50c21fd734717aba9baaaf5a5ed66a7] No models better than random - using Dummy Score!\n",
            "[WARNING] [2019-08-25 06:57:59,723:EnsembleBuilder(1):e50c21fd734717aba9baaaf5a5ed66a7] No models better than random - using Dummy Score!\n"
          ],
          "name": "stdout"
        },
        {
          "output_type": "stream",
          "text": [
            "/usr/local/lib/python3.6/dist-packages/autosklearn/evaluation/train_evaluator.py:197: RuntimeWarning: Mean of empty slice\n",
            "  Y_train_pred = np.nanmean(Y_train_pred_full, axis=0)\n"
          ],
          "name": "stderr"
        },
        {
          "output_type": "stream",
          "text": [
            "[WARNING] [2019-08-25 06:58:01,735:EnsembleBuilder(1):e50c21fd734717aba9baaaf5a5ed66a7] No models better than random - using Dummy Score!\n"
          ],
          "name": "stdout"
        },
        {
          "output_type": "stream",
          "text": [
            "/usr/local/lib/python3.6/dist-packages/autosklearn/evaluation/train_evaluator.py:197: RuntimeWarning: Mean of empty slice\n",
            "  Y_train_pred = np.nanmean(Y_train_pred_full, axis=0)\n"
          ],
          "name": "stderr"
        },
        {
          "output_type": "stream",
          "text": [
            "[WARNING] [2019-08-25 06:58:03,755:EnsembleBuilder(1):e50c21fd734717aba9baaaf5a5ed66a7] No models better than random - using Dummy Score!\n"
          ],
          "name": "stdout"
        },
        {
          "output_type": "stream",
          "text": [
            "/usr/local/lib/python3.6/dist-packages/autosklearn/evaluation/train_evaluator.py:197: RuntimeWarning: Mean of empty slice\n",
            "  Y_train_pred = np.nanmean(Y_train_pred_full, axis=0)\n"
          ],
          "name": "stderr"
        },
        {
          "output_type": "stream",
          "text": [
            "[WARNING] [2019-08-25 06:58:05,767:EnsembleBuilder(1):e50c21fd734717aba9baaaf5a5ed66a7] No models better than random - using Dummy Score!\n",
            "[WARNING] [2019-08-25 06:58:07,772:EnsembleBuilder(1):e50c21fd734717aba9baaaf5a5ed66a7] No models better than random - using Dummy Score!\n"
          ],
          "name": "stdout"
        },
        {
          "output_type": "stream",
          "text": [
            "/usr/local/lib/python3.6/dist-packages/autosklearn/evaluation/train_evaluator.py:197: RuntimeWarning: Mean of empty slice\n",
            "  Y_train_pred = np.nanmean(Y_train_pred_full, axis=0)\n"
          ],
          "name": "stderr"
        },
        {
          "output_type": "stream",
          "text": [
            "[WARNING] [2019-08-25 06:58:09,784:EnsembleBuilder(1):e50c21fd734717aba9baaaf5a5ed66a7] No models better than random - using Dummy Score!\n",
            "[WARNING] [2019-08-25 06:58:11,789:EnsembleBuilder(1):e50c21fd734717aba9baaaf5a5ed66a7] No models better than random - using Dummy Score!\n"
          ],
          "name": "stdout"
        },
        {
          "output_type": "stream",
          "text": [
            "/usr/local/lib/python3.6/dist-packages/autosklearn/evaluation/train_evaluator.py:197: RuntimeWarning: Mean of empty slice\n",
            "  Y_train_pred = np.nanmean(Y_train_pred_full, axis=0)\n",
            "/usr/local/lib/python3.6/dist-packages/autosklearn/evaluation/train_evaluator.py:197: RuntimeWarning: Mean of empty slice\n",
            "  Y_train_pred = np.nanmean(Y_train_pred_full, axis=0)\n"
          ],
          "name": "stderr"
        },
        {
          "output_type": "stream",
          "text": [
            "[WARNING] [2019-08-25 06:58:13,807:EnsembleBuilder(1):e50c21fd734717aba9baaaf5a5ed66a7] No models better than random - using Dummy Score!\n",
            "[WARNING] [2019-08-25 06:58:15,814:EnsembleBuilder(1):e50c21fd734717aba9baaaf5a5ed66a7] No models better than random - using Dummy Score!\n",
            "[WARNING] [2019-08-25 06:58:17,823:EnsembleBuilder(1):e50c21fd734717aba9baaaf5a5ed66a7] No models better than random - using Dummy Score!\n",
            "[WARNING] [2019-08-25 06:58:19,829:EnsembleBuilder(1):e50c21fd734717aba9baaaf5a5ed66a7] No models better than random - using Dummy Score!\n",
            "[WARNING] [2019-08-25 06:58:21,835:EnsembleBuilder(1):e50c21fd734717aba9baaaf5a5ed66a7] No models better than random - using Dummy Score!\n",
            "[WARNING] [2019-08-25 06:58:23,843:EnsembleBuilder(1):e50c21fd734717aba9baaaf5a5ed66a7] No models better than random - using Dummy Score!\n",
            "[WARNING] [2019-08-25 06:58:25,857:EnsembleBuilder(1):e50c21fd734717aba9baaaf5a5ed66a7] No models better than random - using Dummy Score!\n",
            "[WARNING] [2019-08-25 06:58:27,870:EnsembleBuilder(1):e50c21fd734717aba9baaaf5a5ed66a7] No models better than random - using Dummy Score!\n",
            "[WARNING] [2019-08-25 06:58:29,884:EnsembleBuilder(1):e50c21fd734717aba9baaaf5a5ed66a7] No models better than random - using Dummy Score!\n",
            "[WARNING] [2019-08-25 06:58:31,903:EnsembleBuilder(1):e50c21fd734717aba9baaaf5a5ed66a7] No models better than random - using Dummy Score!\n",
            "[WARNING] [2019-08-25 06:58:33,914:EnsembleBuilder(1):e50c21fd734717aba9baaaf5a5ed66a7] No models better than random - using Dummy Score!\n",
            "[WARNING] [2019-08-25 06:58:35,925:EnsembleBuilder(1):e50c21fd734717aba9baaaf5a5ed66a7] No models better than random - using Dummy Score!\n",
            "[WARNING] [2019-08-25 06:58:37,939:EnsembleBuilder(1):e50c21fd734717aba9baaaf5a5ed66a7] No models better than random - using Dummy Score!\n",
            "[WARNING] [2019-08-25 06:58:39,954:EnsembleBuilder(1):e50c21fd734717aba9baaaf5a5ed66a7] No models better than random - using Dummy Score!\n",
            "[WARNING] [2019-08-25 06:58:41,975:EnsembleBuilder(1):e50c21fd734717aba9baaaf5a5ed66a7] No models better than random - using Dummy Score!\n",
            "[WARNING] [2019-08-25 06:58:43,991:EnsembleBuilder(1):e50c21fd734717aba9baaaf5a5ed66a7] No models better than random - using Dummy Score!\n",
            "[WARNING] [2019-08-25 06:58:46,010:EnsembleBuilder(1):e50c21fd734717aba9baaaf5a5ed66a7] No models better than random - using Dummy Score!\n",
            "[WARNING] [2019-08-25 06:58:48,027:EnsembleBuilder(1):e50c21fd734717aba9baaaf5a5ed66a7] No models better than random - using Dummy Score!\n",
            "[WARNING] [2019-08-25 06:58:50,044:EnsembleBuilder(1):e50c21fd734717aba9baaaf5a5ed66a7] No models better than random - using Dummy Score!\n",
            "[WARNING] [2019-08-25 06:58:52,061:EnsembleBuilder(1):e50c21fd734717aba9baaaf5a5ed66a7] No models better than random - using Dummy Score!\n",
            "[WARNING] [2019-08-25 06:58:54,077:EnsembleBuilder(1):e50c21fd734717aba9baaaf5a5ed66a7] No models better than random - using Dummy Score!\n",
            "[WARNING] [2019-08-25 06:58:56,092:EnsembleBuilder(1):e50c21fd734717aba9baaaf5a5ed66a7] No models better than random - using Dummy Score!\n",
            "[WARNING] [2019-08-25 06:58:58,107:EnsembleBuilder(1):e50c21fd734717aba9baaaf5a5ed66a7] No models better than random - using Dummy Score!\n",
            "[WARNING] [2019-08-25 06:59:00,124:EnsembleBuilder(1):e50c21fd734717aba9baaaf5a5ed66a7] No models better than random - using Dummy Score!\n",
            "[WARNING] [2019-08-25 06:59:02,140:EnsembleBuilder(1):e50c21fd734717aba9baaaf5a5ed66a7] No models better than random - using Dummy Score!\n",
            "[WARNING] [2019-08-25 06:59:04,157:EnsembleBuilder(1):e50c21fd734717aba9baaaf5a5ed66a7] No models better than random - using Dummy Score!\n",
            "[WARNING] [2019-08-25 06:59:06,173:EnsembleBuilder(1):e50c21fd734717aba9baaaf5a5ed66a7] No models better than random - using Dummy Score!\n",
            "[WARNING] [2019-08-25 06:59:08,188:EnsembleBuilder(1):e50c21fd734717aba9baaaf5a5ed66a7] No models better than random - using Dummy Score!\n",
            "[WARNING] [2019-08-25 06:59:10,201:EnsembleBuilder(1):e50c21fd734717aba9baaaf5a5ed66a7] No models better than random - using Dummy Score!\n",
            "[WARNING] [2019-08-25 06:59:12,216:EnsembleBuilder(1):e50c21fd734717aba9baaaf5a5ed66a7] No models better than random - using Dummy Score!\n",
            "[WARNING] [2019-08-25 06:59:14,230:EnsembleBuilder(1):e50c21fd734717aba9baaaf5a5ed66a7] No models better than random - using Dummy Score!\n"
          ],
          "name": "stdout"
        },
        {
          "output_type": "stream",
          "text": [
            "/usr/local/lib/python3.6/dist-packages/autosklearn/evaluation/train_evaluator.py:197: RuntimeWarning: Mean of empty slice\n",
            "  Y_train_pred = np.nanmean(Y_train_pred_full, axis=0)\n",
            "/usr/local/lib/python3.6/dist-packages/autosklearn/evaluation/train_evaluator.py:197: RuntimeWarning: Mean of empty slice\n",
            "  Y_train_pred = np.nanmean(Y_train_pred_full, axis=0)\n"
          ],
          "name": "stderr"
        },
        {
          "output_type": "stream",
          "text": [
            "[WARNING] [2019-08-25 06:59:16,247:EnsembleBuilder(1):e50c21fd734717aba9baaaf5a5ed66a7] No models better than random - using Dummy Score!\n",
            "[WARNING] [2019-08-25 06:59:18,253:EnsembleBuilder(1):e50c21fd734717aba9baaaf5a5ed66a7] No models better than random - using Dummy Score!\n"
          ],
          "name": "stdout"
        },
        {
          "output_type": "stream",
          "text": [
            "/usr/local/lib/python3.6/dist-packages/autosklearn/evaluation/train_evaluator.py:197: RuntimeWarning: Mean of empty slice\n",
            "  Y_train_pred = np.nanmean(Y_train_pred_full, axis=0)\n",
            "/usr/local/lib/python3.6/dist-packages/autosklearn/evaluation/train_evaluator.py:197: RuntimeWarning: Mean of empty slice\n",
            "  Y_train_pred = np.nanmean(Y_train_pred_full, axis=0)\n"
          ],
          "name": "stderr"
        },
        {
          "output_type": "stream",
          "text": [
            "[WARNING] [2019-08-25 06:59:20,268:EnsembleBuilder(1):e50c21fd734717aba9baaaf5a5ed66a7] No models better than random - using Dummy Score!\n"
          ],
          "name": "stdout"
        },
        {
          "output_type": "stream",
          "text": [
            "/usr/local/lib/python3.6/dist-packages/autosklearn/evaluation/train_evaluator.py:197: RuntimeWarning: Mean of empty slice\n",
            "  Y_train_pred = np.nanmean(Y_train_pred_full, axis=0)\n"
          ],
          "name": "stderr"
        },
        {
          "output_type": "stream",
          "text": [
            "[WARNING] [2019-08-25 06:59:22,276:EnsembleBuilder(1):e50c21fd734717aba9baaaf5a5ed66a7] No models better than random - using Dummy Score!\n"
          ],
          "name": "stdout"
        },
        {
          "output_type": "stream",
          "text": [
            "/usr/local/lib/python3.6/dist-packages/autosklearn/evaluation/train_evaluator.py:197: RuntimeWarning: Mean of empty slice\n",
            "  Y_train_pred = np.nanmean(Y_train_pred_full, axis=0)\n"
          ],
          "name": "stderr"
        },
        {
          "output_type": "stream",
          "text": [
            "[WARNING] [2019-08-25 06:59:24,291:EnsembleBuilder(1):e50c21fd734717aba9baaaf5a5ed66a7] No models better than random - using Dummy Score!\n",
            "[WARNING] [2019-08-25 06:59:26,296:EnsembleBuilder(1):e50c21fd734717aba9baaaf5a5ed66a7] No models better than random - using Dummy Score!\n"
          ],
          "name": "stdout"
        },
        {
          "output_type": "stream",
          "text": [
            "/usr/local/lib/python3.6/dist-packages/autosklearn/evaluation/train_evaluator.py:197: RuntimeWarning: Mean of empty slice\n",
            "  Y_train_pred = np.nanmean(Y_train_pred_full, axis=0)\n"
          ],
          "name": "stderr"
        },
        {
          "output_type": "stream",
          "text": [
            "[WARNING] [2019-08-25 06:59:28,313:EnsembleBuilder(1):e50c21fd734717aba9baaaf5a5ed66a7] No models better than random - using Dummy Score!\n"
          ],
          "name": "stdout"
        },
        {
          "output_type": "stream",
          "text": [
            "/usr/local/lib/python3.6/dist-packages/autosklearn/evaluation/train_evaluator.py:197: RuntimeWarning: Mean of empty slice\n",
            "  Y_train_pred = np.nanmean(Y_train_pred_full, axis=0)\n"
          ],
          "name": "stderr"
        },
        {
          "output_type": "stream",
          "text": [
            "[WARNING] [2019-08-25 06:59:30,333:EnsembleBuilder(1):e50c21fd734717aba9baaaf5a5ed66a7] No models better than random - using Dummy Score!\n",
            "[WARNING] [2019-08-25 06:59:32,339:EnsembleBuilder(1):e50c21fd734717aba9baaaf5a5ed66a7] No models better than random - using Dummy Score!\n",
            "[WARNING] [2019-08-25 06:59:34,357:EnsembleBuilder(1):e50c21fd734717aba9baaaf5a5ed66a7] No models better than random - using Dummy Score!\n",
            "[WARNING] [2019-08-25 06:59:36,374:EnsembleBuilder(1):e50c21fd734717aba9baaaf5a5ed66a7] No models better than random - using Dummy Score!\n",
            "[WARNING] [2019-08-25 06:59:38,390:EnsembleBuilder(1):e50c21fd734717aba9baaaf5a5ed66a7] No models better than random - using Dummy Score!\n"
          ],
          "name": "stdout"
        },
        {
          "output_type": "stream",
          "text": [
            "/usr/local/lib/python3.6/dist-packages/autosklearn/evaluation/train_evaluator.py:197: RuntimeWarning: Mean of empty slice\n",
            "  Y_train_pred = np.nanmean(Y_train_pred_full, axis=0)\n"
          ],
          "name": "stderr"
        },
        {
          "output_type": "stream",
          "text": [
            "[WARNING] [2019-08-25 06:59:40,403:EnsembleBuilder(1):e50c21fd734717aba9baaaf5a5ed66a7] No models better than random - using Dummy Score!\n"
          ],
          "name": "stdout"
        },
        {
          "output_type": "stream",
          "text": [
            "/usr/local/lib/python3.6/dist-packages/autosklearn/evaluation/train_evaluator.py:197: RuntimeWarning: Mean of empty slice\n",
            "  Y_train_pred = np.nanmean(Y_train_pred_full, axis=0)\n"
          ],
          "name": "stderr"
        },
        {
          "output_type": "stream",
          "text": [
            "[WARNING] [2019-08-25 06:59:42,412:EnsembleBuilder(1):e50c21fd734717aba9baaaf5a5ed66a7] No models better than random - using Dummy Score!\n"
          ],
          "name": "stdout"
        },
        {
          "output_type": "stream",
          "text": [
            "/usr/local/lib/python3.6/dist-packages/autosklearn/evaluation/train_evaluator.py:197: RuntimeWarning: Mean of empty slice\n",
            "  Y_train_pred = np.nanmean(Y_train_pred_full, axis=0)\n"
          ],
          "name": "stderr"
        },
        {
          "output_type": "stream",
          "text": [
            "[WARNING] [2019-08-25 06:59:44,419:EnsembleBuilder(1):e50c21fd734717aba9baaaf5a5ed66a7] No models better than random - using Dummy Score!\n",
            "[WARNING] [2019-08-25 06:59:46,427:EnsembleBuilder(1):e50c21fd734717aba9baaaf5a5ed66a7] No models better than random - using Dummy Score!\n",
            "[WARNING] [2019-08-25 06:59:48,434:EnsembleBuilder(1):e50c21fd734717aba9baaaf5a5ed66a7] No models better than random - using Dummy Score!\n",
            "[WARNING] [2019-08-25 06:59:50,450:EnsembleBuilder(1):e50c21fd734717aba9baaaf5a5ed66a7] No models better than random - using Dummy Score!\n",
            "[WARNING] [2019-08-25 06:59:52,468:EnsembleBuilder(1):e50c21fd734717aba9baaaf5a5ed66a7] No models better than random - using Dummy Score!\n",
            "[WARNING] [2019-08-25 06:59:54,483:EnsembleBuilder(1):e50c21fd734717aba9baaaf5a5ed66a7] No models better than random - using Dummy Score!\n",
            "[WARNING] [2019-08-25 06:59:56,500:EnsembleBuilder(1):e50c21fd734717aba9baaaf5a5ed66a7] No models better than random - using Dummy Score!\n",
            "[WARNING] [2019-08-25 06:59:58,518:EnsembleBuilder(1):e50c21fd734717aba9baaaf5a5ed66a7] No models better than random - using Dummy Score!\n",
            "[WARNING] [2019-08-25 07:00:00,533:EnsembleBuilder(1):e50c21fd734717aba9baaaf5a5ed66a7] No models better than random - using Dummy Score!\n",
            "[WARNING] [2019-08-25 07:00:02,549:EnsembleBuilder(1):e50c21fd734717aba9baaaf5a5ed66a7] No models better than random - using Dummy Score!\n"
          ],
          "name": "stdout"
        },
        {
          "output_type": "stream",
          "text": [
            "/usr/local/lib/python3.6/dist-packages/autosklearn/evaluation/train_evaluator.py:197: RuntimeWarning: Mean of empty slice\n",
            "  Y_train_pred = np.nanmean(Y_train_pred_full, axis=0)\n"
          ],
          "name": "stderr"
        },
        {
          "output_type": "stream",
          "text": [
            "[WARNING] [2019-08-25 07:00:04,569:EnsembleBuilder(1):e50c21fd734717aba9baaaf5a5ed66a7] No models better than random - using Dummy Score!\n"
          ],
          "name": "stdout"
        },
        {
          "output_type": "stream",
          "text": [
            "/usr/local/lib/python3.6/dist-packages/autosklearn/evaluation/train_evaluator.py:197: RuntimeWarning: Mean of empty slice\n",
            "  Y_train_pred = np.nanmean(Y_train_pred_full, axis=0)\n"
          ],
          "name": "stderr"
        },
        {
          "output_type": "stream",
          "text": [
            "[WARNING] [2019-08-25 07:00:06,588:EnsembleBuilder(1):e50c21fd734717aba9baaaf5a5ed66a7] No models better than random - using Dummy Score!\n",
            "[WARNING] [2019-08-25 07:00:08,593:EnsembleBuilder(1):e50c21fd734717aba9baaaf5a5ed66a7] No models better than random - using Dummy Score!\n",
            "[WARNING] [2019-08-25 07:00:10,621:EnsembleBuilder(1):e50c21fd734717aba9baaaf5a5ed66a7] No models better than random - using Dummy Score!\n",
            "[WARNING] [2019-08-25 07:00:12,636:EnsembleBuilder(1):e50c21fd734717aba9baaaf5a5ed66a7] No models better than random - using Dummy Score!\n",
            "[WARNING] [2019-08-25 07:00:14,658:EnsembleBuilder(1):e50c21fd734717aba9baaaf5a5ed66a7] No models better than random - using Dummy Score!\n",
            "[WARNING] [2019-08-25 07:00:16,664:EnsembleBuilder(1):e50c21fd734717aba9baaaf5a5ed66a7] No models better than random - using Dummy Score!\n",
            "[WARNING] [2019-08-25 07:00:18,670:EnsembleBuilder(1):e50c21fd734717aba9baaaf5a5ed66a7] No models better than random - using Dummy Score!\n",
            "[WARNING] [2019-08-25 07:00:20,676:EnsembleBuilder(1):e50c21fd734717aba9baaaf5a5ed66a7] No models better than random - using Dummy Score!\n",
            "[WARNING] [2019-08-25 07:00:22,687:EnsembleBuilder(1):e50c21fd734717aba9baaaf5a5ed66a7] No models better than random - using Dummy Score!\n",
            "[WARNING] [2019-08-25 07:00:24,700:EnsembleBuilder(1):e50c21fd734717aba9baaaf5a5ed66a7] No models better than random - using Dummy Score!\n",
            "[WARNING] [2019-08-25 07:00:26,712:EnsembleBuilder(1):e50c21fd734717aba9baaaf5a5ed66a7] No models better than random - using Dummy Score!\n",
            "[WARNING] [2019-08-25 07:00:28,726:EnsembleBuilder(1):e50c21fd734717aba9baaaf5a5ed66a7] No models better than random - using Dummy Score!\n",
            "[WARNING] [2019-08-25 07:00:30,739:EnsembleBuilder(1):e50c21fd734717aba9baaaf5a5ed66a7] No models better than random - using Dummy Score!\n",
            "[WARNING] [2019-08-25 07:00:32,753:EnsembleBuilder(1):e50c21fd734717aba9baaaf5a5ed66a7] No models better than random - using Dummy Score!\n",
            "[WARNING] [2019-08-25 07:00:34,769:EnsembleBuilder(1):e50c21fd734717aba9baaaf5a5ed66a7] No models better than random - using Dummy Score!\n",
            "[WARNING] [2019-08-25 07:00:36,781:EnsembleBuilder(1):e50c21fd734717aba9baaaf5a5ed66a7] No models better than random - using Dummy Score!\n"
          ],
          "name": "stdout"
        },
        {
          "output_type": "stream",
          "text": [
            "/usr/local/lib/python3.6/dist-packages/autosklearn/evaluation/train_evaluator.py:197: RuntimeWarning: Mean of empty slice\n",
            "  Y_train_pred = np.nanmean(Y_train_pred_full, axis=0)\n",
            "/usr/local/lib/python3.6/dist-packages/autosklearn/evaluation/train_evaluator.py:197: RuntimeWarning: Mean of empty slice\n",
            "  Y_train_pred = np.nanmean(Y_train_pred_full, axis=0)\n"
          ],
          "name": "stderr"
        },
        {
          "output_type": "stream",
          "text": [
            "[WARNING] [2019-08-25 07:00:38,796:EnsembleBuilder(1):e50c21fd734717aba9baaaf5a5ed66a7] No models better than random - using Dummy Score!\n"
          ],
          "name": "stdout"
        },
        {
          "output_type": "stream",
          "text": [
            "/usr/local/lib/python3.6/dist-packages/autosklearn/evaluation/train_evaluator.py:197: RuntimeWarning: Mean of empty slice\n",
            "  Y_train_pred = np.nanmean(Y_train_pred_full, axis=0)\n"
          ],
          "name": "stderr"
        },
        {
          "output_type": "stream",
          "text": [
            "[WARNING] [2019-08-25 07:00:40,803:EnsembleBuilder(1):e50c21fd734717aba9baaaf5a5ed66a7] No models better than random - using Dummy Score!\n",
            "[WARNING] [2019-08-25 07:00:42,821:EnsembleBuilder(1):e50c21fd734717aba9baaaf5a5ed66a7] No models better than random - using Dummy Score!\n"
          ],
          "name": "stdout"
        },
        {
          "output_type": "stream",
          "text": [
            "/usr/local/lib/python3.6/dist-packages/autosklearn/evaluation/train_evaluator.py:197: RuntimeWarning: Mean of empty slice\n",
            "  Y_train_pred = np.nanmean(Y_train_pred_full, axis=0)\n"
          ],
          "name": "stderr"
        },
        {
          "output_type": "stream",
          "text": [
            "[WARNING] [2019-08-25 07:00:44,836:EnsembleBuilder(1):e50c21fd734717aba9baaaf5a5ed66a7] No models better than random - using Dummy Score!\n",
            "[WARNING] [2019-08-25 07:00:46,847:EnsembleBuilder(1):e50c21fd734717aba9baaaf5a5ed66a7] No models better than random - using Dummy Score!\n"
          ],
          "name": "stdout"
        },
        {
          "output_type": "stream",
          "text": [
            "/usr/local/lib/python3.6/dist-packages/autosklearn/evaluation/train_evaluator.py:197: RuntimeWarning: Mean of empty slice\n",
            "  Y_train_pred = np.nanmean(Y_train_pred_full, axis=0)\n"
          ],
          "name": "stderr"
        },
        {
          "output_type": "stream",
          "text": [
            "[WARNING] [2019-08-25 07:00:48,865:EnsembleBuilder(1):e50c21fd734717aba9baaaf5a5ed66a7] No models better than random - using Dummy Score!\n",
            "[WARNING] [2019-08-25 07:00:50,882:EnsembleBuilder(1):e50c21fd734717aba9baaaf5a5ed66a7] No models better than random - using Dummy Score!\n"
          ],
          "name": "stdout"
        },
        {
          "output_type": "stream",
          "text": [
            "/usr/local/lib/python3.6/dist-packages/autosklearn/evaluation/train_evaluator.py:197: RuntimeWarning: Mean of empty slice\n",
            "  Y_train_pred = np.nanmean(Y_train_pred_full, axis=0)\n"
          ],
          "name": "stderr"
        },
        {
          "output_type": "stream",
          "text": [
            "[WARNING] [2019-08-25 07:00:52,889:EnsembleBuilder(1):e50c21fd734717aba9baaaf5a5ed66a7] No models better than random - using Dummy Score!\n"
          ],
          "name": "stdout"
        },
        {
          "output_type": "stream",
          "text": [
            "/usr/local/lib/python3.6/dist-packages/autosklearn/evaluation/train_evaluator.py:197: RuntimeWarning: Mean of empty slice\n",
            "  Y_train_pred = np.nanmean(Y_train_pred_full, axis=0)\n"
          ],
          "name": "stderr"
        },
        {
          "output_type": "stream",
          "text": [
            "[WARNING] [2019-08-25 07:00:54,904:EnsembleBuilder(1):e50c21fd734717aba9baaaf5a5ed66a7] No models better than random - using Dummy Score!\n",
            "[WARNING] [2019-08-25 07:00:56,910:EnsembleBuilder(1):e50c21fd734717aba9baaaf5a5ed66a7] No models better than random - using Dummy Score!\n",
            "[WARNING] [2019-08-25 07:00:58,923:EnsembleBuilder(1):e50c21fd734717aba9baaaf5a5ed66a7] No models better than random - using Dummy Score!\n",
            "[WARNING] [2019-08-25 07:01:00,935:EnsembleBuilder(1):e50c21fd734717aba9baaaf5a5ed66a7] No models better than random - using Dummy Score!\n",
            "[WARNING] [2019-08-25 07:01:02,948:EnsembleBuilder(1):e50c21fd734717aba9baaaf5a5ed66a7] No models better than random - using Dummy Score!\n",
            "[WARNING] [2019-08-25 07:01:04,963:EnsembleBuilder(1):e50c21fd734717aba9baaaf5a5ed66a7] No models better than random - using Dummy Score!\n",
            "[WARNING] [2019-08-25 07:01:06,978:EnsembleBuilder(1):e50c21fd734717aba9baaaf5a5ed66a7] No models better than random - using Dummy Score!\n",
            "[WARNING] [2019-08-25 07:01:09,002:EnsembleBuilder(1):e50c21fd734717aba9baaaf5a5ed66a7] No models better than random - using Dummy Score!\n",
            "[WARNING] [2019-08-25 07:01:11,017:EnsembleBuilder(1):e50c21fd734717aba9baaaf5a5ed66a7] No models better than random - using Dummy Score!\n",
            "[WARNING] [2019-08-25 07:01:13,035:EnsembleBuilder(1):e50c21fd734717aba9baaaf5a5ed66a7] No models better than random - using Dummy Score!\n",
            "[WARNING] [2019-08-25 07:01:15,052:EnsembleBuilder(1):e50c21fd734717aba9baaaf5a5ed66a7] No models better than random - using Dummy Score!\n",
            "[WARNING] [2019-08-25 07:01:17,067:EnsembleBuilder(1):e50c21fd734717aba9baaaf5a5ed66a7] No models better than random - using Dummy Score!\n",
            "[WARNING] [2019-08-25 07:01:19,084:EnsembleBuilder(1):e50c21fd734717aba9baaaf5a5ed66a7] No models better than random - using Dummy Score!\n",
            "[WARNING] [2019-08-25 07:01:21,102:EnsembleBuilder(1):e50c21fd734717aba9baaaf5a5ed66a7] No models better than random - using Dummy Score!\n",
            "[WARNING] [2019-08-25 07:01:23,119:EnsembleBuilder(1):e50c21fd734717aba9baaaf5a5ed66a7] No models better than random - using Dummy Score!\n",
            "[WARNING] [2019-08-25 07:01:25,136:EnsembleBuilder(1):e50c21fd734717aba9baaaf5a5ed66a7] No models better than random - using Dummy Score!\n",
            "[WARNING] [2019-08-25 07:01:27,152:EnsembleBuilder(1):e50c21fd734717aba9baaaf5a5ed66a7] No models better than random - using Dummy Score!\n",
            "[WARNING] [2019-08-25 07:01:29,169:EnsembleBuilder(1):e50c21fd734717aba9baaaf5a5ed66a7] No models better than random - using Dummy Score!\n",
            "[WARNING] [2019-08-25 07:01:31,186:EnsembleBuilder(1):e50c21fd734717aba9baaaf5a5ed66a7] No models better than random - using Dummy Score!\n",
            "[WARNING] [2019-08-25 07:01:33,201:EnsembleBuilder(1):e50c21fd734717aba9baaaf5a5ed66a7] No models better than random - using Dummy Score!\n",
            "[WARNING] [2019-08-25 07:01:35,220:EnsembleBuilder(1):e50c21fd734717aba9baaaf5a5ed66a7] No models better than random - using Dummy Score!\n",
            "[WARNING] [2019-08-25 07:01:37,236:EnsembleBuilder(1):e50c21fd734717aba9baaaf5a5ed66a7] No models better than random - using Dummy Score!\n",
            "[WARNING] [2019-08-25 07:01:39,253:EnsembleBuilder(1):e50c21fd734717aba9baaaf5a5ed66a7] No models better than random - using Dummy Score!\n",
            "[WARNING] [2019-08-25 07:01:41,268:EnsembleBuilder(1):e50c21fd734717aba9baaaf5a5ed66a7] No models better than random - using Dummy Score!\n"
          ],
          "name": "stdout"
        },
        {
          "output_type": "stream",
          "text": [
            "/usr/local/lib/python3.6/dist-packages/autosklearn/evaluation/train_evaluator.py:197: RuntimeWarning: Mean of empty slice\n",
            "  Y_train_pred = np.nanmean(Y_train_pred_full, axis=0)\n"
          ],
          "name": "stderr"
        },
        {
          "output_type": "stream",
          "text": [
            "[WARNING] [2019-08-25 07:01:43,286:EnsembleBuilder(1):e50c21fd734717aba9baaaf5a5ed66a7] No models better than random - using Dummy Score!\n"
          ],
          "name": "stdout"
        },
        {
          "output_type": "stream",
          "text": [
            "/usr/local/lib/python3.6/dist-packages/autosklearn/evaluation/train_evaluator.py:197: RuntimeWarning: Mean of empty slice\n",
            "  Y_train_pred = np.nanmean(Y_train_pred_full, axis=0)\n"
          ],
          "name": "stderr"
        },
        {
          "output_type": "stream",
          "text": [
            "[WARNING] [2019-08-25 07:01:45,302:EnsembleBuilder(1):e50c21fd734717aba9baaaf5a5ed66a7] No models better than random - using Dummy Score!\n",
            "[WARNING] [2019-08-25 07:01:47,313:EnsembleBuilder(1):e50c21fd734717aba9baaaf5a5ed66a7] No models better than random - using Dummy Score!\n"
          ],
          "name": "stdout"
        },
        {
          "output_type": "stream",
          "text": [
            "/usr/local/lib/python3.6/dist-packages/autosklearn/evaluation/train_evaluator.py:197: RuntimeWarning: Mean of empty slice\n",
            "  Y_train_pred = np.nanmean(Y_train_pred_full, axis=0)\n",
            "/usr/local/lib/python3.6/dist-packages/autosklearn/evaluation/train_evaluator.py:197: RuntimeWarning: Mean of empty slice\n",
            "  Y_train_pred = np.nanmean(Y_train_pred_full, axis=0)\n"
          ],
          "name": "stderr"
        },
        {
          "output_type": "stream",
          "text": [
            "[WARNING] [2019-08-25 07:01:49,336:EnsembleBuilder(1):e50c21fd734717aba9baaaf5a5ed66a7] No models better than random - using Dummy Score!\n"
          ],
          "name": "stdout"
        },
        {
          "output_type": "stream",
          "text": [
            "/usr/local/lib/python3.6/dist-packages/autosklearn/evaluation/train_evaluator.py:197: RuntimeWarning: Mean of empty slice\n",
            "  Y_train_pred = np.nanmean(Y_train_pred_full, axis=0)\n"
          ],
          "name": "stderr"
        },
        {
          "output_type": "stream",
          "text": [
            "[WARNING] [2019-08-25 07:01:51,343:EnsembleBuilder(1):e50c21fd734717aba9baaaf5a5ed66a7] No models better than random - using Dummy Score!\n"
          ],
          "name": "stdout"
        },
        {
          "output_type": "stream",
          "text": [
            "/usr/local/lib/python3.6/dist-packages/autosklearn/evaluation/train_evaluator.py:197: RuntimeWarning: Mean of empty slice\n",
            "  Y_train_pred = np.nanmean(Y_train_pred_full, axis=0)\n"
          ],
          "name": "stderr"
        },
        {
          "output_type": "stream",
          "text": [
            "[WARNING] [2019-08-25 07:01:53,356:EnsembleBuilder(1):e50c21fd734717aba9baaaf5a5ed66a7] No models better than random - using Dummy Score!\n",
            "[WARNING] [2019-08-25 07:01:55,363:EnsembleBuilder(1):e50c21fd734717aba9baaaf5a5ed66a7] No models better than random - using Dummy Score!\n"
          ],
          "name": "stdout"
        },
        {
          "output_type": "stream",
          "text": [
            "/usr/local/lib/python3.6/dist-packages/autosklearn/evaluation/train_evaluator.py:197: RuntimeWarning: Mean of empty slice\n",
            "  Y_train_pred = np.nanmean(Y_train_pred_full, axis=0)\n",
            "/usr/local/lib/python3.6/dist-packages/autosklearn/evaluation/train_evaluator.py:197: RuntimeWarning: Mean of empty slice\n",
            "  Y_train_pred = np.nanmean(Y_train_pred_full, axis=0)\n"
          ],
          "name": "stderr"
        },
        {
          "output_type": "stream",
          "text": [
            "[WARNING] [2019-08-25 07:01:57,383:EnsembleBuilder(1):e50c21fd734717aba9baaaf5a5ed66a7] No models better than random - using Dummy Score!\n",
            "[WARNING] [2019-08-25 07:01:59,388:EnsembleBuilder(1):e50c21fd734717aba9baaaf5a5ed66a7] No models better than random - using Dummy Score!\n"
          ],
          "name": "stdout"
        },
        {
          "output_type": "stream",
          "text": [
            "/usr/local/lib/python3.6/dist-packages/autosklearn/evaluation/train_evaluator.py:197: RuntimeWarning: Mean of empty slice\n",
            "  Y_train_pred = np.nanmean(Y_train_pred_full, axis=0)\n",
            "/usr/local/lib/python3.6/dist-packages/autosklearn/evaluation/train_evaluator.py:197: RuntimeWarning: Mean of empty slice\n",
            "  Y_train_pred = np.nanmean(Y_train_pred_full, axis=0)\n"
          ],
          "name": "stderr"
        },
        {
          "output_type": "stream",
          "text": [
            "[WARNING] [2019-08-25 07:02:01,404:EnsembleBuilder(1):e50c21fd734717aba9baaaf5a5ed66a7] No models better than random - using Dummy Score!\n"
          ],
          "name": "stdout"
        },
        {
          "output_type": "stream",
          "text": [
            "/usr/local/lib/python3.6/dist-packages/autosklearn/evaluation/train_evaluator.py:197: RuntimeWarning: Mean of empty slice\n",
            "  Y_train_pred = np.nanmean(Y_train_pred_full, axis=0)\n"
          ],
          "name": "stderr"
        },
        {
          "output_type": "stream",
          "text": [
            "[WARNING] [2019-08-25 07:02:03,418:EnsembleBuilder(1):e50c21fd734717aba9baaaf5a5ed66a7] No models better than random - using Dummy Score!\n",
            "[WARNING] [2019-08-25 07:02:05,426:EnsembleBuilder(1):e50c21fd734717aba9baaaf5a5ed66a7] No models better than random - using Dummy Score!\n",
            "[WARNING] [2019-08-25 07:02:07,435:EnsembleBuilder(1):e50c21fd734717aba9baaaf5a5ed66a7] No models better than random - using Dummy Score!\n",
            "[WARNING] [2019-08-25 07:02:09,450:EnsembleBuilder(1):e50c21fd734717aba9baaaf5a5ed66a7] No models better than random - using Dummy Score!\n",
            "[WARNING] [2019-08-25 07:02:11,464:EnsembleBuilder(1):e50c21fd734717aba9baaaf5a5ed66a7] No models better than random - using Dummy Score!\n",
            "[WARNING] [2019-08-25 07:02:13,482:EnsembleBuilder(1):e50c21fd734717aba9baaaf5a5ed66a7] No models better than random - using Dummy Score!\n",
            "[WARNING] [2019-08-25 07:02:15,497:EnsembleBuilder(1):e50c21fd734717aba9baaaf5a5ed66a7] No models better than random - using Dummy Score!\n",
            "[WARNING] [2019-08-25 07:02:17,513:EnsembleBuilder(1):e50c21fd734717aba9baaaf5a5ed66a7] No models better than random - using Dummy Score!\n",
            "[WARNING] [2019-08-25 07:02:19,529:EnsembleBuilder(1):e50c21fd734717aba9baaaf5a5ed66a7] No models better than random - using Dummy Score!\n"
          ],
          "name": "stdout"
        },
        {
          "output_type": "stream",
          "text": [
            "/usr/local/lib/python3.6/dist-packages/autosklearn/evaluation/train_evaluator.py:197: RuntimeWarning: Mean of empty slice\n",
            "  Y_train_pred = np.nanmean(Y_train_pred_full, axis=0)\n"
          ],
          "name": "stderr"
        },
        {
          "output_type": "stream",
          "text": [
            "[WARNING] [2019-08-25 07:02:21,546:EnsembleBuilder(1):e50c21fd734717aba9baaaf5a5ed66a7] No models better than random - using Dummy Score!\n"
          ],
          "name": "stdout"
        },
        {
          "output_type": "stream",
          "text": [
            "/usr/local/lib/python3.6/dist-packages/autosklearn/evaluation/train_evaluator.py:197: RuntimeWarning: Mean of empty slice\n",
            "  Y_train_pred = np.nanmean(Y_train_pred_full, axis=0)\n"
          ],
          "name": "stderr"
        },
        {
          "output_type": "stream",
          "text": [
            "[WARNING] [2019-08-25 07:02:23,567:EnsembleBuilder(1):e50c21fd734717aba9baaaf5a5ed66a7] No models better than random - using Dummy Score!\n"
          ],
          "name": "stdout"
        },
        {
          "output_type": "stream",
          "text": [
            "/usr/local/lib/python3.6/dist-packages/autosklearn/evaluation/train_evaluator.py:197: RuntimeWarning: Mean of empty slice\n",
            "  Y_train_pred = np.nanmean(Y_train_pred_full, axis=0)\n"
          ],
          "name": "stderr"
        },
        {
          "output_type": "stream",
          "text": [
            "[WARNING] [2019-08-25 07:02:25,574:EnsembleBuilder(1):e50c21fd734717aba9baaaf5a5ed66a7] No models better than random - using Dummy Score!\n"
          ],
          "name": "stdout"
        },
        {
          "output_type": "stream",
          "text": [
            "/usr/local/lib/python3.6/dist-packages/autosklearn/evaluation/train_evaluator.py:197: RuntimeWarning: Mean of empty slice\n",
            "  Y_train_pred = np.nanmean(Y_train_pred_full, axis=0)\n"
          ],
          "name": "stderr"
        },
        {
          "output_type": "stream",
          "text": [
            "[WARNING] [2019-08-25 07:02:27,590:EnsembleBuilder(1):e50c21fd734717aba9baaaf5a5ed66a7] No models better than random - using Dummy Score!\n",
            "[WARNING] [2019-08-25 07:02:29,597:EnsembleBuilder(1):e50c21fd734717aba9baaaf5a5ed66a7] No models better than random - using Dummy Score!\n"
          ],
          "name": "stdout"
        },
        {
          "output_type": "stream",
          "text": [
            "/usr/local/lib/python3.6/dist-packages/autosklearn/evaluation/train_evaluator.py:197: RuntimeWarning: Mean of empty slice\n",
            "  Y_train_pred = np.nanmean(Y_train_pred_full, axis=0)\n",
            "/usr/local/lib/python3.6/dist-packages/autosklearn/evaluation/train_evaluator.py:197: RuntimeWarning: Mean of empty slice\n",
            "  Y_train_pred = np.nanmean(Y_train_pred_full, axis=0)\n"
          ],
          "name": "stderr"
        },
        {
          "output_type": "stream",
          "text": [
            "[WARNING] [2019-08-25 07:02:31,615:EnsembleBuilder(1):e50c21fd734717aba9baaaf5a5ed66a7] No models better than random - using Dummy Score!\n"
          ],
          "name": "stdout"
        },
        {
          "output_type": "stream",
          "text": [
            "/usr/local/lib/python3.6/dist-packages/autosklearn/evaluation/train_evaluator.py:197: RuntimeWarning: Mean of empty slice\n",
            "  Y_train_pred = np.nanmean(Y_train_pred_full, axis=0)\n"
          ],
          "name": "stderr"
        },
        {
          "output_type": "stream",
          "text": [
            "[WARNING] [2019-08-25 07:02:33,624:EnsembleBuilder(1):e50c21fd734717aba9baaaf5a5ed66a7] No models better than random - using Dummy Score!\n"
          ],
          "name": "stdout"
        },
        {
          "output_type": "stream",
          "text": [
            "/usr/local/lib/python3.6/dist-packages/autosklearn/evaluation/train_evaluator.py:197: RuntimeWarning: Mean of empty slice\n",
            "  Y_train_pred = np.nanmean(Y_train_pred_full, axis=0)\n"
          ],
          "name": "stderr"
        },
        {
          "output_type": "stream",
          "text": [
            "[WARNING] [2019-08-25 07:02:35,633:EnsembleBuilder(1):e50c21fd734717aba9baaaf5a5ed66a7] No models better than random - using Dummy Score!\n"
          ],
          "name": "stdout"
        },
        {
          "output_type": "stream",
          "text": [
            "/usr/local/lib/python3.6/dist-packages/autosklearn/evaluation/train_evaluator.py:197: RuntimeWarning: Mean of empty slice\n",
            "  Y_train_pred = np.nanmean(Y_train_pred_full, axis=0)\n"
          ],
          "name": "stderr"
        },
        {
          "output_type": "stream",
          "text": [
            "[WARNING] [2019-08-25 07:02:37,647:EnsembleBuilder(1):e50c21fd734717aba9baaaf5a5ed66a7] No models better than random - using Dummy Score!\n",
            "[WARNING] [2019-08-25 07:02:39,659:EnsembleBuilder(1):e50c21fd734717aba9baaaf5a5ed66a7] No models better than random - using Dummy Score!\n",
            "[WARNING] [2019-08-25 07:02:41,675:EnsembleBuilder(1):e50c21fd734717aba9baaaf5a5ed66a7] No models better than random - using Dummy Score!\n",
            "[WARNING] [2019-08-25 07:02:43,693:EnsembleBuilder(1):e50c21fd734717aba9baaaf5a5ed66a7] No models better than random - using Dummy Score!\n",
            "[WARNING] [2019-08-25 07:02:45,710:EnsembleBuilder(1):e50c21fd734717aba9baaaf5a5ed66a7] No models better than random - using Dummy Score!\n",
            "[WARNING] [2019-08-25 07:02:47,733:EnsembleBuilder(1):e50c21fd734717aba9baaaf5a5ed66a7] No models better than random - using Dummy Score!\n"
          ],
          "name": "stdout"
        },
        {
          "output_type": "stream",
          "text": [
            "/usr/local/lib/python3.6/dist-packages/autosklearn/evaluation/train_evaluator.py:197: RuntimeWarning: Mean of empty slice\n",
            "  Y_train_pred = np.nanmean(Y_train_pred_full, axis=0)\n"
          ],
          "name": "stderr"
        },
        {
          "output_type": "stream",
          "text": [
            "[WARNING] [2019-08-25 07:02:49,752:EnsembleBuilder(1):e50c21fd734717aba9baaaf5a5ed66a7] No models better than random - using Dummy Score!\n"
          ],
          "name": "stdout"
        },
        {
          "output_type": "stream",
          "text": [
            "/usr/local/lib/python3.6/dist-packages/autosklearn/evaluation/train_evaluator.py:197: RuntimeWarning: Mean of empty slice\n",
            "  Y_train_pred = np.nanmean(Y_train_pred_full, axis=0)\n"
          ],
          "name": "stderr"
        },
        {
          "output_type": "stream",
          "text": [
            "[WARNING] [2019-08-25 07:02:51,766:EnsembleBuilder(1):e50c21fd734717aba9baaaf5a5ed66a7] No models better than random - using Dummy Score!\n"
          ],
          "name": "stdout"
        },
        {
          "output_type": "stream",
          "text": [
            "/usr/local/lib/python3.6/dist-packages/autosklearn/evaluation/train_evaluator.py:197: RuntimeWarning: Mean of empty slice\n",
            "  Y_train_pred = np.nanmean(Y_train_pred_full, axis=0)\n",
            "/usr/local/lib/python3.6/dist-packages/autosklearn/evaluation/train_evaluator.py:197: RuntimeWarning: Mean of empty slice\n",
            "  Y_train_pred = np.nanmean(Y_train_pred_full, axis=0)\n"
          ],
          "name": "stderr"
        },
        {
          "output_type": "stream",
          "text": [
            "[WARNING] [2019-08-25 07:02:53,773:EnsembleBuilder(1):e50c21fd734717aba9baaaf5a5ed66a7] No models better than random - using Dummy Score!\n"
          ],
          "name": "stdout"
        },
        {
          "output_type": "stream",
          "text": [
            "/usr/local/lib/python3.6/dist-packages/autosklearn/evaluation/train_evaluator.py:197: RuntimeWarning: Mean of empty slice\n",
            "  Y_train_pred = np.nanmean(Y_train_pred_full, axis=0)\n"
          ],
          "name": "stderr"
        },
        {
          "output_type": "stream",
          "text": [
            "[WARNING] [2019-08-25 07:02:55,786:EnsembleBuilder(1):e50c21fd734717aba9baaaf5a5ed66a7] No models better than random - using Dummy Score!\n",
            "[WARNING] [2019-08-25 07:02:57,793:EnsembleBuilder(1):e50c21fd734717aba9baaaf5a5ed66a7] No models better than random - using Dummy Score!\n",
            "[WARNING] [2019-08-25 07:02:59,809:EnsembleBuilder(1):e50c21fd734717aba9baaaf5a5ed66a7] No models better than random - using Dummy Score!\n",
            "[WARNING] [2019-08-25 07:03:01,824:EnsembleBuilder(1):e50c21fd734717aba9baaaf5a5ed66a7] No models better than random - using Dummy Score!\n"
          ],
          "name": "stdout"
        },
        {
          "output_type": "stream",
          "text": [
            "/usr/local/lib/python3.6/dist-packages/autosklearn/evaluation/train_evaluator.py:197: RuntimeWarning: Mean of empty slice\n",
            "  Y_train_pred = np.nanmean(Y_train_pred_full, axis=0)\n",
            "/usr/local/lib/python3.6/dist-packages/autosklearn/evaluation/train_evaluator.py:197: RuntimeWarning: Mean of empty slice\n",
            "  Y_train_pred = np.nanmean(Y_train_pred_full, axis=0)\n"
          ],
          "name": "stderr"
        },
        {
          "output_type": "stream",
          "text": [
            "[WARNING] [2019-08-25 07:03:03,840:EnsembleBuilder(1):e50c21fd734717aba9baaaf5a5ed66a7] No models better than random - using Dummy Score!\n",
            "[WARNING] [2019-08-25 07:03:05,847:EnsembleBuilder(1):e50c21fd734717aba9baaaf5a5ed66a7] No models better than random - using Dummy Score!\n",
            "[WARNING] [2019-08-25 07:03:07,866:EnsembleBuilder(1):e50c21fd734717aba9baaaf5a5ed66a7] No models better than random - using Dummy Score!\n",
            "[WARNING] [2019-08-25 07:03:09,891:EnsembleBuilder(1):e50c21fd734717aba9baaaf5a5ed66a7] No models better than random - using Dummy Score!\n",
            "[WARNING] [2019-08-25 07:03:11,907:EnsembleBuilder(1):e50c21fd734717aba9baaaf5a5ed66a7] No models better than random - using Dummy Score!\n",
            "[WARNING] [2019-08-25 07:03:13,922:EnsembleBuilder(1):e50c21fd734717aba9baaaf5a5ed66a7] No models better than random - using Dummy Score!\n",
            "[WARNING] [2019-08-25 07:03:15,936:EnsembleBuilder(1):e50c21fd734717aba9baaaf5a5ed66a7] No models better than random - using Dummy Score!\n",
            "[WARNING] [2019-08-25 07:03:17,951:EnsembleBuilder(1):e50c21fd734717aba9baaaf5a5ed66a7] No models better than random - using Dummy Score!\n",
            "[WARNING] [2019-08-25 07:03:19,968:EnsembleBuilder(1):e50c21fd734717aba9baaaf5a5ed66a7] No models better than random - using Dummy Score!\n",
            "[WARNING] [2019-08-25 07:03:21,985:EnsembleBuilder(1):e50c21fd734717aba9baaaf5a5ed66a7] No models better than random - using Dummy Score!\n",
            "[WARNING] [2019-08-25 07:03:24,002:EnsembleBuilder(1):e50c21fd734717aba9baaaf5a5ed66a7] No models better than random - using Dummy Score!\n",
            "[WARNING] [2019-08-25 07:03:26,019:EnsembleBuilder(1):e50c21fd734717aba9baaaf5a5ed66a7] No models better than random - using Dummy Score!\n",
            "[WARNING] [2019-08-25 07:03:28,036:EnsembleBuilder(1):e50c21fd734717aba9baaaf5a5ed66a7] No models better than random - using Dummy Score!\n",
            "[WARNING] [2019-08-25 07:03:30,052:EnsembleBuilder(1):e50c21fd734717aba9baaaf5a5ed66a7] No models better than random - using Dummy Score!\n",
            "[WARNING] [2019-08-25 07:03:32,069:EnsembleBuilder(1):e50c21fd734717aba9baaaf5a5ed66a7] No models better than random - using Dummy Score!\n",
            "[WARNING] [2019-08-25 07:03:34,087:EnsembleBuilder(1):e50c21fd734717aba9baaaf5a5ed66a7] No models better than random - using Dummy Score!\n",
            "[WARNING] [2019-08-25 07:03:36,105:EnsembleBuilder(1):e50c21fd734717aba9baaaf5a5ed66a7] No models better than random - using Dummy Score!\n",
            "[WARNING] [2019-08-25 07:03:38,122:EnsembleBuilder(1):e50c21fd734717aba9baaaf5a5ed66a7] No models better than random - using Dummy Score!\n",
            "[WARNING] [2019-08-25 07:03:40,142:EnsembleBuilder(1):e50c21fd734717aba9baaaf5a5ed66a7] No models better than random - using Dummy Score!\n",
            "[WARNING] [2019-08-25 07:03:42,160:EnsembleBuilder(1):e50c21fd734717aba9baaaf5a5ed66a7] No models better than random - using Dummy Score!\n",
            "[WARNING] [2019-08-25 07:03:44,177:EnsembleBuilder(1):e50c21fd734717aba9baaaf5a5ed66a7] No models better than random - using Dummy Score!\n",
            "[WARNING] [2019-08-25 07:03:46,203:EnsembleBuilder(1):e50c21fd734717aba9baaaf5a5ed66a7] No models better than random - using Dummy Score!\n",
            "[WARNING] [2019-08-25 07:03:48,223:EnsembleBuilder(1):e50c21fd734717aba9baaaf5a5ed66a7] No models better than random - using Dummy Score!\n",
            "[WARNING] [2019-08-25 07:03:50,241:EnsembleBuilder(1):e50c21fd734717aba9baaaf5a5ed66a7] No models better than random - using Dummy Score!\n",
            "[WARNING] [2019-08-25 07:03:52,260:EnsembleBuilder(1):e50c21fd734717aba9baaaf5a5ed66a7] No models better than random - using Dummy Score!\n",
            "[WARNING] [2019-08-25 07:03:54,278:EnsembleBuilder(1):e50c21fd734717aba9baaaf5a5ed66a7] No models better than random - using Dummy Score!\n",
            "[WARNING] [2019-08-25 07:03:56,300:EnsembleBuilder(1):e50c21fd734717aba9baaaf5a5ed66a7] No models better than random - using Dummy Score!\n",
            "[WARNING] [2019-08-25 07:03:58,323:EnsembleBuilder(1):e50c21fd734717aba9baaaf5a5ed66a7] No models better than random - using Dummy Score!\n",
            "[WARNING] [2019-08-25 07:04:00,343:EnsembleBuilder(1):e50c21fd734717aba9baaaf5a5ed66a7] No models better than random - using Dummy Score!\n",
            "[WARNING] [2019-08-25 07:04:02,361:EnsembleBuilder(1):e50c21fd734717aba9baaaf5a5ed66a7] No models better than random - using Dummy Score!\n",
            "[WARNING] [2019-08-25 07:04:04,379:EnsembleBuilder(1):e50c21fd734717aba9baaaf5a5ed66a7] No models better than random - using Dummy Score!\n",
            "[WARNING] [2019-08-25 07:04:06,397:EnsembleBuilder(1):e50c21fd734717aba9baaaf5a5ed66a7] No models better than random - using Dummy Score!\n",
            "[WARNING] [2019-08-25 07:04:08,413:EnsembleBuilder(1):e50c21fd734717aba9baaaf5a5ed66a7] No models better than random - using Dummy Score!\n",
            "[WARNING] [2019-08-25 07:04:10,429:EnsembleBuilder(1):e50c21fd734717aba9baaaf5a5ed66a7] No models better than random - using Dummy Score!\n",
            "[WARNING] [2019-08-25 07:04:12,448:EnsembleBuilder(1):e50c21fd734717aba9baaaf5a5ed66a7] No models better than random - using Dummy Score!\n"
          ],
          "name": "stdout"
        },
        {
          "output_type": "stream",
          "text": [
            "/usr/local/lib/python3.6/dist-packages/autosklearn/evaluation/train_evaluator.py:197: RuntimeWarning: Mean of empty slice\n",
            "  Y_train_pred = np.nanmean(Y_train_pred_full, axis=0)\n",
            "/usr/local/lib/python3.6/dist-packages/autosklearn/evaluation/train_evaluator.py:197: RuntimeWarning: Mean of empty slice\n",
            "  Y_train_pred = np.nanmean(Y_train_pred_full, axis=0)\n"
          ],
          "name": "stderr"
        },
        {
          "output_type": "stream",
          "text": [
            "[WARNING] [2019-08-25 07:04:14,466:EnsembleBuilder(1):e50c21fd734717aba9baaaf5a5ed66a7] No models better than random - using Dummy Score!\n",
            "[WARNING] [2019-08-25 07:04:16,474:EnsembleBuilder(1):e50c21fd734717aba9baaaf5a5ed66a7] No models better than random - using Dummy Score!\n",
            "[WARNING] [2019-08-25 07:04:18,481:EnsembleBuilder(1):e50c21fd734717aba9baaaf5a5ed66a7] No models better than random - using Dummy Score!\n",
            "[WARNING] [2019-08-25 07:04:20,498:EnsembleBuilder(1):e50c21fd734717aba9baaaf5a5ed66a7] No models better than random - using Dummy Score!\n",
            "[WARNING] [2019-08-25 07:04:22,514:EnsembleBuilder(1):e50c21fd734717aba9baaaf5a5ed66a7] No models better than random - using Dummy Score!\n",
            "[WARNING] [2019-08-25 07:04:24,530:EnsembleBuilder(1):e50c21fd734717aba9baaaf5a5ed66a7] No models better than random - using Dummy Score!\n",
            "[WARNING] [2019-08-25 07:04:26,546:EnsembleBuilder(1):e50c21fd734717aba9baaaf5a5ed66a7] No models better than random - using Dummy Score!\n",
            "[WARNING] [2019-08-25 07:04:28,563:EnsembleBuilder(1):e50c21fd734717aba9baaaf5a5ed66a7] No models better than random - using Dummy Score!\n",
            "[WARNING] [2019-08-25 07:04:30,589:EnsembleBuilder(1):e50c21fd734717aba9baaaf5a5ed66a7] No models better than random - using Dummy Score!\n",
            "[WARNING] [2019-08-25 07:04:32,607:EnsembleBuilder(1):e50c21fd734717aba9baaaf5a5ed66a7] No models better than random - using Dummy Score!\n",
            "[WARNING] [2019-08-25 07:04:34,624:EnsembleBuilder(1):e50c21fd734717aba9baaaf5a5ed66a7] No models better than random - using Dummy Score!\n",
            "[WARNING] [2019-08-25 07:04:36,640:EnsembleBuilder(1):e50c21fd734717aba9baaaf5a5ed66a7] No models better than random - using Dummy Score!\n",
            "[WARNING] [2019-08-25 07:04:38,653:EnsembleBuilder(1):e50c21fd734717aba9baaaf5a5ed66a7] No models better than random - using Dummy Score!\n",
            "[WARNING] [2019-08-25 07:04:40,669:EnsembleBuilder(1):e50c21fd734717aba9baaaf5a5ed66a7] No models better than random - using Dummy Score!\n",
            "[WARNING] [2019-08-25 07:04:42,686:EnsembleBuilder(1):e50c21fd734717aba9baaaf5a5ed66a7] No models better than random - using Dummy Score!\n",
            "[WARNING] [2019-08-25 07:04:44,702:EnsembleBuilder(1):e50c21fd734717aba9baaaf5a5ed66a7] No models better than random - using Dummy Score!\n",
            "[WARNING] [2019-08-25 07:04:46,719:EnsembleBuilder(1):e50c21fd734717aba9baaaf5a5ed66a7] No models better than random - using Dummy Score!\n",
            "[WARNING] [2019-08-25 07:04:48,735:EnsembleBuilder(1):e50c21fd734717aba9baaaf5a5ed66a7] No models better than random - using Dummy Score!\n",
            "[WARNING] [2019-08-25 07:04:50,753:EnsembleBuilder(1):e50c21fd734717aba9baaaf5a5ed66a7] No models better than random - using Dummy Score!\n",
            "[WARNING] [2019-08-25 07:04:52,775:EnsembleBuilder(1):e50c21fd734717aba9baaaf5a5ed66a7] No models better than random - using Dummy Score!\n",
            "[WARNING] [2019-08-25 07:04:54,794:EnsembleBuilder(1):e50c21fd734717aba9baaaf5a5ed66a7] No models better than random - using Dummy Score!\n",
            "[WARNING] [2019-08-25 07:04:56,813:EnsembleBuilder(1):e50c21fd734717aba9baaaf5a5ed66a7] No models better than random - using Dummy Score!\n"
          ],
          "name": "stdout"
        },
        {
          "output_type": "stream",
          "text": [
            "/usr/local/lib/python3.6/dist-packages/autosklearn/evaluation/train_evaluator.py:197: RuntimeWarning: Mean of empty slice\n",
            "  Y_train_pred = np.nanmean(Y_train_pred_full, axis=0)\n"
          ],
          "name": "stderr"
        },
        {
          "output_type": "stream",
          "text": [
            "[WARNING] [2019-08-25 07:04:58,837:EnsembleBuilder(1):e50c21fd734717aba9baaaf5a5ed66a7] No models better than random - using Dummy Score!\n"
          ],
          "name": "stdout"
        },
        {
          "output_type": "stream",
          "text": [
            "/usr/local/lib/python3.6/dist-packages/autosklearn/evaluation/train_evaluator.py:197: RuntimeWarning: Mean of empty slice\n",
            "  Y_train_pred = np.nanmean(Y_train_pred_full, axis=0)\n"
          ],
          "name": "stderr"
        },
        {
          "output_type": "stream",
          "text": [
            "[WARNING] [2019-08-25 07:05:00,856:EnsembleBuilder(1):e50c21fd734717aba9baaaf5a5ed66a7] No models better than random - using Dummy Score!\n"
          ],
          "name": "stdout"
        },
        {
          "output_type": "stream",
          "text": [
            "/usr/local/lib/python3.6/dist-packages/autosklearn/evaluation/train_evaluator.py:197: RuntimeWarning: Mean of empty slice\n",
            "  Y_train_pred = np.nanmean(Y_train_pred_full, axis=0)\n",
            "/usr/local/lib/python3.6/dist-packages/autosklearn/evaluation/train_evaluator.py:197: RuntimeWarning: Mean of empty slice\n",
            "  Y_train_pred = np.nanmean(Y_train_pred_full, axis=0)\n"
          ],
          "name": "stderr"
        },
        {
          "output_type": "stream",
          "text": [
            "[WARNING] [2019-08-25 07:05:02,864:EnsembleBuilder(1):e50c21fd734717aba9baaaf5a5ed66a7] No models better than random - using Dummy Score!\n"
          ],
          "name": "stdout"
        },
        {
          "output_type": "stream",
          "text": [
            "/usr/local/lib/python3.6/dist-packages/autosklearn/evaluation/train_evaluator.py:197: RuntimeWarning: Mean of empty slice\n",
            "  Y_train_pred = np.nanmean(Y_train_pred_full, axis=0)\n",
            "/usr/local/lib/python3.6/dist-packages/autosklearn/evaluation/train_evaluator.py:197: RuntimeWarning: Mean of empty slice\n",
            "  Y_train_pred = np.nanmean(Y_train_pred_full, axis=0)\n"
          ],
          "name": "stderr"
        },
        {
          "output_type": "stream",
          "text": [
            "[WARNING] [2019-08-25 07:05:04,881:EnsembleBuilder(1):e50c21fd734717aba9baaaf5a5ed66a7] No models better than random - using Dummy Score!\n"
          ],
          "name": "stdout"
        },
        {
          "output_type": "stream",
          "text": [
            "/usr/local/lib/python3.6/dist-packages/autosklearn/evaluation/train_evaluator.py:197: RuntimeWarning: Mean of empty slice\n",
            "  Y_train_pred = np.nanmean(Y_train_pred_full, axis=0)\n"
          ],
          "name": "stderr"
        },
        {
          "output_type": "stream",
          "text": [
            "[WARNING] [2019-08-25 07:05:06,889:EnsembleBuilder(1):e50c21fd734717aba9baaaf5a5ed66a7] No models better than random - using Dummy Score!\n",
            "[WARNING] [2019-08-25 07:05:08,898:EnsembleBuilder(1):e50c21fd734717aba9baaaf5a5ed66a7] No models better than random - using Dummy Score!\n",
            "[WARNING] [2019-08-25 07:05:10,916:EnsembleBuilder(1):e50c21fd734717aba9baaaf5a5ed66a7] No models better than random - using Dummy Score!\n"
          ],
          "name": "stdout"
        },
        {
          "output_type": "stream",
          "text": [
            "/usr/local/lib/python3.6/dist-packages/autosklearn/evaluation/train_evaluator.py:197: RuntimeWarning: Mean of empty slice\n",
            "  Y_train_pred = np.nanmean(Y_train_pred_full, axis=0)\n"
          ],
          "name": "stderr"
        },
        {
          "output_type": "stream",
          "text": [
            "[WARNING] [2019-08-25 07:05:12,934:EnsembleBuilder(1):e50c21fd734717aba9baaaf5a5ed66a7] No models better than random - using Dummy Score!\n",
            "[WARNING] [2019-08-25 07:05:14,954:EnsembleBuilder(1):e50c21fd734717aba9baaaf5a5ed66a7] No models better than random - using Dummy Score!\n"
          ],
          "name": "stdout"
        },
        {
          "output_type": "stream",
          "text": [
            "/usr/local/lib/python3.6/dist-packages/autosklearn/evaluation/train_evaluator.py:197: RuntimeWarning: Mean of empty slice\n",
            "  Y_train_pred = np.nanmean(Y_train_pred_full, axis=0)\n",
            "/usr/local/lib/python3.6/dist-packages/autosklearn/evaluation/train_evaluator.py:197: RuntimeWarning: Mean of empty slice\n",
            "  Y_train_pred = np.nanmean(Y_train_pred_full, axis=0)\n"
          ],
          "name": "stderr"
        },
        {
          "output_type": "stream",
          "text": [
            "[WARNING] [2019-08-25 07:05:16,977:EnsembleBuilder(1):e50c21fd734717aba9baaaf5a5ed66a7] No models better than random - using Dummy Score!\n"
          ],
          "name": "stdout"
        },
        {
          "output_type": "stream",
          "text": [
            "/usr/local/lib/python3.6/dist-packages/autosklearn/evaluation/train_evaluator.py:197: RuntimeWarning: Mean of empty slice\n",
            "  Y_train_pred = np.nanmean(Y_train_pred_full, axis=0)\n"
          ],
          "name": "stderr"
        },
        {
          "output_type": "stream",
          "text": [
            "[WARNING] [2019-08-25 07:05:18,994:EnsembleBuilder(1):e50c21fd734717aba9baaaf5a5ed66a7] No models better than random - using Dummy Score!\n",
            "[WARNING] [2019-08-25 07:05:21,003:EnsembleBuilder(1):e50c21fd734717aba9baaaf5a5ed66a7] No models better than random - using Dummy Score!\n",
            "[WARNING] [2019-08-25 07:05:23,010:EnsembleBuilder(1):e50c21fd734717aba9baaaf5a5ed66a7] No models better than random - using Dummy Score!\n",
            "[WARNING] [2019-08-25 07:05:25,018:EnsembleBuilder(1):e50c21fd734717aba9baaaf5a5ed66a7] No models better than random - using Dummy Score!\n",
            "[WARNING] [2019-08-25 07:05:27,027:EnsembleBuilder(1):e50c21fd734717aba9baaaf5a5ed66a7] No models better than random - using Dummy Score!\n",
            "[WARNING] [2019-08-25 07:05:29,035:EnsembleBuilder(1):e50c21fd734717aba9baaaf5a5ed66a7] No models better than random - using Dummy Score!\n",
            "[WARNING] [2019-08-25 07:05:31,043:EnsembleBuilder(1):e50c21fd734717aba9baaaf5a5ed66a7] No models better than random - using Dummy Score!\n",
            "[WARNING] [2019-08-25 07:05:33,052:EnsembleBuilder(1):e50c21fd734717aba9baaaf5a5ed66a7] No models better than random - using Dummy Score!\n",
            "[WARNING] [2019-08-25 07:05:35,060:EnsembleBuilder(1):e50c21fd734717aba9baaaf5a5ed66a7] No models better than random - using Dummy Score!\n",
            "[WARNING] [2019-08-25 07:05:37,068:EnsembleBuilder(1):e50c21fd734717aba9baaaf5a5ed66a7] No models better than random - using Dummy Score!\n",
            "[WARNING] [2019-08-25 07:05:39,075:EnsembleBuilder(1):e50c21fd734717aba9baaaf5a5ed66a7] No models better than random - using Dummy Score!\n",
            "[WARNING] [2019-08-25 07:05:41,083:EnsembleBuilder(1):e50c21fd734717aba9baaaf5a5ed66a7] No models better than random - using Dummy Score!\n",
            "[WARNING] [2019-08-25 07:05:43,092:EnsembleBuilder(1):e50c21fd734717aba9baaaf5a5ed66a7] No models better than random - using Dummy Score!\n",
            "[WARNING] [2019-08-25 07:05:45,106:EnsembleBuilder(1):e50c21fd734717aba9baaaf5a5ed66a7] No models better than random - using Dummy Score!\n",
            "[WARNING] [2019-08-25 07:05:47,117:EnsembleBuilder(1):e50c21fd734717aba9baaaf5a5ed66a7] No models better than random - using Dummy Score!\n",
            "[WARNING] [2019-08-25 07:05:49,124:EnsembleBuilder(1):e50c21fd734717aba9baaaf5a5ed66a7] No models better than random - using Dummy Score!\n",
            "[WARNING] [2019-08-25 07:05:51,132:EnsembleBuilder(1):e50c21fd734717aba9baaaf5a5ed66a7] No models better than random - using Dummy Score!\n",
            "[WARNING] [2019-08-25 07:05:53,138:EnsembleBuilder(1):e50c21fd734717aba9baaaf5a5ed66a7] No models better than random - using Dummy Score!\n",
            "[WARNING] [2019-08-25 07:05:55,145:EnsembleBuilder(1):e50c21fd734717aba9baaaf5a5ed66a7] No models better than random - using Dummy Score!\n",
            "[WARNING] [2019-08-25 07:05:57,152:EnsembleBuilder(1):e50c21fd734717aba9baaaf5a5ed66a7] No models better than random - using Dummy Score!\n",
            "[WARNING] [2019-08-25 07:05:59,160:EnsembleBuilder(1):e50c21fd734717aba9baaaf5a5ed66a7] No models better than random - using Dummy Score!\n",
            "[WARNING] [2019-08-25 07:06:01,168:EnsembleBuilder(1):e50c21fd734717aba9baaaf5a5ed66a7] No models better than random - using Dummy Score!\n",
            "[WARNING] [2019-08-25 07:06:03,176:EnsembleBuilder(1):e50c21fd734717aba9baaaf5a5ed66a7] No models better than random - using Dummy Score!\n",
            "[WARNING] [2019-08-25 07:06:05,185:EnsembleBuilder(1):e50c21fd734717aba9baaaf5a5ed66a7] No models better than random - using Dummy Score!\n",
            "[WARNING] [2019-08-25 07:06:07,193:EnsembleBuilder(1):e50c21fd734717aba9baaaf5a5ed66a7] No models better than random - using Dummy Score!\n",
            "[WARNING] [2019-08-25 07:06:09,201:EnsembleBuilder(1):e50c21fd734717aba9baaaf5a5ed66a7] No models better than random - using Dummy Score!\n",
            "[WARNING] [2019-08-25 07:06:11,209:EnsembleBuilder(1):e50c21fd734717aba9baaaf5a5ed66a7] No models better than random - using Dummy Score!\n",
            "[WARNING] [2019-08-25 07:06:13,220:EnsembleBuilder(1):e50c21fd734717aba9baaaf5a5ed66a7] No models better than random - using Dummy Score!\n",
            "[WARNING] [2019-08-25 07:06:15,228:EnsembleBuilder(1):e50c21fd734717aba9baaaf5a5ed66a7] No models better than random - using Dummy Score!\n",
            "[WARNING] [2019-08-25 07:06:17,235:EnsembleBuilder(1):e50c21fd734717aba9baaaf5a5ed66a7] No models better than random - using Dummy Score!\n",
            "[WARNING] [2019-08-25 07:06:19,243:EnsembleBuilder(1):e50c21fd734717aba9baaaf5a5ed66a7] No models better than random - using Dummy Score!\n",
            "[WARNING] [2019-08-25 07:06:21,252:EnsembleBuilder(1):e50c21fd734717aba9baaaf5a5ed66a7] No models better than random - using Dummy Score!\n",
            "[WARNING] [2019-08-25 07:06:23,259:EnsembleBuilder(1):e50c21fd734717aba9baaaf5a5ed66a7] No models better than random - using Dummy Score!\n",
            "[WARNING] [2019-08-25 07:06:25,266:EnsembleBuilder(1):e50c21fd734717aba9baaaf5a5ed66a7] No models better than random - using Dummy Score!\n",
            "[WARNING] [2019-08-25 07:06:27,274:EnsembleBuilder(1):e50c21fd734717aba9baaaf5a5ed66a7] No models better than random - using Dummy Score!\n",
            "[WARNING] [2019-08-25 07:06:29,283:EnsembleBuilder(1):e50c21fd734717aba9baaaf5a5ed66a7] No models better than random - using Dummy Score!\n",
            "[WARNING] [2019-08-25 07:06:31,292:EnsembleBuilder(1):e50c21fd734717aba9baaaf5a5ed66a7] No models better than random - using Dummy Score!\n",
            "[WARNING] [2019-08-25 07:06:33,300:EnsembleBuilder(1):e50c21fd734717aba9baaaf5a5ed66a7] No models better than random - using Dummy Score!\n",
            "[WARNING] [2019-08-25 07:06:35,309:EnsembleBuilder(1):e50c21fd734717aba9baaaf5a5ed66a7] No models better than random - using Dummy Score!\n",
            "[WARNING] [2019-08-25 07:06:37,319:EnsembleBuilder(1):e50c21fd734717aba9baaaf5a5ed66a7] No models better than random - using Dummy Score!\n",
            "[WARNING] [2019-08-25 07:06:39,333:EnsembleBuilder(1):e50c21fd734717aba9baaaf5a5ed66a7] No models better than random - using Dummy Score!\n",
            "[WARNING] [2019-08-25 07:06:41,351:EnsembleBuilder(1):e50c21fd734717aba9baaaf5a5ed66a7] No models better than random - using Dummy Score!\n",
            "[WARNING] [2019-08-25 07:06:43,377:EnsembleBuilder(1):e50c21fd734717aba9baaaf5a5ed66a7] No models better than random - using Dummy Score!\n",
            "[WARNING] [2019-08-25 07:06:45,402:EnsembleBuilder(1):e50c21fd734717aba9baaaf5a5ed66a7] No models better than random - using Dummy Score!\n",
            "[WARNING] [2019-08-25 07:06:47,427:EnsembleBuilder(1):e50c21fd734717aba9baaaf5a5ed66a7] No models better than random - using Dummy Score!\n",
            "[WARNING] [2019-08-25 07:06:49,446:EnsembleBuilder(1):e50c21fd734717aba9baaaf5a5ed66a7] No models better than random - using Dummy Score!\n",
            "[WARNING] [2019-08-25 07:06:51,467:EnsembleBuilder(1):e50c21fd734717aba9baaaf5a5ed66a7] No models better than random - using Dummy Score!\n",
            "[WARNING] [2019-08-25 07:06:53,491:EnsembleBuilder(1):e50c21fd734717aba9baaaf5a5ed66a7] No models better than random - using Dummy Score!\n",
            "[WARNING] [2019-08-25 07:06:55,510:EnsembleBuilder(1):e50c21fd734717aba9baaaf5a5ed66a7] No models better than random - using Dummy Score!\n",
            "[WARNING] [2019-08-25 07:06:57,527:EnsembleBuilder(1):e50c21fd734717aba9baaaf5a5ed66a7] No models better than random - using Dummy Score!\n",
            "[WARNING] [2019-08-25 07:06:59,544:EnsembleBuilder(1):e50c21fd734717aba9baaaf5a5ed66a7] No models better than random - using Dummy Score!\n",
            "[WARNING] [2019-08-25 07:07:01,561:EnsembleBuilder(1):e50c21fd734717aba9baaaf5a5ed66a7] No models better than random - using Dummy Score!\n",
            "[WARNING] [2019-08-25 07:07:03,578:EnsembleBuilder(1):e50c21fd734717aba9baaaf5a5ed66a7] No models better than random - using Dummy Score!\n",
            "[WARNING] [2019-08-25 07:07:05,594:EnsembleBuilder(1):e50c21fd734717aba9baaaf5a5ed66a7] No models better than random - using Dummy Score!\n"
          ],
          "name": "stdout"
        },
        {
          "output_type": "stream",
          "text": [
            "/usr/local/lib/python3.6/dist-packages/autosklearn/evaluation/train_evaluator.py:197: RuntimeWarning: Mean of empty slice\n",
            "  Y_train_pred = np.nanmean(Y_train_pred_full, axis=0)\n",
            "/usr/local/lib/python3.6/dist-packages/autosklearn/evaluation/train_evaluator.py:197: RuntimeWarning: Mean of empty slice\n",
            "  Y_train_pred = np.nanmean(Y_train_pred_full, axis=0)\n"
          ],
          "name": "stderr"
        },
        {
          "output_type": "stream",
          "text": [
            "[WARNING] [2019-08-25 07:07:07,611:EnsembleBuilder(1):e50c21fd734717aba9baaaf5a5ed66a7] No models better than random - using Dummy Score!\n",
            "[WARNING] [2019-08-25 07:07:09,618:EnsembleBuilder(1):e50c21fd734717aba9baaaf5a5ed66a7] No models better than random - using Dummy Score!\n"
          ],
          "name": "stdout"
        },
        {
          "output_type": "stream",
          "text": [
            "/usr/local/lib/python3.6/dist-packages/autosklearn/evaluation/train_evaluator.py:197: RuntimeWarning: Mean of empty slice\n",
            "  Y_train_pred = np.nanmean(Y_train_pred_full, axis=0)\n"
          ],
          "name": "stderr"
        },
        {
          "output_type": "stream",
          "text": [
            "[WARNING] [2019-08-25 07:07:11,626:EnsembleBuilder(1):e50c21fd734717aba9baaaf5a5ed66a7] No models better than random - using Dummy Score!\n"
          ],
          "name": "stdout"
        },
        {
          "output_type": "stream",
          "text": [
            "/usr/local/lib/python3.6/dist-packages/autosklearn/evaluation/train_evaluator.py:197: RuntimeWarning: Mean of empty slice\n",
            "  Y_train_pred = np.nanmean(Y_train_pred_full, axis=0)\n"
          ],
          "name": "stderr"
        },
        {
          "output_type": "stream",
          "text": [
            "[WARNING] [2019-08-25 07:07:13,639:EnsembleBuilder(1):e50c21fd734717aba9baaaf5a5ed66a7] No models better than random - using Dummy Score!\n"
          ],
          "name": "stdout"
        },
        {
          "output_type": "stream",
          "text": [
            "/usr/local/lib/python3.6/dist-packages/autosklearn/evaluation/train_evaluator.py:197: RuntimeWarning: Mean of empty slice\n",
            "  Y_train_pred = np.nanmean(Y_train_pred_full, axis=0)\n"
          ],
          "name": "stderr"
        },
        {
          "output_type": "stream",
          "text": [
            "[WARNING] [2019-08-25 07:07:15,646:EnsembleBuilder(1):e50c21fd734717aba9baaaf5a5ed66a7] No models better than random - using Dummy Score!\n",
            "[WARNING] [2019-08-25 07:07:17,661:EnsembleBuilder(1):e50c21fd734717aba9baaaf5a5ed66a7] No models better than random - using Dummy Score!\n",
            "[WARNING] [2019-08-25 07:07:19,673:EnsembleBuilder(1):e50c21fd734717aba9baaaf5a5ed66a7] No models better than random - using Dummy Score!\n",
            "[WARNING] [2019-08-25 07:07:21,685:EnsembleBuilder(1):e50c21fd734717aba9baaaf5a5ed66a7] No models better than random - using Dummy Score!\n",
            "[WARNING] [2019-08-25 07:07:23,699:EnsembleBuilder(1):e50c21fd734717aba9baaaf5a5ed66a7] No models better than random - using Dummy Score!\n",
            "[WARNING] [2019-08-25 07:07:25,714:EnsembleBuilder(1):e50c21fd734717aba9baaaf5a5ed66a7] No models better than random - using Dummy Score!\n",
            "[WARNING] [2019-08-25 07:07:27,731:EnsembleBuilder(1):e50c21fd734717aba9baaaf5a5ed66a7] No models better than random - using Dummy Score!\n",
            "[WARNING] [2019-08-25 07:07:29,746:EnsembleBuilder(1):e50c21fd734717aba9baaaf5a5ed66a7] No models better than random - using Dummy Score!\n",
            "[WARNING] [2019-08-25 07:07:31,763:EnsembleBuilder(1):e50c21fd734717aba9baaaf5a5ed66a7] No models better than random - using Dummy Score!\n",
            "[WARNING] [2019-08-25 07:07:33,781:EnsembleBuilder(1):e50c21fd734717aba9baaaf5a5ed66a7] No models better than random - using Dummy Score!\n",
            "[WARNING] [2019-08-25 07:07:35,814:EnsembleBuilder(1):e50c21fd734717aba9baaaf5a5ed66a7] No models better than random - using Dummy Score!\n",
            "[WARNING] [2019-08-25 07:07:37,823:EnsembleBuilder(1):e50c21fd734717aba9baaaf5a5ed66a7] No models better than random - using Dummy Score!\n",
            "[WARNING] [2019-08-25 07:07:39,835:EnsembleBuilder(1):e50c21fd734717aba9baaaf5a5ed66a7] No models better than random - using Dummy Score!\n",
            "[WARNING] [2019-08-25 07:07:41,848:EnsembleBuilder(1):e50c21fd734717aba9baaaf5a5ed66a7] No models better than random - using Dummy Score!\n",
            "[WARNING] [2019-08-25 07:07:43,865:EnsembleBuilder(1):e50c21fd734717aba9baaaf5a5ed66a7] No models better than random - using Dummy Score!\n",
            "[WARNING] [2019-08-25 07:07:45,880:EnsembleBuilder(1):e50c21fd734717aba9baaaf5a5ed66a7] No models better than random - using Dummy Score!\n"
          ],
          "name": "stdout"
        },
        {
          "output_type": "stream",
          "text": [
            "/usr/local/lib/python3.6/dist-packages/autosklearn/evaluation/train_evaluator.py:197: RuntimeWarning: Mean of empty slice\n",
            "  Y_train_pred = np.nanmean(Y_train_pred_full, axis=0)\n"
          ],
          "name": "stderr"
        },
        {
          "output_type": "stream",
          "text": [
            "[WARNING] [2019-08-25 07:07:47,902:EnsembleBuilder(1):e50c21fd734717aba9baaaf5a5ed66a7] No models better than random - using Dummy Score!\n",
            "[WARNING] [2019-08-25 07:07:49,909:EnsembleBuilder(1):e50c21fd734717aba9baaaf5a5ed66a7] No models better than random - using Dummy Score!\n"
          ],
          "name": "stdout"
        },
        {
          "output_type": "stream",
          "text": [
            "/usr/local/lib/python3.6/dist-packages/autosklearn/evaluation/train_evaluator.py:197: RuntimeWarning: Mean of empty slice\n",
            "  Y_train_pred = np.nanmean(Y_train_pred_full, axis=0)\n"
          ],
          "name": "stderr"
        },
        {
          "output_type": "stream",
          "text": [
            "[WARNING] [2019-08-25 07:07:51,920:EnsembleBuilder(1):e50c21fd734717aba9baaaf5a5ed66a7] No models better than random - using Dummy Score!\n",
            "[WARNING] [2019-08-25 07:07:53,927:EnsembleBuilder(1):e50c21fd734717aba9baaaf5a5ed66a7] No models better than random - using Dummy Score!\n"
          ],
          "name": "stdout"
        },
        {
          "output_type": "stream",
          "text": [
            "/usr/local/lib/python3.6/dist-packages/autosklearn/evaluation/train_evaluator.py:197: RuntimeWarning: Mean of empty slice\n",
            "  Y_train_pred = np.nanmean(Y_train_pred_full, axis=0)\n",
            "/usr/local/lib/python3.6/dist-packages/autosklearn/evaluation/train_evaluator.py:197: RuntimeWarning: Mean of empty slice\n",
            "  Y_train_pred = np.nanmean(Y_train_pred_full, axis=0)\n"
          ],
          "name": "stderr"
        },
        {
          "output_type": "stream",
          "text": [
            "[WARNING] [2019-08-25 07:07:55,938:EnsembleBuilder(1):e50c21fd734717aba9baaaf5a5ed66a7] No models better than random - using Dummy Score!\n"
          ],
          "name": "stdout"
        },
        {
          "output_type": "stream",
          "text": [
            "/usr/local/lib/python3.6/dist-packages/autosklearn/evaluation/train_evaluator.py:197: RuntimeWarning: Mean of empty slice\n",
            "  Y_train_pred = np.nanmean(Y_train_pred_full, axis=0)\n"
          ],
          "name": "stderr"
        },
        {
          "output_type": "stream",
          "text": [
            "[WARNING] [2019-08-25 07:07:57,956:EnsembleBuilder(1):e50c21fd734717aba9baaaf5a5ed66a7] No models better than random - using Dummy Score!\n"
          ],
          "name": "stdout"
        },
        {
          "output_type": "stream",
          "text": [
            "/usr/local/lib/python3.6/dist-packages/autosklearn/evaluation/train_evaluator.py:197: RuntimeWarning: Mean of empty slice\n",
            "  Y_train_pred = np.nanmean(Y_train_pred_full, axis=0)\n",
            "/usr/local/lib/python3.6/dist-packages/autosklearn/evaluation/train_evaluator.py:197: RuntimeWarning: Mean of empty slice\n",
            "  Y_train_pred = np.nanmean(Y_train_pred_full, axis=0)\n"
          ],
          "name": "stderr"
        },
        {
          "output_type": "stream",
          "text": [
            "[WARNING] [2019-08-25 07:07:59,964:EnsembleBuilder(1):e50c21fd734717aba9baaaf5a5ed66a7] No models better than random - using Dummy Score!\n"
          ],
          "name": "stdout"
        },
        {
          "output_type": "stream",
          "text": [
            "/usr/local/lib/python3.6/dist-packages/autosklearn/evaluation/train_evaluator.py:197: RuntimeWarning: Mean of empty slice\n",
            "  Y_train_pred = np.nanmean(Y_train_pred_full, axis=0)\n"
          ],
          "name": "stderr"
        },
        {
          "output_type": "stream",
          "text": [
            "[WARNING] [2019-08-25 07:08:01,972:EnsembleBuilder(1):e50c21fd734717aba9baaaf5a5ed66a7] No models better than random - using Dummy Score!\n",
            "[WARNING] [2019-08-25 07:08:03,978:EnsembleBuilder(1):e50c21fd734717aba9baaaf5a5ed66a7] No models better than random - using Dummy Score!\n"
          ],
          "name": "stdout"
        },
        {
          "output_type": "stream",
          "text": [
            "/usr/local/lib/python3.6/dist-packages/autosklearn/evaluation/train_evaluator.py:197: RuntimeWarning: Mean of empty slice\n",
            "  Y_train_pred = np.nanmean(Y_train_pred_full, axis=0)\n",
            "/usr/local/lib/python3.6/dist-packages/autosklearn/evaluation/train_evaluator.py:197: RuntimeWarning: Mean of empty slice\n",
            "  Y_train_pred = np.nanmean(Y_train_pred_full, axis=0)\n",
            "/usr/local/lib/python3.6/dist-packages/autosklearn/evaluation/train_evaluator.py:197: RuntimeWarning: Mean of empty slice\n",
            "  Y_train_pred = np.nanmean(Y_train_pred_full, axis=0)\n"
          ],
          "name": "stderr"
        },
        {
          "output_type": "stream",
          "text": [
            "[WARNING] [2019-08-25 07:08:06,006:EnsembleBuilder(1):e50c21fd734717aba9baaaf5a5ed66a7] No models better than random - using Dummy Score!\n",
            "[WARNING] [2019-08-25 07:08:08,015:EnsembleBuilder(1):e50c21fd734717aba9baaaf5a5ed66a7] No models better than random - using Dummy Score!\n"
          ],
          "name": "stdout"
        },
        {
          "output_type": "stream",
          "text": [
            "/usr/local/lib/python3.6/dist-packages/autosklearn/evaluation/train_evaluator.py:197: RuntimeWarning: Mean of empty slice\n",
            "  Y_train_pred = np.nanmean(Y_train_pred_full, axis=0)\n",
            "/usr/local/lib/python3.6/dist-packages/autosklearn/evaluation/train_evaluator.py:197: RuntimeWarning: Mean of empty slice\n",
            "  Y_train_pred = np.nanmean(Y_train_pred_full, axis=0)\n"
          ],
          "name": "stderr"
        },
        {
          "output_type": "stream",
          "text": [
            "[WARNING] [2019-08-25 07:08:10,024:EnsembleBuilder(1):e50c21fd734717aba9baaaf5a5ed66a7] No models better than random - using Dummy Score!\n"
          ],
          "name": "stdout"
        },
        {
          "output_type": "stream",
          "text": [
            "/usr/local/lib/python3.6/dist-packages/autosklearn/evaluation/train_evaluator.py:197: RuntimeWarning: Mean of empty slice\n",
            "  Y_train_pred = np.nanmean(Y_train_pred_full, axis=0)\n"
          ],
          "name": "stderr"
        },
        {
          "output_type": "stream",
          "text": [
            "[WARNING] [2019-08-25 07:08:12,042:EnsembleBuilder(1):e50c21fd734717aba9baaaf5a5ed66a7] No models better than random - using Dummy Score!\n",
            "[WARNING] [2019-08-25 07:08:14,049:EnsembleBuilder(1):e50c21fd734717aba9baaaf5a5ed66a7] No models better than random - using Dummy Score!\n"
          ],
          "name": "stdout"
        },
        {
          "output_type": "stream",
          "text": [
            "/usr/local/lib/python3.6/dist-packages/autosklearn/evaluation/train_evaluator.py:197: RuntimeWarning: Mean of empty slice\n",
            "  Y_train_pred = np.nanmean(Y_train_pred_full, axis=0)\n",
            "/usr/local/lib/python3.6/dist-packages/autosklearn/evaluation/train_evaluator.py:197: RuntimeWarning: Mean of empty slice\n",
            "  Y_train_pred = np.nanmean(Y_train_pred_full, axis=0)\n",
            "/usr/local/lib/python3.6/dist-packages/autosklearn/evaluation/train_evaluator.py:197: RuntimeWarning: Mean of empty slice\n",
            "  Y_train_pred = np.nanmean(Y_train_pred_full, axis=0)\n"
          ],
          "name": "stderr"
        },
        {
          "output_type": "stream",
          "text": [
            "[WARNING] [2019-08-25 07:08:16,069:EnsembleBuilder(1):e50c21fd734717aba9baaaf5a5ed66a7] No models better than random - using Dummy Score!\n",
            "[WARNING] [2019-08-25 07:08:18,083:EnsembleBuilder(1):e50c21fd734717aba9baaaf5a5ed66a7] No models better than random - using Dummy Score!\n",
            "[WARNING] [2019-08-25 07:08:20,102:EnsembleBuilder(1):e50c21fd734717aba9baaaf5a5ed66a7] No models better than random - using Dummy Score!\n"
          ],
          "name": "stdout"
        },
        {
          "output_type": "stream",
          "text": [
            "/usr/local/lib/python3.6/dist-packages/autosklearn/evaluation/train_evaluator.py:197: RuntimeWarning: Mean of empty slice\n",
            "  Y_train_pred = np.nanmean(Y_train_pred_full, axis=0)\n"
          ],
          "name": "stderr"
        },
        {
          "output_type": "stream",
          "text": [
            "[WARNING] [2019-08-25 07:08:22,121:EnsembleBuilder(1):e50c21fd734717aba9baaaf5a5ed66a7] No models better than random - using Dummy Score!\n",
            "[WARNING] [2019-08-25 07:08:24,128:EnsembleBuilder(1):e50c21fd734717aba9baaaf5a5ed66a7] No models better than random - using Dummy Score!\n"
          ],
          "name": "stdout"
        },
        {
          "output_type": "stream",
          "text": [
            "/usr/local/lib/python3.6/dist-packages/autosklearn/evaluation/train_evaluator.py:197: RuntimeWarning: Mean of empty slice\n",
            "  Y_train_pred = np.nanmean(Y_train_pred_full, axis=0)\n",
            "/usr/local/lib/python3.6/dist-packages/autosklearn/evaluation/train_evaluator.py:197: RuntimeWarning: Mean of empty slice\n",
            "  Y_train_pred = np.nanmean(Y_train_pred_full, axis=0)\n"
          ],
          "name": "stderr"
        },
        {
          "output_type": "stream",
          "text": [
            "[WARNING] [2019-08-25 07:08:26,139:EnsembleBuilder(1):e50c21fd734717aba9baaaf5a5ed66a7] No models better than random - using Dummy Score!\n"
          ],
          "name": "stdout"
        },
        {
          "output_type": "stream",
          "text": [
            "/usr/local/lib/python3.6/dist-packages/autosklearn/evaluation/train_evaluator.py:197: RuntimeWarning: Mean of empty slice\n",
            "  Y_train_pred = np.nanmean(Y_train_pred_full, axis=0)\n"
          ],
          "name": "stderr"
        },
        {
          "output_type": "stream",
          "text": [
            "[WARNING] [2019-08-25 07:08:28,149:EnsembleBuilder(1):e50c21fd734717aba9baaaf5a5ed66a7] No models better than random - using Dummy Score!\n",
            "[WARNING] [2019-08-25 07:08:30,157:EnsembleBuilder(1):e50c21fd734717aba9baaaf5a5ed66a7] No models better than random - using Dummy Score!\n"
          ],
          "name": "stdout"
        },
        {
          "output_type": "stream",
          "text": [
            "/usr/local/lib/python3.6/dist-packages/autosklearn/evaluation/train_evaluator.py:197: RuntimeWarning: Mean of empty slice\n",
            "  Y_train_pred = np.nanmean(Y_train_pred_full, axis=0)\n"
          ],
          "name": "stderr"
        },
        {
          "output_type": "stream",
          "text": [
            "[WARNING] [2019-08-25 07:08:32,177:EnsembleBuilder(1):e50c21fd734717aba9baaaf5a5ed66a7] No models better than random - using Dummy Score!\n",
            "[WARNING] [2019-08-25 07:08:34,204:EnsembleBuilder(1):e50c21fd734717aba9baaaf5a5ed66a7] No models better than random - using Dummy Score!\n",
            "[WARNING] [2019-08-25 07:08:36,223:EnsembleBuilder(1):e50c21fd734717aba9baaaf5a5ed66a7] No models better than random - using Dummy Score!\n"
          ],
          "name": "stdout"
        },
        {
          "output_type": "stream",
          "text": [
            "/usr/local/lib/python3.6/dist-packages/autosklearn/evaluation/train_evaluator.py:197: RuntimeWarning: Mean of empty slice\n",
            "  Y_train_pred = np.nanmean(Y_train_pred_full, axis=0)\n"
          ],
          "name": "stderr"
        },
        {
          "output_type": "stream",
          "text": [
            "[WARNING] [2019-08-25 07:08:38,240:EnsembleBuilder(1):e50c21fd734717aba9baaaf5a5ed66a7] No models better than random - using Dummy Score!\n",
            "[WARNING] [2019-08-25 07:08:40,248:EnsembleBuilder(1):e50c21fd734717aba9baaaf5a5ed66a7] No models better than random - using Dummy Score!\n"
          ],
          "name": "stdout"
        },
        {
          "output_type": "stream",
          "text": [
            "/usr/local/lib/python3.6/dist-packages/autosklearn/evaluation/train_evaluator.py:197: RuntimeWarning: Mean of empty slice\n",
            "  Y_train_pred = np.nanmean(Y_train_pred_full, axis=0)\n",
            "/usr/local/lib/python3.6/dist-packages/autosklearn/evaluation/train_evaluator.py:197: RuntimeWarning: Mean of empty slice\n",
            "  Y_train_pred = np.nanmean(Y_train_pred_full, axis=0)\n"
          ],
          "name": "stderr"
        },
        {
          "output_type": "stream",
          "text": [
            "[WARNING] [2019-08-25 07:08:42,266:EnsembleBuilder(1):e50c21fd734717aba9baaaf5a5ed66a7] No models better than random - using Dummy Score!\n"
          ],
          "name": "stdout"
        },
        {
          "output_type": "stream",
          "text": [
            "/usr/local/lib/python3.6/dist-packages/autosklearn/evaluation/train_evaluator.py:197: RuntimeWarning: Mean of empty slice\n",
            "  Y_train_pred = np.nanmean(Y_train_pred_full, axis=0)\n"
          ],
          "name": "stderr"
        },
        {
          "output_type": "stream",
          "text": [
            "[WARNING] [2019-08-25 07:08:44,275:EnsembleBuilder(1):e50c21fd734717aba9baaaf5a5ed66a7] No models better than random - using Dummy Score!\n",
            "[WARNING] [2019-08-25 07:08:46,290:EnsembleBuilder(1):e50c21fd734717aba9baaaf5a5ed66a7] No models better than random - using Dummy Score!\n",
            "[WARNING] [2019-08-25 07:08:48,310:EnsembleBuilder(1):e50c21fd734717aba9baaaf5a5ed66a7] No models better than random - using Dummy Score!\n",
            "[WARNING] [2019-08-25 07:08:50,330:EnsembleBuilder(1):e50c21fd734717aba9baaaf5a5ed66a7] No models better than random - using Dummy Score!\n",
            "[WARNING] [2019-08-25 07:08:52,350:EnsembleBuilder(1):e50c21fd734717aba9baaaf5a5ed66a7] No models better than random - using Dummy Score!\n",
            "[WARNING] [2019-08-25 07:08:54,357:EnsembleBuilder(1):e50c21fd734717aba9baaaf5a5ed66a7] No models better than random - using Dummy Score!\n",
            "[WARNING] [2019-08-25 07:08:56,379:EnsembleBuilder(1):e50c21fd734717aba9baaaf5a5ed66a7] No models better than random - using Dummy Score!\n",
            "[WARNING] [2019-08-25 07:08:58,396:EnsembleBuilder(1):e50c21fd734717aba9baaaf5a5ed66a7] No models better than random - using Dummy Score!\n",
            "[WARNING] [2019-08-25 07:09:00,416:EnsembleBuilder(1):e50c21fd734717aba9baaaf5a5ed66a7] No models better than random - using Dummy Score!\n",
            "[WARNING] [2019-08-25 07:09:02,435:EnsembleBuilder(1):e50c21fd734717aba9baaaf5a5ed66a7] No models better than random - using Dummy Score!\n",
            "[WARNING] [2019-08-25 07:09:04,460:EnsembleBuilder(1):e50c21fd734717aba9baaaf5a5ed66a7] No models better than random - using Dummy Score!\n"
          ],
          "name": "stdout"
        },
        {
          "output_type": "stream",
          "text": [
            "/usr/local/lib/python3.6/dist-packages/autosklearn/evaluation/train_evaluator.py:197: RuntimeWarning: Mean of empty slice\n",
            "  Y_train_pred = np.nanmean(Y_train_pred_full, axis=0)\n"
          ],
          "name": "stderr"
        },
        {
          "output_type": "stream",
          "text": [
            "[WARNING] [2019-08-25 07:09:06,484:EnsembleBuilder(1):e50c21fd734717aba9baaaf5a5ed66a7] No models better than random - using Dummy Score!\n",
            "[WARNING] [2019-08-25 07:09:08,491:EnsembleBuilder(1):e50c21fd734717aba9baaaf5a5ed66a7] No models better than random - using Dummy Score!\n"
          ],
          "name": "stdout"
        },
        {
          "output_type": "stream",
          "text": [
            "/usr/local/lib/python3.6/dist-packages/autosklearn/evaluation/train_evaluator.py:197: RuntimeWarning: Mean of empty slice\n",
            "  Y_train_pred = np.nanmean(Y_train_pred_full, axis=0)\n",
            "/usr/local/lib/python3.6/dist-packages/autosklearn/evaluation/train_evaluator.py:197: RuntimeWarning: Mean of empty slice\n",
            "  Y_train_pred = np.nanmean(Y_train_pred_full, axis=0)\n"
          ],
          "name": "stderr"
        },
        {
          "output_type": "stream",
          "text": [
            "[WARNING] [2019-08-25 07:09:10,501:EnsembleBuilder(1):e50c21fd734717aba9baaaf5a5ed66a7] No models better than random - using Dummy Score!\n"
          ],
          "name": "stdout"
        },
        {
          "output_type": "stream",
          "text": [
            "/usr/local/lib/python3.6/dist-packages/autosklearn/evaluation/train_evaluator.py:197: RuntimeWarning: Mean of empty slice\n",
            "  Y_train_pred = np.nanmean(Y_train_pred_full, axis=0)\n"
          ],
          "name": "stderr"
        },
        {
          "output_type": "stream",
          "text": [
            "[WARNING] [2019-08-25 07:09:12,511:EnsembleBuilder(1):e50c21fd734717aba9baaaf5a5ed66a7] No models better than random - using Dummy Score!\n"
          ],
          "name": "stdout"
        },
        {
          "output_type": "stream",
          "text": [
            "/usr/local/lib/python3.6/dist-packages/autosklearn/evaluation/train_evaluator.py:197: RuntimeWarning: Mean of empty slice\n",
            "  Y_train_pred = np.nanmean(Y_train_pred_full, axis=0)\n"
          ],
          "name": "stderr"
        },
        {
          "output_type": "stream",
          "text": [
            "[WARNING] [2019-08-25 07:09:14,519:EnsembleBuilder(1):e50c21fd734717aba9baaaf5a5ed66a7] No models better than random - using Dummy Score!\n"
          ],
          "name": "stdout"
        },
        {
          "output_type": "stream",
          "text": [
            "/usr/local/lib/python3.6/dist-packages/autosklearn/evaluation/train_evaluator.py:197: RuntimeWarning: Mean of empty slice\n",
            "  Y_train_pred = np.nanmean(Y_train_pred_full, axis=0)\n",
            "/usr/local/lib/python3.6/dist-packages/autosklearn/evaluation/train_evaluator.py:197: RuntimeWarning: Mean of empty slice\n",
            "  Y_train_pred = np.nanmean(Y_train_pred_full, axis=0)\n",
            "/usr/local/lib/python3.6/dist-packages/autosklearn/evaluation/train_evaluator.py:197: RuntimeWarning: Mean of empty slice\n",
            "  Y_train_pred = np.nanmean(Y_train_pred_full, axis=0)\n"
          ],
          "name": "stderr"
        },
        {
          "output_type": "stream",
          "text": [
            "[WARNING] [2019-08-25 07:09:16,530:EnsembleBuilder(1):e50c21fd734717aba9baaaf5a5ed66a7] No models better than random - using Dummy Score!\n"
          ],
          "name": "stdout"
        },
        {
          "output_type": "stream",
          "text": [
            "/usr/local/lib/python3.6/dist-packages/autosklearn/evaluation/train_evaluator.py:197: RuntimeWarning: Mean of empty slice\n",
            "  Y_train_pred = np.nanmean(Y_train_pred_full, axis=0)\n"
          ],
          "name": "stderr"
        },
        {
          "output_type": "stream",
          "text": [
            "[WARNING] [2019-08-25 07:09:18,538:EnsembleBuilder(1):e50c21fd734717aba9baaaf5a5ed66a7] No models better than random - using Dummy Score!\n"
          ],
          "name": "stdout"
        },
        {
          "output_type": "stream",
          "text": [
            "/usr/local/lib/python3.6/dist-packages/autosklearn/evaluation/train_evaluator.py:197: RuntimeWarning: Mean of empty slice\n",
            "  Y_train_pred = np.nanmean(Y_train_pred_full, axis=0)\n"
          ],
          "name": "stderr"
        },
        {
          "output_type": "stream",
          "text": [
            "[WARNING] [2019-08-25 07:09:20,547:EnsembleBuilder(1):e50c21fd734717aba9baaaf5a5ed66a7] No models better than random - using Dummy Score!\n"
          ],
          "name": "stdout"
        },
        {
          "output_type": "stream",
          "text": [
            "/usr/local/lib/python3.6/dist-packages/autosklearn/evaluation/train_evaluator.py:197: RuntimeWarning: Mean of empty slice\n",
            "  Y_train_pred = np.nanmean(Y_train_pred_full, axis=0)\n"
          ],
          "name": "stderr"
        },
        {
          "output_type": "stream",
          "text": [
            "[WARNING] [2019-08-25 07:09:22,562:EnsembleBuilder(1):e50c21fd734717aba9baaaf5a5ed66a7] No models better than random - using Dummy Score!\n",
            "[WARNING] [2019-08-25 07:09:24,576:EnsembleBuilder(1):e50c21fd734717aba9baaaf5a5ed66a7] No models better than random - using Dummy Score!\n"
          ],
          "name": "stdout"
        },
        {
          "output_type": "stream",
          "text": [
            "/usr/local/lib/python3.6/dist-packages/autosklearn/evaluation/train_evaluator.py:197: RuntimeWarning: Mean of empty slice\n",
            "  Y_train_pred = np.nanmean(Y_train_pred_full, axis=0)\n"
          ],
          "name": "stderr"
        },
        {
          "output_type": "stream",
          "text": [
            "[WARNING] [2019-08-25 07:09:26,593:EnsembleBuilder(1):e50c21fd734717aba9baaaf5a5ed66a7] No models better than random - using Dummy Score!\n",
            "[WARNING] [2019-08-25 07:09:28,609:EnsembleBuilder(1):e50c21fd734717aba9baaaf5a5ed66a7] No models better than random - using Dummy Score!\n"
          ],
          "name": "stdout"
        },
        {
          "output_type": "stream",
          "text": [
            "/usr/local/lib/python3.6/dist-packages/autosklearn/evaluation/train_evaluator.py:197: RuntimeWarning: Mean of empty slice\n",
            "  Y_train_pred = np.nanmean(Y_train_pred_full, axis=0)\n"
          ],
          "name": "stderr"
        },
        {
          "output_type": "stream",
          "text": [
            "[WARNING] [2019-08-25 07:09:30,627:EnsembleBuilder(1):e50c21fd734717aba9baaaf5a5ed66a7] No models better than random - using Dummy Score!\n",
            "[WARNING] [2019-08-25 07:09:32,635:EnsembleBuilder(1):e50c21fd734717aba9baaaf5a5ed66a7] No models better than random - using Dummy Score!\n",
            "[WARNING] [2019-08-25 07:09:34,644:EnsembleBuilder(1):e50c21fd734717aba9baaaf5a5ed66a7] No models better than random - using Dummy Score!\n"
          ],
          "name": "stdout"
        },
        {
          "output_type": "stream",
          "text": [
            "/usr/local/lib/python3.6/dist-packages/autosklearn/evaluation/train_evaluator.py:197: RuntimeWarning: Mean of empty slice\n",
            "  Y_train_pred = np.nanmean(Y_train_pred_full, axis=0)\n"
          ],
          "name": "stderr"
        },
        {
          "output_type": "stream",
          "text": [
            "[WARNING] [2019-08-25 07:09:36,661:EnsembleBuilder(1):e50c21fd734717aba9baaaf5a5ed66a7] No models better than random - using Dummy Score!\n",
            "[WARNING] [2019-08-25 07:09:38,675:EnsembleBuilder(1):e50c21fd734717aba9baaaf5a5ed66a7] No models better than random - using Dummy Score!\n",
            "[WARNING] [2019-08-25 07:09:40,687:EnsembleBuilder(1):e50c21fd734717aba9baaaf5a5ed66a7] No models better than random - using Dummy Score!\n",
            "[WARNING] [2019-08-25 07:09:42,700:EnsembleBuilder(1):e50c21fd734717aba9baaaf5a5ed66a7] No models better than random - using Dummy Score!\n",
            "[WARNING] [2019-08-25 07:09:44,715:EnsembleBuilder(1):e50c21fd734717aba9baaaf5a5ed66a7] No models better than random - using Dummy Score!\n",
            "[WARNING] [2019-08-25 07:09:46,730:EnsembleBuilder(1):e50c21fd734717aba9baaaf5a5ed66a7] No models better than random - using Dummy Score!\n",
            "[WARNING] [2019-08-25 07:09:48,744:EnsembleBuilder(1):e50c21fd734717aba9baaaf5a5ed66a7] No models better than random - using Dummy Score!\n",
            "[WARNING] [2019-08-25 07:09:50,758:EnsembleBuilder(1):e50c21fd734717aba9baaaf5a5ed66a7] No models better than random - using Dummy Score!\n",
            "[WARNING] [2019-08-25 07:09:52,771:EnsembleBuilder(1):e50c21fd734717aba9baaaf5a5ed66a7] No models better than random - using Dummy Score!\n",
            "[WARNING] [2019-08-25 07:09:54,784:EnsembleBuilder(1):e50c21fd734717aba9baaaf5a5ed66a7] No models better than random - using Dummy Score!\n",
            "[WARNING] [2019-08-25 07:09:56,796:EnsembleBuilder(1):e50c21fd734717aba9baaaf5a5ed66a7] No models better than random - using Dummy Score!\n",
            "[WARNING] [2019-08-25 07:09:58,809:EnsembleBuilder(1):e50c21fd734717aba9baaaf5a5ed66a7] No models better than random - using Dummy Score!\n",
            "[WARNING] [2019-08-25 07:10:00,822:EnsembleBuilder(1):e50c21fd734717aba9baaaf5a5ed66a7] No models better than random - using Dummy Score!\n",
            "[WARNING] [2019-08-25 07:10:02,835:EnsembleBuilder(1):e50c21fd734717aba9baaaf5a5ed66a7] No models better than random - using Dummy Score!\n",
            "[WARNING] [2019-08-25 07:10:04,848:EnsembleBuilder(1):e50c21fd734717aba9baaaf5a5ed66a7] No models better than random - using Dummy Score!\n",
            "[WARNING] [2019-08-25 07:10:06,860:EnsembleBuilder(1):e50c21fd734717aba9baaaf5a5ed66a7] No models better than random - using Dummy Score!\n",
            "[WARNING] [2019-08-25 07:10:08,874:EnsembleBuilder(1):e50c21fd734717aba9baaaf5a5ed66a7] No models better than random - using Dummy Score!\n",
            "[WARNING] [2019-08-25 07:10:10,891:EnsembleBuilder(1):e50c21fd734717aba9baaaf5a5ed66a7] No models better than random - using Dummy Score!\n",
            "[WARNING] [2019-08-25 07:10:12,907:EnsembleBuilder(1):e50c21fd734717aba9baaaf5a5ed66a7] No models better than random - using Dummy Score!\n",
            "[WARNING] [2019-08-25 07:10:14,924:EnsembleBuilder(1):e50c21fd734717aba9baaaf5a5ed66a7] No models better than random - using Dummy Score!\n",
            "[WARNING] [2019-08-25 07:10:16,937:EnsembleBuilder(1):e50c21fd734717aba9baaaf5a5ed66a7] No models better than random - using Dummy Score!\n",
            "[WARNING] [2019-08-25 07:10:18,949:EnsembleBuilder(1):e50c21fd734717aba9baaaf5a5ed66a7] No models better than random - using Dummy Score!\n",
            "[WARNING] [2019-08-25 07:10:20,963:EnsembleBuilder(1):e50c21fd734717aba9baaaf5a5ed66a7] No models better than random - using Dummy Score!\n",
            "[WARNING] [2019-08-25 07:10:22,978:EnsembleBuilder(1):e50c21fd734717aba9baaaf5a5ed66a7] No models better than random - using Dummy Score!\n",
            "[WARNING] [2019-08-25 07:10:24,993:EnsembleBuilder(1):e50c21fd734717aba9baaaf5a5ed66a7] No models better than random - using Dummy Score!\n",
            "[WARNING] [2019-08-25 07:10:27,006:EnsembleBuilder(1):e50c21fd734717aba9baaaf5a5ed66a7] No models better than random - using Dummy Score!\n",
            "[WARNING] [2019-08-25 07:10:29,019:EnsembleBuilder(1):e50c21fd734717aba9baaaf5a5ed66a7] No models better than random - using Dummy Score!\n",
            "[WARNING] [2019-08-25 07:10:31,032:EnsembleBuilder(1):e50c21fd734717aba9baaaf5a5ed66a7] No models better than random - using Dummy Score!\n",
            "[WARNING] [2019-08-25 07:10:33,046:EnsembleBuilder(1):e50c21fd734717aba9baaaf5a5ed66a7] No models better than random - using Dummy Score!\n",
            "[WARNING] [2019-08-25 07:10:35,061:EnsembleBuilder(1):e50c21fd734717aba9baaaf5a5ed66a7] No models better than random - using Dummy Score!\n",
            "[WARNING] [2019-08-25 07:10:37,075:EnsembleBuilder(1):e50c21fd734717aba9baaaf5a5ed66a7] No models better than random - using Dummy Score!\n",
            "[WARNING] [2019-08-25 07:10:39,089:EnsembleBuilder(1):e50c21fd734717aba9baaaf5a5ed66a7] No models better than random - using Dummy Score!\n",
            "[WARNING] [2019-08-25 07:10:41,105:EnsembleBuilder(1):e50c21fd734717aba9baaaf5a5ed66a7] No models better than random - using Dummy Score!\n",
            "[WARNING] [2019-08-25 07:10:43,120:EnsembleBuilder(1):e50c21fd734717aba9baaaf5a5ed66a7] No models better than random - using Dummy Score!\n",
            "[WARNING] [2019-08-25 07:10:45,133:EnsembleBuilder(1):e50c21fd734717aba9baaaf5a5ed66a7] No models better than random - using Dummy Score!\n",
            "[WARNING] [2019-08-25 07:10:47,147:EnsembleBuilder(1):e50c21fd734717aba9baaaf5a5ed66a7] No models better than random - using Dummy Score!\n",
            "[WARNING] [2019-08-25 07:10:49,161:EnsembleBuilder(1):e50c21fd734717aba9baaaf5a5ed66a7] No models better than random - using Dummy Score!\n",
            "[WARNING] [2019-08-25 07:10:51,175:EnsembleBuilder(1):e50c21fd734717aba9baaaf5a5ed66a7] No models better than random - using Dummy Score!\n",
            "[WARNING] [2019-08-25 07:10:53,188:EnsembleBuilder(1):e50c21fd734717aba9baaaf5a5ed66a7] No models better than random - using Dummy Score!\n",
            "[WARNING] [2019-08-25 07:10:55,201:EnsembleBuilder(1):e50c21fd734717aba9baaaf5a5ed66a7] No models better than random - using Dummy Score!\n",
            "[WARNING] [2019-08-25 07:10:57,214:EnsembleBuilder(1):e50c21fd734717aba9baaaf5a5ed66a7] No models better than random - using Dummy Score!\n",
            "[WARNING] [2019-08-25 07:10:59,228:EnsembleBuilder(1):e50c21fd734717aba9baaaf5a5ed66a7] No models better than random - using Dummy Score!\n",
            "[WARNING] [2019-08-25 07:11:01,241:EnsembleBuilder(1):e50c21fd734717aba9baaaf5a5ed66a7] No models better than random - using Dummy Score!\n",
            "[WARNING] [2019-08-25 07:11:03,253:EnsembleBuilder(1):e50c21fd734717aba9baaaf5a5ed66a7] No models better than random - using Dummy Score!\n",
            "[WARNING] [2019-08-25 07:11:05,267:EnsembleBuilder(1):e50c21fd734717aba9baaaf5a5ed66a7] No models better than random - using Dummy Score!\n",
            "[WARNING] [2019-08-25 07:11:07,280:EnsembleBuilder(1):e50c21fd734717aba9baaaf5a5ed66a7] No models better than random - using Dummy Score!\n",
            "[WARNING] [2019-08-25 07:11:09,294:EnsembleBuilder(1):e50c21fd734717aba9baaaf5a5ed66a7] No models better than random - using Dummy Score!\n",
            "[WARNING] [2019-08-25 07:11:11,307:EnsembleBuilder(1):e50c21fd734717aba9baaaf5a5ed66a7] No models better than random - using Dummy Score!\n",
            "[WARNING] [2019-08-25 07:11:13,319:EnsembleBuilder(1):e50c21fd734717aba9baaaf5a5ed66a7] No models better than random - using Dummy Score!\n",
            "[WARNING] [2019-08-25 07:11:15,332:EnsembleBuilder(1):e50c21fd734717aba9baaaf5a5ed66a7] No models better than random - using Dummy Score!\n",
            "[WARNING] [2019-08-25 07:11:17,345:EnsembleBuilder(1):e50c21fd734717aba9baaaf5a5ed66a7] No models better than random - using Dummy Score!\n",
            "[WARNING] [2019-08-25 07:11:19,357:EnsembleBuilder(1):e50c21fd734717aba9baaaf5a5ed66a7] No models better than random - using Dummy Score!\n",
            "[WARNING] [2019-08-25 07:11:21,370:EnsembleBuilder(1):e50c21fd734717aba9baaaf5a5ed66a7] No models better than random - using Dummy Score!\n",
            "[WARNING] [2019-08-25 07:11:23,383:EnsembleBuilder(1):e50c21fd734717aba9baaaf5a5ed66a7] No models better than random - using Dummy Score!\n",
            "[WARNING] [2019-08-25 07:11:25,395:EnsembleBuilder(1):e50c21fd734717aba9baaaf5a5ed66a7] No models better than random - using Dummy Score!\n",
            "[WARNING] [2019-08-25 07:11:27,408:EnsembleBuilder(1):e50c21fd734717aba9baaaf5a5ed66a7] No models better than random - using Dummy Score!\n",
            "[WARNING] [2019-08-25 07:11:29,421:EnsembleBuilder(1):e50c21fd734717aba9baaaf5a5ed66a7] No models better than random - using Dummy Score!\n",
            "[WARNING] [2019-08-25 07:11:31,433:EnsembleBuilder(1):e50c21fd734717aba9baaaf5a5ed66a7] No models better than random - using Dummy Score!\n",
            "[WARNING] [2019-08-25 07:11:33,447:EnsembleBuilder(1):e50c21fd734717aba9baaaf5a5ed66a7] No models better than random - using Dummy Score!\n",
            "[WARNING] [2019-08-25 07:11:35,460:EnsembleBuilder(1):e50c21fd734717aba9baaaf5a5ed66a7] No models better than random - using Dummy Score!\n",
            "[WARNING] [2019-08-25 07:11:37,474:EnsembleBuilder(1):e50c21fd734717aba9baaaf5a5ed66a7] No models better than random - using Dummy Score!\n",
            "[WARNING] [2019-08-25 07:11:39,487:EnsembleBuilder(1):e50c21fd734717aba9baaaf5a5ed66a7] No models better than random - using Dummy Score!\n",
            "[WARNING] [2019-08-25 07:11:41,498:EnsembleBuilder(1):e50c21fd734717aba9baaaf5a5ed66a7] No models better than random - using Dummy Score!\n",
            "[WARNING] [2019-08-25 07:11:43,512:EnsembleBuilder(1):e50c21fd734717aba9baaaf5a5ed66a7] No models better than random - using Dummy Score!\n",
            "[WARNING] [2019-08-25 07:11:45,525:EnsembleBuilder(1):e50c21fd734717aba9baaaf5a5ed66a7] No models better than random - using Dummy Score!\n",
            "[WARNING] [2019-08-25 07:11:47,539:EnsembleBuilder(1):e50c21fd734717aba9baaaf5a5ed66a7] No models better than random - using Dummy Score!\n",
            "[WARNING] [2019-08-25 07:11:49,550:EnsembleBuilder(1):e50c21fd734717aba9baaaf5a5ed66a7] No models better than random - using Dummy Score!\n",
            "[WARNING] [2019-08-25 07:11:51,562:EnsembleBuilder(1):e50c21fd734717aba9baaaf5a5ed66a7] No models better than random - using Dummy Score!\n",
            "[WARNING] [2019-08-25 07:11:53,576:EnsembleBuilder(1):e50c21fd734717aba9baaaf5a5ed66a7] No models better than random - using Dummy Score!\n",
            "[WARNING] [2019-08-25 07:11:55,589:EnsembleBuilder(1):e50c21fd734717aba9baaaf5a5ed66a7] No models better than random - using Dummy Score!\n",
            "[WARNING] [2019-08-25 07:11:57,603:EnsembleBuilder(1):e50c21fd734717aba9baaaf5a5ed66a7] No models better than random - using Dummy Score!\n",
            "[WARNING] [2019-08-25 07:11:59,618:EnsembleBuilder(1):e50c21fd734717aba9baaaf5a5ed66a7] No models better than random - using Dummy Score!\n",
            "[WARNING] [2019-08-25 07:12:01,635:EnsembleBuilder(1):e50c21fd734717aba9baaaf5a5ed66a7] No models better than random - using Dummy Score!\n",
            "[WARNING] [2019-08-25 07:12:03,656:EnsembleBuilder(1):e50c21fd734717aba9baaaf5a5ed66a7] No models better than random - using Dummy Score!\n",
            "[WARNING] [2019-08-25 07:12:05,685:EnsembleBuilder(1):e50c21fd734717aba9baaaf5a5ed66a7] No models better than random - using Dummy Score!\n",
            "[WARNING] [2019-08-25 07:12:07,712:EnsembleBuilder(1):e50c21fd734717aba9baaaf5a5ed66a7] No models better than random - using Dummy Score!\n",
            "[WARNING] [2019-08-25 07:12:09,735:EnsembleBuilder(1):e50c21fd734717aba9baaaf5a5ed66a7] No models better than random - using Dummy Score!\n",
            "[WARNING] [2019-08-25 07:12:11,751:EnsembleBuilder(1):e50c21fd734717aba9baaaf5a5ed66a7] No models better than random - using Dummy Score!\n",
            "[WARNING] [2019-08-25 07:12:13,773:EnsembleBuilder(1):e50c21fd734717aba9baaaf5a5ed66a7] No models better than random - using Dummy Score!\n",
            "[WARNING] [2019-08-25 07:12:15,809:EnsembleBuilder(1):e50c21fd734717aba9baaaf5a5ed66a7] No models better than random - using Dummy Score!\n",
            "[WARNING] [2019-08-25 07:12:17,834:EnsembleBuilder(1):e50c21fd734717aba9baaaf5a5ed66a7] No models better than random - using Dummy Score!\n",
            "[WARNING] [2019-08-25 07:12:19,853:EnsembleBuilder(1):e50c21fd734717aba9baaaf5a5ed66a7] No models better than random - using Dummy Score!\n",
            "[WARNING] [2019-08-25 07:12:21,872:EnsembleBuilder(1):e50c21fd734717aba9baaaf5a5ed66a7] No models better than random - using Dummy Score!\n",
            "[WARNING] [2019-08-25 07:12:23,901:EnsembleBuilder(1):e50c21fd734717aba9baaaf5a5ed66a7] No models better than random - using Dummy Score!\n",
            "[WARNING] [2019-08-25 07:12:25,928:EnsembleBuilder(1):e50c21fd734717aba9baaaf5a5ed66a7] No models better than random - using Dummy Score!\n",
            "[WARNING] [2019-08-25 07:12:27,952:EnsembleBuilder(1):e50c21fd734717aba9baaaf5a5ed66a7] No models better than random - using Dummy Score!\n",
            "[WARNING] [2019-08-25 07:12:29,977:EnsembleBuilder(1):e50c21fd734717aba9baaaf5a5ed66a7] No models better than random - using Dummy Score!\n",
            "[WARNING] [2019-08-25 07:12:31,994:EnsembleBuilder(1):e50c21fd734717aba9baaaf5a5ed66a7] No models better than random - using Dummy Score!\n",
            "[WARNING] [2019-08-25 07:12:34,018:EnsembleBuilder(1):e50c21fd734717aba9baaaf5a5ed66a7] No models better than random - using Dummy Score!\n",
            "[WARNING] [2019-08-25 07:12:36,042:EnsembleBuilder(1):e50c21fd734717aba9baaaf5a5ed66a7] No models better than random - using Dummy Score!\n",
            "[WARNING] [2019-08-25 07:12:38,065:EnsembleBuilder(1):e50c21fd734717aba9baaaf5a5ed66a7] No models better than random - using Dummy Score!\n",
            "[WARNING] [2019-08-25 07:12:40,081:EnsembleBuilder(1):e50c21fd734717aba9baaaf5a5ed66a7] No models better than random - using Dummy Score!\n",
            "[WARNING] [2019-08-25 07:12:42,107:EnsembleBuilder(1):e50c21fd734717aba9baaaf5a5ed66a7] No models better than random - using Dummy Score!\n",
            "[WARNING] [2019-08-25 07:12:44,126:EnsembleBuilder(1):e50c21fd734717aba9baaaf5a5ed66a7] No models better than random - using Dummy Score!\n",
            "[WARNING] [2019-08-25 07:12:46,150:EnsembleBuilder(1):e50c21fd734717aba9baaaf5a5ed66a7] No models better than random - using Dummy Score!\n",
            "[WARNING] [2019-08-25 07:12:48,165:EnsembleBuilder(1):e50c21fd734717aba9baaaf5a5ed66a7] No models better than random - using Dummy Score!\n",
            "[WARNING] [2019-08-25 07:12:50,184:EnsembleBuilder(1):e50c21fd734717aba9baaaf5a5ed66a7] No models better than random - using Dummy Score!\n",
            "[WARNING] [2019-08-25 07:12:52,200:EnsembleBuilder(1):e50c21fd734717aba9baaaf5a5ed66a7] No models better than random - using Dummy Score!\n",
            "[WARNING] [2019-08-25 07:12:54,220:EnsembleBuilder(1):e50c21fd734717aba9baaaf5a5ed66a7] No models better than random - using Dummy Score!\n",
            "[WARNING] [2019-08-25 07:12:56,237:EnsembleBuilder(1):e50c21fd734717aba9baaaf5a5ed66a7] No models better than random - using Dummy Score!\n",
            "[WARNING] [2019-08-25 07:12:58,259:EnsembleBuilder(1):e50c21fd734717aba9baaaf5a5ed66a7] No models better than random - using Dummy Score!\n",
            "[WARNING] [2019-08-25 07:13:00,278:EnsembleBuilder(1):e50c21fd734717aba9baaaf5a5ed66a7] No models better than random - using Dummy Score!\n",
            "[WARNING] [2019-08-25 07:13:02,292:EnsembleBuilder(1):e50c21fd734717aba9baaaf5a5ed66a7] No models better than random - using Dummy Score!\n",
            "[WARNING] [2019-08-25 07:13:04,311:EnsembleBuilder(1):e50c21fd734717aba9baaaf5a5ed66a7] No models better than random - using Dummy Score!\n",
            "[WARNING] [2019-08-25 07:13:06,332:EnsembleBuilder(1):e50c21fd734717aba9baaaf5a5ed66a7] No models better than random - using Dummy Score!\n",
            "[WARNING] [2019-08-25 07:13:08,353:EnsembleBuilder(1):e50c21fd734717aba9baaaf5a5ed66a7] No models better than random - using Dummy Score!\n",
            "[WARNING] [2019-08-25 07:13:10,377:EnsembleBuilder(1):e50c21fd734717aba9baaaf5a5ed66a7] No models better than random - using Dummy Score!\n",
            "[WARNING] [2019-08-25 07:13:12,399:EnsembleBuilder(1):e50c21fd734717aba9baaaf5a5ed66a7] No models better than random - using Dummy Score!\n",
            "[WARNING] [2019-08-25 07:13:14,419:EnsembleBuilder(1):e50c21fd734717aba9baaaf5a5ed66a7] No models better than random - using Dummy Score!\n",
            "[WARNING] [2019-08-25 07:13:16,442:EnsembleBuilder(1):e50c21fd734717aba9baaaf5a5ed66a7] No models better than random - using Dummy Score!\n",
            "[WARNING] [2019-08-25 07:13:18,463:EnsembleBuilder(1):e50c21fd734717aba9baaaf5a5ed66a7] No models better than random - using Dummy Score!\n",
            "[WARNING] [2019-08-25 07:13:20,487:EnsembleBuilder(1):e50c21fd734717aba9baaaf5a5ed66a7] No models better than random - using Dummy Score!\n",
            "[WARNING] [2019-08-25 07:13:22,511:EnsembleBuilder(1):e50c21fd734717aba9baaaf5a5ed66a7] No models better than random - using Dummy Score!\n",
            "[WARNING] [2019-08-25 07:13:24,532:EnsembleBuilder(1):e50c21fd734717aba9baaaf5a5ed66a7] No models better than random - using Dummy Score!\n",
            "[WARNING] [2019-08-25 07:13:26,556:EnsembleBuilder(1):e50c21fd734717aba9baaaf5a5ed66a7] No models better than random - using Dummy Score!\n",
            "[WARNING] [2019-08-25 07:13:28,580:EnsembleBuilder(1):e50c21fd734717aba9baaaf5a5ed66a7] No models better than random - using Dummy Score!\n",
            "[WARNING] [2019-08-25 07:13:30,601:EnsembleBuilder(1):e50c21fd734717aba9baaaf5a5ed66a7] No models better than random - using Dummy Score!\n",
            "[WARNING] [2019-08-25 07:13:32,622:EnsembleBuilder(1):e50c21fd734717aba9baaaf5a5ed66a7] No models better than random - using Dummy Score!\n",
            "[WARNING] [2019-08-25 07:13:34,650:EnsembleBuilder(1):e50c21fd734717aba9baaaf5a5ed66a7] No models better than random - using Dummy Score!\n",
            "[WARNING] [2019-08-25 07:13:36,674:EnsembleBuilder(1):e50c21fd734717aba9baaaf5a5ed66a7] No models better than random - using Dummy Score!\n",
            "[WARNING] [2019-08-25 07:13:38,699:EnsembleBuilder(1):e50c21fd734717aba9baaaf5a5ed66a7] No models better than random - using Dummy Score!\n",
            "[WARNING] [2019-08-25 07:13:40,721:EnsembleBuilder(1):e50c21fd734717aba9baaaf5a5ed66a7] No models better than random - using Dummy Score!\n",
            "[WARNING] [2019-08-25 07:13:42,737:EnsembleBuilder(1):e50c21fd734717aba9baaaf5a5ed66a7] No models better than random - using Dummy Score!\n",
            "[WARNING] [2019-08-25 07:13:44,759:EnsembleBuilder(1):e50c21fd734717aba9baaaf5a5ed66a7] No models better than random - using Dummy Score!\n",
            "[WARNING] [2019-08-25 07:13:46,779:EnsembleBuilder(1):e50c21fd734717aba9baaaf5a5ed66a7] No models better than random - using Dummy Score!\n",
            "[WARNING] [2019-08-25 07:13:48,800:EnsembleBuilder(1):e50c21fd734717aba9baaaf5a5ed66a7] No models better than random - using Dummy Score!\n",
            "[WARNING] [2019-08-25 07:13:50,822:EnsembleBuilder(1):e50c21fd734717aba9baaaf5a5ed66a7] No models better than random - using Dummy Score!\n",
            "[WARNING] [2019-08-25 07:13:52,844:EnsembleBuilder(1):e50c21fd734717aba9baaaf5a5ed66a7] No models better than random - using Dummy Score!\n",
            "[WARNING] [2019-08-25 07:13:54,865:EnsembleBuilder(1):e50c21fd734717aba9baaaf5a5ed66a7] No models better than random - using Dummy Score!\n",
            "[WARNING] [2019-08-25 07:13:56,884:EnsembleBuilder(1):e50c21fd734717aba9baaaf5a5ed66a7] No models better than random - using Dummy Score!\n",
            "[WARNING] [2019-08-25 07:13:58,905:EnsembleBuilder(1):e50c21fd734717aba9baaaf5a5ed66a7] No models better than random - using Dummy Score!\n",
            "[WARNING] [2019-08-25 07:14:00,928:EnsembleBuilder(1):e50c21fd734717aba9baaaf5a5ed66a7] No models better than random - using Dummy Score!\n",
            "[WARNING] [2019-08-25 07:14:02,952:EnsembleBuilder(1):e50c21fd734717aba9baaaf5a5ed66a7] No models better than random - using Dummy Score!\n",
            "[WARNING] [2019-08-25 07:14:04,971:EnsembleBuilder(1):e50c21fd734717aba9baaaf5a5ed66a7] No models better than random - using Dummy Score!\n",
            "[WARNING] [2019-08-25 07:14:06,992:EnsembleBuilder(1):e50c21fd734717aba9baaaf5a5ed66a7] No models better than random - using Dummy Score!\n",
            "[WARNING] [2019-08-25 07:14:09,016:EnsembleBuilder(1):e50c21fd734717aba9baaaf5a5ed66a7] No models better than random - using Dummy Score!\n",
            "[WARNING] [2019-08-25 07:14:11,043:EnsembleBuilder(1):e50c21fd734717aba9baaaf5a5ed66a7] No models better than random - using Dummy Score!\n",
            "[WARNING] [2019-08-25 07:14:13,066:EnsembleBuilder(1):e50c21fd734717aba9baaaf5a5ed66a7] No models better than random - using Dummy Score!\n",
            "[WARNING] [2019-08-25 07:14:15,090:EnsembleBuilder(1):e50c21fd734717aba9baaaf5a5ed66a7] No models better than random - using Dummy Score!\n",
            "[WARNING] [2019-08-25 07:14:17,113:EnsembleBuilder(1):e50c21fd734717aba9baaaf5a5ed66a7] No models better than random - using Dummy Score!\n",
            "[WARNING] [2019-08-25 07:14:19,136:EnsembleBuilder(1):e50c21fd734717aba9baaaf5a5ed66a7] No models better than random - using Dummy Score!\n",
            "[WARNING] [2019-08-25 07:14:21,155:EnsembleBuilder(1):e50c21fd734717aba9baaaf5a5ed66a7] No models better than random - using Dummy Score!\n",
            "[WARNING] [2019-08-25 07:14:23,171:EnsembleBuilder(1):e50c21fd734717aba9baaaf5a5ed66a7] No models better than random - using Dummy Score!\n",
            "[WARNING] [2019-08-25 07:14:25,199:EnsembleBuilder(1):e50c21fd734717aba9baaaf5a5ed66a7] No models better than random - using Dummy Score!\n",
            "[WARNING] [2019-08-25 07:14:27,219:EnsembleBuilder(1):e50c21fd734717aba9baaaf5a5ed66a7] No models better than random - using Dummy Score!\n",
            "[WARNING] [2019-08-25 07:14:29,240:EnsembleBuilder(1):e50c21fd734717aba9baaaf5a5ed66a7] No models better than random - using Dummy Score!\n",
            "[WARNING] [2019-08-25 07:14:31,259:EnsembleBuilder(1):e50c21fd734717aba9baaaf5a5ed66a7] No models better than random - using Dummy Score!\n",
            "[WARNING] [2019-08-25 07:14:33,280:EnsembleBuilder(1):e50c21fd734717aba9baaaf5a5ed66a7] No models better than random - using Dummy Score!\n",
            "[WARNING] [2019-08-25 07:14:35,303:EnsembleBuilder(1):e50c21fd734717aba9baaaf5a5ed66a7] No models better than random - using Dummy Score!\n",
            "[WARNING] [2019-08-25 07:14:37,324:EnsembleBuilder(1):e50c21fd734717aba9baaaf5a5ed66a7] No models better than random - using Dummy Score!\n",
            "[WARNING] [2019-08-25 07:14:39,345:EnsembleBuilder(1):e50c21fd734717aba9baaaf5a5ed66a7] No models better than random - using Dummy Score!\n",
            "[WARNING] [2019-08-25 07:14:41,369:EnsembleBuilder(1):e50c21fd734717aba9baaaf5a5ed66a7] No models better than random - using Dummy Score!\n",
            "[WARNING] [2019-08-25 07:14:43,394:EnsembleBuilder(1):e50c21fd734717aba9baaaf5a5ed66a7] No models better than random - using Dummy Score!\n",
            "[WARNING] [2019-08-25 07:14:45,410:EnsembleBuilder(1):e50c21fd734717aba9baaaf5a5ed66a7] No models better than random - using Dummy Score!\n",
            "[WARNING] [2019-08-25 07:14:47,431:EnsembleBuilder(1):e50c21fd734717aba9baaaf5a5ed66a7] No models better than random - using Dummy Score!\n",
            "[WARNING] [2019-08-25 07:14:49,455:EnsembleBuilder(1):e50c21fd734717aba9baaaf5a5ed66a7] No models better than random - using Dummy Score!\n",
            "[WARNING] [2019-08-25 07:14:51,472:EnsembleBuilder(1):e50c21fd734717aba9baaaf5a5ed66a7] No models better than random - using Dummy Score!\n",
            "[WARNING] [2019-08-25 07:14:53,495:EnsembleBuilder(1):e50c21fd734717aba9baaaf5a5ed66a7] No models better than random - using Dummy Score!\n",
            "[WARNING] [2019-08-25 07:14:55,518:EnsembleBuilder(1):e50c21fd734717aba9baaaf5a5ed66a7] No models better than random - using Dummy Score!\n",
            "[WARNING] [2019-08-25 07:14:57,538:EnsembleBuilder(1):e50c21fd734717aba9baaaf5a5ed66a7] No models better than random - using Dummy Score!\n",
            "[WARNING] [2019-08-25 07:14:59,560:EnsembleBuilder(1):e50c21fd734717aba9baaaf5a5ed66a7] No models better than random - using Dummy Score!\n",
            "[WARNING] [2019-08-25 07:15:01,582:EnsembleBuilder(1):e50c21fd734717aba9baaaf5a5ed66a7] No models better than random - using Dummy Score!\n",
            "[WARNING] [2019-08-25 07:15:03,612:EnsembleBuilder(1):e50c21fd734717aba9baaaf5a5ed66a7] No models better than random - using Dummy Score!\n",
            "[WARNING] [2019-08-25 07:15:05,639:EnsembleBuilder(1):e50c21fd734717aba9baaaf5a5ed66a7] No models better than random - using Dummy Score!\n",
            "[WARNING] [2019-08-25 07:15:07,661:EnsembleBuilder(1):e50c21fd734717aba9baaaf5a5ed66a7] No models better than random - using Dummy Score!\n",
            "[WARNING] [2019-08-25 07:15:09,683:EnsembleBuilder(1):e50c21fd734717aba9baaaf5a5ed66a7] No models better than random - using Dummy Score!\n",
            "[WARNING] [2019-08-25 07:15:11,703:EnsembleBuilder(1):e50c21fd734717aba9baaaf5a5ed66a7] No models better than random - using Dummy Score!\n",
            "[WARNING] [2019-08-25 07:15:13,722:EnsembleBuilder(1):e50c21fd734717aba9baaaf5a5ed66a7] No models better than random - using Dummy Score!\n",
            "[WARNING] [2019-08-25 07:15:15,742:EnsembleBuilder(1):e50c21fd734717aba9baaaf5a5ed66a7] No models better than random - using Dummy Score!\n",
            "[WARNING] [2019-08-25 07:15:17,760:EnsembleBuilder(1):e50c21fd734717aba9baaaf5a5ed66a7] No models better than random - using Dummy Score!\n",
            "[WARNING] [2019-08-25 07:15:19,781:EnsembleBuilder(1):e50c21fd734717aba9baaaf5a5ed66a7] No models better than random - using Dummy Score!\n",
            "[WARNING] [2019-08-25 07:15:21,797:EnsembleBuilder(1):e50c21fd734717aba9baaaf5a5ed66a7] No models better than random - using Dummy Score!\n",
            "[WARNING] [2019-08-25 07:15:23,819:EnsembleBuilder(1):e50c21fd734717aba9baaaf5a5ed66a7] No models better than random - using Dummy Score!\n",
            "[WARNING] [2019-08-25 07:15:25,840:EnsembleBuilder(1):e50c21fd734717aba9baaaf5a5ed66a7] No models better than random - using Dummy Score!\n",
            "[WARNING] [2019-08-25 07:15:27,861:EnsembleBuilder(1):e50c21fd734717aba9baaaf5a5ed66a7] No models better than random - using Dummy Score!\n",
            "[WARNING] [2019-08-25 07:15:29,882:EnsembleBuilder(1):e50c21fd734717aba9baaaf5a5ed66a7] No models better than random - using Dummy Score!\n",
            "[WARNING] [2019-08-25 07:15:31,899:EnsembleBuilder(1):e50c21fd734717aba9baaaf5a5ed66a7] No models better than random - using Dummy Score!\n",
            "[WARNING] [2019-08-25 07:15:33,937:EnsembleBuilder(1):e50c21fd734717aba9baaaf5a5ed66a7] No models better than random - using Dummy Score!\n",
            "[WARNING] [2019-08-25 07:15:35,959:EnsembleBuilder(1):e50c21fd734717aba9baaaf5a5ed66a7] No models better than random - using Dummy Score!\n",
            "[WARNING] [2019-08-25 07:15:37,968:EnsembleBuilder(1):e50c21fd734717aba9baaaf5a5ed66a7] No models better than random - using Dummy Score!\n"
          ],
          "name": "stdout"
        },
        {
          "output_type": "stream",
          "text": [
            "/usr/local/lib/python3.6/dist-packages/autosklearn/evaluation/train_evaluator.py:197: RuntimeWarning: Mean of empty slice\n",
            "  Y_train_pred = np.nanmean(Y_train_pred_full, axis=0)\n"
          ],
          "name": "stderr"
        },
        {
          "output_type": "stream",
          "text": [
            "[WARNING] [2019-08-25 07:15:39,977:EnsembleBuilder(1):e50c21fd734717aba9baaaf5a5ed66a7] No models better than random - using Dummy Score!\n"
          ],
          "name": "stdout"
        },
        {
          "output_type": "stream",
          "text": [
            "/usr/local/lib/python3.6/dist-packages/autosklearn/evaluation/train_evaluator.py:197: RuntimeWarning: Mean of empty slice\n",
            "  Y_train_pred = np.nanmean(Y_train_pred_full, axis=0)\n",
            "/usr/local/lib/python3.6/dist-packages/autosklearn/evaluation/train_evaluator.py:197: RuntimeWarning: Mean of empty slice\n",
            "  Y_train_pred = np.nanmean(Y_train_pred_full, axis=0)\n",
            "/usr/local/lib/python3.6/dist-packages/autosklearn/evaluation/train_evaluator.py:197: RuntimeWarning: Mean of empty slice\n",
            "  Y_train_pred = np.nanmean(Y_train_pred_full, axis=0)\n"
          ],
          "name": "stderr"
        },
        {
          "output_type": "stream",
          "text": [
            "[WARNING] [2019-08-25 07:15:41,995:EnsembleBuilder(1):e50c21fd734717aba9baaaf5a5ed66a7] No models better than random - using Dummy Score!\n",
            "[WARNING] [2019-08-25 07:15:44,004:EnsembleBuilder(1):e50c21fd734717aba9baaaf5a5ed66a7] No models better than random - using Dummy Score!\n"
          ],
          "name": "stdout"
        },
        {
          "output_type": "stream",
          "text": [
            "/usr/local/lib/python3.6/dist-packages/autosklearn/evaluation/train_evaluator.py:197: RuntimeWarning: Mean of empty slice\n",
            "  Y_train_pred = np.nanmean(Y_train_pred_full, axis=0)\n",
            "/usr/local/lib/python3.6/dist-packages/autosklearn/evaluation/train_evaluator.py:197: RuntimeWarning: Mean of empty slice\n",
            "  Y_train_pred = np.nanmean(Y_train_pred_full, axis=0)\n"
          ],
          "name": "stderr"
        },
        {
          "output_type": "stream",
          "text": [
            "[WARNING] [2019-08-25 07:15:46,023:EnsembleBuilder(1):e50c21fd734717aba9baaaf5a5ed66a7] No models better than random - using Dummy Score!\n"
          ],
          "name": "stdout"
        },
        {
          "output_type": "stream",
          "text": [
            "/usr/local/lib/python3.6/dist-packages/autosklearn/evaluation/train_evaluator.py:197: RuntimeWarning: Mean of empty slice\n",
            "  Y_train_pred = np.nanmean(Y_train_pred_full, axis=0)\n",
            "/usr/local/lib/python3.6/dist-packages/autosklearn/evaluation/train_evaluator.py:197: RuntimeWarning: Mean of empty slice\n",
            "  Y_train_pred = np.nanmean(Y_train_pred_full, axis=0)\n"
          ],
          "name": "stderr"
        },
        {
          "output_type": "stream",
          "text": [
            "[WARNING] [2019-08-25 07:15:48,041:EnsembleBuilder(1):e50c21fd734717aba9baaaf5a5ed66a7] No models better than random - using Dummy Score!\n",
            "[WARNING] [2019-08-25 07:15:50,049:EnsembleBuilder(1):e50c21fd734717aba9baaaf5a5ed66a7] No models better than random - using Dummy Score!\n",
            "[WARNING] [2019-08-25 07:15:52,058:EnsembleBuilder(1):e50c21fd734717aba9baaaf5a5ed66a7] No models better than random - using Dummy Score!\n"
          ],
          "name": "stdout"
        },
        {
          "output_type": "stream",
          "text": [
            "/usr/local/lib/python3.6/dist-packages/autosklearn/evaluation/train_evaluator.py:197: RuntimeWarning: Mean of empty slice\n",
            "  Y_train_pred = np.nanmean(Y_train_pred_full, axis=0)\n",
            "/usr/local/lib/python3.6/dist-packages/autosklearn/evaluation/train_evaluator.py:197: RuntimeWarning: Mean of empty slice\n",
            "  Y_train_pred = np.nanmean(Y_train_pred_full, axis=0)\n"
          ],
          "name": "stderr"
        },
        {
          "output_type": "stream",
          "text": [
            "[WARNING] [2019-08-25 07:15:54,094:EnsembleBuilder(1):e50c21fd734717aba9baaaf5a5ed66a7] No models better than random - using Dummy Score!\n",
            "[WARNING] [2019-08-25 07:15:56,112:EnsembleBuilder(1):e50c21fd734717aba9baaaf5a5ed66a7] No models better than random - using Dummy Score!\n"
          ],
          "name": "stdout"
        },
        {
          "output_type": "stream",
          "text": [
            "/usr/local/lib/python3.6/dist-packages/autosklearn/evaluation/train_evaluator.py:197: RuntimeWarning: Mean of empty slice\n",
            "  Y_train_pred = np.nanmean(Y_train_pred_full, axis=0)\n",
            "/usr/local/lib/python3.6/dist-packages/autosklearn/evaluation/train_evaluator.py:197: RuntimeWarning: Mean of empty slice\n",
            "  Y_train_pred = np.nanmean(Y_train_pred_full, axis=0)\n"
          ],
          "name": "stderr"
        },
        {
          "output_type": "stream",
          "text": [
            "[WARNING] [2019-08-25 07:15:58,122:EnsembleBuilder(1):e50c21fd734717aba9baaaf5a5ed66a7] No models better than random - using Dummy Score!\n"
          ],
          "name": "stdout"
        },
        {
          "output_type": "stream",
          "text": [
            "/usr/local/lib/python3.6/dist-packages/autosklearn/evaluation/train_evaluator.py:197: RuntimeWarning: Mean of empty slice\n",
            "  Y_train_pred = np.nanmean(Y_train_pred_full, axis=0)\n",
            "/usr/local/lib/python3.6/dist-packages/autosklearn/evaluation/train_evaluator.py:197: RuntimeWarning: Mean of empty slice\n",
            "  Y_train_pred = np.nanmean(Y_train_pred_full, axis=0)\n"
          ],
          "name": "stderr"
        },
        {
          "output_type": "stream",
          "text": [
            "[WARNING] [2019-08-25 07:16:00,132:EnsembleBuilder(1):e50c21fd734717aba9baaaf5a5ed66a7] No models better than random - using Dummy Score!\n",
            "[WARNING] [2019-08-25 07:16:02,143:EnsembleBuilder(1):e50c21fd734717aba9baaaf5a5ed66a7] No models better than random - using Dummy Score!\n",
            "[WARNING] [2019-08-25 07:16:04,151:EnsembleBuilder(1):e50c21fd734717aba9baaaf5a5ed66a7] No models better than random - using Dummy Score!\n",
            "[WARNING] [2019-08-25 07:16:06,166:EnsembleBuilder(1):e50c21fd734717aba9baaaf5a5ed66a7] No models better than random - using Dummy Score!\n",
            "[WARNING] [2019-08-25 07:16:08,182:EnsembleBuilder(1):e50c21fd734717aba9baaaf5a5ed66a7] No models better than random - using Dummy Score!\n"
          ],
          "name": "stdout"
        },
        {
          "output_type": "stream",
          "text": [
            "/usr/local/lib/python3.6/dist-packages/autosklearn/evaluation/train_evaluator.py:197: RuntimeWarning: Mean of empty slice\n",
            "  Y_train_pred = np.nanmean(Y_train_pred_full, axis=0)\n"
          ],
          "name": "stderr"
        },
        {
          "output_type": "stream",
          "text": [
            "[WARNING] [2019-08-25 07:16:10,210:EnsembleBuilder(1):e50c21fd734717aba9baaaf5a5ed66a7] No models better than random - using Dummy Score!\n",
            "[WARNING] [2019-08-25 07:16:12,228:EnsembleBuilder(1):e50c21fd734717aba9baaaf5a5ed66a7] No models better than random - using Dummy Score!\n",
            "[WARNING] [2019-08-25 07:16:14,245:EnsembleBuilder(1):e50c21fd734717aba9baaaf5a5ed66a7] No models better than random - using Dummy Score!\n",
            "[WARNING] [2019-08-25 07:16:16,254:EnsembleBuilder(1):e50c21fd734717aba9baaaf5a5ed66a7] No models better than random - using Dummy Score!\n"
          ],
          "name": "stdout"
        },
        {
          "output_type": "stream",
          "text": [
            "/usr/local/lib/python3.6/dist-packages/autosklearn/evaluation/train_evaluator.py:197: RuntimeWarning: Mean of empty slice\n",
            "  Y_train_pred = np.nanmean(Y_train_pred_full, axis=0)\n"
          ],
          "name": "stderr"
        },
        {
          "output_type": "stream",
          "text": [
            "[WARNING] [2019-08-25 07:16:18,269:EnsembleBuilder(1):e50c21fd734717aba9baaaf5a5ed66a7] No models better than random - using Dummy Score!\n",
            "[WARNING] [2019-08-25 07:16:20,277:EnsembleBuilder(1):e50c21fd734717aba9baaaf5a5ed66a7] No models better than random - using Dummy Score!\n",
            "[WARNING] [2019-08-25 07:16:22,300:EnsembleBuilder(1):e50c21fd734717aba9baaaf5a5ed66a7] No models better than random - using Dummy Score!\n",
            "[WARNING] [2019-08-25 07:16:24,318:EnsembleBuilder(1):e50c21fd734717aba9baaaf5a5ed66a7] No models better than random - using Dummy Score!\n",
            "[WARNING] [2019-08-25 07:16:26,339:EnsembleBuilder(1):e50c21fd734717aba9baaaf5a5ed66a7] No models better than random - using Dummy Score!\n",
            "[WARNING] [2019-08-25 07:16:28,362:EnsembleBuilder(1):e50c21fd734717aba9baaaf5a5ed66a7] No models better than random - using Dummy Score!\n",
            "[WARNING] [2019-08-25 07:16:30,383:EnsembleBuilder(1):e50c21fd734717aba9baaaf5a5ed66a7] No models better than random - using Dummy Score!\n",
            "[WARNING] [2019-08-25 07:16:32,407:EnsembleBuilder(1):e50c21fd734717aba9baaaf5a5ed66a7] No models better than random - using Dummy Score!\n",
            "[WARNING] [2019-08-25 07:16:34,428:EnsembleBuilder(1):e50c21fd734717aba9baaaf5a5ed66a7] No models better than random - using Dummy Score!\n",
            "[WARNING] [2019-08-25 07:16:36,454:EnsembleBuilder(1):e50c21fd734717aba9baaaf5a5ed66a7] No models better than random - using Dummy Score!\n",
            "[WARNING] [2019-08-25 07:16:38,475:EnsembleBuilder(1):e50c21fd734717aba9baaaf5a5ed66a7] No models better than random - using Dummy Score!\n",
            "[WARNING] [2019-08-25 07:16:40,499:EnsembleBuilder(1):e50c21fd734717aba9baaaf5a5ed66a7] No models better than random - using Dummy Score!\n",
            "[WARNING] [2019-08-25 07:16:42,523:EnsembleBuilder(1):e50c21fd734717aba9baaaf5a5ed66a7] No models better than random - using Dummy Score!\n",
            "[WARNING] [2019-08-25 07:16:44,549:EnsembleBuilder(1):e50c21fd734717aba9baaaf5a5ed66a7] No models better than random - using Dummy Score!\n",
            "[WARNING] [2019-08-25 07:16:46,568:EnsembleBuilder(1):e50c21fd734717aba9baaaf5a5ed66a7] No models better than random - using Dummy Score!\n",
            "[WARNING] [2019-08-25 07:16:48,593:EnsembleBuilder(1):e50c21fd734717aba9baaaf5a5ed66a7] No models better than random - using Dummy Score!\n",
            "[WARNING] [2019-08-25 07:16:50,618:EnsembleBuilder(1):e50c21fd734717aba9baaaf5a5ed66a7] No models better than random - using Dummy Score!\n",
            "[WARNING] [2019-08-25 07:16:52,641:EnsembleBuilder(1):e50c21fd734717aba9baaaf5a5ed66a7] No models better than random - using Dummy Score!\n",
            "[WARNING] [2019-08-25 07:16:54,672:EnsembleBuilder(1):e50c21fd734717aba9baaaf5a5ed66a7] No models better than random - using Dummy Score!\n",
            "[WARNING] [2019-08-25 07:16:56,691:EnsembleBuilder(1):e50c21fd734717aba9baaaf5a5ed66a7] No models better than random - using Dummy Score!\n",
            "[WARNING] [2019-08-25 07:16:58,710:EnsembleBuilder(1):e50c21fd734717aba9baaaf5a5ed66a7] No models better than random - using Dummy Score!\n",
            "[WARNING] [2019-08-25 07:17:00,733:EnsembleBuilder(1):e50c21fd734717aba9baaaf5a5ed66a7] No models better than random - using Dummy Score!\n",
            "[WARNING] [2019-08-25 07:17:02,760:EnsembleBuilder(1):e50c21fd734717aba9baaaf5a5ed66a7] No models better than random - using Dummy Score!\n",
            "[WARNING] [2019-08-25 07:17:04,794:EnsembleBuilder(1):e50c21fd734717aba9baaaf5a5ed66a7] No models better than random - using Dummy Score!\n",
            "[WARNING] [2019-08-25 07:17:06,821:EnsembleBuilder(1):e50c21fd734717aba9baaaf5a5ed66a7] No models better than random - using Dummy Score!\n",
            "[WARNING] [2019-08-25 07:17:08,843:EnsembleBuilder(1):e50c21fd734717aba9baaaf5a5ed66a7] No models better than random - using Dummy Score!\n",
            "[WARNING] [2019-08-25 07:17:10,869:EnsembleBuilder(1):e50c21fd734717aba9baaaf5a5ed66a7] No models better than random - using Dummy Score!\n",
            "[WARNING] [2019-08-25 07:17:12,893:EnsembleBuilder(1):e50c21fd734717aba9baaaf5a5ed66a7] No models better than random - using Dummy Score!\n",
            "[WARNING] [2019-08-25 07:17:14,915:EnsembleBuilder(1):e50c21fd734717aba9baaaf5a5ed66a7] No models better than random - using Dummy Score!\n",
            "[WARNING] [2019-08-25 07:17:16,938:EnsembleBuilder(1):e50c21fd734717aba9baaaf5a5ed66a7] No models better than random - using Dummy Score!\n",
            "[WARNING] [2019-08-25 07:17:18,961:EnsembleBuilder(1):e50c21fd734717aba9baaaf5a5ed66a7] No models better than random - using Dummy Score!\n",
            "[WARNING] [2019-08-25 07:17:20,983:EnsembleBuilder(1):e50c21fd734717aba9baaaf5a5ed66a7] No models better than random - using Dummy Score!\n",
            "[WARNING] [2019-08-25 07:17:23,005:EnsembleBuilder(1):e50c21fd734717aba9baaaf5a5ed66a7] No models better than random - using Dummy Score!\n",
            "[WARNING] [2019-08-25 07:17:25,026:EnsembleBuilder(1):e50c21fd734717aba9baaaf5a5ed66a7] No models better than random - using Dummy Score!\n"
          ],
          "name": "stdout"
        },
        {
          "output_type": "stream",
          "text": [
            "/usr/local/lib/python3.6/dist-packages/autosklearn/evaluation/train_evaluator.py:197: RuntimeWarning: Mean of empty slice\n",
            "  Y_train_pred = np.nanmean(Y_train_pred_full, axis=0)\n",
            "/usr/local/lib/python3.6/dist-packages/autosklearn/evaluation/train_evaluator.py:197: RuntimeWarning: Mean of empty slice\n",
            "  Y_train_pred = np.nanmean(Y_train_pred_full, axis=0)\n"
          ],
          "name": "stderr"
        },
        {
          "output_type": "stream",
          "text": [
            "[WARNING] [2019-08-25 07:17:27,054:EnsembleBuilder(1):e50c21fd734717aba9baaaf5a5ed66a7] No models better than random - using Dummy Score!\n",
            "[WARNING] [2019-08-25 07:17:29,062:EnsembleBuilder(1):e50c21fd734717aba9baaaf5a5ed66a7] No models better than random - using Dummy Score!\n"
          ],
          "name": "stdout"
        },
        {
          "output_type": "stream",
          "text": [
            "/usr/local/lib/python3.6/dist-packages/autosklearn/evaluation/train_evaluator.py:197: RuntimeWarning: Mean of empty slice\n",
            "  Y_train_pred = np.nanmean(Y_train_pred_full, axis=0)\n"
          ],
          "name": "stderr"
        },
        {
          "output_type": "stream",
          "text": [
            "[WARNING] [2019-08-25 07:17:31,071:EnsembleBuilder(1):e50c21fd734717aba9baaaf5a5ed66a7] No models better than random - using Dummy Score!\n",
            "[WARNING] [2019-08-25 07:17:33,092:EnsembleBuilder(1):e50c21fd734717aba9baaaf5a5ed66a7] No models better than random - using Dummy Score!\n"
          ],
          "name": "stdout"
        },
        {
          "output_type": "stream",
          "text": [
            "/usr/local/lib/python3.6/dist-packages/autosklearn/evaluation/train_evaluator.py:197: RuntimeWarning: Mean of empty slice\n",
            "  Y_train_pred = np.nanmean(Y_train_pred_full, axis=0)\n"
          ],
          "name": "stderr"
        },
        {
          "output_type": "stream",
          "text": [
            "[WARNING] [2019-08-25 07:17:35,107:EnsembleBuilder(1):e50c21fd734717aba9baaaf5a5ed66a7] No models better than random - using Dummy Score!\n",
            "[WARNING] [2019-08-25 07:17:37,116:EnsembleBuilder(1):e50c21fd734717aba9baaaf5a5ed66a7] No models better than random - using Dummy Score!\n",
            "[WARNING] [2019-08-25 07:17:39,137:EnsembleBuilder(1):e50c21fd734717aba9baaaf5a5ed66a7] No models better than random - using Dummy Score!\n",
            "[WARNING] [2019-08-25 07:17:41,157:EnsembleBuilder(1):e50c21fd734717aba9baaaf5a5ed66a7] No models better than random - using Dummy Score!\n",
            "[WARNING] [2019-08-25 07:17:43,174:EnsembleBuilder(1):e50c21fd734717aba9baaaf5a5ed66a7] No models better than random - using Dummy Score!\n",
            "[WARNING] [2019-08-25 07:17:45,195:EnsembleBuilder(1):e50c21fd734717aba9baaaf5a5ed66a7] No models better than random - using Dummy Score!\n",
            "[WARNING] [2019-08-25 07:17:47,215:EnsembleBuilder(1):e50c21fd734717aba9baaaf5a5ed66a7] No models better than random - using Dummy Score!\n",
            "[WARNING] [2019-08-25 07:17:49,236:EnsembleBuilder(1):e50c21fd734717aba9baaaf5a5ed66a7] No models better than random - using Dummy Score!\n",
            "[WARNING] [2019-08-25 07:17:51,254:EnsembleBuilder(1):e50c21fd734717aba9baaaf5a5ed66a7] No models better than random - using Dummy Score!\n",
            "[WARNING] [2019-08-25 07:17:53,274:EnsembleBuilder(1):e50c21fd734717aba9baaaf5a5ed66a7] No models better than random - using Dummy Score!\n",
            "[WARNING] [2019-08-25 07:17:55,295:EnsembleBuilder(1):e50c21fd734717aba9baaaf5a5ed66a7] No models better than random - using Dummy Score!\n",
            "[WARNING] [2019-08-25 07:17:57,313:EnsembleBuilder(1):e50c21fd734717aba9baaaf5a5ed66a7] No models better than random - using Dummy Score!\n",
            "[WARNING] [2019-08-25 07:17:59,336:EnsembleBuilder(1):e50c21fd734717aba9baaaf5a5ed66a7] No models better than random - using Dummy Score!\n",
            "[WARNING] [2019-08-25 07:18:01,359:EnsembleBuilder(1):e50c21fd734717aba9baaaf5a5ed66a7] No models better than random - using Dummy Score!\n",
            "[WARNING] [2019-08-25 07:18:03,382:EnsembleBuilder(1):e50c21fd734717aba9baaaf5a5ed66a7] No models better than random - using Dummy Score!\n",
            "[WARNING] [2019-08-25 07:18:05,405:EnsembleBuilder(1):e50c21fd734717aba9baaaf5a5ed66a7] No models better than random - using Dummy Score!\n",
            "[WARNING] [2019-08-25 07:18:07,434:EnsembleBuilder(1):e50c21fd734717aba9baaaf5a5ed66a7] No models better than random - using Dummy Score!\n",
            "[WARNING] [2019-08-25 07:18:09,458:EnsembleBuilder(1):e50c21fd734717aba9baaaf5a5ed66a7] No models better than random - using Dummy Score!\n",
            "[WARNING] [2019-08-25 07:18:11,481:EnsembleBuilder(1):e50c21fd734717aba9baaaf5a5ed66a7] No models better than random - using Dummy Score!\n",
            "[WARNING] [2019-08-25 07:18:13,505:EnsembleBuilder(1):e50c21fd734717aba9baaaf5a5ed66a7] No models better than random - using Dummy Score!\n",
            "[WARNING] [2019-08-25 07:18:15,527:EnsembleBuilder(1):e50c21fd734717aba9baaaf5a5ed66a7] No models better than random - using Dummy Score!\n",
            "[WARNING] [2019-08-25 07:18:17,545:EnsembleBuilder(1):e50c21fd734717aba9baaaf5a5ed66a7] No models better than random - using Dummy Score!\n",
            "[WARNING] [2019-08-25 07:18:19,566:EnsembleBuilder(1):e50c21fd734717aba9baaaf5a5ed66a7] No models better than random - using Dummy Score!\n",
            "[WARNING] [2019-08-25 07:18:21,584:EnsembleBuilder(1):e50c21fd734717aba9baaaf5a5ed66a7] No models better than random - using Dummy Score!\n",
            "[WARNING] [2019-08-25 07:18:23,599:EnsembleBuilder(1):e50c21fd734717aba9baaaf5a5ed66a7] No models better than random - using Dummy Score!\n",
            "[WARNING] [2019-08-25 07:18:25,617:EnsembleBuilder(1):e50c21fd734717aba9baaaf5a5ed66a7] No models better than random - using Dummy Score!\n",
            "[WARNING] [2019-08-25 07:18:27,638:EnsembleBuilder(1):e50c21fd734717aba9baaaf5a5ed66a7] No models better than random - using Dummy Score!\n",
            "[WARNING] [2019-08-25 07:18:29,659:EnsembleBuilder(1):e50c21fd734717aba9baaaf5a5ed66a7] No models better than random - using Dummy Score!\n"
          ],
          "name": "stdout"
        },
        {
          "output_type": "stream",
          "text": [
            "/usr/local/lib/python3.6/dist-packages/autosklearn/evaluation/train_evaluator.py:197: RuntimeWarning: Mean of empty slice\n",
            "  Y_train_pred = np.nanmean(Y_train_pred_full, axis=0)\n"
          ],
          "name": "stderr"
        },
        {
          "output_type": "stream",
          "text": [
            "[WARNING] [2019-08-25 07:18:31,680:EnsembleBuilder(1):e50c21fd734717aba9baaaf5a5ed66a7] No models better than random - using Dummy Score!\n"
          ],
          "name": "stdout"
        },
        {
          "output_type": "stream",
          "text": [
            "/usr/local/lib/python3.6/dist-packages/autosklearn/evaluation/train_evaluator.py:197: RuntimeWarning: Mean of empty slice\n",
            "  Y_train_pred = np.nanmean(Y_train_pred_full, axis=0)\n"
          ],
          "name": "stderr"
        },
        {
          "output_type": "stream",
          "text": [
            "[WARNING] [2019-08-25 07:18:33,690:EnsembleBuilder(1):e50c21fd734717aba9baaaf5a5ed66a7] No models better than random - using Dummy Score!\n",
            "[WARNING] [2019-08-25 07:18:35,698:EnsembleBuilder(1):e50c21fd734717aba9baaaf5a5ed66a7] No models better than random - using Dummy Score!\n"
          ],
          "name": "stdout"
        },
        {
          "output_type": "stream",
          "text": [
            "/usr/local/lib/python3.6/dist-packages/autosklearn/evaluation/train_evaluator.py:197: RuntimeWarning: Mean of empty slice\n",
            "  Y_train_pred = np.nanmean(Y_train_pred_full, axis=0)\n"
          ],
          "name": "stderr"
        },
        {
          "output_type": "stream",
          "text": [
            "[WARNING] [2019-08-25 07:18:37,722:EnsembleBuilder(1):e50c21fd734717aba9baaaf5a5ed66a7] No models better than random - using Dummy Score!\n",
            "[WARNING] [2019-08-25 07:18:39,742:EnsembleBuilder(1):e50c21fd734717aba9baaaf5a5ed66a7] No models better than random - using Dummy Score!\n",
            "[WARNING] [2019-08-25 07:18:41,762:EnsembleBuilder(1):e50c21fd734717aba9baaaf5a5ed66a7] No models better than random - using Dummy Score!\n",
            "[WARNING] [2019-08-25 07:18:43,794:EnsembleBuilder(1):e50c21fd734717aba9baaaf5a5ed66a7] No models better than random - using Dummy Score!\n",
            "[WARNING] [2019-08-25 07:18:45,814:EnsembleBuilder(1):e50c21fd734717aba9baaaf5a5ed66a7] No models better than random - using Dummy Score!\n",
            "[WARNING] [2019-08-25 07:18:47,850:EnsembleBuilder(1):e50c21fd734717aba9baaaf5a5ed66a7] No models better than random - using Dummy Score!\n",
            "[WARNING] [2019-08-25 07:18:49,870:EnsembleBuilder(1):e50c21fd734717aba9baaaf5a5ed66a7] No models better than random - using Dummy Score!\n",
            "[WARNING] [2019-08-25 07:18:51,896:EnsembleBuilder(1):e50c21fd734717aba9baaaf5a5ed66a7] No models better than random - using Dummy Score!\n",
            "[WARNING] [2019-08-25 07:18:53,922:EnsembleBuilder(1):e50c21fd734717aba9baaaf5a5ed66a7] No models better than random - using Dummy Score!\n",
            "[WARNING] [2019-08-25 07:18:55,950:EnsembleBuilder(1):e50c21fd734717aba9baaaf5a5ed66a7] No models better than random - using Dummy Score!\n",
            "[WARNING] [2019-08-25 07:18:57,969:EnsembleBuilder(1):e50c21fd734717aba9baaaf5a5ed66a7] No models better than random - using Dummy Score!\n",
            "[WARNING] [2019-08-25 07:18:59,993:EnsembleBuilder(1):e50c21fd734717aba9baaaf5a5ed66a7] No models better than random - using Dummy Score!\n",
            "[WARNING] [2019-08-25 07:19:02,019:EnsembleBuilder(1):e50c21fd734717aba9baaaf5a5ed66a7] No models better than random - using Dummy Score!\n",
            "[WARNING] [2019-08-25 07:19:04,043:EnsembleBuilder(1):e50c21fd734717aba9baaaf5a5ed66a7] No models better than random - using Dummy Score!\n",
            "[WARNING] [2019-08-25 07:19:06,069:EnsembleBuilder(1):e50c21fd734717aba9baaaf5a5ed66a7] No models better than random - using Dummy Score!\n",
            "[WARNING] [2019-08-25 07:19:08,093:EnsembleBuilder(1):e50c21fd734717aba9baaaf5a5ed66a7] No models better than random - using Dummy Score!\n",
            "[WARNING] [2019-08-25 07:19:10,113:EnsembleBuilder(1):e50c21fd734717aba9baaaf5a5ed66a7] No models better than random - using Dummy Score!\n",
            "[WARNING] [2019-08-25 07:19:12,137:EnsembleBuilder(1):e50c21fd734717aba9baaaf5a5ed66a7] No models better than random - using Dummy Score!\n",
            "[WARNING] [2019-08-25 07:19:14,163:EnsembleBuilder(1):e50c21fd734717aba9baaaf5a5ed66a7] No models better than random - using Dummy Score!\n",
            "[WARNING] [2019-08-25 07:19:16,183:EnsembleBuilder(1):e50c21fd734717aba9baaaf5a5ed66a7] No models better than random - using Dummy Score!\n",
            "[WARNING] [2019-08-25 07:19:18,207:EnsembleBuilder(1):e50c21fd734717aba9baaaf5a5ed66a7] No models better than random - using Dummy Score!\n",
            "[WARNING] [2019-08-25 07:19:20,228:EnsembleBuilder(1):e50c21fd734717aba9baaaf5a5ed66a7] No models better than random - using Dummy Score!\n",
            "[WARNING] [2019-08-25 07:19:22,251:EnsembleBuilder(1):e50c21fd734717aba9baaaf5a5ed66a7] No models better than random - using Dummy Score!\n",
            "[WARNING] [2019-08-25 07:19:24,274:EnsembleBuilder(1):e50c21fd734717aba9baaaf5a5ed66a7] No models better than random - using Dummy Score!\n",
            "[WARNING] [2019-08-25 07:19:26,290:EnsembleBuilder(1):e50c21fd734717aba9baaaf5a5ed66a7] No models better than random - using Dummy Score!\n"
          ],
          "name": "stdout"
        },
        {
          "output_type": "stream",
          "text": [
            "/usr/local/lib/python3.6/dist-packages/autosklearn/evaluation/train_evaluator.py:197: RuntimeWarning: Mean of empty slice\n",
            "  Y_train_pred = np.nanmean(Y_train_pred_full, axis=0)\n"
          ],
          "name": "stderr"
        },
        {
          "output_type": "stream",
          "text": [
            "[WARNING] [2019-08-25 07:19:28,307:EnsembleBuilder(1):e50c21fd734717aba9baaaf5a5ed66a7] No models better than random - using Dummy Score!\n"
          ],
          "name": "stdout"
        },
        {
          "output_type": "stream",
          "text": [
            "/usr/local/lib/python3.6/dist-packages/autosklearn/evaluation/train_evaluator.py:197: RuntimeWarning: Mean of empty slice\n",
            "  Y_train_pred = np.nanmean(Y_train_pred_full, axis=0)\n"
          ],
          "name": "stderr"
        },
        {
          "output_type": "stream",
          "text": [
            "[WARNING] [2019-08-25 07:19:30,317:EnsembleBuilder(1):e50c21fd734717aba9baaaf5a5ed66a7] No models better than random - using Dummy Score!\n"
          ],
          "name": "stdout"
        },
        {
          "output_type": "stream",
          "text": [
            "/usr/local/lib/python3.6/dist-packages/autosklearn/evaluation/train_evaluator.py:197: RuntimeWarning: Mean of empty slice\n",
            "  Y_train_pred = np.nanmean(Y_train_pred_full, axis=0)\n"
          ],
          "name": "stderr"
        },
        {
          "output_type": "stream",
          "text": [
            "[WARNING] [2019-08-25 07:19:32,334:EnsembleBuilder(1):e50c21fd734717aba9baaaf5a5ed66a7] No models better than random - using Dummy Score!\n",
            "[WARNING] [2019-08-25 07:19:34,343:EnsembleBuilder(1):e50c21fd734717aba9baaaf5a5ed66a7] No models better than random - using Dummy Score!\n",
            "[WARNING] [2019-08-25 07:19:36,350:EnsembleBuilder(1):e50c21fd734717aba9baaaf5a5ed66a7] No models better than random - using Dummy Score!\n"
          ],
          "name": "stdout"
        },
        {
          "output_type": "stream",
          "text": [
            "/usr/local/lib/python3.6/dist-packages/autosklearn/evaluation/train_evaluator.py:197: RuntimeWarning: Mean of empty slice\n",
            "  Y_train_pred = np.nanmean(Y_train_pred_full, axis=0)\n"
          ],
          "name": "stderr"
        },
        {
          "output_type": "stream",
          "text": [
            "[WARNING] [2019-08-25 07:19:38,361:EnsembleBuilder(1):e50c21fd734717aba9baaaf5a5ed66a7] No models better than random - using Dummy Score!\n",
            "[WARNING] [2019-08-25 07:19:40,370:EnsembleBuilder(1):e50c21fd734717aba9baaaf5a5ed66a7] No models better than random - using Dummy Score!\n"
          ],
          "name": "stdout"
        },
        {
          "output_type": "stream",
          "text": [
            "/usr/local/lib/python3.6/dist-packages/autosklearn/evaluation/train_evaluator.py:197: RuntimeWarning: Mean of empty slice\n",
            "  Y_train_pred = np.nanmean(Y_train_pred_full, axis=0)\n"
          ],
          "name": "stderr"
        },
        {
          "output_type": "stream",
          "text": [
            "[WARNING] [2019-08-25 07:19:42,378:EnsembleBuilder(1):e50c21fd734717aba9baaaf5a5ed66a7] No models better than random - using Dummy Score!\n"
          ],
          "name": "stdout"
        },
        {
          "output_type": "stream",
          "text": [
            "/usr/local/lib/python3.6/dist-packages/autosklearn/evaluation/train_evaluator.py:197: RuntimeWarning: Mean of empty slice\n",
            "  Y_train_pred = np.nanmean(Y_train_pred_full, axis=0)\n",
            "/usr/local/lib/python3.6/dist-packages/autosklearn/evaluation/train_evaluator.py:197: RuntimeWarning: Mean of empty slice\n",
            "  Y_train_pred = np.nanmean(Y_train_pred_full, axis=0)\n",
            "/usr/local/lib/python3.6/dist-packages/autosklearn/evaluation/train_evaluator.py:197: RuntimeWarning: Mean of empty slice\n",
            "  Y_train_pred = np.nanmean(Y_train_pred_full, axis=0)\n"
          ],
          "name": "stderr"
        },
        {
          "output_type": "stream",
          "text": [
            "[WARNING] [2019-08-25 07:19:44,396:EnsembleBuilder(1):e50c21fd734717aba9baaaf5a5ed66a7] No models better than random - using Dummy Score!\n"
          ],
          "name": "stdout"
        },
        {
          "output_type": "stream",
          "text": [
            "/usr/local/lib/python3.6/dist-packages/autosklearn/evaluation/train_evaluator.py:197: RuntimeWarning: Mean of empty slice\n",
            "  Y_train_pred = np.nanmean(Y_train_pred_full, axis=0)\n"
          ],
          "name": "stderr"
        },
        {
          "output_type": "stream",
          "text": [
            "[WARNING] [2019-08-25 07:19:46,412:EnsembleBuilder(1):e50c21fd734717aba9baaaf5a5ed66a7] No models better than random - using Dummy Score!\n"
          ],
          "name": "stdout"
        },
        {
          "output_type": "stream",
          "text": [
            "/usr/local/lib/python3.6/dist-packages/autosklearn/evaluation/train_evaluator.py:197: RuntimeWarning: Mean of empty slice\n",
            "  Y_train_pred = np.nanmean(Y_train_pred_full, axis=0)\n"
          ],
          "name": "stderr"
        },
        {
          "output_type": "stream",
          "text": [
            "[WARNING] [2019-08-25 07:19:48,420:EnsembleBuilder(1):e50c21fd734717aba9baaaf5a5ed66a7] No models better than random - using Dummy Score!\n"
          ],
          "name": "stdout"
        },
        {
          "output_type": "stream",
          "text": [
            "/usr/local/lib/python3.6/dist-packages/autosklearn/evaluation/train_evaluator.py:197: RuntimeWarning: Mean of empty slice\n",
            "  Y_train_pred = np.nanmean(Y_train_pred_full, axis=0)\n",
            "/usr/local/lib/python3.6/dist-packages/autosklearn/evaluation/train_evaluator.py:197: RuntimeWarning: Mean of empty slice\n",
            "  Y_train_pred = np.nanmean(Y_train_pred_full, axis=0)\n"
          ],
          "name": "stderr"
        },
        {
          "output_type": "stream",
          "text": [
            "[WARNING] [2019-08-25 07:19:50,441:EnsembleBuilder(1):e50c21fd734717aba9baaaf5a5ed66a7] No models better than random - using Dummy Score!\n"
          ],
          "name": "stdout"
        },
        {
          "output_type": "stream",
          "text": [
            "/usr/local/lib/python3.6/dist-packages/autosklearn/evaluation/train_evaluator.py:197: RuntimeWarning: Mean of empty slice\n",
            "  Y_train_pred = np.nanmean(Y_train_pred_full, axis=0)\n"
          ],
          "name": "stderr"
        },
        {
          "output_type": "stream",
          "text": [
            "[WARNING] [2019-08-25 07:19:52,461:EnsembleBuilder(1):e50c21fd734717aba9baaaf5a5ed66a7] No models better than random - using Dummy Score!\n",
            "[WARNING] [2019-08-25 07:19:54,469:EnsembleBuilder(1):e50c21fd734717aba9baaaf5a5ed66a7] No models better than random - using Dummy Score!\n"
          ],
          "name": "stdout"
        },
        {
          "output_type": "stream",
          "text": [
            "/usr/local/lib/python3.6/dist-packages/autosklearn/evaluation/train_evaluator.py:197: RuntimeWarning: Mean of empty slice\n",
            "  Y_train_pred = np.nanmean(Y_train_pred_full, axis=0)\n",
            "/usr/local/lib/python3.6/dist-packages/autosklearn/evaluation/train_evaluator.py:197: RuntimeWarning: Mean of empty slice\n",
            "  Y_train_pred = np.nanmean(Y_train_pred_full, axis=0)\n",
            "/usr/local/lib/python3.6/dist-packages/autosklearn/evaluation/train_evaluator.py:197: RuntimeWarning: Mean of empty slice\n",
            "  Y_train_pred = np.nanmean(Y_train_pred_full, axis=0)\n"
          ],
          "name": "stderr"
        },
        {
          "output_type": "stream",
          "text": [
            "[WARNING] [2019-08-25 07:19:56,492:EnsembleBuilder(1):e50c21fd734717aba9baaaf5a5ed66a7] No models better than random - using Dummy Score!\n",
            "[WARNING] [2019-08-25 07:19:58,508:EnsembleBuilder(1):e50c21fd734717aba9baaaf5a5ed66a7] No models better than random - using Dummy Score!\n",
            "[WARNING] [2019-08-25 07:20:00,528:EnsembleBuilder(1):e50c21fd734717aba9baaaf5a5ed66a7] No models better than random - using Dummy Score!\n"
          ],
          "name": "stdout"
        },
        {
          "output_type": "stream",
          "text": [
            "/usr/local/lib/python3.6/dist-packages/autosklearn/evaluation/train_evaluator.py:197: RuntimeWarning: Mean of empty slice\n",
            "  Y_train_pred = np.nanmean(Y_train_pred_full, axis=0)\n"
          ],
          "name": "stderr"
        },
        {
          "output_type": "stream",
          "text": [
            "[WARNING] [2019-08-25 07:20:02,552:EnsembleBuilder(1):e50c21fd734717aba9baaaf5a5ed66a7] No models better than random - using Dummy Score!\n",
            "[WARNING] [2019-08-25 07:20:04,563:EnsembleBuilder(1):e50c21fd734717aba9baaaf5a5ed66a7] No models better than random - using Dummy Score!\n"
          ],
          "name": "stdout"
        },
        {
          "output_type": "stream",
          "text": [
            "/usr/local/lib/python3.6/dist-packages/autosklearn/evaluation/train_evaluator.py:197: RuntimeWarning: Mean of empty slice\n",
            "  Y_train_pred = np.nanmean(Y_train_pred_full, axis=0)\n"
          ],
          "name": "stderr"
        },
        {
          "output_type": "stream",
          "text": [
            "[WARNING] [2019-08-25 07:20:06,573:EnsembleBuilder(1):e50c21fd734717aba9baaaf5a5ed66a7] No models better than random - using Dummy Score!\n"
          ],
          "name": "stdout"
        },
        {
          "output_type": "stream",
          "text": [
            "/usr/local/lib/python3.6/dist-packages/autosklearn/evaluation/train_evaluator.py:197: RuntimeWarning: Mean of empty slice\n",
            "  Y_train_pred = np.nanmean(Y_train_pred_full, axis=0)\n",
            "/usr/local/lib/python3.6/dist-packages/autosklearn/evaluation/train_evaluator.py:197: RuntimeWarning: Mean of empty slice\n",
            "  Y_train_pred = np.nanmean(Y_train_pred_full, axis=0)\n"
          ],
          "name": "stderr"
        },
        {
          "output_type": "stream",
          "text": [
            "[WARNING] [2019-08-25 07:20:08,592:EnsembleBuilder(1):e50c21fd734717aba9baaaf5a5ed66a7] No models better than random - using Dummy Score!\n",
            "[WARNING] [2019-08-25 07:20:10,601:EnsembleBuilder(1):e50c21fd734717aba9baaaf5a5ed66a7] No models better than random - using Dummy Score!\n"
          ],
          "name": "stdout"
        },
        {
          "output_type": "stream",
          "text": [
            "/usr/local/lib/python3.6/dist-packages/autosklearn/evaluation/train_evaluator.py:197: RuntimeWarning: Mean of empty slice\n",
            "  Y_train_pred = np.nanmean(Y_train_pred_full, axis=0)\n",
            "/usr/local/lib/python3.6/dist-packages/autosklearn/evaluation/train_evaluator.py:197: RuntimeWarning: Mean of empty slice\n",
            "  Y_train_pred = np.nanmean(Y_train_pred_full, axis=0)\n"
          ],
          "name": "stderr"
        },
        {
          "output_type": "stream",
          "text": [
            "[WARNING] [2019-08-25 07:20:12,611:EnsembleBuilder(1):e50c21fd734717aba9baaaf5a5ed66a7] No models better than random - using Dummy Score!\n"
          ],
          "name": "stdout"
        },
        {
          "output_type": "stream",
          "text": [
            "/usr/local/lib/python3.6/dist-packages/autosklearn/evaluation/train_evaluator.py:197: RuntimeWarning: Mean of empty slice\n",
            "  Y_train_pred = np.nanmean(Y_train_pred_full, axis=0)\n",
            "/usr/local/lib/python3.6/dist-packages/autosklearn/evaluation/train_evaluator.py:197: RuntimeWarning: Mean of empty slice\n",
            "  Y_train_pred = np.nanmean(Y_train_pred_full, axis=0)\n",
            "/usr/local/lib/python3.6/dist-packages/autosklearn/evaluation/train_evaluator.py:197: RuntimeWarning: Mean of empty slice\n",
            "  Y_train_pred = np.nanmean(Y_train_pred_full, axis=0)\n"
          ],
          "name": "stderr"
        },
        {
          "output_type": "stream",
          "text": [
            "[WARNING] [2019-08-25 07:20:14,632:EnsembleBuilder(1):e50c21fd734717aba9baaaf5a5ed66a7] No models better than random - using Dummy Score!\n",
            "[WARNING] [2019-08-25 07:20:16,642:EnsembleBuilder(1):e50c21fd734717aba9baaaf5a5ed66a7] No models better than random - using Dummy Score!\n",
            "[WARNING] [2019-08-25 07:20:18,651:EnsembleBuilder(1):e50c21fd734717aba9baaaf5a5ed66a7] No models better than random - using Dummy Score!\n",
            "[WARNING] [2019-08-25 07:20:20,670:EnsembleBuilder(1):e50c21fd734717aba9baaaf5a5ed66a7] No models better than random - using Dummy Score!\n"
          ],
          "name": "stdout"
        },
        {
          "output_type": "stream",
          "text": [
            "/usr/local/lib/python3.6/dist-packages/autosklearn/evaluation/train_evaluator.py:197: RuntimeWarning: Mean of empty slice\n",
            "  Y_train_pred = np.nanmean(Y_train_pred_full, axis=0)\n"
          ],
          "name": "stderr"
        },
        {
          "output_type": "stream",
          "text": [
            "[WARNING] [2019-08-25 07:20:22,694:EnsembleBuilder(1):e50c21fd734717aba9baaaf5a5ed66a7] No models better than random - using Dummy Score!\n"
          ],
          "name": "stdout"
        },
        {
          "output_type": "stream",
          "text": [
            "/usr/local/lib/python3.6/dist-packages/autosklearn/evaluation/train_evaluator.py:197: RuntimeWarning: Mean of empty slice\n",
            "  Y_train_pred = np.nanmean(Y_train_pred_full, axis=0)\n"
          ],
          "name": "stderr"
        },
        {
          "output_type": "stream",
          "text": [
            "[WARNING] [2019-08-25 07:20:24,718:EnsembleBuilder(1):e50c21fd734717aba9baaaf5a5ed66a7] No models better than random - using Dummy Score!\n",
            "[WARNING] [2019-08-25 07:20:26,727:EnsembleBuilder(1):e50c21fd734717aba9baaaf5a5ed66a7] No models better than random - using Dummy Score!\n"
          ],
          "name": "stdout"
        },
        {
          "output_type": "stream",
          "text": [
            "/usr/local/lib/python3.6/dist-packages/autosklearn/evaluation/train_evaluator.py:197: RuntimeWarning: Mean of empty slice\n",
            "  Y_train_pred = np.nanmean(Y_train_pred_full, axis=0)\n",
            "/usr/local/lib/python3.6/dist-packages/autosklearn/evaluation/train_evaluator.py:197: RuntimeWarning: Mean of empty slice\n",
            "  Y_train_pred = np.nanmean(Y_train_pred_full, axis=0)\n",
            "/usr/local/lib/python3.6/dist-packages/autosklearn/evaluation/train_evaluator.py:197: RuntimeWarning: Mean of empty slice\n",
            "  Y_train_pred = np.nanmean(Y_train_pred_full, axis=0)\n"
          ],
          "name": "stderr"
        },
        {
          "output_type": "stream",
          "text": [
            "[WARNING] [2019-08-25 07:20:28,736:EnsembleBuilder(1):e50c21fd734717aba9baaaf5a5ed66a7] No models better than random - using Dummy Score!\n"
          ],
          "name": "stdout"
        },
        {
          "output_type": "stream",
          "text": [
            "/usr/local/lib/python3.6/dist-packages/autosklearn/evaluation/train_evaluator.py:197: RuntimeWarning: Mean of empty slice\n",
            "  Y_train_pred = np.nanmean(Y_train_pred_full, axis=0)\n"
          ],
          "name": "stderr"
        },
        {
          "output_type": "stream",
          "text": [
            "[WARNING] [2019-08-25 07:20:30,745:EnsembleBuilder(1):e50c21fd734717aba9baaaf5a5ed66a7] No models better than random - using Dummy Score!\n"
          ],
          "name": "stdout"
        },
        {
          "output_type": "stream",
          "text": [
            "/usr/local/lib/python3.6/dist-packages/autosklearn/evaluation/train_evaluator.py:197: RuntimeWarning: Mean of empty slice\n",
            "  Y_train_pred = np.nanmean(Y_train_pred_full, axis=0)\n"
          ],
          "name": "stderr"
        },
        {
          "output_type": "stream",
          "text": [
            "[WARNING] [2019-08-25 07:20:32,759:EnsembleBuilder(1):e50c21fd734717aba9baaaf5a5ed66a7] No models better than random - using Dummy Score!\n",
            "[WARNING] [2019-08-25 07:20:34,767:EnsembleBuilder(1):e50c21fd734717aba9baaaf5a5ed66a7] No models better than random - using Dummy Score!\n"
          ],
          "name": "stdout"
        },
        {
          "output_type": "stream",
          "text": [
            "/usr/local/lib/python3.6/dist-packages/autosklearn/evaluation/train_evaluator.py:197: RuntimeWarning: Mean of empty slice\n",
            "  Y_train_pred = np.nanmean(Y_train_pred_full, axis=0)\n"
          ],
          "name": "stderr"
        },
        {
          "output_type": "stream",
          "text": [
            "[WARNING] [2019-08-25 07:20:36,781:EnsembleBuilder(1):e50c21fd734717aba9baaaf5a5ed66a7] No models better than random - using Dummy Score!\n",
            "[WARNING] [2019-08-25 07:20:38,796:EnsembleBuilder(1):e50c21fd734717aba9baaaf5a5ed66a7] No models better than random - using Dummy Score!\n",
            "[WARNING] [2019-08-25 07:20:40,818:EnsembleBuilder(1):e50c21fd734717aba9baaaf5a5ed66a7] No models better than random - using Dummy Score!\n",
            "[WARNING] [2019-08-25 07:20:42,840:EnsembleBuilder(1):e50c21fd734717aba9baaaf5a5ed66a7] No models better than random - using Dummy Score!\n",
            "[WARNING] [2019-08-25 07:20:44,865:EnsembleBuilder(1):e50c21fd734717aba9baaaf5a5ed66a7] No models better than random - using Dummy Score!\n",
            "[WARNING] [2019-08-25 07:20:46,887:EnsembleBuilder(1):e50c21fd734717aba9baaaf5a5ed66a7] No models better than random - using Dummy Score!\n",
            "[WARNING] [2019-08-25 07:20:48,908:EnsembleBuilder(1):e50c21fd734717aba9baaaf5a5ed66a7] No models better than random - using Dummy Score!\n",
            "[WARNING] [2019-08-25 07:20:50,932:EnsembleBuilder(1):e50c21fd734717aba9baaaf5a5ed66a7] No models better than random - using Dummy Score!\n",
            "[WARNING] [2019-08-25 07:20:52,949:EnsembleBuilder(1):e50c21fd734717aba9baaaf5a5ed66a7] No models better than random - using Dummy Score!\n",
            "[WARNING] [2019-08-25 07:20:54,976:EnsembleBuilder(1):e50c21fd734717aba9baaaf5a5ed66a7] No models better than random - using Dummy Score!\n",
            "[WARNING] [2019-08-25 07:20:57,000:EnsembleBuilder(1):e50c21fd734717aba9baaaf5a5ed66a7] No models better than random - using Dummy Score!\n",
            "[WARNING] [2019-08-25 07:20:59,019:EnsembleBuilder(1):e50c21fd734717aba9baaaf5a5ed66a7] No models better than random - using Dummy Score!\n",
            "[WARNING] [2019-08-25 07:21:01,040:EnsembleBuilder(1):e50c21fd734717aba9baaaf5a5ed66a7] No models better than random - using Dummy Score!\n"
          ],
          "name": "stdout"
        },
        {
          "output_type": "stream",
          "text": [
            "/usr/local/lib/python3.6/dist-packages/autosklearn/evaluation/train_evaluator.py:197: RuntimeWarning: Mean of empty slice\n",
            "  Y_train_pred = np.nanmean(Y_train_pred_full, axis=0)\n"
          ],
          "name": "stderr"
        },
        {
          "output_type": "stream",
          "text": [
            "[WARNING] [2019-08-25 07:21:03,066:EnsembleBuilder(1):e50c21fd734717aba9baaaf5a5ed66a7] No models better than random - using Dummy Score!\n"
          ],
          "name": "stdout"
        },
        {
          "output_type": "stream",
          "text": [
            "/usr/local/lib/python3.6/dist-packages/autosklearn/evaluation/train_evaluator.py:197: RuntimeWarning: Mean of empty slice\n",
            "  Y_train_pred = np.nanmean(Y_train_pred_full, axis=0)\n"
          ],
          "name": "stderr"
        },
        {
          "output_type": "stream",
          "text": [
            "[WARNING] [2019-08-25 07:21:05,075:EnsembleBuilder(1):e50c21fd734717aba9baaaf5a5ed66a7] No models better than random - using Dummy Score!\n"
          ],
          "name": "stdout"
        },
        {
          "output_type": "stream",
          "text": [
            "/usr/local/lib/python3.6/dist-packages/autosklearn/evaluation/train_evaluator.py:197: RuntimeWarning: Mean of empty slice\n",
            "  Y_train_pred = np.nanmean(Y_train_pred_full, axis=0)\n",
            "/usr/local/lib/python3.6/dist-packages/autosklearn/evaluation/train_evaluator.py:197: RuntimeWarning: Mean of empty slice\n",
            "  Y_train_pred = np.nanmean(Y_train_pred_full, axis=0)\n"
          ],
          "name": "stderr"
        },
        {
          "output_type": "stream",
          "text": [
            "[WARNING] [2019-08-25 07:21:07,086:EnsembleBuilder(1):e50c21fd734717aba9baaaf5a5ed66a7] No models better than random - using Dummy Score!\n",
            "[WARNING] [2019-08-25 07:21:09,106:EnsembleBuilder(1):e50c21fd734717aba9baaaf5a5ed66a7] No models better than random - using Dummy Score!\n",
            "[WARNING] [2019-08-25 07:21:11,116:EnsembleBuilder(1):e50c21fd734717aba9baaaf5a5ed66a7] No models better than random - using Dummy Score!\n"
          ],
          "name": "stdout"
        },
        {
          "output_type": "stream",
          "text": [
            "/usr/local/lib/python3.6/dist-packages/autosklearn/evaluation/train_evaluator.py:197: RuntimeWarning: Mean of empty slice\n",
            "  Y_train_pred = np.nanmean(Y_train_pred_full, axis=0)\n"
          ],
          "name": "stderr"
        },
        {
          "output_type": "stream",
          "text": [
            "[WARNING] [2019-08-25 07:21:13,125:EnsembleBuilder(1):e50c21fd734717aba9baaaf5a5ed66a7] No models better than random - using Dummy Score!\n"
          ],
          "name": "stdout"
        },
        {
          "output_type": "stream",
          "text": [
            "/usr/local/lib/python3.6/dist-packages/autosklearn/evaluation/train_evaluator.py:197: RuntimeWarning: Mean of empty slice\n",
            "  Y_train_pred = np.nanmean(Y_train_pred_full, axis=0)\n",
            "/usr/local/lib/python3.6/dist-packages/autosklearn/evaluation/train_evaluator.py:197: RuntimeWarning: Mean of empty slice\n",
            "  Y_train_pred = np.nanmean(Y_train_pred_full, axis=0)\n"
          ],
          "name": "stderr"
        },
        {
          "output_type": "stream",
          "text": [
            "[WARNING] [2019-08-25 07:21:15,137:EnsembleBuilder(1):e50c21fd734717aba9baaaf5a5ed66a7] No models better than random - using Dummy Score!\n"
          ],
          "name": "stdout"
        },
        {
          "output_type": "stream",
          "text": [
            "/usr/local/lib/python3.6/dist-packages/autosklearn/evaluation/train_evaluator.py:197: RuntimeWarning: Mean of empty slice\n",
            "  Y_train_pred = np.nanmean(Y_train_pred_full, axis=0)\n"
          ],
          "name": "stderr"
        },
        {
          "output_type": "stream",
          "text": [
            "[WARNING] [2019-08-25 07:21:17,149:EnsembleBuilder(1):e50c21fd734717aba9baaaf5a5ed66a7] No models better than random - using Dummy Score!\n"
          ],
          "name": "stdout"
        },
        {
          "output_type": "stream",
          "text": [
            "/usr/local/lib/python3.6/dist-packages/autosklearn/evaluation/train_evaluator.py:197: RuntimeWarning: Mean of empty slice\n",
            "  Y_train_pred = np.nanmean(Y_train_pred_full, axis=0)\n"
          ],
          "name": "stderr"
        },
        {
          "output_type": "stream",
          "text": [
            "[WARNING] [2019-08-25 07:21:19,159:EnsembleBuilder(1):e50c21fd734717aba9baaaf5a5ed66a7] No models better than random - using Dummy Score!\n"
          ],
          "name": "stdout"
        },
        {
          "output_type": "stream",
          "text": [
            "/usr/local/lib/python3.6/dist-packages/autosklearn/evaluation/train_evaluator.py:197: RuntimeWarning: Mean of empty slice\n",
            "  Y_train_pred = np.nanmean(Y_train_pred_full, axis=0)\n",
            "/usr/local/lib/python3.6/dist-packages/autosklearn/evaluation/train_evaluator.py:197: RuntimeWarning: Mean of empty slice\n",
            "  Y_train_pred = np.nanmean(Y_train_pred_full, axis=0)\n",
            "/usr/local/lib/python3.6/dist-packages/autosklearn/evaluation/train_evaluator.py:197: RuntimeWarning: Mean of empty slice\n",
            "  Y_train_pred = np.nanmean(Y_train_pred_full, axis=0)\n"
          ],
          "name": "stderr"
        },
        {
          "output_type": "stream",
          "text": [
            "[WARNING] [2019-08-25 07:21:21,183:EnsembleBuilder(1):e50c21fd734717aba9baaaf5a5ed66a7] No models better than random - using Dummy Score!\n"
          ],
          "name": "stdout"
        },
        {
          "output_type": "stream",
          "text": [
            "/usr/local/lib/python3.6/dist-packages/autosklearn/evaluation/train_evaluator.py:197: RuntimeWarning: Mean of empty slice\n",
            "  Y_train_pred = np.nanmean(Y_train_pred_full, axis=0)\n"
          ],
          "name": "stderr"
        },
        {
          "output_type": "stream",
          "text": [
            "[WARNING] [2019-08-25 07:21:23,193:EnsembleBuilder(1):e50c21fd734717aba9baaaf5a5ed66a7] No models better than random - using Dummy Score!\n",
            "[WARNING] [2019-08-25 07:21:25,216:EnsembleBuilder(1):e50c21fd734717aba9baaaf5a5ed66a7] No models better than random - using Dummy Score!\n",
            "[WARNING] [2019-08-25 07:21:27,240:EnsembleBuilder(1):e50c21fd734717aba9baaaf5a5ed66a7] No models better than random - using Dummy Score!\n",
            "[WARNING] [2019-08-25 07:21:29,258:EnsembleBuilder(1):e50c21fd734717aba9baaaf5a5ed66a7] No models better than random - using Dummy Score!\n",
            "[WARNING] [2019-08-25 07:21:31,284:EnsembleBuilder(1):e50c21fd734717aba9baaaf5a5ed66a7] No models better than random - using Dummy Score!\n",
            "[WARNING] [2019-08-25 07:21:33,307:EnsembleBuilder(1):e50c21fd734717aba9baaaf5a5ed66a7] No models better than random - using Dummy Score!\n",
            "[WARNING] [2019-08-25 07:21:35,332:EnsembleBuilder(1):e50c21fd734717aba9baaaf5a5ed66a7] No models better than random - using Dummy Score!\n"
          ],
          "name": "stdout"
        },
        {
          "output_type": "stream",
          "text": [
            "/usr/local/lib/python3.6/dist-packages/autosklearn/evaluation/train_evaluator.py:197: RuntimeWarning: Mean of empty slice\n",
            "  Y_train_pred = np.nanmean(Y_train_pred_full, axis=0)\n"
          ],
          "name": "stderr"
        },
        {
          "output_type": "stream",
          "text": [
            "[WARNING] [2019-08-25 07:21:37,357:EnsembleBuilder(1):e50c21fd734717aba9baaaf5a5ed66a7] No models better than random - using Dummy Score!\n",
            "[WARNING] [2019-08-25 07:21:39,366:EnsembleBuilder(1):e50c21fd734717aba9baaaf5a5ed66a7] No models better than random - using Dummy Score!\n"
          ],
          "name": "stdout"
        },
        {
          "output_type": "stream",
          "text": [
            "/usr/local/lib/python3.6/dist-packages/autosklearn/evaluation/train_evaluator.py:197: RuntimeWarning: Mean of empty slice\n",
            "  Y_train_pred = np.nanmean(Y_train_pred_full, axis=0)\n"
          ],
          "name": "stderr"
        },
        {
          "output_type": "stream",
          "text": [
            "[WARNING] [2019-08-25 07:21:41,375:EnsembleBuilder(1):e50c21fd734717aba9baaaf5a5ed66a7] No models better than random - using Dummy Score!\n"
          ],
          "name": "stdout"
        },
        {
          "output_type": "stream",
          "text": [
            "/usr/local/lib/python3.6/dist-packages/autosklearn/evaluation/train_evaluator.py:197: RuntimeWarning: Mean of empty slice\n",
            "  Y_train_pred = np.nanmean(Y_train_pred_full, axis=0)\n"
          ],
          "name": "stderr"
        },
        {
          "output_type": "stream",
          "text": [
            "[WARNING] [2019-08-25 07:21:43,386:EnsembleBuilder(1):e50c21fd734717aba9baaaf5a5ed66a7] No models better than random - using Dummy Score!\n"
          ],
          "name": "stdout"
        },
        {
          "output_type": "stream",
          "text": [
            "/usr/local/lib/python3.6/dist-packages/autosklearn/evaluation/train_evaluator.py:197: RuntimeWarning: Mean of empty slice\n",
            "  Y_train_pred = np.nanmean(Y_train_pred_full, axis=0)\n"
          ],
          "name": "stderr"
        },
        {
          "output_type": "stream",
          "text": [
            "[WARNING] [2019-08-25 07:21:45,405:EnsembleBuilder(1):e50c21fd734717aba9baaaf5a5ed66a7] No models better than random - using Dummy Score!\n",
            "[WARNING] [2019-08-25 07:21:47,414:EnsembleBuilder(1):e50c21fd734717aba9baaaf5a5ed66a7] No models better than random - using Dummy Score!\n"
          ],
          "name": "stdout"
        },
        {
          "output_type": "stream",
          "text": [
            "/usr/local/lib/python3.6/dist-packages/autosklearn/evaluation/train_evaluator.py:197: RuntimeWarning: Mean of empty slice\n",
            "  Y_train_pred = np.nanmean(Y_train_pred_full, axis=0)\n",
            "/usr/local/lib/python3.6/dist-packages/autosklearn/evaluation/train_evaluator.py:197: RuntimeWarning: Mean of empty slice\n",
            "  Y_train_pred = np.nanmean(Y_train_pred_full, axis=0)\n",
            "/usr/local/lib/python3.6/dist-packages/autosklearn/evaluation/train_evaluator.py:197: RuntimeWarning: Mean of empty slice\n",
            "  Y_train_pred = np.nanmean(Y_train_pred_full, axis=0)\n"
          ],
          "name": "stderr"
        },
        {
          "output_type": "stream",
          "text": [
            "[WARNING] [2019-08-25 07:21:49,425:EnsembleBuilder(1):e50c21fd734717aba9baaaf5a5ed66a7] No models better than random - using Dummy Score!\n"
          ],
          "name": "stdout"
        },
        {
          "output_type": "stream",
          "text": [
            "/usr/local/lib/python3.6/dist-packages/autosklearn/evaluation/train_evaluator.py:197: RuntimeWarning: Mean of empty slice\n",
            "  Y_train_pred = np.nanmean(Y_train_pred_full, axis=0)\n",
            "/usr/local/lib/python3.6/dist-packages/autosklearn/evaluation/train_evaluator.py:197: RuntimeWarning: Mean of empty slice\n",
            "  Y_train_pred = np.nanmean(Y_train_pred_full, axis=0)\n",
            "/usr/local/lib/python3.6/dist-packages/autosklearn/evaluation/train_evaluator.py:197: RuntimeWarning: Mean of empty slice\n",
            "  Y_train_pred = np.nanmean(Y_train_pred_full, axis=0)\n"
          ],
          "name": "stderr"
        },
        {
          "output_type": "stream",
          "text": [
            "[WARNING] [2019-08-25 07:21:51,446:EnsembleBuilder(1):e50c21fd734717aba9baaaf5a5ed66a7] No models better than random - using Dummy Score!\n",
            "[WARNING] [2019-08-25 07:21:53,462:EnsembleBuilder(1):e50c21fd734717aba9baaaf5a5ed66a7] No models better than random - using Dummy Score!\n"
          ],
          "name": "stdout"
        },
        {
          "output_type": "stream",
          "text": [
            "/usr/local/lib/python3.6/dist-packages/autosklearn/evaluation/train_evaluator.py:197: RuntimeWarning: Mean of empty slice\n",
            "  Y_train_pred = np.nanmean(Y_train_pred_full, axis=0)\n"
          ],
          "name": "stderr"
        },
        {
          "output_type": "stream",
          "text": [
            "[WARNING] [2019-08-25 07:21:55,473:EnsembleBuilder(1):e50c21fd734717aba9baaaf5a5ed66a7] No models better than random - using Dummy Score!\n"
          ],
          "name": "stdout"
        },
        {
          "output_type": "stream",
          "text": [
            "/usr/local/lib/python3.6/dist-packages/autosklearn/evaluation/train_evaluator.py:197: RuntimeWarning: Mean of empty slice\n",
            "  Y_train_pred = np.nanmean(Y_train_pred_full, axis=0)\n",
            "/usr/local/lib/python3.6/dist-packages/autosklearn/evaluation/train_evaluator.py:197: RuntimeWarning: Mean of empty slice\n",
            "  Y_train_pred = np.nanmean(Y_train_pred_full, axis=0)\n",
            "/usr/local/lib/python3.6/dist-packages/autosklearn/evaluation/train_evaluator.py:197: RuntimeWarning: Mean of empty slice\n",
            "  Y_train_pred = np.nanmean(Y_train_pred_full, axis=0)\n"
          ],
          "name": "stderr"
        },
        {
          "output_type": "stream",
          "text": [
            "[WARNING] [2019-08-25 07:21:57,492:EnsembleBuilder(1):e50c21fd734717aba9baaaf5a5ed66a7] No models better than random - using Dummy Score!\n"
          ],
          "name": "stdout"
        },
        {
          "output_type": "stream",
          "text": [
            "/usr/local/lib/python3.6/dist-packages/autosklearn/evaluation/train_evaluator.py:197: RuntimeWarning: Mean of empty slice\n",
            "  Y_train_pred = np.nanmean(Y_train_pred_full, axis=0)\n"
          ],
          "name": "stderr"
        },
        {
          "output_type": "stream",
          "text": [
            "[WARNING] [2019-08-25 07:21:59,511:EnsembleBuilder(1):e50c21fd734717aba9baaaf5a5ed66a7] No models better than random - using Dummy Score!\n",
            "[WARNING] [2019-08-25 07:22:01,520:EnsembleBuilder(1):e50c21fd734717aba9baaaf5a5ed66a7] No models better than random - using Dummy Score!\n",
            "[WARNING] [2019-08-25 07:22:03,529:EnsembleBuilder(1):e50c21fd734717aba9baaaf5a5ed66a7] No models better than random - using Dummy Score!\n"
          ],
          "name": "stdout"
        },
        {
          "output_type": "stream",
          "text": [
            "/usr/local/lib/python3.6/dist-packages/autosklearn/evaluation/train_evaluator.py:197: RuntimeWarning: Mean of empty slice\n",
            "  Y_train_pred = np.nanmean(Y_train_pred_full, axis=0)\n",
            "/usr/local/lib/python3.6/dist-packages/autosklearn/evaluation/train_evaluator.py:197: RuntimeWarning: Mean of empty slice\n",
            "  Y_train_pred = np.nanmean(Y_train_pred_full, axis=0)\n",
            "/usr/local/lib/python3.6/dist-packages/autosklearn/evaluation/train_evaluator.py:197: RuntimeWarning: Mean of empty slice\n",
            "  Y_train_pred = np.nanmean(Y_train_pred_full, axis=0)\n"
          ],
          "name": "stderr"
        },
        {
          "output_type": "stream",
          "text": [
            "[WARNING] [2019-08-25 07:22:05,560:EnsembleBuilder(1):e50c21fd734717aba9baaaf5a5ed66a7] No models better than random - using Dummy Score!\n"
          ],
          "name": "stdout"
        },
        {
          "output_type": "stream",
          "text": [
            "/usr/local/lib/python3.6/dist-packages/autosklearn/evaluation/train_evaluator.py:197: RuntimeWarning: Mean of empty slice\n",
            "  Y_train_pred = np.nanmean(Y_train_pred_full, axis=0)\n",
            "/usr/local/lib/python3.6/dist-packages/autosklearn/evaluation/train_evaluator.py:197: RuntimeWarning: Mean of empty slice\n",
            "  Y_train_pred = np.nanmean(Y_train_pred_full, axis=0)\n"
          ],
          "name": "stderr"
        },
        {
          "output_type": "stream",
          "text": [
            "[WARNING] [2019-08-25 07:22:07,571:EnsembleBuilder(1):e50c21fd734717aba9baaaf5a5ed66a7] No models better than random - using Dummy Score!\n",
            "[WARNING] [2019-08-25 07:22:09,581:EnsembleBuilder(1):e50c21fd734717aba9baaaf5a5ed66a7] No models better than random - using Dummy Score!\n",
            "[WARNING] [2019-08-25 07:22:11,590:EnsembleBuilder(1):e50c21fd734717aba9baaaf5a5ed66a7] No models better than random - using Dummy Score!\n",
            "[WARNING] [2019-08-25 07:22:13,610:EnsembleBuilder(1):e50c21fd734717aba9baaaf5a5ed66a7] No models better than random - using Dummy Score!\n",
            "[WARNING] [2019-08-25 07:22:15,632:EnsembleBuilder(1):e50c21fd734717aba9baaaf5a5ed66a7] No models better than random - using Dummy Score!\n",
            "[WARNING] [2019-08-25 07:22:17,650:EnsembleBuilder(1):e50c21fd734717aba9baaaf5a5ed66a7] No models better than random - using Dummy Score!\n"
          ],
          "name": "stdout"
        },
        {
          "output_type": "stream",
          "text": [
            "/usr/local/lib/python3.6/dist-packages/autosklearn/evaluation/train_evaluator.py:197: RuntimeWarning: Mean of empty slice\n",
            "  Y_train_pred = np.nanmean(Y_train_pred_full, axis=0)\n"
          ],
          "name": "stderr"
        },
        {
          "output_type": "stream",
          "text": [
            "[WARNING] [2019-08-25 07:22:19,671:EnsembleBuilder(1):e50c21fd734717aba9baaaf5a5ed66a7] No models better than random - using Dummy Score!\n"
          ],
          "name": "stdout"
        },
        {
          "output_type": "stream",
          "text": [
            "/usr/local/lib/python3.6/dist-packages/autosklearn/evaluation/train_evaluator.py:197: RuntimeWarning: Mean of empty slice\n",
            "  Y_train_pred = np.nanmean(Y_train_pred_full, axis=0)\n"
          ],
          "name": "stderr"
        },
        {
          "output_type": "stream",
          "text": [
            "[WARNING] [2019-08-25 07:22:21,684:EnsembleBuilder(1):e50c21fd734717aba9baaaf5a5ed66a7] No models better than random - using Dummy Score!\n",
            "[WARNING] [2019-08-25 07:22:23,695:EnsembleBuilder(1):e50c21fd734717aba9baaaf5a5ed66a7] No models better than random - using Dummy Score!\n"
          ],
          "name": "stdout"
        },
        {
          "output_type": "stream",
          "text": [
            "/usr/local/lib/python3.6/dist-packages/autosklearn/evaluation/train_evaluator.py:197: RuntimeWarning: Mean of empty slice\n",
            "  Y_train_pred = np.nanmean(Y_train_pred_full, axis=0)\n"
          ],
          "name": "stderr"
        },
        {
          "output_type": "stream",
          "text": [
            "[WARNING] [2019-08-25 07:22:25,704:EnsembleBuilder(1):e50c21fd734717aba9baaaf5a5ed66a7] No models better than random - using Dummy Score!\n"
          ],
          "name": "stdout"
        },
        {
          "output_type": "stream",
          "text": [
            "/usr/local/lib/python3.6/dist-packages/autosklearn/evaluation/train_evaluator.py:197: RuntimeWarning: Mean of empty slice\n",
            "  Y_train_pred = np.nanmean(Y_train_pred_full, axis=0)\n"
          ],
          "name": "stderr"
        },
        {
          "output_type": "stream",
          "text": [
            "[WARNING] [2019-08-25 07:22:27,723:EnsembleBuilder(1):e50c21fd734717aba9baaaf5a5ed66a7] No models better than random - using Dummy Score!\n"
          ],
          "name": "stdout"
        },
        {
          "output_type": "stream",
          "text": [
            "/usr/local/lib/python3.6/dist-packages/autosklearn/evaluation/train_evaluator.py:197: RuntimeWarning: Mean of empty slice\n",
            "  Y_train_pred = np.nanmean(Y_train_pred_full, axis=0)\n"
          ],
          "name": "stderr"
        },
        {
          "output_type": "stream",
          "text": [
            "[WARNING] [2019-08-25 07:22:29,757:EnsembleBuilder(1):e50c21fd734717aba9baaaf5a5ed66a7] No models better than random - using Dummy Score!\n",
            "[WARNING] [2019-08-25 07:22:31,766:EnsembleBuilder(1):e50c21fd734717aba9baaaf5a5ed66a7] No models better than random - using Dummy Score!\n",
            "[WARNING] [2019-08-25 07:22:33,776:EnsembleBuilder(1):e50c21fd734717aba9baaaf5a5ed66a7] No models better than random - using Dummy Score!\n",
            "[WARNING] [2019-08-25 07:22:35,786:EnsembleBuilder(1):e50c21fd734717aba9baaaf5a5ed66a7] No models better than random - using Dummy Score!\n",
            "[WARNING] [2019-08-25 07:22:37,801:EnsembleBuilder(1):e50c21fd734717aba9baaaf5a5ed66a7] No models better than random - using Dummy Score!\n",
            "[WARNING] [2019-08-25 07:22:39,826:EnsembleBuilder(1):e50c21fd734717aba9baaaf5a5ed66a7] No models better than random - using Dummy Score!\n"
          ],
          "name": "stdout"
        },
        {
          "output_type": "stream",
          "text": [
            "/usr/local/lib/python3.6/dist-packages/autosklearn/evaluation/train_evaluator.py:197: RuntimeWarning: Mean of empty slice\n",
            "  Y_train_pred = np.nanmean(Y_train_pred_full, axis=0)\n"
          ],
          "name": "stderr"
        },
        {
          "output_type": "stream",
          "text": [
            "[WARNING] [2019-08-25 07:22:41,854:EnsembleBuilder(1):e50c21fd734717aba9baaaf5a5ed66a7] No models better than random - using Dummy Score!\n",
            "[WARNING] [2019-08-25 07:22:43,864:EnsembleBuilder(1):e50c21fd734717aba9baaaf5a5ed66a7] No models better than random - using Dummy Score!\n",
            "[WARNING] [2019-08-25 07:22:45,885:EnsembleBuilder(1):e50c21fd734717aba9baaaf5a5ed66a7] No models better than random - using Dummy Score!\n",
            "[WARNING] [2019-08-25 07:22:47,894:EnsembleBuilder(1):e50c21fd734717aba9baaaf5a5ed66a7] No models better than random - using Dummy Score!\n"
          ],
          "name": "stdout"
        },
        {
          "output_type": "stream",
          "text": [
            "/usr/local/lib/python3.6/dist-packages/autosklearn/evaluation/train_evaluator.py:197: RuntimeWarning: Mean of empty slice\n",
            "  Y_train_pred = np.nanmean(Y_train_pred_full, axis=0)\n",
            "/usr/local/lib/python3.6/dist-packages/autosklearn/evaluation/train_evaluator.py:197: RuntimeWarning: Mean of empty slice\n",
            "  Y_train_pred = np.nanmean(Y_train_pred_full, axis=0)\n"
          ],
          "name": "stderr"
        },
        {
          "output_type": "stream",
          "text": [
            "[WARNING] [2019-08-25 07:22:49,905:EnsembleBuilder(1):e50c21fd734717aba9baaaf5a5ed66a7] No models better than random - using Dummy Score!\n",
            "[WARNING] [2019-08-25 07:22:51,914:EnsembleBuilder(1):e50c21fd734717aba9baaaf5a5ed66a7] No models better than random - using Dummy Score!\n"
          ],
          "name": "stdout"
        },
        {
          "output_type": "stream",
          "text": [
            "/usr/local/lib/python3.6/dist-packages/autosklearn/evaluation/train_evaluator.py:197: RuntimeWarning: Mean of empty slice\n",
            "  Y_train_pred = np.nanmean(Y_train_pred_full, axis=0)\n"
          ],
          "name": "stderr"
        },
        {
          "output_type": "stream",
          "text": [
            "[WARNING] [2019-08-25 07:22:53,928:EnsembleBuilder(1):e50c21fd734717aba9baaaf5a5ed66a7] No models better than random - using Dummy Score!\n",
            "[WARNING] [2019-08-25 07:22:55,944:EnsembleBuilder(1):e50c21fd734717aba9baaaf5a5ed66a7] No models better than random - using Dummy Score!\n"
          ],
          "name": "stdout"
        },
        {
          "output_type": "stream",
          "text": [
            "/usr/local/lib/python3.6/dist-packages/autosklearn/evaluation/train_evaluator.py:197: RuntimeWarning: Mean of empty slice\n",
            "  Y_train_pred = np.nanmean(Y_train_pred_full, axis=0)\n"
          ],
          "name": "stderr"
        },
        {
          "output_type": "stream",
          "text": [
            "[WARNING] [2019-08-25 07:22:57,976:EnsembleBuilder(1):e50c21fd734717aba9baaaf5a5ed66a7] No models better than random - using Dummy Score!\n",
            "[WARNING] [2019-08-25 07:22:59,987:EnsembleBuilder(1):e50c21fd734717aba9baaaf5a5ed66a7] No models better than random - using Dummy Score!\n",
            "[WARNING] [2019-08-25 07:23:02,005:EnsembleBuilder(1):e50c21fd734717aba9baaaf5a5ed66a7] No models better than random - using Dummy Score!\n",
            "[WARNING] [2019-08-25 07:23:04,033:EnsembleBuilder(1):e50c21fd734717aba9baaaf5a5ed66a7] No models better than random - using Dummy Score!\n",
            "[WARNING] [2019-08-25 07:23:06,059:EnsembleBuilder(1):e50c21fd734717aba9baaaf5a5ed66a7] No models better than random - using Dummy Score!\n",
            "[WARNING] [2019-08-25 07:23:08,082:EnsembleBuilder(1):e50c21fd734717aba9baaaf5a5ed66a7] No models better than random - using Dummy Score!\n",
            "[WARNING] [2019-08-25 07:23:10,108:EnsembleBuilder(1):e50c21fd734717aba9baaaf5a5ed66a7] No models better than random - using Dummy Score!\n"
          ],
          "name": "stdout"
        },
        {
          "output_type": "stream",
          "text": [
            "/usr/local/lib/python3.6/dist-packages/autosklearn/evaluation/train_evaluator.py:197: RuntimeWarning: Mean of empty slice\n",
            "  Y_train_pred = np.nanmean(Y_train_pred_full, axis=0)\n"
          ],
          "name": "stderr"
        },
        {
          "output_type": "stream",
          "text": [
            "[WARNING] [2019-08-25 07:23:12,132:EnsembleBuilder(1):e50c21fd734717aba9baaaf5a5ed66a7] No models better than random - using Dummy Score!\n",
            "[WARNING] [2019-08-25 07:23:14,141:EnsembleBuilder(1):e50c21fd734717aba9baaaf5a5ed66a7] No models better than random - using Dummy Score!\n"
          ],
          "name": "stdout"
        },
        {
          "output_type": "stream",
          "text": [
            "/usr/local/lib/python3.6/dist-packages/autosklearn/evaluation/train_evaluator.py:197: RuntimeWarning: Mean of empty slice\n",
            "  Y_train_pred = np.nanmean(Y_train_pred_full, axis=0)\n"
          ],
          "name": "stderr"
        },
        {
          "output_type": "stream",
          "text": [
            "[WARNING] [2019-08-25 07:23:16,149:EnsembleBuilder(1):e50c21fd734717aba9baaaf5a5ed66a7] No models better than random - using Dummy Score!\n"
          ],
          "name": "stdout"
        },
        {
          "output_type": "stream",
          "text": [
            "/usr/local/lib/python3.6/dist-packages/autosklearn/evaluation/train_evaluator.py:197: RuntimeWarning: Mean of empty slice\n",
            "  Y_train_pred = np.nanmean(Y_train_pred_full, axis=0)\n"
          ],
          "name": "stderr"
        },
        {
          "output_type": "stream",
          "text": [
            "[WARNING] [2019-08-25 07:23:18,176:EnsembleBuilder(1):e50c21fd734717aba9baaaf5a5ed66a7] No models better than random - using Dummy Score!\n"
          ],
          "name": "stdout"
        },
        {
          "output_type": "stream",
          "text": [
            "/usr/local/lib/python3.6/dist-packages/autosklearn/evaluation/train_evaluator.py:197: RuntimeWarning: Mean of empty slice\n",
            "  Y_train_pred = np.nanmean(Y_train_pred_full, axis=0)\n",
            "/usr/local/lib/python3.6/dist-packages/autosklearn/evaluation/train_evaluator.py:197: RuntimeWarning: Mean of empty slice\n",
            "  Y_train_pred = np.nanmean(Y_train_pred_full, axis=0)\n"
          ],
          "name": "stderr"
        },
        {
          "output_type": "stream",
          "text": [
            "[WARNING] [2019-08-25 07:23:20,196:EnsembleBuilder(1):e50c21fd734717aba9baaaf5a5ed66a7] No models better than random - using Dummy Score!\n",
            "[WARNING] [2019-08-25 07:23:22,206:EnsembleBuilder(1):e50c21fd734717aba9baaaf5a5ed66a7] No models better than random - using Dummy Score!\n"
          ],
          "name": "stdout"
        },
        {
          "output_type": "stream",
          "text": [
            "/usr/local/lib/python3.6/dist-packages/autosklearn/evaluation/train_evaluator.py:197: RuntimeWarning: Mean of empty slice\n",
            "  Y_train_pred = np.nanmean(Y_train_pred_full, axis=0)\n"
          ],
          "name": "stderr"
        },
        {
          "output_type": "stream",
          "text": [
            "[WARNING] [2019-08-25 07:23:24,219:EnsembleBuilder(1):e50c21fd734717aba9baaaf5a5ed66a7] No models better than random - using Dummy Score!\n"
          ],
          "name": "stdout"
        },
        {
          "output_type": "stream",
          "text": [
            "/usr/local/lib/python3.6/dist-packages/autosklearn/evaluation/train_evaluator.py:197: RuntimeWarning: Mean of empty slice\n",
            "  Y_train_pred = np.nanmean(Y_train_pred_full, axis=0)\n",
            "/usr/local/lib/python3.6/dist-packages/autosklearn/evaluation/train_evaluator.py:197: RuntimeWarning: Mean of empty slice\n",
            "  Y_train_pred = np.nanmean(Y_train_pred_full, axis=0)\n"
          ],
          "name": "stderr"
        },
        {
          "output_type": "stream",
          "text": [
            "[WARNING] [2019-08-25 07:23:26,242:EnsembleBuilder(1):e50c21fd734717aba9baaaf5a5ed66a7] No models better than random - using Dummy Score!\n",
            "[WARNING] [2019-08-25 07:23:28,262:EnsembleBuilder(1):e50c21fd734717aba9baaaf5a5ed66a7] No models better than random - using Dummy Score!\n",
            "[WARNING] [2019-08-25 07:23:30,283:EnsembleBuilder(1):e50c21fd734717aba9baaaf5a5ed66a7] No models better than random - using Dummy Score!\n",
            "[WARNING] [2019-08-25 07:23:32,309:EnsembleBuilder(1):e50c21fd734717aba9baaaf5a5ed66a7] No models better than random - using Dummy Score!\n",
            "[WARNING] [2019-08-25 07:23:34,331:EnsembleBuilder(1):e50c21fd734717aba9baaaf5a5ed66a7] No models better than random - using Dummy Score!\n",
            "[WARNING] [2019-08-25 07:23:36,360:EnsembleBuilder(1):e50c21fd734717aba9baaaf5a5ed66a7] No models better than random - using Dummy Score!\n",
            "[WARNING] [2019-08-25 07:23:38,385:EnsembleBuilder(1):e50c21fd734717aba9baaaf5a5ed66a7] No models better than random - using Dummy Score!\n",
            "[WARNING] [2019-08-25 07:23:40,413:EnsembleBuilder(1):e50c21fd734717aba9baaaf5a5ed66a7] No models better than random - using Dummy Score!\n",
            "[WARNING] [2019-08-25 07:23:42,441:EnsembleBuilder(1):e50c21fd734717aba9baaaf5a5ed66a7] No models better than random - using Dummy Score!\n",
            "[WARNING] [2019-08-25 07:23:44,478:EnsembleBuilder(1):e50c21fd734717aba9baaaf5a5ed66a7] No models better than random - using Dummy Score!\n",
            "[WARNING] [2019-08-25 07:23:46,503:EnsembleBuilder(1):e50c21fd734717aba9baaaf5a5ed66a7] No models better than random - using Dummy Score!\n",
            "[WARNING] [2019-08-25 07:23:48,525:EnsembleBuilder(1):e50c21fd734717aba9baaaf5a5ed66a7] No models better than random - using Dummy Score!\n",
            "[WARNING] [2019-08-25 07:23:50,548:EnsembleBuilder(1):e50c21fd734717aba9baaaf5a5ed66a7] No models better than random - using Dummy Score!\n",
            "[WARNING] [2019-08-25 07:23:52,574:EnsembleBuilder(1):e50c21fd734717aba9baaaf5a5ed66a7] No models better than random - using Dummy Score!\n",
            "[WARNING] [2019-08-25 07:23:54,597:EnsembleBuilder(1):e50c21fd734717aba9baaaf5a5ed66a7] No models better than random - using Dummy Score!\n",
            "[WARNING] [2019-08-25 07:23:56,623:EnsembleBuilder(1):e50c21fd734717aba9baaaf5a5ed66a7] No models better than random - using Dummy Score!\n",
            "[WARNING] [2019-08-25 07:23:58,649:EnsembleBuilder(1):e50c21fd734717aba9baaaf5a5ed66a7] No models better than random - using Dummy Score!\n",
            "[WARNING] [2019-08-25 07:24:00,674:EnsembleBuilder(1):e50c21fd734717aba9baaaf5a5ed66a7] No models better than random - using Dummy Score!\n",
            "[WARNING] [2019-08-25 07:24:02,706:EnsembleBuilder(1):e50c21fd734717aba9baaaf5a5ed66a7] No models better than random - using Dummy Score!\n",
            "[WARNING] [2019-08-25 07:24:04,734:EnsembleBuilder(1):e50c21fd734717aba9baaaf5a5ed66a7] No models better than random - using Dummy Score!\n",
            "[WARNING] [2019-08-25 07:24:06,758:EnsembleBuilder(1):e50c21fd734717aba9baaaf5a5ed66a7] No models better than random - using Dummy Score!\n",
            "[WARNING] [2019-08-25 07:24:08,782:EnsembleBuilder(1):e50c21fd734717aba9baaaf5a5ed66a7] No models better than random - using Dummy Score!\n",
            "[WARNING] [2019-08-25 07:24:10,810:EnsembleBuilder(1):e50c21fd734717aba9baaaf5a5ed66a7] No models better than random - using Dummy Score!\n",
            "[WARNING] [2019-08-25 07:24:12,837:EnsembleBuilder(1):e50c21fd734717aba9baaaf5a5ed66a7] No models better than random - using Dummy Score!\n",
            "[WARNING] [2019-08-25 07:24:14,867:EnsembleBuilder(1):e50c21fd734717aba9baaaf5a5ed66a7] No models better than random - using Dummy Score!\n",
            "[WARNING] [2019-08-25 07:24:16,879:EnsembleBuilder(1):e50c21fd734717aba9baaaf5a5ed66a7] No models better than random - using Dummy Score!\n",
            "[WARNING] [2019-08-25 07:24:18,910:EnsembleBuilder(1):e50c21fd734717aba9baaaf5a5ed66a7] No models better than random - using Dummy Score!\n",
            "[WARNING] [2019-08-25 07:24:20,932:EnsembleBuilder(1):e50c21fd734717aba9baaaf5a5ed66a7] No models better than random - using Dummy Score!\n",
            "[WARNING] [2019-08-25 07:24:22,953:EnsembleBuilder(1):e50c21fd734717aba9baaaf5a5ed66a7] No models better than random - using Dummy Score!\n",
            "[WARNING] [2019-08-25 07:24:24,973:EnsembleBuilder(1):e50c21fd734717aba9baaaf5a5ed66a7] No models better than random - using Dummy Score!\n",
            "[WARNING] [2019-08-25 07:24:26,997:EnsembleBuilder(1):e50c21fd734717aba9baaaf5a5ed66a7] No models better than random - using Dummy Score!\n",
            "[WARNING] [2019-08-25 07:24:29,019:EnsembleBuilder(1):e50c21fd734717aba9baaaf5a5ed66a7] No models better than random - using Dummy Score!\n",
            "[WARNING] [2019-08-25 07:24:31,045:EnsembleBuilder(1):e50c21fd734717aba9baaaf5a5ed66a7] No models better than random - using Dummy Score!\n",
            "[WARNING] [2019-08-25 07:24:33,071:EnsembleBuilder(1):e50c21fd734717aba9baaaf5a5ed66a7] No models better than random - using Dummy Score!\n",
            "[WARNING] [2019-08-25 07:24:35,099:EnsembleBuilder(1):e50c21fd734717aba9baaaf5a5ed66a7] No models better than random - using Dummy Score!\n",
            "[WARNING] [2019-08-25 07:24:37,128:EnsembleBuilder(1):e50c21fd734717aba9baaaf5a5ed66a7] No models better than random - using Dummy Score!\n",
            "[WARNING] [2019-08-25 07:24:39,155:EnsembleBuilder(1):e50c21fd734717aba9baaaf5a5ed66a7] No models better than random - using Dummy Score!\n",
            "[WARNING] [2019-08-25 07:24:41,182:EnsembleBuilder(1):e50c21fd734717aba9baaaf5a5ed66a7] No models better than random - using Dummy Score!\n",
            "[WARNING] [2019-08-25 07:24:43,212:EnsembleBuilder(1):e50c21fd734717aba9baaaf5a5ed66a7] No models better than random - using Dummy Score!\n",
            "[WARNING] [2019-08-25 07:24:45,239:EnsembleBuilder(1):e50c21fd734717aba9baaaf5a5ed66a7] No models better than random - using Dummy Score!\n",
            "[WARNING] [2019-08-25 07:24:47,271:EnsembleBuilder(1):e50c21fd734717aba9baaaf5a5ed66a7] No models better than random - using Dummy Score!\n",
            "[WARNING] [2019-08-25 07:24:49,299:EnsembleBuilder(1):e50c21fd734717aba9baaaf5a5ed66a7] No models better than random - using Dummy Score!\n",
            "[WARNING] [2019-08-25 07:24:51,329:EnsembleBuilder(1):e50c21fd734717aba9baaaf5a5ed66a7] No models better than random - using Dummy Score!\n",
            "[WARNING] [2019-08-25 07:24:53,344:EnsembleBuilder(1):e50c21fd734717aba9baaaf5a5ed66a7] No models better than random - using Dummy Score!\n",
            "[WARNING] [2019-08-25 07:24:55,363:EnsembleBuilder(1):e50c21fd734717aba9baaaf5a5ed66a7] No models better than random - using Dummy Score!\n",
            "[WARNING] [2019-08-25 07:24:57,389:EnsembleBuilder(1):e50c21fd734717aba9baaaf5a5ed66a7] No models better than random - using Dummy Score!\n",
            "[WARNING] [2019-08-25 07:24:59,426:EnsembleBuilder(1):e50c21fd734717aba9baaaf5a5ed66a7] No models better than random - using Dummy Score!\n",
            "[WARNING] [2019-08-25 07:25:01,452:EnsembleBuilder(1):e50c21fd734717aba9baaaf5a5ed66a7] No models better than random - using Dummy Score!\n",
            "[WARNING] [2019-08-25 07:25:03,482:EnsembleBuilder(1):e50c21fd734717aba9baaaf5a5ed66a7] No models better than random - using Dummy Score!\n",
            "[WARNING] [2019-08-25 07:25:05,511:EnsembleBuilder(1):e50c21fd734717aba9baaaf5a5ed66a7] No models better than random - using Dummy Score!\n",
            "[WARNING] [2019-08-25 07:25:07,536:EnsembleBuilder(1):e50c21fd734717aba9baaaf5a5ed66a7] No models better than random - using Dummy Score!\n",
            "[WARNING] [2019-08-25 07:25:09,568:EnsembleBuilder(1):e50c21fd734717aba9baaaf5a5ed66a7] No models better than random - using Dummy Score!\n",
            "[WARNING] [2019-08-25 07:25:11,595:EnsembleBuilder(1):e50c21fd734717aba9baaaf5a5ed66a7] No models better than random - using Dummy Score!\n",
            "[WARNING] [2019-08-25 07:25:13,618:EnsembleBuilder(1):e50c21fd734717aba9baaaf5a5ed66a7] No models better than random - using Dummy Score!\n",
            "[WARNING] [2019-08-25 07:25:15,643:EnsembleBuilder(1):e50c21fd734717aba9baaaf5a5ed66a7] No models better than random - using Dummy Score!\n",
            "[WARNING] [2019-08-25 07:25:17,670:EnsembleBuilder(1):e50c21fd734717aba9baaaf5a5ed66a7] No models better than random - using Dummy Score!\n",
            "[WARNING] [2019-08-25 07:25:19,698:EnsembleBuilder(1):e50c21fd734717aba9baaaf5a5ed66a7] No models better than random - using Dummy Score!\n",
            "[WARNING] [2019-08-25 07:25:21,724:EnsembleBuilder(1):e50c21fd734717aba9baaaf5a5ed66a7] No models better than random - using Dummy Score!\n",
            "[WARNING] [2019-08-25 07:25:23,753:EnsembleBuilder(1):e50c21fd734717aba9baaaf5a5ed66a7] No models better than random - using Dummy Score!\n",
            "[WARNING] [2019-08-25 07:25:25,786:EnsembleBuilder(1):e50c21fd734717aba9baaaf5a5ed66a7] No models better than random - using Dummy Score!\n",
            "[WARNING] [2019-08-25 07:25:27,809:EnsembleBuilder(1):e50c21fd734717aba9baaaf5a5ed66a7] No models better than random - using Dummy Score!\n",
            "[WARNING] [2019-08-25 07:25:29,837:EnsembleBuilder(1):e50c21fd734717aba9baaaf5a5ed66a7] No models better than random - using Dummy Score!\n",
            "[WARNING] [2019-08-25 07:25:31,870:EnsembleBuilder(1):e50c21fd734717aba9baaaf5a5ed66a7] No models better than random - using Dummy Score!\n",
            "[WARNING] [2019-08-25 07:25:33,897:EnsembleBuilder(1):e50c21fd734717aba9baaaf5a5ed66a7] No models better than random - using Dummy Score!\n",
            "[WARNING] [2019-08-25 07:25:35,924:EnsembleBuilder(1):e50c21fd734717aba9baaaf5a5ed66a7] No models better than random - using Dummy Score!\n",
            "[WARNING] [2019-08-25 07:25:37,952:EnsembleBuilder(1):e50c21fd734717aba9baaaf5a5ed66a7] No models better than random - using Dummy Score!\n",
            "[WARNING] [2019-08-25 07:25:39,976:EnsembleBuilder(1):e50c21fd734717aba9baaaf5a5ed66a7] No models better than random - using Dummy Score!\n",
            "[WARNING] [2019-08-25 07:25:42,009:EnsembleBuilder(1):e50c21fd734717aba9baaaf5a5ed66a7] No models better than random - using Dummy Score!\n",
            "[WARNING] [2019-08-25 07:25:44,035:EnsembleBuilder(1):e50c21fd734717aba9baaaf5a5ed66a7] No models better than random - using Dummy Score!\n",
            "[WARNING] [2019-08-25 07:25:46,063:EnsembleBuilder(1):e50c21fd734717aba9baaaf5a5ed66a7] No models better than random - using Dummy Score!\n"
          ],
          "name": "stdout"
        },
        {
          "output_type": "stream",
          "text": [
            "/usr/local/lib/python3.6/dist-packages/autosklearn/evaluation/train_evaluator.py:197: RuntimeWarning: Mean of empty slice\n",
            "  Y_train_pred = np.nanmean(Y_train_pred_full, axis=0)\n"
          ],
          "name": "stderr"
        },
        {
          "output_type": "stream",
          "text": [
            "[WARNING] [2019-08-25 07:25:48,095:EnsembleBuilder(1):e50c21fd734717aba9baaaf5a5ed66a7] No models better than random - using Dummy Score!\n",
            "[WARNING] [2019-08-25 07:25:50,106:EnsembleBuilder(1):e50c21fd734717aba9baaaf5a5ed66a7] No models better than random - using Dummy Score!\n",
            "[WARNING] [2019-08-25 07:25:52,118:EnsembleBuilder(1):e50c21fd734717aba9baaaf5a5ed66a7] No models better than random - using Dummy Score!\n"
          ],
          "name": "stdout"
        },
        {
          "output_type": "stream",
          "text": [
            "/usr/local/lib/python3.6/dist-packages/autosklearn/evaluation/train_evaluator.py:197: RuntimeWarning: Mean of empty slice\n",
            "  Y_train_pred = np.nanmean(Y_train_pred_full, axis=0)\n"
          ],
          "name": "stderr"
        },
        {
          "output_type": "stream",
          "text": [
            "[WARNING] [2019-08-25 07:25:54,142:EnsembleBuilder(1):e50c21fd734717aba9baaaf5a5ed66a7] No models better than random - using Dummy Score!\n",
            "[WARNING] [2019-08-25 07:25:56,152:EnsembleBuilder(1):e50c21fd734717aba9baaaf5a5ed66a7] No models better than random - using Dummy Score!\n",
            "[WARNING] [2019-08-25 07:25:58,164:EnsembleBuilder(1):e50c21fd734717aba9baaaf5a5ed66a7] No models better than random - using Dummy Score!\n",
            "[WARNING] [2019-08-25 07:26:00,182:EnsembleBuilder(1):e50c21fd734717aba9baaaf5a5ed66a7] No models better than random - using Dummy Score!\n",
            "[WARNING] [2019-08-25 07:26:02,197:EnsembleBuilder(1):e50c21fd734717aba9baaaf5a5ed66a7] No models better than random - using Dummy Score!\n",
            "[WARNING] [2019-08-25 07:26:04,215:EnsembleBuilder(1):e50c21fd734717aba9baaaf5a5ed66a7] No models better than random - using Dummy Score!\n",
            "[WARNING] [2019-08-25 07:26:06,239:EnsembleBuilder(1):e50c21fd734717aba9baaaf5a5ed66a7] No models better than random - using Dummy Score!\n",
            "[WARNING] [2019-08-25 07:26:08,261:EnsembleBuilder(1):e50c21fd734717aba9baaaf5a5ed66a7] No models better than random - using Dummy Score!\n",
            "[WARNING] [2019-08-25 07:26:10,289:EnsembleBuilder(1):e50c21fd734717aba9baaaf5a5ed66a7] No models better than random - using Dummy Score!\n",
            "[WARNING] [2019-08-25 07:26:12,314:EnsembleBuilder(1):e50c21fd734717aba9baaaf5a5ed66a7] No models better than random - using Dummy Score!\n",
            "[WARNING] [2019-08-25 07:26:14,338:EnsembleBuilder(1):e50c21fd734717aba9baaaf5a5ed66a7] No models better than random - using Dummy Score!\n",
            "[WARNING] [2019-08-25 07:26:16,363:EnsembleBuilder(1):e50c21fd734717aba9baaaf5a5ed66a7] No models better than random - using Dummy Score!\n",
            "[WARNING] [2019-08-25 07:26:18,392:EnsembleBuilder(1):e50c21fd734717aba9baaaf5a5ed66a7] No models better than random - using Dummy Score!\n",
            "[WARNING] [2019-08-25 07:26:20,419:EnsembleBuilder(1):e50c21fd734717aba9baaaf5a5ed66a7] No models better than random - using Dummy Score!\n",
            "[WARNING] [2019-08-25 07:26:22,446:EnsembleBuilder(1):e50c21fd734717aba9baaaf5a5ed66a7] No models better than random - using Dummy Score!\n",
            "[WARNING] [2019-08-25 07:26:24,465:EnsembleBuilder(1):e50c21fd734717aba9baaaf5a5ed66a7] No models better than random - using Dummy Score!\n",
            "[WARNING] [2019-08-25 07:26:26,489:EnsembleBuilder(1):e50c21fd734717aba9baaaf5a5ed66a7] No models better than random - using Dummy Score!\n",
            "[WARNING] [2019-08-25 07:26:28,516:EnsembleBuilder(1):e50c21fd734717aba9baaaf5a5ed66a7] No models better than random - using Dummy Score!\n"
          ],
          "name": "stdout"
        },
        {
          "output_type": "stream",
          "text": [
            "/usr/local/lib/python3.6/dist-packages/autosklearn/evaluation/train_evaluator.py:197: RuntimeWarning: Mean of empty slice\n",
            "  Y_train_pred = np.nanmean(Y_train_pred_full, axis=0)\n"
          ],
          "name": "stderr"
        },
        {
          "output_type": "stream",
          "text": [
            "[WARNING] [2019-08-25 07:26:30,537:EnsembleBuilder(1):e50c21fd734717aba9baaaf5a5ed66a7] No models better than random - using Dummy Score!\n",
            "[WARNING] [2019-08-25 07:26:32,547:EnsembleBuilder(1):e50c21fd734717aba9baaaf5a5ed66a7] No models better than random - using Dummy Score!\n",
            "[WARNING] [2019-08-25 07:26:34,557:EnsembleBuilder(1):e50c21fd734717aba9baaaf5a5ed66a7] No models better than random - using Dummy Score!\n"
          ],
          "name": "stdout"
        },
        {
          "output_type": "stream",
          "text": [
            "/usr/local/lib/python3.6/dist-packages/autosklearn/evaluation/train_evaluator.py:197: RuntimeWarning: Mean of empty slice\n",
            "  Y_train_pred = np.nanmean(Y_train_pred_full, axis=0)\n",
            "/usr/local/lib/python3.6/dist-packages/autosklearn/evaluation/train_evaluator.py:197: RuntimeWarning: Mean of empty slice\n",
            "  Y_train_pred = np.nanmean(Y_train_pred_full, axis=0)\n"
          ],
          "name": "stderr"
        },
        {
          "output_type": "stream",
          "text": [
            "[WARNING] [2019-08-25 07:26:36,569:EnsembleBuilder(1):e50c21fd734717aba9baaaf5a5ed66a7] No models better than random - using Dummy Score!\n"
          ],
          "name": "stdout"
        },
        {
          "output_type": "stream",
          "text": [
            "/usr/local/lib/python3.6/dist-packages/autosklearn/evaluation/train_evaluator.py:197: RuntimeWarning: Mean of empty slice\n",
            "  Y_train_pred = np.nanmean(Y_train_pred_full, axis=0)\n",
            "/usr/local/lib/python3.6/dist-packages/autosklearn/evaluation/train_evaluator.py:197: RuntimeWarning: Mean of empty slice\n",
            "  Y_train_pred = np.nanmean(Y_train_pred_full, axis=0)\n"
          ],
          "name": "stderr"
        },
        {
          "output_type": "stream",
          "text": [
            "[WARNING] [2019-08-25 07:26:38,586:EnsembleBuilder(1):e50c21fd734717aba9baaaf5a5ed66a7] No models better than random - using Dummy Score!\n",
            "[WARNING] [2019-08-25 07:26:40,603:EnsembleBuilder(1):e50c21fd734717aba9baaaf5a5ed66a7] No models better than random - using Dummy Score!\n"
          ],
          "name": "stdout"
        },
        {
          "output_type": "stream",
          "text": [
            "/usr/local/lib/python3.6/dist-packages/autosklearn/evaluation/train_evaluator.py:197: RuntimeWarning: Mean of empty slice\n",
            "  Y_train_pred = np.nanmean(Y_train_pred_full, axis=0)\n",
            "/usr/local/lib/python3.6/dist-packages/autosklearn/evaluation/train_evaluator.py:197: RuntimeWarning: Mean of empty slice\n",
            "  Y_train_pred = np.nanmean(Y_train_pred_full, axis=0)\n"
          ],
          "name": "stderr"
        },
        {
          "output_type": "stream",
          "text": [
            "[WARNING] [2019-08-25 07:26:42,616:EnsembleBuilder(1):e50c21fd734717aba9baaaf5a5ed66a7] No models better than random - using Dummy Score!\n"
          ],
          "name": "stdout"
        },
        {
          "output_type": "stream",
          "text": [
            "/usr/local/lib/python3.6/dist-packages/autosklearn/evaluation/train_evaluator.py:197: RuntimeWarning: Mean of empty slice\n",
            "  Y_train_pred = np.nanmean(Y_train_pred_full, axis=0)\n",
            "/usr/local/lib/python3.6/dist-packages/autosklearn/evaluation/train_evaluator.py:197: RuntimeWarning: Mean of empty slice\n",
            "  Y_train_pred = np.nanmean(Y_train_pred_full, axis=0)\n",
            "/usr/local/lib/python3.6/dist-packages/autosklearn/evaluation/train_evaluator.py:197: RuntimeWarning: Mean of empty slice\n",
            "  Y_train_pred = np.nanmean(Y_train_pred_full, axis=0)\n",
            "/usr/local/lib/python3.6/dist-packages/autosklearn/evaluation/train_evaluator.py:197: RuntimeWarning: Mean of empty slice\n",
            "  Y_train_pred = np.nanmean(Y_train_pred_full, axis=0)\n",
            "/usr/local/lib/python3.6/dist-packages/autosklearn/evaluation/train_evaluator.py:197: RuntimeWarning: Mean of empty slice\n",
            "  Y_train_pred = np.nanmean(Y_train_pred_full, axis=0)\n",
            "/usr/local/lib/python3.6/dist-packages/autosklearn/evaluation/train_evaluator.py:197: RuntimeWarning: Mean of empty slice\n",
            "  Y_train_pred = np.nanmean(Y_train_pred_full, axis=0)\n",
            "/usr/local/lib/python3.6/dist-packages/autosklearn/evaluation/train_evaluator.py:197: RuntimeWarning: Mean of empty slice\n",
            "  Y_train_pred = np.nanmean(Y_train_pred_full, axis=0)\n",
            "/usr/local/lib/python3.6/dist-packages/autosklearn/evaluation/train_evaluator.py:197: RuntimeWarning: Mean of empty slice\n",
            "  Y_train_pred = np.nanmean(Y_train_pred_full, axis=0)\n",
            "/usr/local/lib/python3.6/dist-packages/autosklearn/evaluation/train_evaluator.py:197: RuntimeWarning: Mean of empty slice\n",
            "  Y_train_pred = np.nanmean(Y_train_pred_full, axis=0)\n",
            "/usr/local/lib/python3.6/dist-packages/autosklearn/evaluation/train_evaluator.py:197: RuntimeWarning: Mean of empty slice\n",
            "  Y_train_pred = np.nanmean(Y_train_pred_full, axis=0)\n",
            "/usr/local/lib/python3.6/dist-packages/autosklearn/evaluation/train_evaluator.py:197: RuntimeWarning: Mean of empty slice\n",
            "  Y_train_pred = np.nanmean(Y_train_pred_full, axis=0)\n",
            "/usr/local/lib/python3.6/dist-packages/autosklearn/evaluation/train_evaluator.py:197: RuntimeWarning: Mean of empty slice\n",
            "  Y_train_pred = np.nanmean(Y_train_pred_full, axis=0)\n",
            "/usr/local/lib/python3.6/dist-packages/autosklearn/evaluation/train_evaluator.py:197: RuntimeWarning: Mean of empty slice\n",
            "  Y_train_pred = np.nanmean(Y_train_pred_full, axis=0)\n",
            "/usr/local/lib/python3.6/dist-packages/autosklearn/evaluation/train_evaluator.py:197: RuntimeWarning: Mean of empty slice\n",
            "  Y_train_pred = np.nanmean(Y_train_pred_full, axis=0)\n",
            "/usr/local/lib/python3.6/dist-packages/autosklearn/evaluation/train_evaluator.py:197: RuntimeWarning: Mean of empty slice\n",
            "  Y_train_pred = np.nanmean(Y_train_pred_full, axis=0)\n",
            "/usr/local/lib/python3.6/dist-packages/autosklearn/evaluation/train_evaluator.py:197: RuntimeWarning: Mean of empty slice\n",
            "  Y_train_pred = np.nanmean(Y_train_pred_full, axis=0)\n",
            "/usr/local/lib/python3.6/dist-packages/autosklearn/evaluation/train_evaluator.py:197: RuntimeWarning: Mean of empty slice\n",
            "  Y_train_pred = np.nanmean(Y_train_pred_full, axis=0)\n",
            "/usr/local/lib/python3.6/dist-packages/autosklearn/evaluation/train_evaluator.py:197: RuntimeWarning: Mean of empty slice\n",
            "  Y_train_pred = np.nanmean(Y_train_pred_full, axis=0)\n",
            "/usr/local/lib/python3.6/dist-packages/autosklearn/evaluation/train_evaluator.py:197: RuntimeWarning: Mean of empty slice\n",
            "  Y_train_pred = np.nanmean(Y_train_pred_full, axis=0)\n",
            "/usr/local/lib/python3.6/dist-packages/autosklearn/evaluation/train_evaluator.py:197: RuntimeWarning: Mean of empty slice\n",
            "  Y_train_pred = np.nanmean(Y_train_pred_full, axis=0)\n",
            "/usr/local/lib/python3.6/dist-packages/autosklearn/evaluation/train_evaluator.py:197: RuntimeWarning: Mean of empty slice\n",
            "  Y_train_pred = np.nanmean(Y_train_pred_full, axis=0)\n",
            "/usr/local/lib/python3.6/dist-packages/autosklearn/evaluation/train_evaluator.py:197: RuntimeWarning: Mean of empty slice\n",
            "  Y_train_pred = np.nanmean(Y_train_pred_full, axis=0)\n",
            "/usr/local/lib/python3.6/dist-packages/autosklearn/evaluation/train_evaluator.py:197: RuntimeWarning: Mean of empty slice\n",
            "  Y_train_pred = np.nanmean(Y_train_pred_full, axis=0)\n",
            "/usr/local/lib/python3.6/dist-packages/autosklearn/evaluation/train_evaluator.py:197: RuntimeWarning: Mean of empty slice\n",
            "  Y_train_pred = np.nanmean(Y_train_pred_full, axis=0)\n",
            "/usr/local/lib/python3.6/dist-packages/autosklearn/evaluation/train_evaluator.py:197: RuntimeWarning: Mean of empty slice\n",
            "  Y_train_pred = np.nanmean(Y_train_pred_full, axis=0)\n",
            "/usr/local/lib/python3.6/dist-packages/autosklearn/evaluation/train_evaluator.py:197: RuntimeWarning: Mean of empty slice\n",
            "  Y_train_pred = np.nanmean(Y_train_pred_full, axis=0)\n",
            "/usr/local/lib/python3.6/dist-packages/autosklearn/evaluation/train_evaluator.py:197: RuntimeWarning: Mean of empty slice\n",
            "  Y_train_pred = np.nanmean(Y_train_pred_full, axis=0)\n",
            "/usr/local/lib/python3.6/dist-packages/autosklearn/evaluation/train_evaluator.py:197: RuntimeWarning: Mean of empty slice\n",
            "  Y_train_pred = np.nanmean(Y_train_pred_full, axis=0)\n",
            "/usr/local/lib/python3.6/dist-packages/autosklearn/evaluation/train_evaluator.py:197: RuntimeWarning: Mean of empty slice\n",
            "  Y_train_pred = np.nanmean(Y_train_pred_full, axis=0)\n",
            "/usr/local/lib/python3.6/dist-packages/autosklearn/evaluation/train_evaluator.py:197: RuntimeWarning: Mean of empty slice\n",
            "  Y_train_pred = np.nanmean(Y_train_pred_full, axis=0)\n",
            "/usr/local/lib/python3.6/dist-packages/autosklearn/evaluation/train_evaluator.py:197: RuntimeWarning: Mean of empty slice\n",
            "  Y_train_pred = np.nanmean(Y_train_pred_full, axis=0)\n",
            "/usr/local/lib/python3.6/dist-packages/autosklearn/evaluation/train_evaluator.py:197: RuntimeWarning: Mean of empty slice\n",
            "  Y_train_pred = np.nanmean(Y_train_pred_full, axis=0)\n",
            "/usr/local/lib/python3.6/dist-packages/autosklearn/evaluation/train_evaluator.py:197: RuntimeWarning: Mean of empty slice\n",
            "  Y_train_pred = np.nanmean(Y_train_pred_full, axis=0)\n",
            "/usr/local/lib/python3.6/dist-packages/autosklearn/evaluation/train_evaluator.py:197: RuntimeWarning: Mean of empty slice\n",
            "  Y_train_pred = np.nanmean(Y_train_pred_full, axis=0)\n",
            "/usr/local/lib/python3.6/dist-packages/autosklearn/evaluation/train_evaluator.py:197: RuntimeWarning: Mean of empty slice\n",
            "  Y_train_pred = np.nanmean(Y_train_pred_full, axis=0)\n",
            "/usr/local/lib/python3.6/dist-packages/autosklearn/evaluation/train_evaluator.py:197: RuntimeWarning: Mean of empty slice\n",
            "  Y_train_pred = np.nanmean(Y_train_pred_full, axis=0)\n",
            "/usr/local/lib/python3.6/dist-packages/autosklearn/evaluation/train_evaluator.py:197: RuntimeWarning: Mean of empty slice\n",
            "  Y_train_pred = np.nanmean(Y_train_pred_full, axis=0)\n",
            "/usr/local/lib/python3.6/dist-packages/autosklearn/evaluation/train_evaluator.py:197: RuntimeWarning: Mean of empty slice\n",
            "  Y_train_pred = np.nanmean(Y_train_pred_full, axis=0)\n",
            "/usr/local/lib/python3.6/dist-packages/autosklearn/evaluation/train_evaluator.py:197: RuntimeWarning: Mean of empty slice\n",
            "  Y_train_pred = np.nanmean(Y_train_pred_full, axis=0)\n",
            "/usr/local/lib/python3.6/dist-packages/autosklearn/evaluation/train_evaluator.py:197: RuntimeWarning: Mean of empty slice\n",
            "  Y_train_pred = np.nanmean(Y_train_pred_full, axis=0)\n",
            "/usr/local/lib/python3.6/dist-packages/autosklearn/evaluation/train_evaluator.py:197: RuntimeWarning: Mean of empty slice\n",
            "  Y_train_pred = np.nanmean(Y_train_pred_full, axis=0)\n",
            "/usr/local/lib/python3.6/dist-packages/autosklearn/evaluation/train_evaluator.py:197: RuntimeWarning: Mean of empty slice\n",
            "  Y_train_pred = np.nanmean(Y_train_pred_full, axis=0)\n",
            "/usr/local/lib/python3.6/dist-packages/autosklearn/evaluation/train_evaluator.py:197: RuntimeWarning: Mean of empty slice\n",
            "  Y_train_pred = np.nanmean(Y_train_pred_full, axis=0)\n",
            "/usr/local/lib/python3.6/dist-packages/autosklearn/evaluation/train_evaluator.py:197: RuntimeWarning: Mean of empty slice\n",
            "  Y_train_pred = np.nanmean(Y_train_pred_full, axis=0)\n",
            "/usr/local/lib/python3.6/dist-packages/autosklearn/evaluation/train_evaluator.py:197: RuntimeWarning: Mean of empty slice\n",
            "  Y_train_pred = np.nanmean(Y_train_pred_full, axis=0)\n",
            "/usr/local/lib/python3.6/dist-packages/autosklearn/evaluation/train_evaluator.py:197: RuntimeWarning: Mean of empty slice\n",
            "  Y_train_pred = np.nanmean(Y_train_pred_full, axis=0)\n",
            "/usr/local/lib/python3.6/dist-packages/autosklearn/evaluation/train_evaluator.py:197: RuntimeWarning: Mean of empty slice\n",
            "  Y_train_pred = np.nanmean(Y_train_pred_full, axis=0)\n",
            "/usr/local/lib/python3.6/dist-packages/autosklearn/evaluation/train_evaluator.py:197: RuntimeWarning: Mean of empty slice\n",
            "  Y_train_pred = np.nanmean(Y_train_pred_full, axis=0)\n",
            "/usr/local/lib/python3.6/dist-packages/autosklearn/evaluation/train_evaluator.py:197: RuntimeWarning: Mean of empty slice\n",
            "  Y_train_pred = np.nanmean(Y_train_pred_full, axis=0)\n",
            "/usr/local/lib/python3.6/dist-packages/autosklearn/evaluation/train_evaluator.py:197: RuntimeWarning: Mean of empty slice\n",
            "  Y_train_pred = np.nanmean(Y_train_pred_full, axis=0)\n",
            "/usr/local/lib/python3.6/dist-packages/autosklearn/evaluation/train_evaluator.py:197: RuntimeWarning: Mean of empty slice\n",
            "  Y_train_pred = np.nanmean(Y_train_pred_full, axis=0)\n",
            "/usr/local/lib/python3.6/dist-packages/autosklearn/evaluation/train_evaluator.py:197: RuntimeWarning: Mean of empty slice\n",
            "  Y_train_pred = np.nanmean(Y_train_pred_full, axis=0)\n",
            "/usr/local/lib/python3.6/dist-packages/autosklearn/evaluation/train_evaluator.py:197: RuntimeWarning: Mean of empty slice\n",
            "  Y_train_pred = np.nanmean(Y_train_pred_full, axis=0)\n",
            "/usr/local/lib/python3.6/dist-packages/autosklearn/evaluation/train_evaluator.py:197: RuntimeWarning: Mean of empty slice\n",
            "  Y_train_pred = np.nanmean(Y_train_pred_full, axis=0)\n",
            "/usr/local/lib/python3.6/dist-packages/autosklearn/evaluation/train_evaluator.py:197: RuntimeWarning: Mean of empty slice\n",
            "  Y_train_pred = np.nanmean(Y_train_pred_full, axis=0)\n",
            "/usr/local/lib/python3.6/dist-packages/autosklearn/evaluation/train_evaluator.py:197: RuntimeWarning: Mean of empty slice\n",
            "  Y_train_pred = np.nanmean(Y_train_pred_full, axis=0)\n",
            "/usr/local/lib/python3.6/dist-packages/autosklearn/evaluation/train_evaluator.py:197: RuntimeWarning: Mean of empty slice\n",
            "  Y_train_pred = np.nanmean(Y_train_pred_full, axis=0)\n",
            "/usr/local/lib/python3.6/dist-packages/autosklearn/evaluation/train_evaluator.py:197: RuntimeWarning: Mean of empty slice\n",
            "  Y_train_pred = np.nanmean(Y_train_pred_full, axis=0)\n",
            "/usr/local/lib/python3.6/dist-packages/autosklearn/evaluation/train_evaluator.py:197: RuntimeWarning: Mean of empty slice\n",
            "  Y_train_pred = np.nanmean(Y_train_pred_full, axis=0)\n",
            "/usr/local/lib/python3.6/dist-packages/autosklearn/evaluation/train_evaluator.py:197: RuntimeWarning: Mean of empty slice\n",
            "  Y_train_pred = np.nanmean(Y_train_pred_full, axis=0)\n",
            "/usr/local/lib/python3.6/dist-packages/autosklearn/evaluation/train_evaluator.py:197: RuntimeWarning: Mean of empty slice\n",
            "  Y_train_pred = np.nanmean(Y_train_pred_full, axis=0)\n",
            "/usr/local/lib/python3.6/dist-packages/autosklearn/evaluation/train_evaluator.py:197: RuntimeWarning: Mean of empty slice\n",
            "  Y_train_pred = np.nanmean(Y_train_pred_full, axis=0)\n"
          ],
          "name": "stderr"
        },
        {
          "output_type": "stream",
          "text": [
            "1\n",
            "['/tmp/autosklearn_tmp_127_3773/.auto-sklearn/ensembles/1.0000000000.ensemble', '/tmp/autosklearn_tmp_127_3773/.auto-sklearn/ensembles/1.0000000001.ensemble']\n"
          ],
          "name": "stdout"
        },
        {
          "output_type": "execute_result",
          "data": {
            "text/plain": [
              "AutoSklearnClassifier(delete_output_folder_after_terminate=True,\n",
              "           delete_tmp_folder_after_terminate=True,\n",
              "           disable_evaluator_output=False, ensemble_memory_limit=1024,\n",
              "           ensemble_nbest=50, ensemble_size=50, exclude_estimators=None,\n",
              "           exclude_preprocessors=None, get_smac_object_callback=None,\n",
              "           include_estimators=None, include_preprocessors=None,\n",
              "           initial_configurations_via_metalearning=25, logging_config=None,\n",
              "           metadata_directory=None, ml_memory_limit=3072, n_jobs=None,\n",
              "           output_folder=None, per_run_time_limit=360,\n",
              "           resampling_strategy='holdout',\n",
              "           resampling_strategy_arguments=None, seed=1, shared_mode=False,\n",
              "           smac_scenario_args=None, time_left_for_this_task=3600,\n",
              "           tmp_folder=None)"
            ]
          },
          "metadata": {
            "tags": []
          },
          "execution_count": 49
        }
      ]
    },
    {
      "cell_type": "code",
      "metadata": {
        "id": "p9MqZiZjEiLu",
        "colab_type": "code",
        "colab": {
          "base_uri": "https://localhost:8080/",
          "height": 34
        },
        "outputId": "2abd449c-1a48-4a0f-9eb9-d556ebb3bf5c"
      },
      "source": [
        "import sklearn.metrics\n",
        "y_hat = automl.predict(X_test)\n",
        "print(\"Accuracy score\", sklearn.metrics.accuracy_score(y_test, y_hat))"
      ],
      "execution_count": 52,
      "outputs": [
        {
          "output_type": "stream",
          "text": [
            "Accuracy score 0.9376623376623376\n"
          ],
          "name": "stdout"
        }
      ]
    },
    {
      "cell_type": "code",
      "metadata": {
        "id": "51phrQyXzJ28",
        "colab_type": "code",
        "colab": {}
      },
      "source": [
        ""
      ],
      "execution_count": 0,
      "outputs": []
    }
  ]
}